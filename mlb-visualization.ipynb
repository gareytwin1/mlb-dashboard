{
 "cells": [
  {
   "cell_type": "markdown",
   "metadata": {},
   "source": [
    "### **<span style=\"color:navy\">Final Project: Visualizing MLB Batting Performance Trends</span>**\n",
    "\n",
    "#### **1. Recap of Data, Goals, and Tasks**\n",
    "\n",
    "**Dataset Overview**\n",
    "\n",
    "- **Source:** [Kaggle (2023 MLB Player Stats)](https://www.kaggle.com/datasets/vivovinco/2023-mlb-player-stats)\n",
    "- **Focus:** Batting statistics for the 2023 MLB season\n",
    "- **Key Attributes Used:** Home Runs (HR), Batting Average (AVG), Slugging Percentage (SLG), On-Base Percentage (OBP), Team names\n",
    "\n",
    "**Project Goals**\n",
    "\n",
    "1. Analyze the relationship between Batting Average (AVG) and Home Runs (HR)\n",
    "2. Compare power-focused teams (HR, SLG) vs. contact-focused teams (AVG, OBP)\n",
    "3. Identify the top home-run-hitting teams in 2023\n",
    "\n",
    "**Planned Visualizations**\n",
    "\n",
    "- **Scatter Plot:** HR vs. AVG (color-coded by team)\n",
    "- **Violin Plot:** Distribution of HR, SLG, AVG, and OBP by team\n",
    "- **Bar Chart:** Total HR per team (sorted in descending order)\n",
    "\n",
    "----"
   ]
  },
  {
   "cell_type": "markdown",
   "metadata": {},
   "source": [
    "#### **Import Libraries and Load Data**"
   ]
  },
  {
   "cell_type": "code",
   "execution_count": 187,
   "metadata": {},
   "outputs": [],
   "source": [
    "import pandas as pd\n",
    "import altair as alt\n",
    "\n",
    "import warnings\n",
    "warnings.filterwarnings('ignore')\n",
    "\n",
    "# Load the data with specified encoding and delimiter\n",
    "mlb_data = pd.read_csv('2023 MLB Player Stats - Batting.csv', encoding='ISO-8859-1', delimiter=';')"
   ]
  },
  {
   "cell_type": "code",
   "execution_count": 188,
   "metadata": {},
   "outputs": [
    {
     "data": {
      "text/plain": [
       "Index(['Rk', 'Name', 'Age', 'Tm', 'Lg', 'G', 'PA', 'AB', 'R', 'H', '2B', '3B',\n",
       "       'HR', 'RBI', 'SB', 'CS', 'BB', 'SO', 'BA', 'OBP', 'SLG', 'OPS', 'OPS+',\n",
       "       'TB', 'GDP', 'HBP', 'SH', 'SF', 'IBB'],\n",
       "      dtype='object')"
      ]
     },
     "execution_count": 188,
     "metadata": {},
     "output_type": "execute_result"
    }
   ],
   "source": [
    "mlb_data.columns"
   ]
  },
  {
   "cell_type": "markdown",
   "metadata": {},
   "source": [
    "### **2. Visualization Implementation**\n",
    "\n",
    "Scatter Plot: Shows the relationship between Home Runs (HR) and Batting Average (AVG), colored by team. This helps analyze whether power hitters maintain high averages."
   ]
  },
  {
   "cell_type": "code",
   "execution_count": 189,
   "metadata": {},
   "outputs": [
    {
     "data": {
      "text/html": [
       "\n",
       "<style>\n",
       "  #altair-viz-5c5bdba9b66c48e6b738c0a4bf36da1f.vega-embed {\n",
       "    width: 100%;\n",
       "    display: flex;\n",
       "  }\n",
       "\n",
       "  #altair-viz-5c5bdba9b66c48e6b738c0a4bf36da1f.vega-embed details,\n",
       "  #altair-viz-5c5bdba9b66c48e6b738c0a4bf36da1f.vega-embed details summary {\n",
       "    position: relative;\n",
       "  }\n",
       "</style>\n",
       "<div id=\"altair-viz-5c5bdba9b66c48e6b738c0a4bf36da1f\"></div>\n",
       "<script type=\"text/javascript\">\n",
       "  var VEGA_DEBUG = (typeof VEGA_DEBUG == \"undefined\") ? {} : VEGA_DEBUG;\n",
       "  (function(spec, embedOpt){\n",
       "    let outputDiv = document.currentScript.previousElementSibling;\n",
       "    if (outputDiv.id !== \"altair-viz-5c5bdba9b66c48e6b738c0a4bf36da1f\") {\n",
       "      outputDiv = document.getElementById(\"altair-viz-5c5bdba9b66c48e6b738c0a4bf36da1f\");\n",
       "    }\n",
       "    const paths = {\n",
       "      \"vega\": \"https://cdn.jsdelivr.net/npm/vega@5?noext\",\n",
       "      \"vega-lib\": \"https://cdn.jsdelivr.net/npm/vega-lib?noext\",\n",
       "      \"vega-lite\": \"https://cdn.jsdelivr.net/npm/vega-lite@5.17.0?noext\",\n",
       "      \"vega-embed\": \"https://cdn.jsdelivr.net/npm/vega-embed@6?noext\",\n",
       "    };\n",
       "\n",
       "    function maybeLoadScript(lib, version) {\n",
       "      var key = `${lib.replace(\"-\", \"\")}_version`;\n",
       "      return (VEGA_DEBUG[key] == version) ?\n",
       "        Promise.resolve(paths[lib]) :\n",
       "        new Promise(function(resolve, reject) {\n",
       "          var s = document.createElement('script');\n",
       "          document.getElementsByTagName(\"head\")[0].appendChild(s);\n",
       "          s.async = true;\n",
       "          s.onload = () => {\n",
       "            VEGA_DEBUG[key] = version;\n",
       "            return resolve(paths[lib]);\n",
       "          };\n",
       "          s.onerror = () => reject(`Error loading script: ${paths[lib]}`);\n",
       "          s.src = paths[lib];\n",
       "        });\n",
       "    }\n",
       "\n",
       "    function showError(err) {\n",
       "      outputDiv.innerHTML = `<div class=\"error\" style=\"color:red;\">${err}</div>`;\n",
       "      throw err;\n",
       "    }\n",
       "\n",
       "    function displayChart(vegaEmbed) {\n",
       "      vegaEmbed(outputDiv, spec, embedOpt)\n",
       "        .catch(err => showError(`Javascript Error: ${err.message}<br>This usually means there's a typo in your chart specification. See the javascript console for the full traceback.`));\n",
       "    }\n",
       "\n",
       "    if(typeof define === \"function\" && define.amd) {\n",
       "      requirejs.config({paths});\n",
       "      require([\"vega-embed\"], displayChart, err => showError(`Error loading script: ${err.message}`));\n",
       "    } else {\n",
       "      maybeLoadScript(\"vega\", \"5\")\n",
       "        .then(() => maybeLoadScript(\"vega-lite\", \"5.17.0\"))\n",
       "        .then(() => maybeLoadScript(\"vega-embed\", \"6\"))\n",
       "        .catch(showError)\n",
       "        .then(() => displayChart(vegaEmbed));\n",
       "    }\n",
       "  })({\"config\": {\"view\": {\"continuousWidth\": 300, \"continuousHeight\": 300}}, \"layer\": [{\"mark\": {\"type\": \"circle\", \"size\": 80}, \"encoding\": {\"color\": {\"field\": \"Tm\", \"legend\": null, \"type\": \"nominal\"}, \"tooltip\": [{\"field\": \"Name\", \"type\": \"nominal\"}, {\"field\": \"Tm\", \"type\": \"nominal\"}, {\"field\": \"HR\", \"type\": \"quantitative\"}, {\"field\": \"BA\", \"type\": \"quantitative\"}], \"x\": {\"field\": \"HR\", \"title\": \"Home Runs\", \"type\": \"quantitative\"}, \"y\": {\"field\": \"BA\", \"title\": \"Batting Average\", \"type\": \"quantitative\"}}, \"name\": \"view_22\", \"title\": \"Home Runs vs Batting Average (Interactive)\", \"transform\": [{\"filter\": {\"param\": \"Team\"}}]}, {\"mark\": {\"type\": \"line\", \"color\": \"red\"}, \"encoding\": {\"color\": {\"field\": \"Tm\", \"legend\": null, \"type\": \"nominal\"}, \"tooltip\": [{\"field\": \"Name\", \"type\": \"nominal\"}, {\"field\": \"Tm\", \"type\": \"nominal\"}, {\"field\": \"HR\", \"type\": \"quantitative\"}, {\"field\": \"BA\", \"type\": \"quantitative\"}], \"x\": {\"field\": \"HR\", \"title\": \"Home Runs\", \"type\": \"quantitative\"}, \"y\": {\"field\": \"BA\", \"title\": \"Batting Average\", \"type\": \"quantitative\"}}, \"title\": \"Home Runs vs Batting Average (Interactive)\", \"transform\": [{\"filter\": {\"param\": \"Team\"}}, {\"on\": \"HR\", \"regression\": \"BA\"}]}], \"data\": {\"name\": \"data-a8dc5d7e01d8e33644919e0c37b5606a\"}, \"height\": 400, \"params\": [{\"name\": \"Team\", \"select\": {\"type\": \"point\", \"fields\": [\"Tm\"]}, \"bind\": {\"input\": \"select\", \"options\": [\"WSN\", \"HOU\", \"ATL\", \"MIL\", \"SEA\", \"LAA\", \"OAK\", \"ARI\", \"CHW\", \"SFG\", \"TOT\", \"COL\", \"BOS\", \"NYY\", \"NYM\", \"MIA\", \"CHC\", \"PIT\", \"TBR\", \"STL\", \"CLE\", \"SDP\", \"DET\", \"BAL\", \"KCR\", \"LAD\", \"CIN\", \"TOR\", \"PHI\", \"MIN\", \"TEX\"], \"name\": \"Select Team: \"}, \"views\": [\"view_22\"]}, {\"name\": \"param_47\", \"select\": {\"type\": \"interval\", \"encodings\": [\"x\", \"y\"]}, \"bind\": \"scales\", \"views\": [\"view_22\"]}], \"width\": 600, \"$schema\": \"https://vega.github.io/schema/vega-lite/v5.17.0.json\", \"datasets\": {\"data-a8dc5d7e01d8e33644919e0c37b5606a\": [{\"Rk\": 1, \"Name\": \"CJ\\u00a0Abrams*\", \"Age\": 22, \"Tm\": \"WSN\", \"Lg\": \"NL\", \"G\": 89, \"PA\": 340, \"AB\": 316, \"R\": 47, \"H\": 82, \"2B\": 17, \"3B\": 4, \"HR\": 10, \"RBI\": 39, \"SB\": 19, \"CS\": 2, \"BB\": 13, \"SO\": 72, \"BA\": 0.259, \"OBP\": 0.306, \"SLG\": 0.434, \"OPS\": 0.739, \"OPS+\": 105, \"TB\": 137, \"GDP\": 5, \"HBP\": 8, \"SH\": 3, \"SF\": 0, \"IBB\": 0}, {\"Rk\": 2, \"Name\": \"Jos\\u00e9\\u00a0Abreu\", \"Age\": 36, \"Tm\": \"HOU\", \"Lg\": \"AL\", \"G\": 95, \"PA\": 400, \"AB\": 368, \"R\": 33, \"H\": 90, \"2B\": 16, \"3B\": 0, \"HR\": 8, \"RBI\": 50, \"SB\": 0, \"CS\": 1, \"BB\": 24, \"SO\": 92, \"BA\": 0.245, \"OBP\": 0.293, \"SLG\": 0.353, \"OPS\": 0.646, \"OPS+\": 79, \"TB\": 130, \"GDP\": 11, \"HBP\": 3, \"SH\": 0, \"SF\": 5, \"IBB\": 1}, {\"Rk\": 3, \"Name\": \"Ronald\\u00a0Acuna\\u00a0Jr.\", \"Age\": 25, \"Tm\": \"ATL\", \"Lg\": \"NL\", \"G\": 97, \"PA\": 446, \"AB\": 391, \"R\": 86, \"H\": 129, \"2B\": 26, \"3B\": 1, \"HR\": 23, \"RBI\": 58, \"SB\": 45, \"CS\": 7, \"BB\": 49, \"SO\": 53, \"BA\": 0.33, \"OBP\": 0.408, \"SLG\": 0.578, \"OPS\": 0.986, \"OPS+\": 160, \"TB\": 226, \"GDP\": 7, \"HBP\": 4, \"SH\": 0, \"SF\": 2, \"IBB\": 2}, {\"Rk\": 4, \"Name\": \"Willy\\u00a0Adames\", \"Age\": 27, \"Tm\": \"MIL\", \"Lg\": \"NL\", \"G\": 89, \"PA\": 383, \"AB\": 336, \"R\": 44, \"H\": 71, \"2B\": 16, \"3B\": 0, \"HR\": 17, \"RBI\": 48, \"SB\": 4, \"CS\": 3, \"BB\": 37, \"SO\": 98, \"BA\": 0.211, \"OBP\": 0.291, \"SLG\": 0.411, \"OPS\": 0.702, \"OPS+\": 90, \"TB\": 138, \"GDP\": 9, \"HBP\": 3, \"SH\": 0, \"SF\": 5, \"IBB\": 0}, {\"Rk\": 5, \"Name\": \"Riley\\u00a0Adams\", \"Age\": 27, \"Tm\": \"WSN\", \"Lg\": \"NL\", \"G\": 23, \"PA\": 87, \"AB\": 79, \"R\": 4, \"H\": 22, \"2B\": 5, \"3B\": 2, \"HR\": 3, \"RBI\": 10, \"SB\": 0, \"CS\": 0, \"BB\": 6, \"SO\": 26, \"BA\": 0.278, \"OBP\": 0.337, \"SLG\": 0.506, \"OPS\": 0.844, \"OPS+\": 133, \"TB\": 40, \"GDP\": 4, \"HBP\": 1, \"SH\": 1, \"SF\": 0, \"IBB\": 0}, {\"Rk\": 6, \"Name\": \"Ty\\u00a0Adcock\", \"Age\": 26, \"Tm\": \"SEA\", \"Lg\": \"AL\", \"G\": 1, \"PA\": 0, \"AB\": 0, \"R\": 0, \"H\": 0, \"2B\": 0, \"3B\": 0, \"HR\": 0, \"RBI\": 0, \"SB\": 0, \"CS\": 0, \"BB\": 0, \"SO\": 0, \"BA\": 0.0, \"OBP\": 0.0, \"SLG\": 0.0, \"OPS\": 0.0, \"OPS+\": 0, \"TB\": 0, \"GDP\": 0, \"HBP\": 0, \"SH\": 0, \"SF\": 0, \"IBB\": 0}, {\"Rk\": 7, \"Name\": \"Jo\\u00a0Adell\", \"Age\": 24, \"Tm\": \"LAA\", \"Lg\": \"AL\", \"G\": 5, \"PA\": 14, \"AB\": 13, \"R\": 2, \"H\": 3, \"2B\": 1, \"3B\": 1, \"HR\": 1, \"RBI\": 3, \"SB\": 0, \"CS\": 0, \"BB\": 1, \"SO\": 6, \"BA\": 0.231, \"OBP\": 0.286, \"SLG\": 0.692, \"OPS\": 0.978, \"OPS+\": 156, \"TB\": 9, \"GDP\": 0, \"HBP\": 0, \"SH\": 0, \"SF\": 0, \"IBB\": 0}, {\"Rk\": 8, \"Name\": \"Ehire\\u00a0Adrianza#\", \"Age\": 33, \"Tm\": \"ATL\", \"Lg\": \"NL\", \"G\": 5, \"PA\": 11, \"AB\": 10, \"R\": 0, \"H\": 0, \"2B\": 0, \"3B\": 0, \"HR\": 0, \"RBI\": 0, \"SB\": 0, \"CS\": 0, \"BB\": 1, \"SO\": 4, \"BA\": 0.0, \"OBP\": 0.091, \"SLG\": 0.0, \"OPS\": 0.091, \"OPS+\": -72, \"TB\": 0, \"GDP\": 0, \"HBP\": 0, \"SH\": 0, \"SF\": 0, \"IBB\": 0}, {\"Rk\": 9, \"Name\": \"Jes\\u00fas\\u00a0Aguilar\", \"Age\": 33, \"Tm\": \"OAK\", \"Lg\": \"AL\", \"G\": 36, \"PA\": 115, \"AB\": 104, \"R\": 8, \"H\": 23, \"2B\": 2, \"3B\": 0, \"HR\": 5, \"RBI\": 9, \"SB\": 0, \"CS\": 0, \"BB\": 8, \"SO\": 31, \"BA\": 0.221, \"OBP\": 0.281, \"SLG\": 0.385, \"OPS\": 0.665, \"OPS+\": 89, \"TB\": 40, \"GDP\": 3, \"HBP\": 1, \"SH\": 0, \"SF\": 1, \"IBB\": 2}, {\"Rk\": 10, \"Name\": \"Nick\\u00a0Ahmed\", \"Age\": 33, \"Tm\": \"ARI\", \"Lg\": \"NL\", \"G\": 51, \"PA\": 149, \"AB\": 141, \"R\": 13, \"H\": 33, \"2B\": 9, \"3B\": 0, \"HR\": 2, \"RBI\": 14, \"SB\": 5, \"CS\": 1, \"BB\": 8, \"SO\": 36, \"BA\": 0.234, \"OBP\": 0.275, \"SLG\": 0.34, \"OPS\": 0.616, \"OPS+\": 69, \"TB\": 48, \"GDP\": 0, \"HBP\": 0, \"SH\": 0, \"SF\": 0, \"IBB\": 0}, {\"Rk\": 11, \"Name\": \"Hanser\\u00a0Alberto\", \"Age\": 30, \"Tm\": \"CHW\", \"Lg\": \"AL\", \"G\": 30, \"PA\": 90, \"AB\": 82, \"R\": 11, \"H\": 18, \"2B\": 5, \"3B\": 0, \"HR\": 3, \"RBI\": 16, \"SB\": 0, \"CS\": 0, \"BB\": 4, \"SO\": 13, \"BA\": 0.22, \"OBP\": 0.261, \"SLG\": 0.39, \"OPS\": 0.652, \"OPS+\": 77, \"TB\": 32, \"GDP\": 1, \"HBP\": 1, \"SH\": 2, \"SF\": 1, \"IBB\": 0}, {\"Rk\": 12, \"Name\": \"Ozzie\\u00a0Albies#\", \"Age\": 26, \"Tm\": \"ATL\", \"Lg\": \"NL\", \"G\": 97, \"PA\": 415, \"AB\": 371, \"R\": 57, \"H\": 95, \"2B\": 17, \"3B\": 3, \"HR\": 22, \"RBI\": 66, \"SB\": 7, \"CS\": 0, \"BB\": 31, \"SO\": 63, \"BA\": 0.256, \"OBP\": 0.317, \"SLG\": 0.496, \"OPS\": 0.813, \"OPS+\": 113, \"TB\": 184, \"GDP\": 6, \"HBP\": 5, \"SH\": 0, \"SF\": 6, \"IBB\": 2}, {\"Rk\": 13, \"Name\": \"Scott\\u00a0Alexander*\", \"Age\": 33, \"Tm\": \"SFG\", \"Lg\": \"NL\", \"G\": 1, \"PA\": 0, \"AB\": 0, \"R\": 0, \"H\": 0, \"2B\": 0, \"3B\": 0, \"HR\": 0, \"RBI\": 0, \"SB\": 0, \"CS\": 0, \"BB\": 0, \"SO\": 0, \"BA\": 0.0, \"OBP\": 0.0, \"SLG\": 0.0, \"OPS\": 0.0, \"OPS+\": 0, \"TB\": 0, \"GDP\": 0, \"HBP\": 0, \"SH\": 0, \"SF\": 0, \"IBB\": 0}, {\"Rk\": 14, \"Name\": \"Jorge\\u00a0Alfaro\", \"Age\": 30, \"Tm\": \"TOT\", \"Lg\": \"MLB\", \"G\": 16, \"PA\": 50, \"AB\": 47, \"R\": 2, \"H\": 7, \"2B\": 4, \"3B\": 0, \"HR\": 1, \"RBI\": 4, \"SB\": 0, \"CS\": 0, \"BB\": 2, \"SO\": 15, \"BA\": 0.149, \"OBP\": 0.2, \"SLG\": 0.298, \"OPS\": 0.498, \"OPS+\": 29, \"TB\": 14, \"GDP\": 3, \"HBP\": 1, \"SH\": 0, \"SF\": 0, \"IBB\": 0}, {\"Rk\": 15, \"Name\": \"Jorge\\u00a0Alfaro\", \"Age\": 30, \"Tm\": \"COL\", \"Lg\": \"NL\", \"G\": 10, \"PA\": 32, \"AB\": 31, \"R\": 2, \"H\": 5, \"2B\": 4, \"3B\": 0, \"HR\": 1, \"RBI\": 4, \"SB\": 0, \"CS\": 0, \"BB\": 0, \"SO\": 12, \"BA\": 0.161, \"OBP\": 0.188, \"SLG\": 0.387, \"OPS\": 0.575, \"OPS+\": 44, \"TB\": 12, \"GDP\": 2, \"HBP\": 1, \"SH\": 0, \"SF\": 0, \"IBB\": 0}, {\"Rk\": 16, \"Name\": \"Jorge\\u00a0Alfaro\", \"Age\": 30, \"Tm\": \"BOS\", \"Lg\": \"AL\", \"G\": 6, \"PA\": 18, \"AB\": 16, \"R\": 0, \"H\": 2, \"2B\": 0, \"3B\": 0, \"HR\": 0, \"RBI\": 0, \"SB\": 0, \"CS\": 0, \"BB\": 2, \"SO\": 3, \"BA\": 0.125, \"OBP\": 0.222, \"SLG\": 0.125, \"OPS\": 0.347, \"OPS+\": -2, \"TB\": 2, \"GDP\": 1, \"HBP\": 0, \"SH\": 0, \"SF\": 0, \"IBB\": 0}, {\"Rk\": 17, \"Name\": \"Greg\\u00a0Allen#\", \"Age\": 30, \"Tm\": \"NYY\", \"Lg\": \"AL\", \"G\": 10, \"PA\": 17, \"AB\": 14, \"R\": 5, \"H\": 3, \"2B\": 0, \"3B\": 1, \"HR\": 1, \"RBI\": 1, \"SB\": 1, \"CS\": 0, \"BB\": 1, \"SO\": 7, \"BA\": 0.214, \"OBP\": 0.313, \"SLG\": 0.571, \"OPS\": 0.884, \"OPS+\": 139, \"TB\": 8, \"GDP\": 0, \"HBP\": 1, \"SH\": 1, \"SF\": 0, \"IBB\": 0}, {\"Rk\": 18, \"Name\": \"Nick\\u00a0Allen\", \"Age\": 24, \"Tm\": \"OAK\", \"Lg\": \"AL\", \"G\": 52, \"PA\": 151, \"AB\": 139, \"R\": 13, \"H\": 26, \"2B\": 1, \"3B\": 0, \"HR\": 1, \"RBI\": 6, \"SB\": 1, \"CS\": 1, \"BB\": 8, \"SO\": 29, \"BA\": 0.187, \"OBP\": 0.23, \"SLG\": 0.216, \"OPS\": 0.446, \"OPS+\": 30, \"TB\": 30, \"GDP\": 2, \"HBP\": 0, \"SH\": 3, \"SF\": 1, \"IBB\": 0}, {\"Rk\": 19, \"Name\": \"Pete\\u00a0Alonso\", \"Age\": 28, \"Tm\": \"NYM\", \"Lg\": \"NL\", \"G\": 90, \"PA\": 380, \"AB\": 332, \"R\": 54, \"H\": 70, \"2B\": 9, \"3B\": 2, \"HR\": 26, \"RBI\": 63, \"SB\": 3, \"CS\": 0, \"BB\": 36, \"SO\": 79, \"BA\": 0.211, \"OBP\": 0.308, \"SLG\": 0.485, \"OPS\": 0.793, \"OPS+\": 117, \"TB\": 161, \"GDP\": 11, \"HBP\": 11, \"SH\": 0, \"SF\": 1, \"IBB\": 0}, {\"Rk\": 20, \"Name\": \"Jose\\u00a0Altuve\", \"Age\": 33, \"Tm\": \"HOU\", \"Lg\": \"AL\", \"G\": 32, \"PA\": 143, \"AB\": 121, \"R\": 25, \"H\": 32, \"2B\": 8, \"3B\": 0, \"HR\": 6, \"RBI\": 18, \"SB\": 5, \"CS\": 1, \"BB\": 20, \"SO\": 25, \"BA\": 0.264, \"OBP\": 0.371, \"SLG\": 0.479, \"OPS\": 0.85, \"OPS+\": 135, \"TB\": 58, \"GDP\": 4, \"HBP\": 1, \"SH\": 0, \"SF\": 1, \"IBB\": 0}, {\"Rk\": 21, \"Name\": \"Jake\\u00a0Alu*\", \"Age\": 26, \"Tm\": \"WSN\", \"Lg\": \"NL\", \"G\": 5, \"PA\": 15, \"AB\": 14, \"R\": 0, \"H\": 3, \"2B\": 0, \"3B\": 0, \"HR\": 0, \"RBI\": 0, \"SB\": 1, \"CS\": 0, \"BB\": 1, \"SO\": 4, \"BA\": 0.214, \"OBP\": 0.267, \"SLG\": 0.214, \"OPS\": 0.481, \"OPS+\": 38, \"TB\": 3, \"GDP\": 0, \"HBP\": 0, \"SH\": 0, \"SF\": 0, \"IBB\": 0}, {\"Rk\": 22, \"Name\": \"Francisco\\u00a0Alvarez\", \"Age\": 21, \"Tm\": \"NYM\", \"Lg\": \"NL\", \"G\": 73, \"PA\": 254, \"AB\": 234, \"R\": 34, \"H\": 56, \"2B\": 7, \"3B\": 0, \"HR\": 19, \"RBI\": 41, \"SB\": 0, \"CS\": 0, \"BB\": 16, \"SO\": 65, \"BA\": 0.239, \"OBP\": 0.299, \"SLG\": 0.513, \"OPS\": 0.812, \"OPS+\": 121, \"TB\": 120, \"GDP\": 8, \"HBP\": 4, \"SH\": 0, \"SF\": 0, \"IBB\": 0}, {\"Rk\": 23, \"Name\": \"Yordan\\u00a0Alvarez*\", \"Age\": 26, \"Tm\": \"HOU\", \"Lg\": \"AL\", \"G\": 57, \"PA\": 242, \"AB\": 202, \"R\": 41, \"H\": 56, \"2B\": 12, \"3B\": 0, \"HR\": 17, \"RBI\": 55, \"SB\": 0, \"CS\": 0, \"BB\": 32, \"SO\": 55, \"BA\": 0.277, \"OBP\": 0.388, \"SLG\": 0.589, \"OPS\": 0.978, \"OPS+\": 168, \"TB\": 119, \"GDP\": 5, \"HBP\": 6, \"SH\": 0, \"SF\": 2, \"IBB\": 2}, {\"Rk\": 24, \"Name\": \"Jacob\\u00a0Amaya\", \"Age\": 24, \"Tm\": \"MIA\", \"Lg\": \"NL\", \"G\": 4, \"PA\": 9, \"AB\": 9, \"R\": 1, \"H\": 2, \"2B\": 0, \"3B\": 0, \"HR\": 0, \"RBI\": 2, \"SB\": 1, \"CS\": 0, \"BB\": 0, \"SO\": 1, \"BA\": 0.222, \"OBP\": 0.222, \"SLG\": 0.222, \"OPS\": 0.444, \"OPS+\": 23, \"TB\": 2, \"GDP\": 0, \"HBP\": 0, \"SH\": 0, \"SF\": 0, \"IBB\": 0}, {\"Rk\": 25, \"Name\": \"Miguel\\u00a0Amaya\", \"Age\": 24, \"Tm\": \"CHC\", \"Lg\": \"NL\", \"G\": 27, \"PA\": 89, \"AB\": 73, \"R\": 11, \"H\": 20, \"2B\": 4, \"3B\": 0, \"HR\": 2, \"RBI\": 13, \"SB\": 0, \"CS\": 0, \"BB\": 6, \"SO\": 24, \"BA\": 0.274, \"OBP\": 0.386, \"SLG\": 0.411, \"OPS\": 0.797, \"OPS+\": 117, \"TB\": 30, \"GDP\": 1, \"HBP\": 8, \"SH\": 1, \"SF\": 1, \"IBB\": 0}, {\"Rk\": 26, \"Name\": \"Brian\\u00a0Anderson\", \"Age\": 30, \"Tm\": \"MIL\", \"Lg\": \"NL\", \"G\": 85, \"PA\": 334, \"AB\": 292, \"R\": 35, \"H\": 67, \"2B\": 11, \"3B\": 2, \"HR\": 9, \"RBI\": 38, \"SB\": 0, \"CS\": 3, \"BB\": 35, \"SO\": 99, \"BA\": 0.229, \"OBP\": 0.317, \"SLG\": 0.373, \"OPS\": 0.691, \"OPS+\": 89, \"TB\": 109, \"GDP\": 9, \"HBP\": 4, \"SH\": 0, \"SF\": 3, \"IBB\": 0}, {\"Rk\": 27, \"Name\": \"Tim\\u00a0Anderson\", \"Age\": 30, \"Tm\": \"CHW\", \"Lg\": \"AL\", \"G\": 75, \"PA\": 326, \"AB\": 306, \"R\": 33, \"H\": 73, \"2B\": 10, \"3B\": 1, \"HR\": 0, \"RBI\": 16, \"SB\": 10, \"CS\": 1, \"BB\": 17, \"SO\": 67, \"BA\": 0.239, \"OBP\": 0.279, \"SLG\": 0.278, \"OPS\": 0.557, \"OPS+\": 55, \"TB\": 85, \"GDP\": 12, \"HBP\": 1, \"SH\": 0, \"SF\": 2, \"IBB\": 0}, {\"Rk\": 28, \"Name\": \"Elvis\\u00a0Andrus\", \"Age\": 34, \"Tm\": \"CHW\", \"Lg\": \"AL\", \"G\": 69, \"PA\": 251, \"AB\": 223, \"R\": 20, \"H\": 47, \"2B\": 8, \"3B\": 1, \"HR\": 2, \"RBI\": 20, \"SB\": 6, \"CS\": 4, \"BB\": 21, \"SO\": 42, \"BA\": 0.211, \"OBP\": 0.288, \"SLG\": 0.283, \"OPS\": 0.571, \"OPS+\": 59, \"TB\": 63, \"GDP\": 1, \"HBP\": 4, \"SH\": 1, \"SF\": 2, \"IBB\": 1}, {\"Rk\": 29, \"Name\": \"Miguel\\u00a0Andujar\", \"Age\": 28, \"Tm\": \"PIT\", \"Lg\": \"NL\", \"G\": 13, \"PA\": 33, \"AB\": 31, \"R\": 2, \"H\": 5, \"2B\": 1, \"3B\": 0, \"HR\": 2, \"RBI\": 6, \"SB\": 0, \"CS\": 0, \"BB\": 2, \"SO\": 5, \"BA\": 0.161, \"OBP\": 0.212, \"SLG\": 0.387, \"OPS\": 0.599, \"OPS+\": 59, \"TB\": 12, \"GDP\": 0, \"HBP\": 0, \"SH\": 0, \"SF\": 0, \"IBB\": 0}, {\"Rk\": 30, \"Name\": \"Jonathan\\u00a0Aranda*\", \"Age\": 25, \"Tm\": \"TBR\", \"Lg\": \"AL\", \"G\": 4, \"PA\": 15, \"AB\": 15, \"R\": 2, \"H\": 3, \"2B\": 1, \"3B\": 0, \"HR\": 0, \"RBI\": 2, \"SB\": 0, \"CS\": 0, \"BB\": 0, \"SO\": 6, \"BA\": 0.2, \"OBP\": 0.2, \"SLG\": 0.267, \"OPS\": 0.467, \"OPS+\": 30, \"TB\": 4, \"GDP\": 0, \"HBP\": 0, \"SH\": 0, \"SF\": 0, \"IBB\": 0}, {\"Rk\": 31, \"Name\": \"Orlando\\u00a0Arcia\", \"Age\": 28, \"Tm\": \"ATL\", \"Lg\": \"NL\", \"G\": 76, \"PA\": 294, \"AB\": 272, \"R\": 40, \"H\": 78, \"2B\": 12, \"3B\": 0, \"HR\": 10, \"RBI\": 34, \"SB\": 1, \"CS\": 0, \"BB\": 21, \"SO\": 56, \"BA\": 0.287, \"OBP\": 0.34, \"SLG\": 0.441, \"OPS\": 0.781, \"OPS+\": 107, \"TB\": 120, \"GDP\": 10, \"HBP\": 1, \"SH\": 0, \"SF\": 0, \"IBB\": 0}, {\"Rk\": 32, \"Name\": \"Nolan\\u00a0Arenado\", \"Age\": 32, \"Tm\": \"STL\", \"Lg\": \"NL\", \"G\": 95, \"PA\": 405, \"AB\": 367, \"R\": 47, \"H\": 105, \"2B\": 19, \"3B\": 2, \"HR\": 21, \"RBI\": 76, \"SB\": 2, \"CS\": 3, \"BB\": 29, \"SO\": 72, \"BA\": 0.286, \"OBP\": 0.336, \"SLG\": 0.52, \"OPS\": 0.856, \"OPS+\": 130, \"TB\": 191, \"GDP\": 12, \"HBP\": 2, \"SH\": 0, \"SF\": 7, \"IBB\": 3}, {\"Rk\": 33, \"Name\": \"Gabriel\\u00a0Arias\", \"Age\": 23, \"Tm\": \"CLE\", \"Lg\": \"AL\", \"G\": 72, \"PA\": 162, \"AB\": 140, \"R\": 14, \"H\": 25, \"2B\": 5, \"3B\": 0, \"HR\": 4, \"RBI\": 6, \"SB\": 0, \"CS\": 3, \"BB\": 22, \"SO\": 52, \"BA\": 0.179, \"OBP\": 0.29, \"SLG\": 0.3, \"OPS\": 0.59, \"OPS+\": 67, \"TB\": 42, \"GDP\": 5, \"HBP\": 0, \"SH\": 0, \"SF\": 0, \"IBB\": 0}, {\"Rk\": 34, \"Name\": \"Randy\\u00a0Arozarena\", \"Age\": 28, \"Tm\": \"TBR\", \"Lg\": \"AL\", \"G\": 97, \"PA\": 413, \"AB\": 350, \"R\": 59, \"H\": 95, \"2B\": 10, \"3B\": 2, \"HR\": 17, \"RBI\": 62, \"SB\": 11, \"CS\": 7, \"BB\": 48, \"SO\": 101, \"BA\": 0.271, \"OBP\": 0.373, \"SLG\": 0.457, \"OPS\": 0.83, \"OPS+\": 132, \"TB\": 160, \"GDP\": 5, \"HBP\": 11, \"SH\": 0, \"SF\": 4, \"IBB\": 0}, {\"Rk\": 35, \"Name\": \"Luis\\u00a0Arraez*\", \"Age\": 26, \"Tm\": \"MIA\", \"Lg\": \"NL\", \"G\": 94, \"PA\": 399, \"AB\": 363, \"R\": 41, \"H\": 136, \"2B\": 21, \"3B\": 2, \"HR\": 3, \"RBI\": 47, \"SB\": 1, \"CS\": 2, \"BB\": 29, \"SO\": 22, \"BA\": 0.375, \"OBP\": 0.424, \"SLG\": 0.468, \"OPS\": 0.892, \"OPS+\": 146, \"TB\": 170, \"GDP\": 13, \"HBP\": 4, \"SH\": 0, \"SF\": 3, \"IBB\": 8}, {\"Rk\": 36, \"Name\": \"Christian\\u00a0Arroyo\", \"Age\": 28, \"Tm\": \"BOS\", \"Lg\": \"AL\", \"G\": 58, \"PA\": 189, \"AB\": 178, \"R\": 23, \"H\": 44, \"2B\": 15, \"3B\": 0, \"HR\": 3, \"RBI\": 21, \"SB\": 1, \"CS\": 2, \"BB\": 7, \"SO\": 42, \"BA\": 0.247, \"OBP\": 0.277, \"SLG\": 0.382, \"OPS\": 0.659, \"OPS+\": 75, \"TB\": 68, \"GDP\": 6, \"HBP\": 1, \"SH\": 1, \"SF\": 2, \"IBB\": 0}, {\"Rk\": 37, \"Name\": \"Jos\\u00e9\\u00a0Azocar\", \"Age\": 27, \"Tm\": \"SDP\", \"Lg\": \"NL\", \"G\": 26, \"PA\": 55, \"AB\": 51, \"R\": 8, \"H\": 12, \"2B\": 2, \"3B\": 0, \"HR\": 0, \"RBI\": 3, \"SB\": 6, \"CS\": 1, \"BB\": 1, \"SO\": 11, \"BA\": 0.235, \"OBP\": 0.25, \"SLG\": 0.275, \"OPS\": 0.525, \"OPS+\": 48, \"TB\": 14, \"GDP\": 0, \"HBP\": 0, \"SH\": 3, \"SF\": 0, \"IBB\": 0}, {\"Rk\": 38, \"Name\": \"Akil\\u00a0Baddoo*\", \"Age\": 24, \"Tm\": \"DET\", \"Lg\": \"AL\", \"G\": 59, \"PA\": 199, \"AB\": 170, \"R\": 20, \"H\": 37, \"2B\": 8, \"3B\": 0, \"HR\": 4, \"RBI\": 19, \"SB\": 6, \"CS\": 1, \"BB\": 27, \"SO\": 46, \"BA\": 0.218, \"OBP\": 0.323, \"SLG\": 0.335, \"OPS\": 0.659, \"OPS+\": 85, \"TB\": 57, \"GDP\": 2, \"HBP\": 0, \"SH\": 1, \"SF\": 1, \"IBB\": 2}, {\"Rk\": 39, \"Name\": \"Harrison\\u00a0Bader\", \"Age\": 29, \"Tm\": \"NYY\", \"Lg\": \"AL\", \"G\": 50, \"PA\": 186, \"AB\": 174, \"R\": 23, \"H\": 43, \"2B\": 6, \"3B\": 2, \"HR\": 7, \"RBI\": 31, \"SB\": 9, \"CS\": 2, \"BB\": 6, \"SO\": 30, \"BA\": 0.247, \"OBP\": 0.28, \"SLG\": 0.425, \"OPS\": 0.705, \"OPS+\": 93, \"TB\": 74, \"GDP\": 2, \"HBP\": 3, \"SH\": 0, \"SF\": 3, \"IBB\": 0}, {\"Rk\": 40, \"Name\": \"Ji\\u00a0Hwan\\u00a0Bae*\", \"Age\": 23, \"Tm\": \"PIT\", \"Lg\": \"NL\", \"G\": 76, \"PA\": 239, \"AB\": 214, \"R\": 37, \"H\": 51, \"2B\": 9, \"3B\": 0, \"HR\": 2, \"RBI\": 19, \"SB\": 20, \"CS\": 6, \"BB\": 18, \"SO\": 58, \"BA\": 0.238, \"OBP\": 0.301, \"SLG\": 0.308, \"OPS\": 0.609, \"OPS+\": 67, \"TB\": 66, \"GDP\": 2, \"HBP\": 2, \"SH\": 3, \"SF\": 2, \"IBB\": 0}, {\"Rk\": 41, \"Name\": \"Javier\\u00a0B\\u00e1ez\", \"Age\": 30, \"Tm\": \"DET\", \"Lg\": \"AL\", \"G\": 93, \"PA\": 387, \"AB\": 364, \"R\": 39, \"H\": 83, \"2B\": 12, \"3B\": 4, \"HR\": 7, \"RBI\": 46, \"SB\": 9, \"CS\": 0, \"BB\": 15, \"SO\": 85, \"BA\": 0.228, \"OBP\": 0.264, \"SLG\": 0.341, \"OPS\": 0.605, \"OPS+\": 68, \"TB\": 124, \"GDP\": 8, \"HBP\": 4, \"SH\": 0, \"SF\": 3, \"IBB\": 0}, {\"Rk\": 42, \"Name\": \"Patrick\\u00a0Bailey#\", \"Age\": 24, \"Tm\": \"SFG\", \"Lg\": \"NL\", \"G\": 47, \"PA\": 174, \"AB\": 163, \"R\": 15, \"H\": 43, \"2B\": 12, \"3B\": 1, \"HR\": 5, \"RBI\": 29, \"SB\": 1, \"CS\": 0, \"BB\": 5, \"SO\": 50, \"BA\": 0.264, \"OBP\": 0.297, \"SLG\": 0.442, \"OPS\": 0.738, \"OPS+\": 100, \"TB\": 72, \"GDP\": 3, \"HBP\": 3, \"SH\": 2, \"SF\": 1, \"IBB\": 0}, {\"Rk\": 43, \"Name\": \"Bryan\\u00a0Baker\", \"Age\": 28, \"Tm\": \"BAL\", \"Lg\": \"AL\", \"G\": 2, \"PA\": 0, \"AB\": 0, \"R\": 0, \"H\": 0, \"2B\": 0, \"3B\": 0, \"HR\": 0, \"RBI\": 0, \"SB\": 0, \"CS\": 0, \"BB\": 0, \"SO\": 0, \"BA\": 0.0, \"OBP\": 0.0, \"SLG\": 0.0, \"OPS\": 0.0, \"OPS+\": 0, \"TB\": 0, \"GDP\": 0, \"HBP\": 0, \"SH\": 0, \"SF\": 0, \"IBB\": 0}, {\"Rk\": 44, \"Name\": \"Luken\\u00a0Baker\", \"Age\": 26, \"Tm\": \"STL\", \"Lg\": \"NL\", \"G\": 7, \"PA\": 20, \"AB\": 19, \"R\": 2, \"H\": 5, \"2B\": 0, \"3B\": 0, \"HR\": 0, \"RBI\": 0, \"SB\": 0, \"CS\": 0, \"BB\": 1, \"SO\": 8, \"BA\": 0.263, \"OBP\": 0.3, \"SLG\": 0.263, \"OPS\": 0.563, \"OPS+\": 57, \"TB\": 5, \"GDP\": 0, \"HBP\": 0, \"SH\": 0, \"SF\": 0, \"IBB\": 0}, {\"Rk\": 45, \"Name\": \"Rylan\\u00a0Bannon\", \"Age\": 27, \"Tm\": \"HOU\", \"Lg\": \"AL\", \"G\": 2, \"PA\": 6, \"AB\": 6, \"R\": 0, \"H\": 0, \"2B\": 0, \"3B\": 0, \"HR\": 0, \"RBI\": 0, \"SB\": 0, \"CS\": 0, \"BB\": 0, \"SO\": 3, \"BA\": 0.0, \"OBP\": 0.0, \"SLG\": 0.0, \"OPS\": 0.0, \"OPS+\": -100, \"TB\": 0, \"GDP\": 0, \"HBP\": 0, \"SH\": 0, \"SF\": 0, \"IBB\": 0}, {\"Rk\": 46, \"Name\": \"Scott\\u00a0Barlow\", \"Age\": 30, \"Tm\": \"KCR\", \"Lg\": \"AL\", \"G\": 1, \"PA\": 0, \"AB\": 0, \"R\": 0, \"H\": 0, \"2B\": 0, \"3B\": 0, \"HR\": 0, \"RBI\": 0, \"SB\": 0, \"CS\": 0, \"BB\": 0, \"SO\": 0, \"BA\": 0.0, \"OBP\": 0.0, \"SLG\": 0.0, \"OPS\": 0.0, \"OPS+\": 0, \"TB\": 0, \"GDP\": 0, \"HBP\": 0, \"SH\": 0, \"SF\": 0, \"IBB\": 0}, {\"Rk\": 47, \"Name\": \"Austin\\u00a0Barnes\", \"Age\": 33, \"Tm\": \"LAD\", \"Lg\": \"NL\", \"G\": 35, \"PA\": 114, \"AB\": 102, \"R\": 4, \"H\": 11, \"2B\": 2, \"3B\": 0, \"HR\": 0, \"RBI\": 5, \"SB\": 2, \"CS\": 1, \"BB\": 10, \"SO\": 28, \"BA\": 0.108, \"OBP\": 0.193, \"SLG\": 0.127, \"OPS\": 0.32, \"OPS+\": -11, \"TB\": 13, \"GDP\": 3, \"HBP\": 1, \"SH\": 0, \"SF\": 1, \"IBB\": 0}, {\"Rk\": 48, \"Name\": \"Tucker\\u00a0Barnhart*\", \"Age\": 32, \"Tm\": \"CHC\", \"Lg\": \"NL\", \"G\": 40, \"PA\": 114, \"AB\": 100, \"R\": 5, \"H\": 20, \"2B\": 3, \"3B\": 0, \"HR\": 1, \"RBI\": 8, \"SB\": 1, \"CS\": 0, \"BB\": 12, \"SO\": 37, \"BA\": 0.2, \"OBP\": 0.289, \"SLG\": 0.26, \"OPS\": 0.549, \"OPS+\": 51, \"TB\": 26, \"GDP\": 3, \"HBP\": 1, \"SH\": 0, \"SF\": 1, \"IBB\": 0}, {\"Rk\": 49, \"Name\": \"Tres\\u00a0Barrera\", \"Age\": 28, \"Tm\": \"STL\", \"Lg\": \"NL\", \"G\": 6, \"PA\": 2, \"AB\": 2, \"R\": 0, \"H\": 0, \"2B\": 0, \"3B\": 0, \"HR\": 0, \"RBI\": 0, \"SB\": 0, \"CS\": 0, \"BB\": 0, \"SO\": 0, \"BA\": 0.0, \"OBP\": 0.0, \"SLG\": 0.0, \"OPS\": 0.0, \"OPS+\": -100, \"TB\": 0, \"GDP\": 0, \"HBP\": 0, \"SH\": 0, \"SF\": 0, \"IBB\": 0}, {\"Rk\": 50, \"Name\": \"Jose\\u00a0Barrero\", \"Age\": 25, \"Tm\": \"CIN\", \"Lg\": \"NL\", \"G\": 46, \"PA\": 149, \"AB\": 133, \"R\": 15, \"H\": 29, \"2B\": 8, \"3B\": 0, \"HR\": 2, \"RBI\": 17, \"SB\": 3, \"CS\": 2, \"BB\": 15, \"SO\": 44, \"BA\": 0.218, \"OBP\": 0.295, \"SLG\": 0.323, \"OPS\": 0.619, \"OPS+\": 65, \"TB\": 43, \"GDP\": 1, \"HBP\": 0, \"SH\": 0, \"SF\": 1, \"IBB\": 0}, {\"Rk\": 51, \"Name\": \"Joey\\u00a0Bart\", \"Age\": 26, \"Tm\": \"SFG\", \"Lg\": \"NL\", \"G\": 26, \"PA\": 84, \"AB\": 78, \"R\": 8, \"H\": 18, \"2B\": 5, \"3B\": 0, \"HR\": 0, \"RBI\": 4, \"SB\": 0, \"CS\": 0, \"BB\": 2, \"SO\": 21, \"BA\": 0.231, \"OBP\": 0.286, \"SLG\": 0.295, \"OPS\": 0.581, \"OPS+\": 61, \"TB\": 23, \"GDP\": 0, \"HBP\": 4, \"SH\": 0, \"SF\": 0, \"IBB\": 0}, {\"Rk\": 52, \"Name\": \"Matthew\\u00a0Batten\", \"Age\": 28, \"Tm\": \"SDP\", \"Lg\": \"NL\", \"G\": 5, \"PA\": 7, \"AB\": 5, \"R\": 2, \"H\": 2, \"2B\": 0, \"3B\": 0, \"HR\": 1, \"RBI\": 2, \"SB\": 0, \"CS\": 1, \"BB\": 2, \"SO\": 1, \"BA\": 0.4, \"OBP\": 0.571, \"SLG\": 1.0, \"OPS\": 1.571, \"OPS+\": 331, \"TB\": 5, \"GDP\": 0, \"HBP\": 0, \"SH\": 0, \"SF\": 0, \"IBB\": 0}, {\"Rk\": 53, \"Name\": \"Brett\\u00a0Baty*\", \"Age\": 23, \"Tm\": \"NYM\", \"Lg\": \"NL\", \"G\": 73, \"PA\": 264, \"AB\": 238, \"R\": 32, \"H\": 57, \"2B\": 9, \"3B\": 0, \"HR\": 7, \"RBI\": 26, \"SB\": 2, \"CS\": 0, \"BB\": 20, \"SO\": 70, \"BA\": 0.239, \"OBP\": 0.303, \"SLG\": 0.366, \"OPS\": 0.668, \"OPS+\": 86, \"TB\": 87, \"GDP\": 7, \"HBP\": 2, \"SH\": 0, \"SF\": 1, \"IBB\": 0}, {\"Rk\": 54, \"Name\": \"Jake\\u00a0Bauers*\", \"Age\": 27, \"Tm\": \"NYY\", \"Lg\": \"AL\", \"G\": 49, \"PA\": 154, \"AB\": 134, \"R\": 18, \"H\": 30, \"2B\": 12, \"3B\": 0, \"HR\": 7, \"RBI\": 19, \"SB\": 2, \"CS\": 0, \"BB\": 18, \"SO\": 46, \"BA\": 0.224, \"OBP\": 0.312, \"SLG\": 0.47, \"OPS\": 0.782, \"OPS+\": 114, \"TB\": 63, \"GDP\": 3, \"HBP\": 0, \"SH\": 0, \"SF\": 2, \"IBB\": 0}, {\"Rk\": 55, \"Name\": \"Mike\\u00a0Baumann\", \"Age\": 27, \"Tm\": \"BAL\", \"Lg\": \"AL\", \"G\": 1, \"PA\": 0, \"AB\": 0, \"R\": 0, \"H\": 0, \"2B\": 0, \"3B\": 0, \"HR\": 0, \"RBI\": 0, \"SB\": 0, \"CS\": 0, \"BB\": 0, \"SO\": 0, \"BA\": 0.0, \"OBP\": 0.0, \"SLG\": 0.0, \"OPS\": 0.0, \"OPS+\": 0, \"TB\": 0, \"GDP\": 0, \"HBP\": 0, \"SH\": 0, \"SF\": 0, \"IBB\": 0}, {\"Rk\": 56, \"Name\": \"Matt\\u00a0Beaty*\", \"Age\": 30, \"Tm\": \"TOT\", \"Lg\": \"MLB\", \"G\": 7, \"PA\": 11, \"AB\": 10, \"R\": 1, \"H\": 3, \"2B\": 1, \"3B\": 0, \"HR\": 0, \"RBI\": 3, \"SB\": 0, \"CS\": 0, \"BB\": 1, \"SO\": 2, \"BA\": 0.3, \"OBP\": 0.364, \"SLG\": 0.4, \"OPS\": 0.764, \"OPS+\": 112, \"TB\": 4, \"GDP\": 0, \"HBP\": 0, \"SH\": 0, \"SF\": 0, \"IBB\": 0}, {\"Rk\": 57, \"Name\": \"Matt\\u00a0Beaty*\", \"Age\": 30, \"Tm\": \"SFG\", \"Lg\": \"NL\", \"G\": 4, \"PA\": 5, \"AB\": 5, \"R\": 1, \"H\": 1, \"2B\": 0, \"3B\": 0, \"HR\": 0, \"RBI\": 1, \"SB\": 0, \"CS\": 0, \"BB\": 0, \"SO\": 2, \"BA\": 0.2, \"OBP\": 0.2, \"SLG\": 0.2, \"OPS\": 0.4, \"OPS+\": 11, \"TB\": 1, \"GDP\": 0, \"HBP\": 0, \"SH\": 0, \"SF\": 0, \"IBB\": 0}, {\"Rk\": 58, \"Name\": \"Matt\\u00a0Beaty*\", \"Age\": 30, \"Tm\": \"KCR\", \"Lg\": \"AL\", \"G\": 3, \"PA\": 6, \"AB\": 5, \"R\": 0, \"H\": 2, \"2B\": 1, \"3B\": 0, \"HR\": 0, \"RBI\": 2, \"SB\": 0, \"CS\": 0, \"BB\": 1, \"SO\": 0, \"BA\": 0.4, \"OBP\": 0.5, \"SLG\": 0.6, \"OPS\": 1.1, \"OPS+\": 204, \"TB\": 3, \"GDP\": 0, \"HBP\": 0, \"SH\": 0, \"SF\": 0, \"IBB\": 0}, {\"Rk\": 59, \"Name\": \"Josh\\u00a0Bell#\", \"Age\": 30, \"Tm\": \"CLE\", \"Lg\": \"AL\", \"G\": 89, \"PA\": 361, \"AB\": 316, \"R\": 23, \"H\": 76, \"2B\": 18, \"3B\": 0, \"HR\": 11, \"RBI\": 47, \"SB\": 0, \"CS\": 1, \"BB\": 42, \"SO\": 76, \"BA\": 0.241, \"OBP\": 0.33, \"SLG\": 0.402, \"OPS\": 0.732, \"OPS+\": 105, \"TB\": 127, \"GDP\": 4, \"HBP\": 1, \"SH\": 0, \"SF\": 2, \"IBB\": 1}, {\"Rk\": 60, \"Name\": \"Cody\\u00a0Bellinger*\", \"Age\": 27, \"Tm\": \"CHC\", \"Lg\": \"NL\", \"G\": 67, \"PA\": 283, \"AB\": 254, \"R\": 52, \"H\": 81, \"2B\": 15, \"3B\": 1, \"HR\": 13, \"RBI\": 41, \"SB\": 12, \"CS\": 3, \"BB\": 22, \"SO\": 47, \"BA\": 0.319, \"OBP\": 0.371, \"SLG\": 0.539, \"OPS\": 0.91, \"OPS+\": 143, \"TB\": 137, \"GDP\": 3, \"HBP\": 2, \"SH\": 0, \"SF\": 5, \"IBB\": 2}, {\"Rk\": 61, \"Name\": \"Brandon\\u00a0Belt*\", \"Age\": 35, \"Tm\": \"TOR\", \"Lg\": \"AL\", \"G\": 67, \"PA\": 258, \"AB\": 215, \"R\": 29, \"H\": 54, \"2B\": 17, \"3B\": 0, \"HR\": 7, \"RBI\": 23, \"SB\": 0, \"CS\": 0, \"BB\": 41, \"SO\": 95, \"BA\": 0.251, \"OBP\": 0.372, \"SLG\": 0.428, \"OPS\": 0.8, \"OPS+\": 125, \"TB\": 92, \"GDP\": 3, \"HBP\": 1, \"SH\": 0, \"SF\": 1, \"IBB\": 1}, {\"Rk\": 62, \"Name\": \"Anthony\\u00a0Bemboom*\", \"Age\": 33, \"Tm\": \"BAL\", \"Lg\": \"AL\", \"G\": 6, \"PA\": 13, \"AB\": 11, \"R\": 0, \"H\": 2, \"2B\": 0, \"3B\": 0, \"HR\": 0, \"RBI\": 0, \"SB\": 0, \"CS\": 0, \"BB\": 2, \"SO\": 2, \"BA\": 0.182, \"OBP\": 0.308, \"SLG\": 0.182, \"OPS\": 0.49, \"OPS+\": 43, \"TB\": 2, \"GDP\": 0, \"HBP\": 0, \"SH\": 0, \"SF\": 0, \"IBB\": 0}, {\"Rk\": 63, \"Name\": \"Andrew\\u00a0Benintendi*\", \"Age\": 28, \"Tm\": \"CHW\", \"Lg\": \"AL\", \"G\": 93, \"PA\": 389, \"AB\": 350, \"R\": 49, \"H\": 101, \"2B\": 24, \"3B\": 1, \"HR\": 2, \"RBI\": 29, \"SB\": 11, \"CS\": 1, \"BB\": 33, \"SO\": 56, \"BA\": 0.289, \"OBP\": 0.353, \"SLG\": 0.38, \"OPS\": 0.733, \"OPS+\": 103, \"TB\": 133, \"GDP\": 4, \"HBP\": 3, \"SH\": 1, \"SF\": 2, \"IBB\": 5}, {\"Rk\": 64, \"Name\": \"Will\\u00a0Benson*\", \"Age\": 25, \"Tm\": \"CIN\", \"Lg\": \"NL\", \"G\": 53, \"PA\": 164, \"AB\": 140, \"R\": 25, \"H\": 40, \"2B\": 7, \"3B\": 4, \"HR\": 6, \"RBI\": 17, \"SB\": 9, \"CS\": 2, \"BB\": 24, \"SO\": 44, \"BA\": 0.286, \"OBP\": 0.39, \"SLG\": 0.521, \"OPS\": 0.912, \"OPS+\": 139, \"TB\": 73, \"GDP\": 1, \"HBP\": 0, \"SH\": 0, \"SF\": 0, \"IBB\": 0}, {\"Rk\": 65, \"Name\": \"Jos\\u00e9\\u00a0Berr\\u00edos\", \"Age\": 29, \"Tm\": \"TOR\", \"Lg\": \"AL\", \"G\": 1, \"PA\": 0, \"AB\": 0, \"R\": 0, \"H\": 0, \"2B\": 0, \"3B\": 0, \"HR\": 0, \"RBI\": 0, \"SB\": 0, \"CS\": 0, \"BB\": 0, \"SO\": 0, \"BA\": 0.0, \"OBP\": 0.0, \"SLG\": 0.0, \"OPS\": 0.0, \"OPS+\": 0, \"TB\": 0, \"GDP\": 0, \"HBP\": 0, \"SH\": 0, \"SF\": 0, \"IBB\": 0}, {\"Rk\": 66, \"Name\": \"Jon\\u00a0Berti\", \"Age\": 33, \"Tm\": \"MIA\", \"Lg\": \"NL\", \"G\": 81, \"PA\": 268, \"AB\": 247, \"R\": 35, \"H\": 72, \"2B\": 9, \"3B\": 2, \"HR\": 2, \"RBI\": 18, \"SB\": 11, \"CS\": 4, \"BB\": 16, \"SO\": 51, \"BA\": 0.291, \"OBP\": 0.335, \"SLG\": 0.368, \"OPS\": 0.703, \"OPS+\": 94, \"TB\": 91, \"GDP\": 8, \"HBP\": 1, \"SH\": 2, \"SF\": 2, \"IBB\": 1}, {\"Rk\": 67, \"Name\": \"Christian\\u00a0Bethancourt\", \"Age\": 31, \"Tm\": \"TBR\", \"Lg\": \"AL\", \"G\": 65, \"PA\": 217, \"AB\": 207, \"R\": 30, \"H\": 47, \"2B\": 12, \"3B\": 0, \"HR\": 7, \"RBI\": 22, \"SB\": 0, \"CS\": 0, \"BB\": 7, \"SO\": 54, \"BA\": 0.227, \"OBP\": 0.25, \"SLG\": 0.386, \"OPS\": 0.636, \"OPS+\": 76, \"TB\": 80, \"GDP\": 4, \"HBP\": 0, \"SH\": 1, \"SF\": 2, \"IBB\": 0}, {\"Rk\": 68, \"Name\": \"Mookie\\u00a0Betts\", \"Age\": 30, \"Tm\": \"LAD\", \"Lg\": \"NL\", \"G\": 94, \"PA\": 436, \"AB\": 367, \"R\": 77, \"H\": 102, \"2B\": 24, \"3B\": 1, \"HR\": 27, \"RBI\": 67, \"SB\": 7, \"CS\": 2, \"BB\": 60, \"SO\": 70, \"BA\": 0.278, \"OBP\": 0.381, \"SLG\": 0.569, \"OPS\": 0.95, \"OPS+\": 151, \"TB\": 209, \"GDP\": 4, \"HBP\": 4, \"SH\": 0, \"SF\": 5, \"IBB\": 3}, {\"Rk\": 69, \"Name\": \"Bo\\u00a0Bichette\", \"Age\": 25, \"Tm\": \"TOR\", \"Lg\": \"AL\", \"G\": 98, \"PA\": 438, \"AB\": 418, \"R\": 47, \"H\": 130, \"2B\": 22, \"3B\": 1, \"HR\": 16, \"RBI\": 53, \"SB\": 3, \"CS\": 3, \"BB\": 18, \"SO\": 82, \"BA\": 0.311, \"OBP\": 0.342, \"SLG\": 0.483, \"OPS\": 0.826, \"OPS+\": 129, \"TB\": 202, \"GDP\": 11, \"HBP\": 2, \"SH\": 0, \"SF\": 0, \"IBB\": 0}, {\"Rk\": 70, \"Name\": \"Cavan\\u00a0Biggio*\", \"Age\": 28, \"Tm\": \"TOR\", \"Lg\": \"AL\", \"G\": 63, \"PA\": 166, \"AB\": 149, \"R\": 23, \"H\": 32, \"2B\": 5, \"3B\": 0, \"HR\": 7, \"RBI\": 19, \"SB\": 3, \"CS\": 2, \"BB\": 14, \"SO\": 48, \"BA\": 0.215, \"OBP\": 0.295, \"SLG\": 0.389, \"OPS\": 0.684, \"OPS+\": 91, \"TB\": 58, \"GDP\": 0, \"HBP\": 3, \"SH\": 0, \"SF\": 0, \"IBB\": 0}, {\"Rk\": 71, \"Name\": \"Charlie\\u00a0Blackmon*\", \"Age\": 36, \"Tm\": \"COL\", \"Lg\": \"NL\", \"G\": 56, \"PA\": 242, \"AB\": 211, \"R\": 34, \"H\": 56, \"2B\": 14, \"3B\": 2, \"HR\": 5, \"RBI\": 26, \"SB\": 0, \"CS\": 1, \"BB\": 21, \"SO\": 33, \"BA\": 0.265, \"OBP\": 0.347, \"SLG\": 0.422, \"OPS\": 0.769, \"OPS+\": 99, \"TB\": 89, \"GDP\": 4, \"HBP\": 7, \"SH\": 0, \"SF\": 3, \"IBB\": 0}, {\"Rk\": 72, \"Name\": \"Dairon\\u00a0Blanco\", \"Age\": 30, \"Tm\": \"KCR\", \"Lg\": \"AL\", \"G\": 23, \"PA\": 58, \"AB\": 54, \"R\": 7, \"H\": 13, \"2B\": 5, \"3B\": 3, \"HR\": 0, \"RBI\": 6, \"SB\": 7, \"CS\": 3, \"BB\": 3, \"SO\": 17, \"BA\": 0.241, \"OBP\": 0.293, \"SLG\": 0.444, \"OPS\": 0.738, \"OPS+\": 101, \"TB\": 24, \"GDP\": 1, \"HBP\": 1, \"SH\": 0, \"SF\": 0, \"IBB\": 0}, {\"Rk\": 73, \"Name\": \"JJ\\u00a0Bleday*\", \"Age\": 25, \"Tm\": \"OAK\", \"Lg\": \"AL\", \"G\": 60, \"PA\": 219, \"AB\": 183, \"R\": 23, \"H\": 38, \"2B\": 10, \"3B\": 0, \"HR\": 7, \"RBI\": 23, \"SB\": 4, \"CS\": 1, \"BB\": 32, \"SO\": 48, \"BA\": 0.208, \"OBP\": 0.324, \"SLG\": 0.377, \"OPS\": 0.701, \"OPS+\": 101, \"TB\": 69, \"GDP\": 2, \"HBP\": 1, \"SH\": 0, \"SF\": 3, \"IBB\": 0}, {\"Rk\": 74, \"Name\": \"Xander\\u00a0Bogaerts\", \"Age\": 30, \"Tm\": \"SDP\", \"Lg\": \"NL\", \"G\": 93, \"PA\": 400, \"AB\": 354, \"R\": 47, \"H\": 93, \"2B\": 16, \"3B\": 0, \"HR\": 11, \"RBI\": 36, \"SB\": 10, \"CS\": 1, \"BB\": 41, \"SO\": 74, \"BA\": 0.263, \"OBP\": 0.343, \"SLG\": 0.401, \"OPS\": 0.744, \"OPS+\": 109, \"TB\": 142, \"GDP\": 13, \"HBP\": 3, \"SH\": 0, \"SF\": 2, \"IBB\": 0}, {\"Rk\": 75, \"Name\": \"Alec\\u00a0Bohm\", \"Age\": 26, \"Tm\": \"PHI\", \"Lg\": \"NL\", \"G\": 85, \"PA\": 349, \"AB\": 320, \"R\": 41, \"H\": 89, \"2B\": 16, \"3B\": 0, \"HR\": 9, \"RBI\": 59, \"SB\": 3, \"CS\": 1, \"BB\": 23, \"SO\": 60, \"BA\": 0.278, \"OBP\": 0.33, \"SLG\": 0.413, \"OPS\": 0.742, \"OPS+\": 103, \"TB\": 132, \"GDP\": 13, \"HBP\": 3, \"SH\": 0, \"SF\": 3, \"IBB\": 0}, {\"Rk\": 76, \"Name\": \"Jackie\\u00a0Bradley\\u00a0Jr.*\", \"Age\": 33, \"Tm\": \"KCR\", \"Lg\": \"AL\", \"G\": 43, \"PA\": 113, \"AB\": 105, \"R\": 10, \"H\": 14, \"2B\": 5, \"3B\": 0, \"HR\": 1, \"RBI\": 6, \"SB\": 0, \"CS\": 0, \"BB\": 5, \"SO\": 29, \"BA\": 0.133, \"OBP\": 0.188, \"SLG\": 0.21, \"OPS\": 0.397, \"OPS+\": 10, \"TB\": 22, \"GDP\": 3, \"HBP\": 2, \"SH\": 1, \"SF\": 0, \"IBB\": 0}, {\"Rk\": 77, \"Name\": \"Matt\\u00a0Brash\", \"Age\": 25, \"Tm\": \"SEA\", \"Lg\": \"AL\", \"G\": 1, \"PA\": 0, \"AB\": 0, \"R\": 0, \"H\": 0, \"2B\": 0, \"3B\": 0, \"HR\": 0, \"RBI\": 0, \"SB\": 0, \"CS\": 0, \"BB\": 0, \"SO\": 0, \"BA\": 0.0, \"OBP\": 0.0, \"SLG\": 0.0, \"OPS\": 0.0, \"OPS+\": 0, \"TB\": 0, \"GDP\": 0, \"HBP\": 0, \"SH\": 0, \"SF\": 0, \"IBB\": 0}, {\"Rk\": 78, \"Name\": \"Alex\\u00a0Bregman\", \"Age\": 29, \"Tm\": \"HOU\", \"Lg\": \"AL\", \"G\": 98, \"PA\": 436, \"AB\": 381, \"R\": 58, \"H\": 96, \"2B\": 13, \"3B\": 2, \"HR\": 16, \"RBI\": 63, \"SB\": 3, \"CS\": 0, \"BB\": 52, \"SO\": 53, \"BA\": 0.252, \"OBP\": 0.344, \"SLG\": 0.423, \"OPS\": 0.767, \"OPS+\": 113, \"TB\": 161, \"GDP\": 12, \"HBP\": 2, \"SH\": 0, \"SF\": 1, \"IBB\": 1}, {\"Rk\": 79, \"Name\": \"Will\\u00a0Brennan*\", \"Age\": 25, \"Tm\": \"CLE\", \"Lg\": \"AL\", \"G\": 87, \"PA\": 274, \"AB\": 261, \"R\": 24, \"H\": 68, \"2B\": 15, \"3B\": 0, \"HR\": 5, \"RBI\": 26, \"SB\": 6, \"CS\": 3, \"BB\": 9, \"SO\": 38, \"BA\": 0.261, \"OBP\": 0.292, \"SLG\": 0.375, \"OPS\": 0.667, \"OPS+\": 86, \"TB\": 98, \"GDP\": 2, \"HBP\": 3, \"SH\": 0, \"SF\": 1, \"IBB\": 1}, {\"Rk\": 80, \"Name\": \"Jonah\\u00a0Bride\", \"Age\": 27, \"Tm\": \"OAK\", \"Lg\": \"AL\", \"G\": 22, \"PA\": 65, \"AB\": 53, \"R\": 5, \"H\": 10, \"2B\": 1, \"3B\": 0, \"HR\": 0, \"RBI\": 4, \"SB\": 0, \"CS\": 0, \"BB\": 7, \"SO\": 13, \"BA\": 0.189, \"OBP\": 0.313, \"SLG\": 0.208, \"OPS\": 0.52, \"OPS+\": 55, \"TB\": 11, \"GDP\": 1, \"HBP\": 3, \"SH\": 1, \"SF\": 1, \"IBB\": 0}, {\"Rk\": 81, \"Name\": \"Mike\\u00a0Brosseau\", \"Age\": 29, \"Tm\": \"MIL\", \"Lg\": \"NL\", \"G\": 29, \"PA\": 78, \"AB\": 73, \"R\": 4, \"H\": 15, \"2B\": 2, \"3B\": 0, \"HR\": 4, \"RBI\": 8, \"SB\": 0, \"CS\": 0, \"BB\": 4, \"SO\": 20, \"BA\": 0.205, \"OBP\": 0.256, \"SLG\": 0.397, \"OPS\": 0.654, \"OPS+\": 76, \"TB\": 29, \"GDP\": 2, \"HBP\": 1, \"SH\": 0, \"SF\": 0, \"IBB\": 0}, {\"Rk\": 82, \"Name\": \"Seth\\u00a0Brown*\", \"Age\": 30, \"Tm\": \"OAK\", \"Lg\": \"AL\", \"G\": 56, \"PA\": 202, \"AB\": 182, \"R\": 20, \"H\": 36, \"2B\": 6, \"3B\": 0, \"HR\": 10, \"RBI\": 28, \"SB\": 2, \"CS\": 1, \"BB\": 19, \"SO\": 60, \"BA\": 0.198, \"OBP\": 0.277, \"SLG\": 0.396, \"OPS\": 0.673, \"OPS+\": 91, \"TB\": 72, \"GDP\": 4, \"HBP\": 1, \"SH\": 0, \"SF\": 0, \"IBB\": 0}, {\"Rk\": 83, \"Name\": \"Vidal\\u00a0Bruj\\u00e1n#\", \"Age\": 25, \"Tm\": \"TBR\", \"Lg\": \"AL\", \"G\": 24, \"PA\": 58, \"AB\": 54, \"R\": 10, \"H\": 11, \"2B\": 2, \"3B\": 0, \"HR\": 0, \"RBI\": 5, \"SB\": 2, \"CS\": 1, \"BB\": 2, \"SO\": 14, \"BA\": 0.204, \"OBP\": 0.246, \"SLG\": 0.241, \"OPS\": 0.486, \"OPS+\": 38, \"TB\": 13, \"GDP\": 1, \"HBP\": 1, \"SH\": 1, \"SF\": 0, \"IBB\": 0}, {\"Rk\": 84, \"Name\": \"Kris\\u00a0Bryant\", \"Age\": 31, \"Tm\": \"COL\", \"Lg\": \"NL\", \"G\": 65, \"PA\": 275, \"AB\": 243, \"R\": 27, \"H\": 61, \"2B\": 7, \"3B\": 0, \"HR\": 8, \"RBI\": 23, \"SB\": 0, \"CS\": 0, \"BB\": 26, \"SO\": 48, \"BA\": 0.251, \"OBP\": 0.338, \"SLG\": 0.379, \"OPS\": 0.717, \"OPS+\": 86, \"TB\": 92, \"GDP\": 4, \"HBP\": 6, \"SH\": 0, \"SF\": 0, \"IBB\": 0}, {\"Rk\": 85, \"Name\": \"J.B.\\u00a0Bukauskas\", \"Age\": 26, \"Tm\": \"TOT\", \"Lg\": \"MLB\", \"G\": 1, \"PA\": 0, \"AB\": 0, \"R\": 0, \"H\": 0, \"2B\": 0, \"3B\": 0, \"HR\": 0, \"RBI\": 0, \"SB\": 0, \"CS\": 0, \"BB\": 0, \"SO\": 0, \"BA\": 0.0, \"OBP\": 0.0, \"SLG\": 0.0, \"OPS\": 0.0, \"OPS+\": 0, \"TB\": 0, \"GDP\": 0, \"HBP\": 0, \"SH\": 0, \"SF\": 0, \"IBB\": 0}, {\"Rk\": 86, \"Name\": \"J.B.\\u00a0Bukauskas\", \"Age\": 26, \"Tm\": \"SEA\", \"Lg\": \"AL\", \"G\": 1, \"PA\": 0, \"AB\": 0, \"R\": 0, \"H\": 0, \"2B\": 0, \"3B\": 0, \"HR\": 0, \"RBI\": 0, \"SB\": 0, \"CS\": 0, \"BB\": 0, \"SO\": 0, \"BA\": 0.0, \"OBP\": 0.0, \"SLG\": 0.0, \"OPS\": 0.0, \"OPS+\": 0, \"TB\": 0, \"GDP\": 0, \"HBP\": 0, \"SH\": 0, \"SF\": 0, \"IBB\": 0}, {\"Rk\": 87, \"Name\": \"Aaron\\u00a0Bummer*\", \"Age\": 29, \"Tm\": \"CHW\", \"Lg\": \"AL\", \"G\": 1, \"PA\": 0, \"AB\": 0, \"R\": 0, \"H\": 0, \"2B\": 0, \"3B\": 0, \"HR\": 0, \"RBI\": 0, \"SB\": 0, \"CS\": 0, \"BB\": 0, \"SO\": 0, \"BA\": 0.0, \"OBP\": 0.0, \"SLG\": 0.0, \"OPS\": 0.0, \"OPS+\": 0, \"TB\": 0, \"GDP\": 0, \"HBP\": 0, \"SH\": 0, \"SF\": 0, \"IBB\": 0}, {\"Rk\": 88, \"Name\": \"Peyton\\u00a0Burdick\", \"Age\": 26, \"Tm\": \"MIA\", \"Lg\": \"NL\", \"G\": 14, \"PA\": 37, \"AB\": 33, \"R\": 4, \"H\": 6, \"2B\": 2, \"3B\": 0, \"HR\": 1, \"RBI\": 2, \"SB\": 1, \"CS\": 0, \"BB\": 3, \"SO\": 18, \"BA\": 0.182, \"OBP\": 0.27, \"SLG\": 0.333, \"OPS\": 0.604, \"OPS+\": 65, \"TB\": 11, \"GDP\": 0, \"HBP\": 1, \"SH\": 0, \"SF\": 0, \"IBB\": 0}, {\"Rk\": 89, \"Name\": \"Jake\\u00a0Burger\", \"Age\": 27, \"Tm\": \"CHW\", \"Lg\": \"AL\", \"G\": 81, \"PA\": 295, \"AB\": 271, \"R\": 39, \"H\": 59, \"2B\": 15, \"3B\": 1, \"HR\": 21, \"RBI\": 47, \"SB\": 1, \"CS\": 1, \"BB\": 17, \"SO\": 96, \"BA\": 0.218, \"OBP\": 0.275, \"SLG\": 0.513, \"OPS\": 0.787, \"OPS+\": 111, \"TB\": 139, \"GDP\": 3, \"HBP\": 5, \"SH\": 0, \"SF\": 2, \"IBB\": 0}, {\"Rk\": 90, \"Name\": \"Alec\\u00a0Burleson*\", \"Age\": 24, \"Tm\": \"STL\", \"Lg\": \"NL\", \"G\": 67, \"PA\": 218, \"AB\": 198, \"R\": 22, \"H\": 47, \"2B\": 10, \"3B\": 1, \"HR\": 6, \"RBI\": 21, \"SB\": 0, \"CS\": 1, \"BB\": 13, \"SO\": 23, \"BA\": 0.237, \"OBP\": 0.29, \"SLG\": 0.389, \"OPS\": 0.679, \"OPS+\": 84, \"TB\": 77, \"GDP\": 9, \"HBP\": 2, \"SH\": 1, \"SF\": 1, \"IBB\": 0}, {\"Rk\": 91, \"Name\": \"Michael\\u00a0Busch*\", \"Age\": 25, \"Tm\": \"LAD\", \"Lg\": \"NL\", \"G\": 15, \"PA\": 51, \"AB\": 45, \"R\": 6, \"H\": 9, \"2B\": 3, \"3B\": 0, \"HR\": 0, \"RBI\": 4, \"SB\": 1, \"CS\": 0, \"BB\": 6, \"SO\": 16, \"BA\": 0.2, \"OBP\": 0.294, \"SLG\": 0.267, \"OPS\": 0.561, \"OPS+\": 53, \"TB\": 12, \"GDP\": 0, \"HBP\": 0, \"SH\": 0, \"SF\": 0, \"IBB\": 0}, {\"Rk\": 92, \"Name\": \"Byron\\u00a0Buxton\", \"Age\": 29, \"Tm\": \"MIN\", \"Lg\": \"AL\", \"G\": 80, \"PA\": 328, \"AB\": 287, \"R\": 46, \"H\": 56, \"2B\": 12, \"3B\": 1, \"HR\": 17, \"RBI\": 40, \"SB\": 9, \"CS\": 0, \"BB\": 34, \"SO\": 104, \"BA\": 0.195, \"OBP\": 0.284, \"SLG\": 0.422, \"OPS\": 0.705, \"OPS+\": 92, \"TB\": 121, \"GDP\": 3, \"HBP\": 3, \"SH\": 0, \"SF\": 4, \"IBB\": 1}, {\"Rk\": 93, \"Name\": \"Jos\\u00e9\\u00a0Caballero\", \"Age\": 26, \"Tm\": \"SEA\", \"Lg\": \"AL\", \"G\": 63, \"PA\": 198, \"AB\": 162, \"R\": 23, \"H\": 37, \"2B\": 6, \"3B\": 1, \"HR\": 3, \"RBI\": 21, \"SB\": 16, \"CS\": 2, \"BB\": 23, \"SO\": 43, \"BA\": 0.228, \"OBP\": 0.354, \"SLG\": 0.333, \"OPS\": 0.687, \"OPS+\": 97, \"TB\": 54, \"GDP\": 0, \"HBP\": 10, \"SH\": 0, \"SF\": 3, \"IBB\": 0}, {\"Rk\": 94, \"Name\": \"Trey\\u00a0Cabbage*\", \"Age\": 26, \"Tm\": \"LAA\", \"Lg\": \"AL\", \"G\": 7, \"PA\": 19, \"AB\": 19, \"R\": 2, \"H\": 5, \"2B\": 2, \"3B\": 0, \"HR\": 1, \"RBI\": 3, \"SB\": 0, \"CS\": 0, \"BB\": 0, \"SO\": 7, \"BA\": 0.263, \"OBP\": 0.263, \"SLG\": 0.526, \"OPS\": 0.789, \"OPS+\": 109, \"TB\": 10, \"GDP\": 1, \"HBP\": 0, \"SH\": 0, \"SF\": 0, \"IBB\": 0}, {\"Rk\": 95, \"Name\": \"G\\u00e9nesis\\u00a0Cabrera*\", \"Age\": 26, \"Tm\": \"STL\", \"Lg\": \"NL\", \"G\": 2, \"PA\": 0, \"AB\": 0, \"R\": 0, \"H\": 0, \"2B\": 0, \"3B\": 0, \"HR\": 0, \"RBI\": 0, \"SB\": 0, \"CS\": 0, \"BB\": 0, \"SO\": 0, \"BA\": 0.0, \"OBP\": 0.0, \"SLG\": 0.0, \"OPS\": 0.0, \"OPS+\": 0, \"TB\": 0, \"GDP\": 0, \"HBP\": 0, \"SH\": 0, \"SF\": 0, \"IBB\": 0}, {\"Rk\": 96, \"Name\": \"Miguel\\u00a0Cabrera\", \"Age\": 40, \"Tm\": \"DET\", \"Lg\": \"AL\", \"G\": 56, \"PA\": 202, \"AB\": 177, \"R\": 11, \"H\": 44, \"2B\": 10, \"3B\": 0, \"HR\": 1, \"RBI\": 15, \"SB\": 0, \"CS\": 0, \"BB\": 23, \"SO\": 40, \"BA\": 0.249, \"OBP\": 0.332, \"SLG\": 0.322, \"OPS\": 0.654, \"OPS+\": 85, \"TB\": 57, \"GDP\": 8, \"HBP\": 0, \"SH\": 0, \"SF\": 2, \"IBB\": 0}, {\"Rk\": 97, \"Name\": \"Oswaldo\\u00a0Cabrera#\", \"Age\": 24, \"Tm\": \"NYY\", \"Lg\": \"AL\", \"G\": 80, \"PA\": 215, \"AB\": 195, \"R\": 26, \"H\": 40, \"2B\": 8, \"3B\": 0, \"HR\": 4, \"RBI\": 22, \"SB\": 6, \"CS\": 0, \"BB\": 15, \"SO\": 46, \"BA\": 0.205, \"OBP\": 0.266, \"SLG\": 0.308, \"OPS\": 0.574, \"OPS+\": 60, \"TB\": 60, \"GDP\": 6, \"HBP\": 2, \"SH\": 1, \"SF\": 2, \"IBB\": 1}, {\"Rk\": 98, \"Name\": \"Willie\\u00a0Calhoun*\", \"Age\": 28, \"Tm\": \"NYY\", \"Lg\": \"AL\", \"G\": 44, \"PA\": 149, \"AB\": 134, \"R\": 16, \"H\": 32, \"2B\": 7, \"3B\": 0, \"HR\": 5, \"RBI\": 16, \"SB\": 0, \"CS\": 0, \"BB\": 14, \"SO\": 20, \"BA\": 0.239, \"OBP\": 0.309, \"SLG\": 0.403, \"OPS\": 0.712, \"OPS+\": 97, \"TB\": 54, \"GDP\": 2, \"HBP\": 0, \"SH\": 0, \"SF\": 1, \"IBB\": 1}, {\"Rk\": 99, \"Name\": \"Alex\\u00a0Call\", \"Age\": 28, \"Tm\": \"WSN\", \"Lg\": \"NL\", \"G\": 77, \"PA\": 301, \"AB\": 263, \"R\": 32, \"H\": 56, \"2B\": 10, \"3B\": 1, \"HR\": 6, \"RBI\": 29, \"SB\": 9, \"CS\": 4, \"BB\": 30, \"SO\": 55, \"BA\": 0.213, \"OBP\": 0.306, \"SLG\": 0.327, \"OPS\": 0.633, \"OPS+\": 79, \"TB\": 86, \"GDP\": 0, \"HBP\": 6, \"SH\": 0, \"SF\": 2, \"IBB\": 0}, {\"Rk\": 100, \"Name\": \"Luis\\u00a0Campusano\", \"Age\": 24, \"Tm\": \"SDP\", \"Lg\": \"NL\", \"G\": 11, \"PA\": 37, \"AB\": 36, \"R\": 6, \"H\": 10, \"2B\": 1, \"3B\": 0, \"HR\": 2, \"RBI\": 6, \"SB\": 0, \"CS\": 0, \"BB\": 0, \"SO\": 6, \"BA\": 0.278, \"OBP\": 0.27, \"SLG\": 0.472, \"OPS\": 0.742, \"OPS+\": 104, \"TB\": 17, \"GDP\": 2, \"HBP\": 0, \"SH\": 0, \"SF\": 1, \"IBB\": 0}, {\"Rk\": 101, \"Name\": \"Jeimer\\u00a0Candelario#\", \"Age\": 29, \"Tm\": \"WSN\", \"Lg\": \"NL\", \"G\": 91, \"PA\": 386, \"AB\": 343, \"R\": 51, \"H\": 88, \"2B\": 27, \"3B\": 2, \"HR\": 15, \"RBI\": 47, \"SB\": 5, \"CS\": 1, \"BB\": 31, \"SO\": 81, \"BA\": 0.257, \"OBP\": 0.334, \"SLG\": 0.478, \"OPS\": 0.812, \"OPS+\": 126, \"TB\": 164, \"GDP\": 9, \"HBP\": 10, \"SH\": 0, \"SF\": 2, \"IBB\": 1}, {\"Rk\": 102, \"Name\": \"Mark\\u00a0Canha\", \"Age\": 34, \"Tm\": \"NYM\", \"Lg\": \"NL\", \"G\": 82, \"PA\": 277, \"AB\": 236, \"R\": 27, \"H\": 57, \"2B\": 14, \"3B\": 1, \"HR\": 6, \"RBI\": 28, \"SB\": 7, \"CS\": 0, \"BB\": 28, \"SO\": 48, \"BA\": 0.242, \"OBP\": 0.339, \"SLG\": 0.386, \"OPS\": 0.725, \"OPS+\": 102, \"TB\": 91, \"GDP\": 8, \"HBP\": 9, \"SH\": 0, \"SF\": 4, \"IBB\": 0}, {\"Rk\": 103, \"Name\": \"Yennier\\u00a0Cano\", \"Age\": 29, \"Tm\": \"BAL\", \"Lg\": \"AL\", \"G\": 1, \"PA\": 0, \"AB\": 0, \"R\": 0, \"H\": 0, \"2B\": 0, \"3B\": 0, \"HR\": 0, \"RBI\": 0, \"SB\": 0, \"CS\": 0, \"BB\": 0, \"SO\": 0, \"BA\": 0.0, \"OBP\": 0.0, \"SLG\": 0.0, \"OPS\": 0.0, \"OPS+\": 0, \"TB\": 0, \"GDP\": 0, \"HBP\": 0, \"SH\": 0, \"SF\": 0, \"IBB\": 0}, {\"Rk\": 104, \"Name\": \"Dominic\\u00a0Canzone*\", \"Age\": 25, \"Tm\": \"ARI\", \"Lg\": \"NL\", \"G\": 8, \"PA\": 18, \"AB\": 17, \"R\": 2, \"H\": 2, \"2B\": 0, \"3B\": 0, \"HR\": 1, \"RBI\": 4, \"SB\": 0, \"CS\": 0, \"BB\": 1, \"SO\": 6, \"BA\": 0.118, \"OBP\": 0.167, \"SLG\": 0.294, \"OPS\": 0.461, \"OPS+\": 24, \"TB\": 5, \"GDP\": 0, \"HBP\": 0, \"SH\": 0, \"SF\": 0, \"IBB\": 0}, {\"Rk\": 105, \"Name\": \"Conner\\u00a0Capel*\", \"Age\": 26, \"Tm\": \"OAK\", \"Lg\": \"AL\", \"G\": 32, \"PA\": 86, \"AB\": 73, \"R\": 6, \"H\": 19, \"2B\": 5, \"3B\": 0, \"HR\": 0, \"RBI\": 3, \"SB\": 5, \"CS\": 3, \"BB\": 12, \"SO\": 25, \"BA\": 0.26, \"OBP\": 0.372, \"SLG\": 0.329, \"OPS\": 0.701, \"OPS+\": 105, \"TB\": 24, \"GDP\": 1, \"HBP\": 1, \"SH\": 0, \"SF\": 0, \"IBB\": 0}, {\"Rk\": 106, \"Name\": \"Victor\\u00a0Caratini#\", \"Age\": 29, \"Tm\": \"MIL\", \"Lg\": \"NL\", \"G\": 38, \"PA\": 140, \"AB\": 121, \"R\": 14, \"H\": 29, \"2B\": 0, \"3B\": 0, \"HR\": 5, \"RBI\": 18, \"SB\": 1, \"CS\": 0, \"BB\": 15, \"SO\": 31, \"BA\": 0.24, \"OBP\": 0.336, \"SLG\": 0.364, \"OPS\": 0.699, \"OPS+\": 92, \"TB\": 44, \"GDP\": 5, \"HBP\": 3, \"SH\": 0, \"SF\": 1, \"IBB\": 0}, {\"Rk\": 107, \"Name\": \"Dylan\\u00a0Carlson#\", \"Age\": 24, \"Tm\": \"STL\", \"Lg\": \"NL\", \"G\": 62, \"PA\": 212, \"AB\": 181, \"R\": 25, \"H\": 42, \"2B\": 6, \"3B\": 1, \"HR\": 5, \"RBI\": 21, \"SB\": 3, \"CS\": 0, \"BB\": 23, \"SO\": 44, \"BA\": 0.232, \"OBP\": 0.34, \"SLG\": 0.359, \"OPS\": 0.699, \"OPS+\": 92, \"TB\": 65, \"GDP\": 3, \"HBP\": 7, \"SH\": 0, \"SF\": 1, \"IBB\": 0}, {\"Rk\": 108, \"Name\": \"Kerry\\u00a0Carpenter*\", \"Age\": 25, \"Tm\": \"DET\", \"Lg\": \"AL\", \"G\": 55, \"PA\": 199, \"AB\": 181, \"R\": 23, \"H\": 47, \"2B\": 8, \"3B\": 1, \"HR\": 11, \"RBI\": 29, \"SB\": 0, \"CS\": 0, \"BB\": 15, \"SO\": 47, \"BA\": 0.26, \"OBP\": 0.322, \"SLG\": 0.497, \"OPS\": 0.819, \"OPS+\": 125, \"TB\": 90, \"GDP\": 1, \"HBP\": 2, \"SH\": 0, \"SF\": 1, \"IBB\": 0}, {\"Rk\": 109, \"Name\": \"Matt\\u00a0Carpenter*\", \"Age\": 37, \"Tm\": \"SDP\", \"Lg\": \"NL\", \"G\": 64, \"PA\": 203, \"AB\": 166, \"R\": 15, \"H\": 28, \"2B\": 11, \"3B\": 0, \"HR\": 4, \"RBI\": 27, \"SB\": 1, \"CS\": 0, \"BB\": 31, \"SO\": 59, \"BA\": 0.169, \"OBP\": 0.297, \"SLG\": 0.307, \"OPS\": 0.604, \"OPS+\": 71, \"TB\": 51, \"GDP\": 2, \"HBP\": 1, \"SH\": 0, \"SF\": 4, \"IBB\": 0}, {\"Rk\": 110, \"Name\": \"Corbin\\u00a0Carroll*\", \"Age\": 22, \"Tm\": \"ARI\", \"Lg\": \"NL\", \"G\": 94, \"PA\": 384, \"AB\": 338, \"R\": 71, \"H\": 95, \"2B\": 20, \"3B\": 4, \"HR\": 20, \"RBI\": 52, \"SB\": 29, \"CS\": 3, \"BB\": 35, \"SO\": 77, \"BA\": 0.281, \"OBP\": 0.36, \"SLG\": 0.541, \"OPS\": 0.901, \"OPS+\": 145, \"TB\": 183, \"GDP\": 3, \"HBP\": 7, \"SH\": 3, \"SF\": 1, \"IBB\": 1}, {\"Rk\": 111, \"Name\": \"Curt\\u00a0Casali\", \"Age\": 34, \"Tm\": \"CIN\", \"Lg\": \"NL\", \"G\": 40, \"PA\": 96, \"AB\": 80, \"R\": 8, \"H\": 14, \"2B\": 2, \"3B\": 0, \"HR\": 0, \"RBI\": 6, \"SB\": 0, \"CS\": 0, \"BB\": 11, \"SO\": 23, \"BA\": 0.175, \"OBP\": 0.29, \"SLG\": 0.2, \"OPS\": 0.49, \"OPS+\": 34, \"TB\": 16, \"GDP\": 1, \"HBP\": 2, \"SH\": 3, \"SF\": 0, \"IBB\": 0}, {\"Rk\": 112, \"Name\": \"Triston\\u00a0Casas*\", \"Age\": 23, \"Tm\": \"BOS\", \"Lg\": \"AL\", \"G\": 86, \"PA\": 318, \"AB\": 271, \"R\": 42, \"H\": 66, \"2B\": 14, \"3B\": 2, \"HR\": 14, \"RBI\": 35, \"SB\": 0, \"CS\": 0, \"BB\": 45, \"SO\": 82, \"BA\": 0.244, \"OBP\": 0.349, \"SLG\": 0.465, \"OPS\": 0.814, \"OPS+\": 117, \"TB\": 126, \"GDP\": 6, \"HBP\": 0, \"SH\": 0, \"SF\": 2, \"IBB\": 0}, {\"Rk\": 113, \"Name\": \"Nick\\u00a0Castellanos\", \"Age\": 31, \"Tm\": \"PHI\", \"Lg\": \"NL\", \"G\": 96, \"PA\": 409, \"AB\": 381, \"R\": 52, \"H\": 108, \"2B\": 26, \"3B\": 1, \"HR\": 14, \"RBI\": 58, \"SB\": 6, \"CS\": 2, \"BB\": 24, \"SO\": 107, \"BA\": 0.283, \"OBP\": 0.325, \"SLG\": 0.467, \"OPS\": 0.792, \"OPS+\": 115, \"TB\": 178, \"GDP\": 6, \"HBP\": 1, \"SH\": 0, \"SF\": 3, \"IBB\": 0}, {\"Rk\": 114, \"Name\": \"Harold\\u00a0Castro*\", \"Age\": 29, \"Tm\": \"COL\", \"Lg\": \"NL\", \"G\": 72, \"PA\": 209, \"AB\": 200, \"R\": 19, \"H\": 53, \"2B\": 10, \"3B\": 0, \"HR\": 1, \"RBI\": 23, \"SB\": 0, \"CS\": 0, \"BB\": 6, \"SO\": 49, \"BA\": 0.265, \"OBP\": 0.284, \"SLG\": 0.33, \"OPS\": 0.614, \"OPS+\": 59, \"TB\": 66, \"GDP\": 4, \"HBP\": 0, \"SH\": 1, \"SF\": 2, \"IBB\": 0}, {\"Rk\": 115, \"Name\": \"Miguel\\u00a0Castro\", \"Age\": 28, \"Tm\": \"ARI\", \"Lg\": \"NL\", \"G\": 1, \"PA\": 0, \"AB\": 0, \"R\": 0, \"H\": 0, \"2B\": 0, \"3B\": 0, \"HR\": 0, \"RBI\": 0, \"SB\": 0, \"CS\": 0, \"BB\": 0, \"SO\": 0, \"BA\": 0.0, \"OBP\": 0.0, \"SLG\": 0.0, \"OPS\": 0.0, \"OPS+\": 0, \"TB\": 0, \"GDP\": 0, \"HBP\": 0, \"SH\": 0, \"SF\": 0, \"IBB\": 0}, {\"Rk\": 116, \"Name\": \"Rodolfo\\u00a0Castro#\", \"Age\": 24, \"Tm\": \"PIT\", \"Lg\": \"NL\", \"G\": 78, \"PA\": 224, \"AB\": 197, \"R\": 19, \"H\": 45, \"2B\": 7, \"3B\": 0, \"HR\": 6, \"RBI\": 22, \"SB\": 1, \"CS\": 4, \"BB\": 21, \"SO\": 62, \"BA\": 0.228, \"OBP\": 0.317, \"SLG\": 0.355, \"OPS\": 0.672, \"OPS+\": 84, \"TB\": 70, \"GDP\": 4, \"HBP\": 5, \"SH\": 0, \"SF\": 1, \"IBB\": 1}, {\"Rk\": 117, \"Name\": \"Willi\\u00a0Castro#\", \"Age\": 26, \"Tm\": \"MIN\", \"Lg\": \"AL\", \"G\": 83, \"PA\": 249, \"AB\": 222, \"R\": 35, \"H\": 54, \"2B\": 9, \"3B\": 1, \"HR\": 5, \"RBI\": 20, \"SB\": 22, \"CS\": 4, \"BB\": 17, \"SO\": 65, \"BA\": 0.243, \"OBP\": 0.319, \"SLG\": 0.36, \"OPS\": 0.679, \"OPS+\": 89, \"TB\": 80, \"GDP\": 1, \"HBP\": 8, \"SH\": 1, \"SF\": 1, \"IBB\": 0}, {\"Rk\": 118, \"Name\": \"Jake\\u00a0Cave*\", \"Age\": 30, \"Tm\": \"PHI\", \"Lg\": \"NL\", \"G\": 22, \"PA\": 75, \"AB\": 67, \"R\": 3, \"H\": 15, \"2B\": 4, \"3B\": 0, \"HR\": 1, \"RBI\": 9, \"SB\": 3, \"CS\": 0, \"BB\": 7, \"SO\": 17, \"BA\": 0.224, \"OBP\": 0.293, \"SLG\": 0.328, \"OPS\": 0.622, \"OPS+\": 71, \"TB\": 22, \"GDP\": 2, \"HBP\": 0, \"SH\": 0, \"SF\": 1, \"IBB\": 0}, {\"Rk\": 119, \"Name\": \"Andrew\\u00a0Chafin\", \"Age\": 33, \"Tm\": \"ARI\", \"Lg\": \"NL\", \"G\": 3, \"PA\": 0, \"AB\": 0, \"R\": 0, \"H\": 0, \"2B\": 0, \"3B\": 0, \"HR\": 0, \"RBI\": 0, \"SB\": 0, \"CS\": 0, \"BB\": 0, \"SO\": 0, \"BA\": 0.0, \"OBP\": 0.0, \"SLG\": 0.0, \"OPS\": 0.0, \"OPS+\": 0, \"TB\": 0, \"GDP\": 0, \"HBP\": 0, \"SH\": 0, \"SF\": 0, \"IBB\": 0}, {\"Rk\": 120, \"Name\": \"Yu\\u00a0Chang\", \"Age\": 27, \"Tm\": \"BOS\", \"Lg\": \"AL\", \"G\": 27, \"PA\": 77, \"AB\": 73, \"R\": 9, \"H\": 12, \"2B\": 2, \"3B\": 0, \"HR\": 5, \"RBI\": 15, \"SB\": 1, \"CS\": 0, \"BB\": 2, \"SO\": 23, \"BA\": 0.164, \"OBP\": 0.197, \"SLG\": 0.397, \"OPS\": 0.595, \"OPS+\": 54, \"TB\": 29, \"GDP\": 2, \"HBP\": 1, \"SH\": 1, \"SF\": 0, \"IBB\": 0}, {\"Rk\": 121, \"Name\": \"Aroldis\\u00a0Chapman*\", \"Age\": 35, \"Tm\": \"TOT\", \"Lg\": \"AL\", \"G\": 1, \"PA\": 0, \"AB\": 0, \"R\": 0, \"H\": 0, \"2B\": 0, \"3B\": 0, \"HR\": 0, \"RBI\": 0, \"SB\": 0, \"CS\": 0, \"BB\": 0, \"SO\": 0, \"BA\": 0.0, \"OBP\": 0.0, \"SLG\": 0.0, \"OPS\": 0.0, \"OPS+\": 0, \"TB\": 0, \"GDP\": 0, \"HBP\": 0, \"SH\": 0, \"SF\": 0, \"IBB\": 0}, {\"Rk\": 122, \"Name\": \"Aroldis\\u00a0Chapman*\", \"Age\": 35, \"Tm\": \"KCR\", \"Lg\": \"AL\", \"G\": 1, \"PA\": 0, \"AB\": 0, \"R\": 0, \"H\": 0, \"2B\": 0, \"3B\": 0, \"HR\": 0, \"RBI\": 0, \"SB\": 0, \"CS\": 0, \"BB\": 0, \"SO\": 0, \"BA\": 0.0, \"OBP\": 0.0, \"SLG\": 0.0, \"OPS\": 0.0, \"OPS+\": 0, \"TB\": 0, \"GDP\": 0, \"HBP\": 0, \"SH\": 0, \"SF\": 0, \"IBB\": 0}, {\"Rk\": 123, \"Name\": \"Matt\\u00a0Chapman\", \"Age\": 30, \"Tm\": \"TOR\", \"Lg\": \"AL\", \"G\": 96, \"PA\": 402, \"AB\": 351, \"R\": 52, \"H\": 92, \"2B\": 30, \"3B\": 1, \"HR\": 12, \"RBI\": 42, \"SB\": 3, \"CS\": 2, \"BB\": 45, \"SO\": 109, \"BA\": 0.262, \"OBP\": 0.351, \"SLG\": 0.456, \"OPS\": 0.807, \"OPS+\": 125, \"TB\": 160, \"GDP\": 3, \"HBP\": 4, \"SH\": 0, \"SF\": 2, \"IBB\": 1}, {\"Rk\": 124, \"Name\": \"Michael\\u00a0Chavis\", \"Age\": 27, \"Tm\": \"WSN\", \"Lg\": \"NL\", \"G\": 27, \"PA\": 56, \"AB\": 53, \"R\": 8, \"H\": 14, \"2B\": 2, \"3B\": 0, \"HR\": 1, \"RBI\": 4, \"SB\": 0, \"CS\": 0, \"BB\": 3, \"SO\": 18, \"BA\": 0.264, \"OBP\": 0.304, \"SLG\": 0.358, \"OPS\": 0.662, \"OPS+\": 86, \"TB\": 19, \"GDP\": 1, \"HBP\": 0, \"SH\": 0, \"SF\": 0, \"IBB\": 0}, {\"Rk\": 125, \"Name\": \"Jazz\\u00a0Chisholm\\u00a0Jr.*\", \"Age\": 25, \"Tm\": \"MIA\", \"Lg\": \"NL\", \"G\": 45, \"PA\": 183, \"AB\": 167, \"R\": 20, \"H\": 41, \"2B\": 4, \"3B\": 1, \"HR\": 9, \"RBI\": 21, \"SB\": 14, \"CS\": 2, \"BB\": 12, \"SO\": 57, \"BA\": 0.246, \"OBP\": 0.302, \"SLG\": 0.443, \"OPS\": 0.745, \"OPS+\": 102, \"TB\": 74, \"GDP\": 1, \"HBP\": 2, \"SH\": 1, \"SF\": 1, \"IBB\": 0}, {\"Rk\": 126, \"Name\": \"Ji\\u00a0Man\\u00a0Choi*\", \"Age\": 32, \"Tm\": \"PIT\", \"Lg\": \"NL\", \"G\": 18, \"PA\": 62, \"AB\": 59, \"R\": 7, \"H\": 11, \"2B\": 2, \"3B\": 0, \"HR\": 5, \"RBI\": 9, \"SB\": 0, \"CS\": 0, \"BB\": 2, \"SO\": 22, \"BA\": 0.186, \"OBP\": 0.21, \"SLG\": 0.475, \"OPS\": 0.684, \"OPS+\": 79, \"TB\": 28, \"GDP\": 1, \"HBP\": 0, \"SH\": 0, \"SF\": 1, \"IBB\": 0}, {\"Rk\": 127, \"Name\": \"Kody\\u00a0Clemens*\", \"Age\": 27, \"Tm\": \"PHI\", \"Lg\": \"NL\", \"G\": 47, \"PA\": 148, \"AB\": 139, \"R\": 15, \"H\": 32, \"2B\": 7, \"3B\": 0, \"HR\": 4, \"RBI\": 13, \"SB\": 0, \"CS\": 0, \"BB\": 8, \"SO\": 40, \"BA\": 0.23, \"OBP\": 0.277, \"SLG\": 0.367, \"OPS\": 0.644, \"OPS+\": 76, \"TB\": 51, \"GDP\": 1, \"HBP\": 1, \"SH\": 0, \"SF\": 0, \"IBB\": 0}, {\"Rk\": 128, \"Name\": \"Ernie\\u00a0Clement\", \"Age\": 27, \"Tm\": \"TOR\", \"Lg\": \"AL\", \"G\": 11, \"PA\": 9, \"AB\": 7, \"R\": 3, \"H\": 3, \"2B\": 0, \"3B\": 0, \"HR\": 0, \"RBI\": 2, \"SB\": 1, \"CS\": 0, \"BB\": 1, \"SO\": 1, \"BA\": 0.429, \"OBP\": 0.444, \"SLG\": 0.429, \"OPS\": 0.873, \"OPS+\": 148, \"TB\": 3, \"GDP\": 0, \"HBP\": 0, \"SH\": 0, \"SF\": 1, \"IBB\": 0}, {\"Rk\": 129, \"Name\": \"Oscar\\u00a0Col\\u00e1s*\", \"Age\": 24, \"Tm\": \"CHW\", \"Lg\": \"AL\", \"G\": 37, \"PA\": 123, \"AB\": 114, \"R\": 12, \"H\": 23, \"2B\": 4, \"3B\": 0, \"HR\": 1, \"RBI\": 9, \"SB\": 2, \"CS\": 2, \"BB\": 5, \"SO\": 34, \"BA\": 0.202, \"OBP\": 0.238, \"SLG\": 0.263, \"OPS\": 0.501, \"OPS+\": 39, \"TB\": 30, \"GDP\": 1, \"HBP\": 1, \"SH\": 1, \"SF\": 2, \"IBB\": 0}, {\"Rk\": 130, \"Name\": \"Michael\\u00a0Conforto*\", \"Age\": 30, \"Tm\": \"SFG\", \"Lg\": \"NL\", \"G\": 85, \"PA\": 335, \"AB\": 291, \"R\": 43, \"H\": 70, \"2B\": 9, \"3B\": 0, \"HR\": 13, \"RBI\": 51, \"SB\": 4, \"CS\": 0, \"BB\": 36, \"SO\": 78, \"BA\": 0.241, \"OBP\": 0.331, \"SLG\": 0.405, \"OPS\": 0.737, \"OPS+\": 102, \"TB\": 118, \"GDP\": 8, \"HBP\": 5, \"SH\": 0, \"SF\": 3, \"IBB\": 1}, {\"Rk\": 131, \"Name\": \"William\\u00a0Contreras\", \"Age\": 25, \"Tm\": \"MIL\", \"Lg\": \"NL\", \"G\": 79, \"PA\": 329, \"AB\": 293, \"R\": 42, \"H\": 80, \"2B\": 18, \"3B\": 1, \"HR\": 10, \"RBI\": 37, \"SB\": 1, \"CS\": 0, \"BB\": 31, \"SO\": 65, \"BA\": 0.273, \"OBP\": 0.35, \"SLG\": 0.444, \"OPS\": 0.793, \"OPS+\": 116, \"TB\": 130, \"GDP\": 12, \"HBP\": 4, \"SH\": 0, \"SF\": 1, \"IBB\": 0}, {\"Rk\": 132, \"Name\": \"Willson\\u00a0Contreras\", \"Age\": 31, \"Tm\": \"STL\", \"Lg\": \"NL\", \"G\": 85, \"PA\": 345, \"AB\": 299, \"R\": 36, \"H\": 73, \"2B\": 22, \"3B\": 0, \"HR\": 11, \"RBI\": 40, \"SB\": 5, \"CS\": 2, \"BB\": 34, \"SO\": 79, \"BA\": 0.244, \"OBP\": 0.339, \"SLG\": 0.428, \"OPS\": 0.767, \"OPS+\": 109, \"TB\": 128, \"GDP\": 11, \"HBP\": 10, \"SH\": 0, \"SF\": 2, \"IBB\": 0}, {\"Rk\": 133, \"Name\": \"Garrett\\u00a0Cooper\", \"Age\": 32, \"Tm\": \"MIA\", \"Lg\": \"NL\", \"G\": 77, \"PA\": 308, \"AB\": 290, \"R\": 27, \"H\": 76, \"2B\": 11, \"3B\": 1, \"HR\": 12, \"RBI\": 44, \"SB\": 0, \"CS\": 0, \"BB\": 16, \"SO\": 90, \"BA\": 0.262, \"OBP\": 0.302, \"SLG\": 0.431, \"OPS\": 0.733, \"OPS+\": 99, \"TB\": 125, \"GDP\": 9, \"HBP\": 1, \"SH\": 0, \"SF\": 1, \"IBB\": 0}, {\"Rk\": 134, \"Name\": \"Franchy\\u00a0Cordero*\", \"Age\": 28, \"Tm\": \"NYY\", \"Lg\": \"AL\", \"G\": 24, \"PA\": 71, \"AB\": 69, \"R\": 9, \"H\": 13, \"2B\": 2, \"3B\": 0, \"HR\": 6, \"RBI\": 13, \"SB\": 0, \"CS\": 0, \"BB\": 2, \"SO\": 25, \"BA\": 0.188, \"OBP\": 0.211, \"SLG\": 0.478, \"OPS\": 0.69, \"OPS+\": 84, \"TB\": 33, \"GDP\": 0, \"HBP\": 0, \"SH\": 0, \"SF\": 0, \"IBB\": 0}, {\"Rk\": 135, \"Name\": \"Carlos\\u00a0Correa\", \"Age\": 28, \"Tm\": \"MIN\", \"Lg\": \"AL\", \"G\": 88, \"PA\": 380, \"AB\": 341, \"R\": 37, \"H\": 79, \"2B\": 21, \"3B\": 2, \"HR\": 12, \"RBI\": 43, \"SB\": 0, \"CS\": 0, \"BB\": 36, \"SO\": 85, \"BA\": 0.232, \"OBP\": 0.308, \"SLG\": 0.411, \"OPS\": 0.718, \"OPS+\": 97, \"TB\": 140, \"GDP\": 19, \"HBP\": 2, \"SH\": 0, \"SF\": 1, \"IBB\": 1}, {\"Rk\": 136, \"Name\": \"Danny\\u00a0Coulombe*\", \"Age\": 33, \"Tm\": \"BAL\", \"Lg\": \"AL\", \"G\": 2, \"PA\": 0, \"AB\": 0, \"R\": 0, \"H\": 0, \"2B\": 0, \"3B\": 0, \"HR\": 0, \"RBI\": 0, \"SB\": 0, \"CS\": 0, \"BB\": 0, \"SO\": 0, \"BA\": 0.0, \"OBP\": 0.0, \"SLG\": 0.0, \"OPS\": 0.0, \"OPS+\": 0, \"TB\": 0, \"GDP\": 0, \"HBP\": 0, \"SH\": 0, \"SF\": 0, \"IBB\": 0}, {\"Rk\": 137, \"Name\": \"Colton\\u00a0Cowser*\", \"Age\": 23, \"Tm\": \"BAL\", \"Lg\": \"AL\", \"G\": 13, \"PA\": 42, \"AB\": 32, \"R\": 9, \"H\": 4, \"2B\": 0, \"3B\": 0, \"HR\": 0, \"RBI\": 3, \"SB\": 0, \"CS\": 0, \"BB\": 7, \"SO\": 7, \"BA\": 0.125, \"OBP\": 0.31, \"SLG\": 0.125, \"OPS\": 0.435, \"OPS+\": 30, \"TB\": 4, \"GDP\": 1, \"HBP\": 2, \"SH\": 0, \"SF\": 1, \"IBB\": 0}, {\"Rk\": 138, \"Name\": \"Brandon\\u00a0Crawford*\", \"Age\": 36, \"Tm\": \"SFG\", \"Lg\": \"NL\", \"G\": 64, \"PA\": 222, \"AB\": 198, \"R\": 22, \"H\": 41, \"2B\": 10, \"3B\": 0, \"HR\": 5, \"RBI\": 26, \"SB\": 3, \"CS\": 0, \"BB\": 20, \"SO\": 57, \"BA\": 0.207, \"OBP\": 0.285, \"SLG\": 0.333, \"OPS\": 0.618, \"OPS+\": 70, \"TB\": 66, \"GDP\": 5, \"HBP\": 2, \"SH\": 1, \"SF\": 1, \"IBB\": 1}, {\"Rk\": 139, \"Name\": \"J.P.\\u00a0Crawford*\", \"Age\": 28, \"Tm\": \"SEA\", \"Lg\": \"AL\", \"G\": 92, \"PA\": 388, \"AB\": 329, \"R\": 51, \"H\": 86, \"2B\": 21, \"3B\": 0, \"HR\": 8, \"RBI\": 35, \"SB\": 1, \"CS\": 0, \"BB\": 55, \"SO\": 74, \"BA\": 0.261, \"OBP\": 0.368, \"SLG\": 0.398, \"OPS\": 0.766, \"OPS+\": 118, \"TB\": 131, \"GDP\": 5, \"HBP\": 1, \"SH\": 2, \"SF\": 1, \"IBB\": 1}, {\"Rk\": 140, \"Name\": \"Kutter\\u00a0Crawford\", \"Age\": 27, \"Tm\": \"BOS\", \"Lg\": \"AL\", \"G\": 1, \"PA\": 0, \"AB\": 0, \"R\": 1, \"H\": 0, \"2B\": 0, \"3B\": 0, \"HR\": 0, \"RBI\": 0, \"SB\": 0, \"CS\": 0, \"BB\": 0, \"SO\": 0, \"BA\": 0.0, \"OBP\": 0.0, \"SLG\": 0.0, \"OPS\": 0.0, \"OPS+\": 0, \"TB\": 0, \"GDP\": 0, \"HBP\": 0, \"SH\": 0, \"SF\": 0, \"IBB\": 0}, {\"Rk\": 141, \"Name\": \"C.J.\\u00a0Cron\", \"Age\": 33, \"Tm\": \"COL\", \"Lg\": \"NL\", \"G\": 53, \"PA\": 211, \"AB\": 196, \"R\": 31, \"H\": 50, \"2B\": 11, \"3B\": 0, \"HR\": 11, \"RBI\": 31, \"SB\": 0, \"CS\": 0, \"BB\": 12, \"SO\": 45, \"BA\": 0.255, \"OBP\": 0.299, \"SLG\": 0.48, \"OPS\": 0.778, \"OPS+\": 97, \"TB\": 94, \"GDP\": 10, \"HBP\": 1, \"SH\": 0, \"SF\": 2, \"IBB\": 0}, {\"Rk\": 142, \"Name\": \"Jake\\u00a0Cronenworth*\", \"Age\": 29, \"Tm\": \"SDP\", \"Lg\": \"NL\", \"G\": 97, \"PA\": 404, \"AB\": 347, \"R\": 40, \"H\": 73, \"2B\": 15, \"3B\": 6, \"HR\": 8, \"RBI\": 38, \"SB\": 4, \"CS\": 1, \"BB\": 42, \"SO\": 79, \"BA\": 0.21, \"OBP\": 0.306, \"SLG\": 0.357, \"OPS\": 0.663, \"OPS+\": 86, \"TB\": 124, \"GDP\": 8, \"HBP\": 8, \"SH\": 1, \"SF\": 5, \"IBB\": 2}, {\"Rk\": 143, \"Name\": \"Nelson\\u00a0Cruz\", \"Age\": 42, \"Tm\": \"SDP\", \"Lg\": \"NL\", \"G\": 49, \"PA\": 152, \"AB\": 143, \"R\": 9, \"H\": 35, \"2B\": 5, \"3B\": 1, \"HR\": 5, \"RBI\": 23, \"SB\": 1, \"CS\": 0, \"BB\": 6, \"SO\": 46, \"BA\": 0.245, \"OBP\": 0.283, \"SLG\": 0.399, \"OPS\": 0.681, \"OPS+\": 89, \"TB\": 57, \"GDP\": 2, \"HBP\": 2, \"SH\": 0, \"SF\": 1, \"IBB\": 1}, {\"Rk\": 144, \"Name\": \"Oneil\\u00a0Cruz*\", \"Age\": 24, \"Tm\": \"PIT\", \"Lg\": \"NL\", \"G\": 9, \"PA\": 40, \"AB\": 32, \"R\": 7, \"H\": 8, \"2B\": 1, \"3B\": 0, \"HR\": 1, \"RBI\": 4, \"SB\": 3, \"CS\": 0, \"BB\": 7, \"SO\": 8, \"BA\": 0.25, \"OBP\": 0.375, \"SLG\": 0.375, \"OPS\": 0.75, \"OPS+\": 106, \"TB\": 12, \"GDP\": 0, \"HBP\": 0, \"SH\": 0, \"SF\": 1, \"IBB\": 0}, {\"Rk\": 145, \"Name\": \"Charlie\\u00a0Culberson\", \"Age\": 34, \"Tm\": \"ATL\", \"Lg\": \"NL\", \"G\": 1, \"PA\": 1, \"AB\": 1, \"R\": 0, \"H\": 1, \"2B\": 0, \"3B\": 0, \"HR\": 0, \"RBI\": 0, \"SB\": 0, \"CS\": 0, \"BB\": 0, \"SO\": 0, \"BA\": 1.0, \"OBP\": 1.0, \"SLG\": 1.0, \"OPS\": 2.0, \"OPS+\": 439, \"TB\": 1, \"GDP\": 0, \"HBP\": 0, \"SH\": 0, \"SF\": 0, \"IBB\": 0}, {\"Rk\": 146, \"Name\": \"Travis\\u00a0d'Arnaud\", \"Age\": 34, \"Tm\": \"ATL\", \"Lg\": \"NL\", \"G\": 39, \"PA\": 155, \"AB\": 140, \"R\": 19, \"H\": 36, \"2B\": 5, \"3B\": 0, \"HR\": 8, \"RBI\": 23, \"SB\": 0, \"CS\": 0, \"BB\": 14, \"SO\": 36, \"BA\": 0.257, \"OBP\": 0.329, \"SLG\": 0.464, \"OPS\": 0.793, \"OPS+\": 109, \"TB\": 65, \"GDP\": 2, \"HBP\": 1, \"SH\": 0, \"SF\": 0, \"IBB\": 0}, {\"Rk\": 147, \"Name\": \"David\\u00a0Dahl*\", \"Age\": 29, \"Tm\": \"SDP\", \"Lg\": \"NL\", \"G\": 4, \"PA\": 9, \"AB\": 9, \"R\": 1, \"H\": 1, \"2B\": 0, \"3B\": 0, \"HR\": 1, \"RBI\": 1, \"SB\": 0, \"CS\": 0, \"BB\": 0, \"SO\": 2, \"BA\": 0.111, \"OBP\": 0.111, \"SLG\": 0.444, \"OPS\": 0.556, \"OPS+\": 46, \"TB\": 4, \"GDP\": 0, \"HBP\": 0, \"SH\": 0, \"SF\": 0, \"IBB\": 0}, {\"Rk\": 148, \"Name\": \"Bobby\\u00a0Dalbec\", \"Age\": 28, \"Tm\": \"BOS\", \"Lg\": \"AL\", \"G\": 10, \"PA\": 14, \"AB\": 12, \"R\": 1, \"H\": 2, \"2B\": 0, \"3B\": 0, \"HR\": 0, \"RBI\": 0, \"SB\": 1, \"CS\": 0, \"BB\": 2, \"SO\": 8, \"BA\": 0.167, \"OBP\": 0.286, \"SLG\": 0.167, \"OPS\": 0.452, \"OPS+\": 27, \"TB\": 2, \"GDP\": 0, \"HBP\": 0, \"SH\": 0, \"SF\": 0, \"IBB\": 0}, {\"Rk\": 149, \"Name\": \"Henry\\u00a0Davis\", \"Age\": 23, \"Tm\": \"PIT\", \"Lg\": \"NL\", \"G\": 28, \"PA\": 114, \"AB\": 98, \"R\": 16, \"H\": 28, \"2B\": 4, \"3B\": 0, \"HR\": 4, \"RBI\": 11, \"SB\": 3, \"CS\": 2, \"BB\": 13, \"SO\": 21, \"BA\": 0.286, \"OBP\": 0.386, \"SLG\": 0.449, \"OPS\": 0.835, \"OPS+\": 128, \"TB\": 44, \"GDP\": 2, \"HBP\": 3, \"SH\": 0, \"SF\": 0, \"IBB\": 1}, {\"Rk\": 150, \"Name\": \"J.D.\\u00a0Davis\", \"Age\": 30, \"Tm\": \"SFG\", \"Lg\": \"NL\", \"G\": 91, \"PA\": 350, \"AB\": 305, \"R\": 40, \"H\": 81, \"2B\": 14, \"3B\": 1, \"HR\": 12, \"RBI\": 49, \"SB\": 1, \"CS\": 0, \"BB\": 35, \"SO\": 97, \"BA\": 0.266, \"OBP\": 0.344, \"SLG\": 0.436, \"OPS\": 0.78, \"OPS+\": 113, \"TB\": 133, \"GDP\": 11, \"HBP\": 4, \"SH\": 0, \"SF\": 5, \"IBB\": 0}, {\"Rk\": 151, \"Name\": \"Jonathan\\u00a0Davis\", \"Age\": 31, \"Tm\": \"MIA\", \"Lg\": \"NL\", \"G\": 34, \"PA\": 104, \"AB\": 90, \"R\": 22, \"H\": 22, \"2B\": 4, \"3B\": 1, \"HR\": 2, \"RBI\": 10, \"SB\": 1, \"CS\": 2, \"BB\": 7, \"SO\": 29, \"BA\": 0.244, \"OBP\": 0.307, \"SLG\": 0.378, \"OPS\": 0.685, \"OPS+\": 88, \"TB\": 34, \"GDP\": 1, \"HBP\": 2, \"SH\": 2, \"SF\": 2, \"IBB\": 0}, {\"Rk\": 152, \"Name\": \"Yonathan\\u00a0Daza\", \"Age\": 29, \"Tm\": \"COL\", \"Lg\": \"NL\", \"G\": 24, \"PA\": 80, \"AB\": 74, \"R\": 8, \"H\": 20, \"2B\": 6, \"3B\": 0, \"HR\": 0, \"RBI\": 7, \"SB\": 1, \"CS\": 0, \"BB\": 3, \"SO\": 13, \"BA\": 0.27, \"OBP\": 0.304, \"SLG\": 0.351, \"OPS\": 0.655, \"OPS+\": 70, \"TB\": 26, \"GDP\": 5, \"HBP\": 1, \"SH\": 1, \"SF\": 1, \"IBB\": 0}, {\"Rk\": 153, \"Name\": \"Bryan\\u00a0De\\u00a0La\\u00a0Cruz\", \"Age\": 26, \"Tm\": \"MIA\", \"Lg\": \"NL\", \"G\": 96, \"PA\": 397, \"AB\": 365, \"R\": 43, \"H\": 101, \"2B\": 21, \"3B\": 0, \"HR\": 12, \"RBI\": 53, \"SB\": 3, \"CS\": 1, \"BB\": 27, \"SO\": 94, \"BA\": 0.277, \"OBP\": 0.322, \"SLG\": 0.433, \"OPS\": 0.755, \"OPS+\": 106, \"TB\": 158, \"GDP\": 12, \"HBP\": 0, \"SH\": 0, \"SF\": 5, \"IBB\": 0}, {\"Rk\": 154, \"Name\": \"Elly\\u00a0De\\u00a0La\\u00a0Cruz#\", \"Age\": 21, \"Tm\": \"CIN\", \"Lg\": \"NL\", \"G\": 39, \"PA\": 170, \"AB\": 157, \"R\": 31, \"H\": 43, \"2B\": 9, \"3B\": 2, \"HR\": 4, \"RBI\": 16, \"SB\": 17, \"CS\": 4, \"BB\": 11, \"SO\": 54, \"BA\": 0.274, \"OBP\": 0.324, \"SLG\": 0.433, \"OPS\": 0.757, \"OPS+\": 99, \"TB\": 68, \"GDP\": 4, \"HBP\": 1, \"SH\": 0, \"SF\": 1, \"IBB\": 1}, {\"Rk\": 155, \"Name\": \"Paul\\u00a0DeJong\", \"Age\": 29, \"Tm\": \"STL\", \"Lg\": \"NL\", \"G\": 73, \"PA\": 281, \"AB\": 256, \"R\": 35, \"H\": 60, \"2B\": 10, \"3B\": 0, \"HR\": 13, \"RBI\": 32, \"SB\": 4, \"CS\": 4, \"BB\": 19, \"SO\": 83, \"BA\": 0.234, \"OBP\": 0.299, \"SLG\": 0.426, \"OPS\": 0.725, \"OPS+\": 96, \"TB\": 109, \"GDP\": 8, \"HBP\": 5, \"SH\": 0, \"SF\": 1, \"IBB\": 0}, {\"Rk\": 156, \"Name\": \"Jason\\u00a0Delay\", \"Age\": 28, \"Tm\": \"PIT\", \"Lg\": \"NL\", \"G\": 50, \"PA\": 118, \"AB\": 104, \"R\": 11, \"H\": 27, \"2B\": 7, \"3B\": 1, \"HR\": 1, \"RBI\": 10, \"SB\": 0, \"CS\": 0, \"BB\": 9, \"SO\": 30, \"BA\": 0.26, \"OBP\": 0.328, \"SLG\": 0.375, \"OPS\": 0.703, \"OPS+\": 92, \"TB\": 39, \"GDP\": 3, \"HBP\": 2, \"SH\": 2, \"SF\": 1, \"IBB\": 0}, {\"Rk\": 157, \"Name\": \"Jonny\\u00a0Deluca\", \"Age\": 24, \"Tm\": \"LAD\", \"Lg\": \"NL\", \"G\": 22, \"PA\": 39, \"AB\": 36, \"R\": 5, \"H\": 9, \"2B\": 1, \"3B\": 0, \"HR\": 2, \"RBI\": 6, \"SB\": 1, \"CS\": 0, \"BB\": 3, \"SO\": 7, \"BA\": 0.25, \"OBP\": 0.308, \"SLG\": 0.444, \"OPS\": 0.752, \"OPS+\": 99, \"TB\": 16, \"GDP\": 0, \"HBP\": 0, \"SH\": 0, \"SF\": 0, \"IBB\": 0}, {\"Rk\": 158, \"Name\": \"Rafael\\u00a0Devers*\", \"Age\": 26, \"Tm\": \"BOS\", \"Lg\": \"AL\", \"G\": 93, \"PA\": 400, \"AB\": 359, \"R\": 54, \"H\": 94, \"2B\": 22, \"3B\": 0, \"HR\": 23, \"RBI\": 73, \"SB\": 2, \"CS\": 1, \"BB\": 33, \"SO\": 80, \"BA\": 0.262, \"OBP\": 0.33, \"SLG\": 0.515, \"OPS\": 0.845, \"OPS+\": 123, \"TB\": 185, \"GDP\": 8, \"HBP\": 5, \"SH\": 0, \"SF\": 3, \"IBB\": 4}, {\"Rk\": 159, \"Name\": \"Aledmys\\u00a0D\\u00edaz\", \"Age\": 32, \"Tm\": \"OAK\", \"Lg\": \"AL\", \"G\": 72, \"PA\": 239, \"AB\": 219, \"R\": 16, \"H\": 46, \"2B\": 11, \"3B\": 0, \"HR\": 2, \"RBI\": 16, \"SB\": 1, \"CS\": 0, \"BB\": 11, \"SO\": 46, \"BA\": 0.21, \"OBP\": 0.261, \"SLG\": 0.288, \"OPS\": 0.548, \"OPS+\": 58, \"TB\": 63, \"GDP\": 10, \"HBP\": 5, \"SH\": 1, \"SF\": 3, \"IBB\": 1}, {\"Rk\": 160, \"Name\": \"Alexis\\u00a0D\\u00edaz\", \"Age\": 26, \"Tm\": \"CIN\", \"Lg\": \"NL\", \"G\": 2, \"PA\": 0, \"AB\": 0, \"R\": 0, \"H\": 0, \"2B\": 0, \"3B\": 0, \"HR\": 0, \"RBI\": 0, \"SB\": 0, \"CS\": 0, \"BB\": 0, \"SO\": 0, \"BA\": 0.0, \"OBP\": 0.0, \"SLG\": 0.0, \"OPS\": 0.0, \"OPS+\": 0, \"TB\": 0, \"GDP\": 0, \"HBP\": 0, \"SH\": 0, \"SF\": 0, \"IBB\": 0}, {\"Rk\": 161, \"Name\": \"Elias\\u00a0D\\u00edaz\", \"Age\": 32, \"Tm\": \"COL\", \"Lg\": \"NL\", \"G\": 87, \"PA\": 329, \"AB\": 299, \"R\": 29, \"H\": 81, \"2B\": 15, \"3B\": 1, \"HR\": 10, \"RBI\": 46, \"SB\": 0, \"CS\": 0, \"BB\": 24, \"SO\": 70, \"BA\": 0.271, \"OBP\": 0.325, \"SLG\": 0.428, \"OPS\": 0.753, \"OPS+\": 94, \"TB\": 128, \"GDP\": 8, \"HBP\": 2, \"SH\": 0, \"SF\": 4, \"IBB\": 0}, {\"Rk\": 162, \"Name\": \"Isan\\u00a0D\\u00edaz*\", \"Age\": 27, \"Tm\": \"SFG\", \"Lg\": \"NL\", \"G\": 2, \"PA\": 8, \"AB\": 8, \"R\": 0, \"H\": 0, \"2B\": 0, \"3B\": 0, \"HR\": 0, \"RBI\": 0, \"SB\": 0, \"CS\": 0, \"BB\": 0, \"SO\": 4, \"BA\": 0.0, \"OBP\": 0.0, \"SLG\": 0.0, \"OPS\": 0.0, \"OPS+\": -100, \"TB\": 0, \"GDP\": 0, \"HBP\": 0, \"SH\": 0, \"SF\": 0, \"IBB\": 0}, {\"Rk\": 163, \"Name\": \"Jordan\\u00a0Diaz\", \"Age\": 22, \"Tm\": \"OAK\", \"Lg\": \"AL\", \"G\": 39, \"PA\": 123, \"AB\": 115, \"R\": 10, \"H\": 28, \"2B\": 2, \"3B\": 0, \"HR\": 6, \"RBI\": 14, \"SB\": 0, \"CS\": 1, \"BB\": 5, \"SO\": 28, \"BA\": 0.243, \"OBP\": 0.285, \"SLG\": 0.417, \"OPS\": 0.702, \"OPS+\": 99, \"TB\": 48, \"GDP\": 3, \"HBP\": 2, \"SH\": 0, \"SF\": 1, \"IBB\": 0}, {\"Rk\": 164, \"Name\": \"Yainer\\u00a0Diaz\", \"Age\": 24, \"Tm\": \"HOU\", \"Lg\": \"AL\", \"G\": 57, \"PA\": 206, \"AB\": 195, \"R\": 23, \"H\": 51, \"2B\": 12, \"3B\": 0, \"HR\": 10, \"RBI\": 23, \"SB\": 0, \"CS\": 0, \"BB\": 6, \"SO\": 40, \"BA\": 0.262, \"OBP\": 0.282, \"SLG\": 0.477, \"OPS\": 0.758, \"OPS+\": 106, \"TB\": 93, \"GDP\": 9, \"HBP\": 1, \"SH\": 0, \"SF\": 4, \"IBB\": 0}, {\"Rk\": 165, \"Name\": \"Yandy\\u00a0D\\u00edaz\", \"Age\": 31, \"Tm\": \"TBR\", \"Lg\": \"AL\", \"G\": 84, \"PA\": 367, \"AB\": 320, \"R\": 59, \"H\": 101, \"2B\": 19, \"3B\": 0, \"HR\": 13, \"RBI\": 45, \"SB\": 0, \"CS\": 1, \"BB\": 42, \"SO\": 62, \"BA\": 0.316, \"OBP\": 0.401, \"SLG\": 0.497, \"OPS\": 0.897, \"OPS+\": 151, \"TB\": 159, \"GDP\": 11, \"HBP\": 4, \"SH\": 0, \"SF\": 1, \"IBB\": 0}, {\"Rk\": 166, \"Name\": \"Corey\\u00a0Dickerson*\", \"Age\": 34, \"Tm\": \"WSN\", \"Lg\": \"NL\", \"G\": 42, \"PA\": 132, \"AB\": 125, \"R\": 8, \"H\": 31, \"2B\": 6, \"3B\": 0, \"HR\": 2, \"RBI\": 17, \"SB\": 0, \"CS\": 1, \"BB\": 6, \"SO\": 24, \"BA\": 0.248, \"OBP\": 0.28, \"SLG\": 0.344, \"OPS\": 0.624, \"OPS+\": 75, \"TB\": 43, \"GDP\": 3, \"HBP\": 0, \"SH\": 0, \"SF\": 1, \"IBB\": 0}, {\"Rk\": 167, \"Name\": \"Brandon\\u00a0Dixon\", \"Age\": 31, \"Tm\": \"SDP\", \"Lg\": \"NL\", \"G\": 33, \"PA\": 86, \"AB\": 79, \"R\": 10, \"H\": 16, \"2B\": 4, \"3B\": 0, \"HR\": 2, \"RBI\": 9, \"SB\": 1, \"CS\": 0, \"BB\": 1, \"SO\": 31, \"BA\": 0.203, \"OBP\": 0.244, \"SLG\": 0.329, \"OPS\": 0.573, \"OPS+\": 60, \"TB\": 26, \"GDP\": 1, \"HBP\": 4, \"SH\": 0, \"SF\": 2, \"IBB\": 0}, {\"Rk\": 168, \"Name\": \"Josh\\u00a0Donaldson\", \"Age\": 37, \"Tm\": \"NYY\", \"Lg\": \"AL\", \"G\": 33, \"PA\": 120, \"AB\": 106, \"R\": 13, \"H\": 15, \"2B\": 1, \"3B\": 0, \"HR\": 10, \"RBI\": 15, \"SB\": 0, \"CS\": 0, \"BB\": 12, \"SO\": 32, \"BA\": 0.142, \"OBP\": 0.225, \"SLG\": 0.434, \"OPS\": 0.659, \"OPS+\": 78, \"TB\": 46, \"GDP\": 2, \"HBP\": 0, \"SH\": 0, \"SF\": 2, \"IBB\": 0}, {\"Rk\": 169, \"Name\": \"Brendan\\u00a0Donovan*\", \"Age\": 26, \"Tm\": \"STL\", \"Lg\": \"NL\", \"G\": 88, \"PA\": 341, \"AB\": 297, \"R\": 42, \"H\": 85, \"2B\": 9, \"3B\": 1, \"HR\": 11, \"RBI\": 34, \"SB\": 4, \"CS\": 1, \"BB\": 33, \"SO\": 51, \"BA\": 0.286, \"OBP\": 0.374, \"SLG\": 0.434, \"OPS\": 0.808, \"OPS+\": 121, \"TB\": 129, \"GDP\": 3, \"HBP\": 9, \"SH\": 1, \"SF\": 1, \"IBB\": 2}, {\"Rk\": 170, \"Name\": \"Camilo\\u00a0Doval\", \"Age\": 25, \"Tm\": \"SFG\", \"Lg\": \"NL\", \"G\": 2, \"PA\": 0, \"AB\": 0, \"R\": 0, \"H\": 0, \"2B\": 0, \"3B\": 0, \"HR\": 0, \"RBI\": 0, \"SB\": 0, \"CS\": 0, \"BB\": 0, \"SO\": 0, \"BA\": 0.0, \"OBP\": 0.0, \"SLG\": 0.0, \"OPS\": 0.0, \"OPS+\": 0, \"TB\": 0, \"GDP\": 0, \"HBP\": 0, \"SH\": 0, \"SF\": 0, \"IBB\": 0}, {\"Rk\": 171, \"Name\": \"Jeter\\u00a0Downs\", \"Age\": 24, \"Tm\": \"WSN\", \"Lg\": \"NL\", \"G\": 1, \"PA\": 2, \"AB\": 1, \"R\": 0, \"H\": 0, \"2B\": 0, \"3B\": 0, \"HR\": 0, \"RBI\": 0, \"SB\": 0, \"CS\": 0, \"BB\": 1, \"SO\": 1, \"BA\": 0.0, \"OBP\": 0.5, \"SLG\": 0.0, \"OPS\": 0.5, \"OPS+\": 59, \"TB\": 0, \"GDP\": 0, \"HBP\": 0, \"SH\": 0, \"SF\": 0, \"IBB\": 0}, {\"Rk\": 172, \"Name\": \"Brenton\\u00a0Doyle\", \"Age\": 25, \"Tm\": \"COL\", \"Lg\": \"NL\", \"G\": 65, \"PA\": 211, \"AB\": 190, \"R\": 27, \"H\": 38, \"2B\": 6, \"3B\": 1, \"HR\": 6, \"RBI\": 24, \"SB\": 14, \"CS\": 3, \"BB\": 15, \"SO\": 75, \"BA\": 0.2, \"OBP\": 0.262, \"SLG\": 0.337, \"OPS\": 0.599, \"OPS+\": 54, \"TB\": 64, \"GDP\": 3, \"HBP\": 2, \"SH\": 1, \"SF\": 3, \"IBB\": 0}, {\"Rk\": 173, \"Name\": \"Hunter\\u00a0Dozier\", \"Age\": 31, \"Tm\": \"KCR\", \"Lg\": \"AL\", \"G\": 29, \"PA\": 91, \"AB\": 82, \"R\": 8, \"H\": 15, \"2B\": 2, \"3B\": 1, \"HR\": 2, \"RBI\": 9, \"SB\": 2, \"CS\": 0, \"BB\": 8, \"SO\": 29, \"BA\": 0.183, \"OBP\": 0.253, \"SLG\": 0.305, \"OPS\": 0.558, \"OPS+\": 54, \"TB\": 25, \"GDP\": 0, \"HBP\": 0, \"SH\": 0, \"SF\": 1, \"IBB\": 0}, {\"Rk\": 174, \"Name\": \"Brandon\\u00a0Drury\", \"Age\": 30, \"Tm\": \"LAA\", \"Lg\": \"AL\", \"G\": 75, \"PA\": 307, \"AB\": 282, \"R\": 36, \"H\": 78, \"2B\": 17, \"3B\": 2, \"HR\": 14, \"RBI\": 45, \"SB\": 0, \"CS\": 2, \"BB\": 16, \"SO\": 80, \"BA\": 0.277, \"OBP\": 0.322, \"SLG\": 0.5, \"OPS\": 0.822, \"OPS+\": 121, \"TB\": 141, \"GDP\": 9, \"HBP\": 5, \"SH\": 0, \"SF\": 4, \"IBB\": 0}, {\"Rk\": 175, \"Name\": \"Daniel\\u00a0Duarte\", \"Age\": 26, \"Tm\": \"CIN\", \"Lg\": \"NL\", \"G\": 1, \"PA\": 0, \"AB\": 0, \"R\": 0, \"H\": 0, \"2B\": 0, \"3B\": 0, \"HR\": 0, \"RBI\": 0, \"SB\": 0, \"CS\": 0, \"BB\": 0, \"SO\": 0, \"BA\": 0.0, \"OBP\": 0.0, \"SLG\": 0.0, \"OPS\": 0.0, \"OPS+\": 0, \"TB\": 0, \"GDP\": 0, \"HBP\": 0, \"SH\": 0, \"SF\": 0, \"IBB\": 0}, {\"Rk\": 176, \"Name\": \"Mauricio\\u00a0Dub\\u00f3n\", \"Age\": 28, \"Tm\": \"HOU\", \"Lg\": \"AL\", \"G\": 80, \"PA\": 336, \"AB\": 322, \"R\": 52, \"H\": 87, \"2B\": 18, \"3B\": 2, \"HR\": 4, \"RBI\": 26, \"SB\": 6, \"CS\": 1, \"BB\": 10, \"SO\": 45, \"BA\": 0.27, \"OBP\": 0.295, \"SLG\": 0.376, \"OPS\": 0.67, \"OPS+\": 86, \"TB\": 121, \"GDP\": 9, \"HBP\": 2, \"SH\": 0, \"SF\": 2, \"IBB\": 0}, {\"Rk\": 177, \"Name\": \"Matt\\u00a0Duffy\", \"Age\": 32, \"Tm\": \"KCR\", \"Lg\": \"AL\", \"G\": 50, \"PA\": 128, \"AB\": 117, \"R\": 11, \"H\": 32, \"2B\": 6, \"3B\": 0, \"HR\": 1, \"RBI\": 8, \"SB\": 0, \"CS\": 0, \"BB\": 7, \"SO\": 25, \"BA\": 0.274, \"OBP\": 0.328, \"SLG\": 0.35, \"OPS\": 0.679, \"OPS+\": 89, \"TB\": 41, \"GDP\": 2, \"HBP\": 3, \"SH\": 0, \"SF\": 1, \"IBB\": 0}, {\"Rk\": 178, \"Name\": \"Ezequiel\\u00a0Duran\", \"Age\": 24, \"Tm\": \"TEX\", \"Lg\": \"AL\", \"G\": 76, \"PA\": 283, \"AB\": 265, \"R\": 39, \"H\": 78, \"2B\": 16, \"3B\": 1, \"HR\": 13, \"RBI\": 37, \"SB\": 4, \"CS\": 3, \"BB\": 13, \"SO\": 77, \"BA\": 0.294, \"OBP\": 0.336, \"SLG\": 0.509, \"OPS\": 0.845, \"OPS+\": 128, \"TB\": 135, \"GDP\": 4, \"HBP\": 4, \"SH\": 0, \"SF\": 1, \"IBB\": 1}, {\"Rk\": 179, \"Name\": \"Jarren\\u00a0Duran*\", \"Age\": 26, \"Tm\": \"BOS\", \"Lg\": \"AL\", \"G\": 78, \"PA\": 278, \"AB\": 254, \"R\": 37, \"H\": 80, \"2B\": 29, \"3B\": 2, \"HR\": 6, \"RBI\": 34, \"SB\": 19, \"CS\": 1, \"BB\": 20, \"SO\": 71, \"BA\": 0.315, \"OBP\": 0.367, \"SLG\": 0.516, \"OPS\": 0.883, \"OPS+\": 134, \"TB\": 131, \"GDP\": 2, \"HBP\": 2, \"SH\": 0, \"SF\": 2, \"IBB\": 1}, {\"Rk\": 180, \"Name\": \"Adam\\u00a0Duvall\", \"Age\": 34, \"Tm\": \"BOS\", \"Lg\": \"AL\", \"G\": 38, \"PA\": 149, \"AB\": 132, \"R\": 21, \"H\": 33, \"2B\": 11, \"3B\": 1, \"HR\": 7, \"RBI\": 25, \"SB\": 3, \"CS\": 0, \"BB\": 10, \"SO\": 47, \"BA\": 0.25, \"OBP\": 0.315, \"SLG\": 0.508, \"OPS\": 0.823, \"OPS+\": 116, \"TB\": 67, \"GDP\": 0, \"HBP\": 4, \"SH\": 0, \"SF\": 3, \"IBB\": 1}, {\"Rk\": 181, \"Name\": \"Nate\\u00a0Eaton\", \"Age\": 26, \"Tm\": \"KCR\", \"Lg\": \"AL\", \"G\": 28, \"PA\": 56, \"AB\": 53, \"R\": 2, \"H\": 4, \"2B\": 0, \"3B\": 0, \"HR\": 0, \"RBI\": 1, \"SB\": 3, \"CS\": 0, \"BB\": 2, \"SO\": 21, \"BA\": 0.075, \"OBP\": 0.125, \"SLG\": 0.075, \"OPS\": 0.2, \"OPS+\": -42, \"TB\": 4, \"GDP\": 0, \"HBP\": 1, \"SH\": 0, \"SF\": 0, \"IBB\": 0}, {\"Rk\": 182, \"Name\": \"Tommy\\u00a0Edman#\", \"Age\": 28, \"Tm\": \"STL\", \"Lg\": \"NL\", \"G\": 84, \"PA\": 307, \"AB\": 274, \"R\": 44, \"H\": 65, \"2B\": 15, \"3B\": 3, \"HR\": 7, \"RBI\": 29, \"SB\": 14, \"CS\": 1, \"BB\": 24, \"SO\": 50, \"BA\": 0.237, \"OBP\": 0.303, \"SLG\": 0.391, \"OPS\": 0.693, \"OPS+\": 89, \"TB\": 107, \"GDP\": 7, \"HBP\": 3, \"SH\": 3, \"SF\": 3, \"IBB\": 1}, {\"Rk\": 183, \"Name\": \"Xavier\\u00a0Edwards#\", \"Age\": 23, \"Tm\": \"MIA\", \"Lg\": \"NL\", \"G\": 9, \"PA\": 22, \"AB\": 21, \"R\": 4, \"H\": 8, \"2B\": 1, \"3B\": 0, \"HR\": 0, \"RBI\": 2, \"SB\": 1, \"CS\": 0, \"BB\": 0, \"SO\": 4, \"BA\": 0.381, \"OBP\": 0.381, \"SLG\": 0.429, \"OPS\": 0.81, \"OPS+\": 123, \"TB\": 9, \"GDP\": 1, \"HBP\": 0, \"SH\": 1, \"SF\": 0, \"IBB\": 0}, {\"Rk\": 184, \"Name\": \"Drew\\u00a0Ellis\", \"Age\": 27, \"Tm\": \"PHI\", \"Lg\": \"NL\", \"G\": 12, \"PA\": 29, \"AB\": 23, \"R\": 4, \"H\": 5, \"2B\": 0, \"3B\": 0, \"HR\": 2, \"RBI\": 4, \"SB\": 0, \"CS\": 1, \"BB\": 6, \"SO\": 7, \"BA\": 0.217, \"OBP\": 0.379, \"SLG\": 0.478, \"OPS\": 0.858, \"OPS+\": 135, \"TB\": 11, \"GDP\": 0, \"HBP\": 0, \"SH\": 0, \"SF\": 0, \"IBB\": 0}, {\"Rk\": 185, \"Name\": \"Christian\\u00a0Encarnacion-Strand\", \"Age\": 23, \"Tm\": \"CIN\", \"Lg\": \"NL\", \"G\": 6, \"PA\": 20, \"AB\": 20, \"R\": 4, \"H\": 5, \"2B\": 0, \"3B\": 0, \"HR\": 1, \"RBI\": 4, \"SB\": 0, \"CS\": 0, \"BB\": 0, \"SO\": 2, \"BA\": 0.25, \"OBP\": 0.25, \"SLG\": 0.4, \"OPS\": 0.65, \"OPS+\": 69, \"TB\": 8, \"GDP\": 0, \"HBP\": 0, \"SH\": 0, \"SF\": 0, \"IBB\": 0}, {\"Rk\": 186, \"Name\": \"Adam\\u00a0Engel\", \"Age\": 31, \"Tm\": \"SDP\", \"Lg\": \"NL\", \"G\": 5, \"PA\": 6, \"AB\": 6, \"R\": 0, \"H\": 0, \"2B\": 0, \"3B\": 0, \"HR\": 0, \"RBI\": 0, \"SB\": 0, \"CS\": 1, \"BB\": 0, \"SO\": 2, \"BA\": 0.0, \"OBP\": 0.0, \"SLG\": 0.0, \"OPS\": 0.0, \"OPS+\": -100, \"TB\": 0, \"GDP\": 0, \"HBP\": 0, \"SH\": 0, \"SF\": 0, \"IBB\": 0}, {\"Rk\": 187, \"Name\": \"Eduardo\\u00a0Escobar#\", \"Age\": 34, \"Tm\": \"TOT\", \"Lg\": \"MLB\", \"G\": 57, \"PA\": 181, \"AB\": 167, \"R\": 24, \"H\": 40, \"2B\": 3, \"3B\": 3, \"HR\": 4, \"RBI\": 21, \"SB\": 2, \"CS\": 0, \"BB\": 11, \"SO\": 40, \"BA\": 0.24, \"OBP\": 0.283, \"SLG\": 0.365, \"OPS\": 0.649, \"OPS+\": 78, \"TB\": 61, \"GDP\": 5, \"HBP\": 0, \"SH\": 1, \"SF\": 2, \"IBB\": 0}, {\"Rk\": 188, \"Name\": \"Eduardo\\u00a0Escobar#\", \"Age\": 34, \"Tm\": \"NYM\", \"Lg\": \"NL\", \"G\": 40, \"PA\": 120, \"AB\": 110, \"R\": 15, \"H\": 26, \"2B\": 3, \"3B\": 2, \"HR\": 4, \"RBI\": 16, \"SB\": 2, \"CS\": 0, \"BB\": 8, \"SO\": 24, \"BA\": 0.236, \"OBP\": 0.286, \"SLG\": 0.409, \"OPS\": 0.695, \"OPS+\": 91, \"TB\": 45, \"GDP\": 4, \"HBP\": 0, \"SH\": 1, \"SF\": 1, \"IBB\": 0}, {\"Rk\": 189, \"Name\": \"Eduardo\\u00a0Escobar#\", \"Age\": 34, \"Tm\": \"LAA\", \"Lg\": \"AL\", \"G\": 17, \"PA\": 61, \"AB\": 57, \"R\": 9, \"H\": 14, \"2B\": 0, \"3B\": 1, \"HR\": 0, \"RBI\": 5, \"SB\": 0, \"CS\": 0, \"BB\": 3, \"SO\": 16, \"BA\": 0.246, \"OBP\": 0.279, \"SLG\": 0.281, \"OPS\": 0.559, \"OPS+\": 55, \"TB\": 16, \"GDP\": 1, \"HBP\": 0, \"SH\": 0, \"SF\": 1, \"IBB\": 0}, {\"Rk\": 190, \"Name\": \"Santiago\\u00a0Espinal\", \"Age\": 28, \"Tm\": \"TOR\", \"Lg\": \"AL\", \"G\": 51, \"PA\": 146, \"AB\": 130, \"R\": 21, \"H\": 29, \"2B\": 7, \"3B\": 0, \"HR\": 1, \"RBI\": 12, \"SB\": 2, \"CS\": 1, \"BB\": 13, \"SO\": 18, \"BA\": 0.223, \"OBP\": 0.303, \"SLG\": 0.3, \"OPS\": 0.603, \"OPS+\": 71, \"TB\": 39, \"GDP\": 4, \"HBP\": 2, \"SH\": 1, \"SF\": 0, \"IBB\": 0}, {\"Rk\": 191, \"Name\": \"Thairo\\u00a0Estrada\", \"Age\": 27, \"Tm\": \"SFG\", \"Lg\": \"NL\", \"G\": 70, \"PA\": 315, \"AB\": 290, \"R\": 46, \"H\": 79, \"2B\": 18, \"3B\": 1, \"HR\": 9, \"RBI\": 31, \"SB\": 18, \"CS\": 4, \"BB\": 15, \"SO\": 77, \"BA\": 0.272, \"OBP\": 0.327, \"SLG\": 0.434, \"OPS\": 0.761, \"OPS+\": 108, \"TB\": 126, \"GDP\": 6, \"HBP\": 9, \"SH\": 0, \"SF\": 1, \"IBB\": 1}, {\"Rk\": 192, \"Name\": \"Stuart\\u00a0Fairchild\", \"Age\": 27, \"Tm\": \"CIN\", \"Lg\": \"NL\", \"G\": 66, \"PA\": 186, \"AB\": 156, \"R\": 26, \"H\": 37, \"2B\": 12, \"3B\": 1, \"HR\": 4, \"RBI\": 22, \"SB\": 9, \"CS\": 2, \"BB\": 20, \"SO\": 52, \"BA\": 0.237, \"OBP\": 0.339, \"SLG\": 0.404, \"OPS\": 0.743, \"OPS+\": 96, \"TB\": 63, \"GDP\": 1, \"HBP\": 5, \"SH\": 3, \"SF\": 2, \"IBB\": 0}, {\"Rk\": 193, \"Name\": \"Kyle\\u00a0Farmer\", \"Age\": 32, \"Tm\": \"MIN\", \"Lg\": \"AL\", \"G\": 70, \"PA\": 221, \"AB\": 201, \"R\": 30, \"H\": 50, \"2B\": 8, \"3B\": 2, \"HR\": 6, \"RBI\": 21, \"SB\": 1, \"CS\": 0, \"BB\": 13, \"SO\": 58, \"BA\": 0.249, \"OBP\": 0.312, \"SLG\": 0.398, \"OPS\": 0.71, \"OPS+\": 96, \"TB\": 80, \"GDP\": 5, \"HBP\": 6, \"SH\": 0, \"SF\": 1, \"IBB\": 0}, {\"Rk\": 194, \"Name\": \"Caleb\\u00a0Ferguson\", \"Age\": 26, \"Tm\": \"LAD\", \"Lg\": \"NL\", \"G\": 2, \"PA\": 0, \"AB\": 0, \"R\": 0, \"H\": 0, \"2B\": 0, \"3B\": 0, \"HR\": 0, \"RBI\": 0, \"SB\": 0, \"CS\": 0, \"BB\": 0, \"SO\": 0, \"BA\": 0.0, \"OBP\": 0.0, \"SLG\": 0.0, \"OPS\": 0.0, \"OPS+\": 0, \"TB\": 0, \"GDP\": 0, \"HBP\": 0, \"SH\": 0, \"SF\": 0, \"IBB\": 0}, {\"Rk\": 195, \"Name\": \"Freddy\\u00a0Fermin\", \"Age\": 28, \"Tm\": \"KCR\", \"Lg\": \"AL\", \"G\": 39, \"PA\": 121, \"AB\": 112, \"R\": 13, \"H\": 32, \"2B\": 5, \"3B\": 1, \"HR\": 4, \"RBI\": 20, \"SB\": 0, \"CS\": 0, \"BB\": 8, \"SO\": 26, \"BA\": 0.286, \"OBP\": 0.333, \"SLG\": 0.455, \"OPS\": 0.789, \"OPS+\": 116, \"TB\": 51, \"GDP\": 1, \"HBP\": 0, \"SH\": 1, \"SF\": 0, \"IBB\": 0}, {\"Rk\": 196, \"Name\": \"Jos\\u00e9\\u00a0Ferm\\u00edn\", \"Age\": 24, \"Tm\": \"STL\", \"Lg\": \"NL\", \"G\": 5, \"PA\": 13, \"AB\": 11, \"R\": 1, \"H\": 1, \"2B\": 0, \"3B\": 0, \"HR\": 0, \"RBI\": 0, \"SB\": 0, \"CS\": 0, \"BB\": 1, \"SO\": 1, \"BA\": 0.091, \"OBP\": 0.167, \"SLG\": 0.091, \"OPS\": 0.258, \"OPS+\": -26, \"TB\": 1, \"GDP\": 0, \"HBP\": 0, \"SH\": 1, \"SF\": 0, \"IBB\": 0}, {\"Rk\": 197, \"Name\": \"David\\u00a0Fletcher\", \"Age\": 29, \"Tm\": \"LAA\", \"Lg\": \"AL\", \"G\": 19, \"PA\": 49, \"AB\": 47, \"R\": 3, \"H\": 10, \"2B\": 1, \"3B\": 0, \"HR\": 1, \"RBI\": 8, \"SB\": 0, \"CS\": 0, \"BB\": 2, \"SO\": 6, \"BA\": 0.213, \"OBP\": 0.245, \"SLG\": 0.298, \"OPS\": 0.543, \"OPS+\": 48, \"TB\": 14, \"GDP\": 2, \"HBP\": 0, \"SH\": 0, \"SF\": 0, \"IBB\": 0}, {\"Rk\": 198, \"Name\": \"Dominic\\u00a0Fletcher*\", \"Age\": 25, \"Tm\": \"ARI\", \"Lg\": \"NL\", \"G\": 28, \"PA\": 102, \"AB\": 93, \"R\": 10, \"H\": 28, \"2B\": 5, \"3B\": 1, \"HR\": 2, \"RBI\": 14, \"SB\": 0, \"CS\": 2, \"BB\": 7, \"SO\": 22, \"BA\": 0.301, \"OBP\": 0.35, \"SLG\": 0.441, \"OPS\": 0.791, \"OPS+\": 117, \"TB\": 41, \"GDP\": 0, \"HBP\": 0, \"SH\": 2, \"SF\": 0, \"IBB\": 1}, {\"Rk\": 199, \"Name\": \"Wilmer\\u00a0Flores\", \"Age\": 31, \"Tm\": \"SFG\", \"Lg\": \"NL\", \"G\": 70, \"PA\": 233, \"AB\": 209, \"R\": 29, \"H\": 61, \"2B\": 13, \"3B\": 0, \"HR\": 12, \"RBI\": 31, \"SB\": 0, \"CS\": 0, \"BB\": 20, \"SO\": 35, \"BA\": 0.292, \"OBP\": 0.352, \"SLG\": 0.526, \"OPS\": 0.878, \"OPS+\": 138, \"TB\": 110, \"GDP\": 4, \"HBP\": 1, \"SH\": 0, \"SF\": 3, \"IBB\": 0}, {\"Rk\": 200, \"Name\": \"Estevan\\u00a0Florial*\", \"Age\": 25, \"Tm\": \"NYY\", \"Lg\": \"AL\", \"G\": 1, \"PA\": 0, \"AB\": 0, \"R\": 0, \"H\": 0, \"2B\": 0, \"3B\": 0, \"HR\": 0, \"RBI\": 0, \"SB\": 0, \"CS\": 0, \"BB\": 0, \"SO\": 0, \"BA\": 0.0, \"OBP\": 0.0, \"SLG\": 0.0, \"OPS\": 0.0, \"OPS+\": 0, \"TB\": 0, \"GDP\": 0, \"HBP\": 0, \"SH\": 0, \"SF\": 0, \"IBB\": 0}, {\"Rk\": 201, \"Name\": \"Mike\\u00a0Ford*\", \"Age\": 30, \"Tm\": \"SEA\", \"Lg\": \"AL\", \"G\": 39, \"PA\": 119, \"AB\": 109, \"R\": 18, \"H\": 28, \"2B\": 5, \"3B\": 0, \"HR\": 10, \"RBI\": 21, \"SB\": 0, \"CS\": 0, \"BB\": 7, \"SO\": 39, \"BA\": 0.257, \"OBP\": 0.311, \"SLG\": 0.578, \"OPS\": 0.889, \"OPS+\": 145, \"TB\": 63, \"GDP\": 2, \"HBP\": 2, \"SH\": 0, \"SF\": 1, \"IBB\": 0}, {\"Rk\": 202, \"Name\": \"Nick\\u00a0Fortes\", \"Age\": 26, \"Tm\": \"MIA\", \"Lg\": \"NL\", \"G\": 71, \"PA\": 215, \"AB\": 200, \"R\": 20, \"H\": 41, \"2B\": 3, \"3B\": 0, \"HR\": 4, \"RBI\": 19, \"SB\": 3, \"CS\": 2, \"BB\": 12, \"SO\": 42, \"BA\": 0.205, \"OBP\": 0.252, \"SLG\": 0.28, \"OPS\": 0.532, \"OPS+\": 47, \"TB\": 56, \"GDP\": 9, \"HBP\": 1, \"SH\": 1, \"SF\": 1, \"IBB\": 0}, {\"Rk\": 203, \"Name\": \"Jake\\u00a0Fraley*\", \"Age\": 28, \"Tm\": \"CIN\", \"Lg\": \"NL\", \"G\": 82, \"PA\": 290, \"AB\": 253, \"R\": 37, \"H\": 68, \"2B\": 12, \"3B\": 0, \"HR\": 14, \"RBI\": 58, \"SB\": 16, \"CS\": 4, \"BB\": 32, \"SO\": 50, \"BA\": 0.269, \"OBP\": 0.359, \"SLG\": 0.482, \"OPS\": 0.841, \"OPS+\": 121, \"TB\": 122, \"GDP\": 4, \"HBP\": 4, \"SH\": 0, \"SF\": 1, \"IBB\": 2}, {\"Rk\": 204, \"Name\": \"Ty\\u00a0France\", \"Age\": 28, \"Tm\": \"SEA\", \"Lg\": \"AL\", \"G\": 95, \"PA\": 407, \"AB\": 366, \"R\": 56, \"H\": 91, \"2B\": 24, \"3B\": 0, \"HR\": 7, \"RBI\": 38, \"SB\": 1, \"CS\": 0, \"BB\": 21, \"SO\": 75, \"BA\": 0.249, \"OBP\": 0.322, \"SLG\": 0.372, \"OPS\": 0.693, \"OPS+\": 97, \"TB\": 136, \"GDP\": 15, \"HBP\": 19, \"SH\": 0, \"SF\": 1, \"IBB\": 0}, {\"Rk\": 205, \"Name\": \"Wander\\u00a0Franco#\", \"Age\": 22, \"Tm\": \"TBR\", \"Lg\": \"AL\", \"G\": 95, \"PA\": 415, \"AB\": 374, \"R\": 51, \"H\": 101, \"2B\": 23, \"3B\": 4, \"HR\": 11, \"RBI\": 47, \"SB\": 28, \"CS\": 10, \"BB\": 34, \"SO\": 58, \"BA\": 0.27, \"OBP\": 0.333, \"SLG\": 0.441, \"OPS\": 0.774, \"OPS+\": 115, \"TB\": 165, \"GDP\": 13, \"HBP\": 3, \"SH\": 0, \"SF\": 4, \"IBB\": 3}, {\"Rk\": 206, \"Name\": \"Adam\\u00a0Frazier*\", \"Age\": 31, \"Tm\": \"BAL\", \"Lg\": \"AL\", \"G\": 91, \"PA\": 316, \"AB\": 284, \"R\": 42, \"H\": 67, \"2B\": 12, \"3B\": 1, \"HR\": 12, \"RBI\": 45, \"SB\": 7, \"CS\": 3, \"BB\": 24, \"SO\": 35, \"BA\": 0.236, \"OBP\": 0.301, \"SLG\": 0.412, \"OPS\": 0.713, \"OPS+\": 98, \"TB\": 117, \"GDP\": 3, \"HBP\": 3, \"SH\": 3, \"SF\": 1, \"IBB\": 0}, {\"Rk\": 207, \"Name\": \"Clint\\u00a0Frazier\", \"Age\": 28, \"Tm\": \"CHW\", \"Lg\": \"AL\", \"G\": 33, \"PA\": 76, \"AB\": 66, \"R\": 10, \"H\": 13, \"2B\": 1, \"3B\": 1, \"HR\": 0, \"RBI\": 3, \"SB\": 4, \"CS\": 2, \"BB\": 10, \"SO\": 23, \"BA\": 0.197, \"OBP\": 0.303, \"SLG\": 0.242, \"OPS\": 0.545, \"OPS+\": 54, \"TB\": 16, \"GDP\": 0, \"HBP\": 0, \"SH\": 0, \"SF\": 0, \"IBB\": 0}, {\"Rk\": 208, \"Name\": \"Freddie\\u00a0Freeman*\", \"Age\": 33, \"Tm\": \"LAD\", \"Lg\": \"NL\", \"G\": 97, \"PA\": 447, \"AB\": 387, \"R\": 84, \"H\": 127, \"2B\": 35, \"3B\": 2, \"HR\": 20, \"RBI\": 70, \"SB\": 12, \"CS\": 1, \"BB\": 48, \"SO\": 78, \"BA\": 0.328, \"OBP\": 0.409, \"SLG\": 0.584, \"OPS\": 0.993, \"OPS+\": 163, \"TB\": 226, \"GDP\": 5, \"HBP\": 8, \"SH\": 0, \"SF\": 4, \"IBB\": 7}, {\"Rk\": 209, \"Name\": \"Tyler\\u00a0Freeman\", \"Age\": 24, \"Tm\": \"CLE\", \"Lg\": \"AL\", \"G\": 33, \"PA\": 80, \"AB\": 73, \"R\": 12, \"H\": 22, \"2B\": 6, \"3B\": 0, \"HR\": 0, \"RBI\": 4, \"SB\": 3, \"CS\": 0, \"BB\": 4, \"SO\": 12, \"BA\": 0.301, \"OBP\": 0.342, \"SLG\": 0.384, \"OPS\": 0.725, \"OPS+\": 104, \"TB\": 28, \"GDP\": 2, \"HBP\": 1, \"SH\": 1, \"SF\": 1, \"IBB\": 0}, {\"Rk\": 210, \"Name\": \"Sal\\u00a0Frelick*\", \"Age\": 23, \"Tm\": \"MIL\", \"Lg\": \"NL\", \"G\": 1, \"PA\": 4, \"AB\": 3, \"R\": 1, \"H\": 3, \"2B\": 0, \"3B\": 0, \"HR\": 0, \"RBI\": 2, \"SB\": 0, \"CS\": 0, \"BB\": 0, \"SO\": 0, \"BA\": 1.0, \"OBP\": 0.75, \"SLG\": 1.0, \"OPS\": 1.75, \"OPS+\": 375, \"TB\": 3, \"GDP\": 0, \"HBP\": 0, \"SH\": 0, \"SF\": 1, \"IBB\": 0}, {\"Rk\": 211, \"Name\": \"TJ\\u00a0Friedl*\", \"Age\": 27, \"Tm\": \"CIN\", \"Lg\": \"NL\", \"G\": 77, \"PA\": 310, \"AB\": 273, \"R\": 36, \"H\": 79, \"2B\": 15, \"3B\": 3, \"HR\": 7, \"RBI\": 33, \"SB\": 16, \"CS\": 2, \"BB\": 26, \"SO\": 58, \"BA\": 0.289, \"OBP\": 0.359, \"SLG\": 0.443, \"OPS\": 0.802, \"OPS+\": 112, \"TB\": 121, \"GDP\": 0, \"HBP\": 4, \"SH\": 6, \"SF\": 1, \"IBB\": 1}, {\"Rk\": 212, \"Name\": \"David\\u00a0Fry\", \"Age\": 27, \"Tm\": \"CLE\", \"Lg\": \"AL\", \"G\": 34, \"PA\": 67, \"AB\": 62, \"R\": 7, \"H\": 18, \"2B\": 3, \"3B\": 0, \"HR\": 2, \"RBI\": 10, \"SB\": 2, \"CS\": 0, \"BB\": 4, \"SO\": 20, \"BA\": 0.29, \"OBP\": 0.343, \"SLG\": 0.435, \"OPS\": 0.779, \"OPS+\": 117, \"TB\": 27, \"GDP\": 2, \"HBP\": 1, \"SH\": 0, \"SF\": 0, \"IBB\": 0}, {\"Rk\": 213, \"Name\": \"Michael\\u00a0Fulmer\", \"Age\": 30, \"Tm\": \"CHC\", \"Lg\": \"NL\", \"G\": 2, \"PA\": 1, \"AB\": 1, \"R\": 0, \"H\": 0, \"2B\": 0, \"3B\": 0, \"HR\": 0, \"RBI\": 0, \"SB\": 0, \"CS\": 0, \"BB\": 0, \"SO\": 1, \"BA\": 0.0, \"OBP\": 0.0, \"SLG\": 0.0, \"OPS\": 0.0, \"OPS+\": -100, \"TB\": 0, \"GDP\": 0, \"HBP\": 0, \"SH\": 0, \"SF\": 0, \"IBB\": 0}, {\"Rk\": 214, \"Name\": \"Cam\\u00a0Gallagher\", \"Age\": 30, \"Tm\": \"CLE\", \"Lg\": \"AL\", \"G\": 40, \"PA\": 108, \"AB\": 103, \"R\": 5, \"H\": 14, \"2B\": 5, \"3B\": 0, \"HR\": 0, \"RBI\": 6, \"SB\": 0, \"CS\": 0, \"BB\": 3, \"SO\": 32, \"BA\": 0.136, \"OBP\": 0.167, \"SLG\": 0.184, \"OPS\": 0.351, \"OPS+\": -1, \"TB\": 19, \"GDP\": 1, \"HBP\": 1, \"SH\": 0, \"SF\": 1, \"IBB\": 0}, {\"Rk\": 215, \"Name\": \"Joey\\u00a0Gallo*\", \"Age\": 29, \"Tm\": \"MIN\", \"Lg\": \"AL\", \"G\": 76, \"PA\": 254, \"AB\": 217, \"R\": 30, \"H\": 39, \"2B\": 8, \"3B\": 1, \"HR\": 17, \"RBI\": 31, \"SB\": 0, \"CS\": 0, \"BB\": 35, \"SO\": 105, \"BA\": 0.18, \"OBP\": 0.299, \"SLG\": 0.461, \"OPS\": 0.76, \"OPS+\": 107, \"TB\": 100, \"GDP\": 2, \"HBP\": 2, \"SH\": 0, \"SF\": 0, \"IBB\": 1}, {\"Rk\": 216, \"Name\": \"Adolis\\u00a0Garc\\u00eda\", \"Age\": 30, \"Tm\": \"TEX\", \"Lg\": \"AL\", \"G\": 98, \"PA\": 424, \"AB\": 373, \"R\": 74, \"H\": 97, \"2B\": 22, \"3B\": 0, \"HR\": 24, \"RBI\": 80, \"SB\": 6, \"CS\": 0, \"BB\": 40, \"SO\": 105, \"BA\": 0.26, \"OBP\": 0.335, \"SLG\": 0.512, \"OPS\": 0.847, \"OPS+\": 129, \"TB\": 191, \"GDP\": 7, \"HBP\": 5, \"SH\": 0, \"SF\": 6, \"IBB\": 0}, {\"Rk\": 217, \"Name\": \"Avisa\\u00edl\\u00a0Garc\\u00eda\", \"Age\": 32, \"Tm\": \"MIA\", \"Lg\": \"NL\", \"G\": 22, \"PA\": 76, \"AB\": 69, \"R\": 6, \"H\": 13, \"2B\": 1, \"3B\": 0, \"HR\": 3, \"RBI\": 8, \"SB\": 1, \"CS\": 0, \"BB\": 3, \"SO\": 23, \"BA\": 0.188, \"OBP\": 0.243, \"SLG\": 0.333, \"OPS\": 0.577, \"OPS+\": 57, \"TB\": 23, \"GDP\": 0, \"HBP\": 2, \"SH\": 0, \"SF\": 0, \"IBB\": 0}, {\"Rk\": 218, \"Name\": \"Luis\\u00a0Garc\\u00eda*\", \"Age\": 23, \"Tm\": \"WSN\", \"Lg\": \"NL\", \"G\": 89, \"PA\": 370, \"AB\": 342, \"R\": 42, \"H\": 91, \"2B\": 12, \"3B\": 4, \"HR\": 5, \"RBI\": 41, \"SB\": 7, \"CS\": 4, \"BB\": 20, \"SO\": 44, \"BA\": 0.266, \"OBP\": 0.301, \"SLG\": 0.368, \"OPS\": 0.669, \"OPS+\": 88, \"TB\": 126, \"GDP\": 8, \"HBP\": 0, \"SH\": 1, \"SF\": 7, \"IBB\": 0}, {\"Rk\": 219, \"Name\": \"Maikel\\u00a0Garcia\", \"Age\": 23, \"Tm\": \"KCR\", \"Lg\": \"AL\", \"G\": 66, \"PA\": 269, \"AB\": 242, \"R\": 27, \"H\": 67, \"2B\": 13, \"3B\": 1, \"HR\": 3, \"RBI\": 28, \"SB\": 14, \"CS\": 2, \"BB\": 20, \"SO\": 60, \"BA\": 0.277, \"OBP\": 0.328, \"SLG\": 0.376, \"OPS\": 0.704, \"OPS+\": 95, \"TB\": 91, \"GDP\": 4, \"HBP\": 1, \"SH\": 1, \"SF\": 5, \"IBB\": 0}, {\"Rk\": 220, \"Name\": \"Kyle\\u00a0Garlick\", \"Age\": 31, \"Tm\": \"MIN\", \"Lg\": \"AL\", \"G\": 14, \"PA\": 30, \"AB\": 28, \"R\": 2, \"H\": 5, \"2B\": 1, \"3B\": 0, \"HR\": 2, \"RBI\": 4, \"SB\": 0, \"CS\": 0, \"BB\": 2, \"SO\": 11, \"BA\": 0.179, \"OBP\": 0.233, \"SLG\": 0.429, \"OPS\": 0.662, \"OPS+\": 78, \"TB\": 12, \"GDP\": 0, \"HBP\": 0, \"SH\": 0, \"SF\": 0, \"IBB\": 0}, {\"Rk\": 221, \"Name\": \"Stone\\u00a0Garrett\", \"Age\": 27, \"Tm\": \"WSN\", \"Lg\": \"NL\", \"G\": 64, \"PA\": 189, \"AB\": 169, \"R\": 26, \"H\": 44, \"2B\": 10, \"3B\": 0, \"HR\": 6, \"RBI\": 24, \"SB\": 3, \"CS\": 1, \"BB\": 14, \"SO\": 60, \"BA\": 0.26, \"OBP\": 0.324, \"SLG\": 0.426, \"OPS\": 0.751, \"OPS+\": 109, \"TB\": 72, \"GDP\": 4, \"HBP\": 3, \"SH\": 0, \"SF\": 2, \"IBB\": 0}, {\"Rk\": 222, \"Name\": \"Mitch\\u00a0Garver\", \"Age\": 32, \"Tm\": \"TEX\", \"Lg\": \"AL\", \"G\": 30, \"PA\": 112, \"AB\": 101, \"R\": 13, \"H\": 24, \"2B\": 5, \"3B\": 0, \"HR\": 4, \"RBI\": 17, \"SB\": 0, \"CS\": 0, \"BB\": 11, \"SO\": 33, \"BA\": 0.238, \"OBP\": 0.313, \"SLG\": 0.406, \"OPS\": 0.718, \"OPS+\": 96, \"TB\": 41, \"GDP\": 1, \"HBP\": 0, \"SH\": 0, \"SF\": 0, \"IBB\": 0}, {\"Rk\": 223, \"Name\": \"Zack\\u00a0Gelof\", \"Age\": 23, \"Tm\": \"OAK\", \"Lg\": \"AL\", \"G\": 8, \"PA\": 33, \"AB\": 29, \"R\": 6, \"H\": 8, \"2B\": 3, \"3B\": 1, \"HR\": 1, \"RBI\": 3, \"SB\": 2, \"CS\": 1, \"BB\": 4, \"SO\": 9, \"BA\": 0.276, \"OBP\": 0.364, \"SLG\": 0.552, \"OPS\": 0.915, \"OPS+\": 158, \"TB\": 16, \"GDP\": 0, \"HBP\": 0, \"SH\": 0, \"SF\": 0, \"IBB\": 0}, {\"Rk\": 224, \"Name\": \"Ian\\u00a0Gibaut\", \"Age\": 29, \"Tm\": \"CIN\", \"Lg\": \"NL\", \"G\": 1, \"PA\": 0, \"AB\": 0, \"R\": 0, \"H\": 0, \"2B\": 0, \"3B\": 0, \"HR\": 0, \"RBI\": 0, \"SB\": 0, \"CS\": 0, \"BB\": 0, \"SO\": 0, \"BA\": 0.0, \"OBP\": 0.0, \"SLG\": 0.0, \"OPS\": 0.0, \"OPS+\": 0, \"TB\": 0, \"GDP\": 0, \"HBP\": 0, \"SH\": 0, \"SF\": 0, \"IBB\": 0}, {\"Rk\": 225, \"Name\": \"Kyle\\u00a0Gibson\", \"Age\": 35, \"Tm\": \"BAL\", \"Lg\": \"AL\", \"G\": 1, \"PA\": 0, \"AB\": 0, \"R\": 0, \"H\": 0, \"2B\": 0, \"3B\": 0, \"HR\": 0, \"RBI\": 0, \"SB\": 0, \"CS\": 0, \"BB\": 0, \"SO\": 0, \"BA\": 0.0, \"OBP\": 0.0, \"SLG\": 0.0, \"OPS\": 0.0, \"OPS+\": 0, \"TB\": 0, \"GDP\": 0, \"HBP\": 0, \"SH\": 0, \"SF\": 0, \"IBB\": 0}, {\"Rk\": 226, \"Name\": \"Logan\\u00a0Gillaspie\", \"Age\": 26, \"Tm\": \"BAL\", \"Lg\": \"AL\", \"G\": 1, \"PA\": 0, \"AB\": 0, \"R\": 0, \"H\": 0, \"2B\": 0, \"3B\": 0, \"HR\": 0, \"RBI\": 0, \"SB\": 0, \"CS\": 0, \"BB\": 0, \"SO\": 0, \"BA\": 0.0, \"OBP\": 0.0, \"SLG\": 0.0, \"OPS\": 0.0, \"OPS+\": 0, \"TB\": 0, \"GDP\": 0, \"HBP\": 0, \"SH\": 0, \"SF\": 0, \"IBB\": 0}, {\"Rk\": 227, \"Name\": \"Andr\\u00e9s\\u00a0Gim\\u00e9nez*\", \"Age\": 24, \"Tm\": \"CLE\", \"Lg\": \"AL\", \"G\": 93, \"PA\": 372, \"AB\": 332, \"R\": 42, \"H\": 81, \"2B\": 14, \"3B\": 4, \"HR\": 8, \"RBI\": 37, \"SB\": 15, \"CS\": 3, \"BB\": 20, \"SO\": 63, \"BA\": 0.244, \"OBP\": 0.314, \"SLG\": 0.383, \"OPS\": 0.697, \"OPS+\": 95, \"TB\": 127, \"GDP\": 6, \"HBP\": 15, \"SH\": 3, \"SF\": 2, \"IBB\": 2}, {\"Rk\": 228, \"Name\": \"Kevin\\u00a0Ginkel*\", \"Age\": 29, \"Tm\": \"ARI\", \"Lg\": \"NL\", \"G\": 1, \"PA\": 0, \"AB\": 0, \"R\": 0, \"H\": 0, \"2B\": 0, \"3B\": 0, \"HR\": 0, \"RBI\": 0, \"SB\": 0, \"CS\": 0, \"BB\": 0, \"SO\": 0, \"BA\": 0.0, \"OBP\": 0.0, \"SLG\": 0.0, \"OPS\": 0.0, \"OPS+\": 0, \"TB\": 0, \"GDP\": 0, \"HBP\": 0, \"SH\": 0, \"SF\": 0, \"IBB\": 0}, {\"Rk\": 229, \"Name\": \"Paul\\u00a0Goldschmidt\", \"Age\": 35, \"Tm\": \"STL\", \"Lg\": \"NL\", \"G\": 96, \"PA\": 434, \"AB\": 378, \"R\": 61, \"H\": 107, \"2B\": 21, \"3B\": 0, \"HR\": 16, \"RBI\": 50, \"SB\": 8, \"CS\": 2, \"BB\": 52, \"SO\": 94, \"BA\": 0.283, \"OBP\": 0.371, \"SLG\": 0.466, \"OPS\": 0.837, \"OPS+\": 128, \"TB\": 176, \"GDP\": 10, \"HBP\": 2, \"SH\": 0, \"SF\": 2, \"IBB\": 3}, {\"Rk\": 230, \"Name\": \"Yan\\u00a0Gomes\", \"Age\": 35, \"Tm\": \"CHC\", \"Lg\": \"NL\", \"G\": 64, \"PA\": 229, \"AB\": 209, \"R\": 29, \"H\": 55, \"2B\": 4, \"3B\": 2, \"HR\": 8, \"RBI\": 33, \"SB\": 1, \"CS\": 0, \"BB\": 11, \"SO\": 45, \"BA\": 0.263, \"OBP\": 0.306, \"SLG\": 0.416, \"OPS\": 0.722, \"OPS+\": 93, \"TB\": 87, \"GDP\": 2, \"HBP\": 4, \"SH\": 0, \"SF\": 5, \"IBB\": 1}, {\"Rk\": 231, \"Name\": \"Nick\\u00a0Gonzales\", \"Age\": 24, \"Tm\": \"PIT\", \"Lg\": \"NL\", \"G\": 24, \"PA\": 89, \"AB\": 82, \"R\": 10, \"H\": 20, \"2B\": 6, \"3B\": 1, \"HR\": 2, \"RBI\": 12, \"SB\": 0, \"CS\": 1, \"BB\": 3, \"SO\": 25, \"BA\": 0.244, \"OBP\": 0.292, \"SLG\": 0.415, \"OPS\": 0.707, \"OPS+\": 90, \"TB\": 34, \"GDP\": 0, \"HBP\": 3, \"SH\": 0, \"SF\": 1, \"IBB\": 0}, {\"Rk\": 232, \"Name\": \"Oscar\\u00a0Gonzalez\", \"Age\": 25, \"Tm\": \"CLE\", \"Lg\": \"AL\", \"G\": 25, \"PA\": 75, \"AB\": 73, \"R\": 5, \"H\": 14, \"2B\": 2, \"3B\": 1, \"HR\": 1, \"RBI\": 5, \"SB\": 0, \"CS\": 0, \"BB\": 2, \"SO\": 15, \"BA\": 0.192, \"OBP\": 0.213, \"SLG\": 0.288, \"OPS\": 0.501, \"OPS+\": 39, \"TB\": 21, \"GDP\": 0, \"HBP\": 0, \"SH\": 0, \"SF\": 0, \"IBB\": 0}, {\"Rk\": 233, \"Name\": \"Romy\\u00a0Gonzalez\", \"Age\": 26, \"Tm\": \"CHW\", \"Lg\": \"AL\", \"G\": 44, \"PA\": 97, \"AB\": 93, \"R\": 11, \"H\": 18, \"2B\": 4, \"3B\": 2, \"HR\": 3, \"RBI\": 14, \"SB\": 7, \"CS\": 0, \"BB\": 2, \"SO\": 36, \"BA\": 0.194, \"OBP\": 0.208, \"SLG\": 0.376, \"OPS\": 0.585, \"OPS+\": 57, \"TB\": 35, \"GDP\": 0, \"HBP\": 0, \"SH\": 1, \"SF\": 1, \"IBB\": 0}, {\"Rk\": 234, \"Name\": \"Victor\\u00a0Gonz\\u00e1lez*\", \"Age\": 27, \"Tm\": \"LAD\", \"Lg\": \"NL\", \"G\": 2, \"PA\": 0, \"AB\": 0, \"R\": 0, \"H\": 0, \"2B\": 0, \"3B\": 0, \"HR\": 0, \"RBI\": 0, \"SB\": 0, \"CS\": 0, \"BB\": 0, \"SO\": 0, \"BA\": 0.0, \"OBP\": 0.0, \"SLG\": 0.0, \"OPS\": 0.0, \"OPS+\": 0, \"TB\": 0, \"GDP\": 0, \"HBP\": 0, \"SH\": 0, \"SF\": 0, \"IBB\": 0}, {\"Rk\": 235, \"Name\": \"Nick\\u00a0Gordon*\", \"Age\": 27, \"Tm\": \"MIN\", \"Lg\": \"AL\", \"G\": 34, \"PA\": 93, \"AB\": 91, \"R\": 13, \"H\": 16, \"2B\": 5, \"3B\": 1, \"HR\": 2, \"RBI\": 7, \"SB\": 0, \"CS\": 0, \"BB\": 1, \"SO\": 11, \"BA\": 0.176, \"OBP\": 0.185, \"SLG\": 0.319, \"OPS\": 0.503, \"OPS+\": 36, \"TB\": 29, \"GDP\": 1, \"HBP\": 0, \"SH\": 1, \"SF\": 0, \"IBB\": 0}, {\"Rk\": 236, \"Name\": \"Nolan\\u00a0Gorman*\", \"Age\": 23, \"Tm\": \"STL\", \"Lg\": \"NL\", \"G\": 90, \"PA\": 345, \"AB\": 305, \"R\": 43, \"H\": 74, \"2B\": 15, \"3B\": 0, \"HR\": 20, \"RBI\": 62, \"SB\": 5, \"CS\": 2, \"BB\": 37, \"SO\": 106, \"BA\": 0.243, \"OBP\": 0.325, \"SLG\": 0.489, \"OPS\": 0.813, \"OPS+\": 119, \"TB\": 149, \"GDP\": 3, \"HBP\": 1, \"SH\": 0, \"SF\": 2, \"IBB\": 1}, {\"Rk\": 237, \"Name\": \"Yasmani\\u00a0Grandal#\", \"Age\": 34, \"Tm\": \"CHW\", \"Lg\": \"AL\", \"G\": 81, \"PA\": 286, \"AB\": 258, \"R\": 24, \"H\": 66, \"2B\": 12, \"3B\": 0, \"HR\": 8, \"RBI\": 29, \"SB\": 0, \"CS\": 0, \"BB\": 24, \"SO\": 64, \"BA\": 0.256, \"OBP\": 0.325, \"SLG\": 0.395, \"OPS\": 0.721, \"OPS+\": 98, \"TB\": 102, \"GDP\": 6, \"HBP\": 3, \"SH\": 0, \"SF\": 1, \"IBB\": 0}, {\"Rk\": 238, \"Name\": \"Brusdar\\u00a0Graterol\", \"Age\": 24, \"Tm\": \"LAD\", \"Lg\": \"NL\", \"G\": 1, \"PA\": 0, \"AB\": 0, \"R\": 0, \"H\": 0, \"2B\": 0, \"3B\": 0, \"HR\": 0, \"RBI\": 0, \"SB\": 0, \"CS\": 0, \"BB\": 0, \"SO\": 0, \"BA\": 0.0, \"OBP\": 0.0, \"SLG\": 0.0, \"OPS\": 0.0, \"OPS+\": 0, \"TB\": 0, \"GDP\": 0, \"HBP\": 0, \"SH\": 0, \"SF\": 0, \"IBB\": 0}, {\"Rk\": 239, \"Name\": \"Jon\\u00a0Gray\", \"Age\": 31, \"Tm\": \"TEX\", \"Lg\": \"AL\", \"G\": 1, \"PA\": 0, \"AB\": 0, \"R\": 0, \"H\": 0, \"2B\": 0, \"3B\": 0, \"HR\": 0, \"RBI\": 0, \"SB\": 0, \"CS\": 0, \"BB\": 0, \"SO\": 0, \"BA\": 0.0, \"OBP\": 0.0, \"SLG\": 0.0, \"OPS\": 0.0, \"OPS+\": 0, \"TB\": 0, \"GDP\": 0, \"HBP\": 0, \"SH\": 0, \"SF\": 0, \"IBB\": 0}, {\"Rk\": 240, \"Name\": \"Riley\\u00a0Greene*\", \"Age\": 22, \"Tm\": \"DET\", \"Lg\": \"AL\", \"G\": 63, \"PA\": 267, \"AB\": 241, \"R\": 35, \"H\": 72, \"2B\": 10, \"3B\": 3, \"HR\": 7, \"RBI\": 22, \"SB\": 6, \"CS\": 0, \"BB\": 25, \"SO\": 75, \"BA\": 0.299, \"OBP\": 0.367, \"SLG\": 0.452, \"OPS\": 0.819, \"OPS+\": 128, \"TB\": 109, \"GDP\": 4, \"HBP\": 1, \"SH\": 0, \"SF\": 0, \"IBB\": 0}, {\"Rk\": 241, \"Name\": \"Randal\\u00a0Grichuk\", \"Age\": 31, \"Tm\": \"COL\", \"Lg\": \"NL\", \"G\": 57, \"PA\": 233, \"AB\": 211, \"R\": 34, \"H\": 63, \"2B\": 18, \"3B\": 1, \"HR\": 5, \"RBI\": 23, \"SB\": 1, \"CS\": 2, \"BB\": 17, \"SO\": 48, \"BA\": 0.299, \"OBP\": 0.361, \"SLG\": 0.464, \"OPS\": 0.825, \"OPS+\": 112, \"TB\": 98, \"GDP\": 6, \"HBP\": 4, \"SH\": 0, \"SF\": 1, \"IBB\": 2}, {\"Rk\": 242, \"Name\": \"Trent\\u00a0Grisham*\", \"Age\": 26, \"Tm\": \"SDP\", \"Lg\": \"NL\", \"G\": 95, \"PA\": 361, \"AB\": 307, \"R\": 44, \"H\": 66, \"2B\": 24, \"3B\": 1, \"HR\": 10, \"RBI\": 32, \"SB\": 10, \"CS\": 3, \"BB\": 48, \"SO\": 102, \"BA\": 0.215, \"OBP\": 0.326, \"SLG\": 0.397, \"OPS\": 0.723, \"OPS+\": 103, \"TB\": 122, \"GDP\": 4, \"HBP\": 3, \"SH\": 1, \"SF\": 1, \"IBB\": 0}, {\"Rk\": 243, \"Name\": \"Vaughn\\u00a0Grissom\", \"Age\": 22, \"Tm\": \"ATL\", \"Lg\": \"NL\", \"G\": 19, \"PA\": 70, \"AB\": 65, \"R\": 5, \"H\": 18, \"2B\": 2, \"3B\": 0, \"HR\": 0, \"RBI\": 7, \"SB\": 0, \"CS\": 1, \"BB\": 2, \"SO\": 13, \"BA\": 0.277, \"OBP\": 0.314, \"SLG\": 0.308, \"OPS\": 0.622, \"OPS+\": 68, \"TB\": 20, \"GDP\": 1, \"HBP\": 2, \"SH\": 0, \"SF\": 1, \"IBB\": 0}, {\"Rk\": 244, \"Name\": \"Robbie\\u00a0Grossman#\", \"Age\": 33, \"Tm\": \"TEX\", \"Lg\": \"AL\", \"G\": 72, \"PA\": 272, \"AB\": 238, \"R\": 37, \"H\": 53, \"2B\": 12, \"3B\": 0, \"HR\": 7, \"RBI\": 35, \"SB\": 0, \"CS\": 0, \"BB\": 26, \"SO\": 66, \"BA\": 0.223, \"OBP\": 0.298, \"SLG\": 0.361, \"OPS\": 0.659, \"OPS+\": 81, \"TB\": 86, \"GDP\": 4, \"HBP\": 2, \"SH\": 0, \"SF\": 6, \"IBB\": 0}, {\"Rk\": 245, \"Name\": \"Vladimir\\u00a0Guerrero\\u00a0Jr.\", \"Age\": 24, \"Tm\": \"TOR\", \"Lg\": \"AL\", \"G\": 96, \"PA\": 418, \"AB\": 372, \"R\": 48, \"H\": 101, \"2B\": 21, \"3B\": 0, \"HR\": 16, \"RBI\": 62, \"SB\": 4, \"CS\": 2, \"BB\": 35, \"SO\": 66, \"BA\": 0.272, \"OBP\": 0.342, \"SLG\": 0.457, \"OPS\": 0.799, \"OPS+\": 122, \"TB\": 170, \"GDP\": 14, \"HBP\": 7, \"SH\": 0, \"SF\": 4, \"IBB\": 1}, {\"Rk\": 246, \"Name\": \"Luis\\u00a0Guillorme*\", \"Age\": 28, \"Tm\": \"NYM\", \"Lg\": \"NL\", \"G\": 50, \"PA\": 114, \"AB\": 101, \"R\": 12, \"H\": 24, \"2B\": 6, \"3B\": 1, \"HR\": 1, \"RBI\": 9, \"SB\": 0, \"CS\": 0, \"BB\": 10, \"SO\": 28, \"BA\": 0.238, \"OBP\": 0.304, \"SLG\": 0.347, \"OPS\": 0.65, \"OPS+\": 81, \"TB\": 35, \"GDP\": 3, \"HBP\": 0, \"SH\": 2, \"SF\": 1, \"IBB\": 1}, {\"Rk\": 247, \"Name\": \"Lourdes\\u00a0Gurriel\\u00a0Jr.\", \"Age\": 29, \"Tm\": \"ARI\", \"Lg\": \"NL\", \"G\": 87, \"PA\": 361, \"AB\": 335, \"R\": 40, \"H\": 86, \"2B\": 22, \"3B\": 2, \"HR\": 15, \"RBI\": 56, \"SB\": 2, \"CS\": 0, \"BB\": 21, \"SO\": 61, \"BA\": 0.257, \"OBP\": 0.307, \"SLG\": 0.469, \"OPS\": 0.776, \"OPS+\": 111, \"TB\": 157, \"GDP\": 12, \"HBP\": 4, \"SH\": 0, \"SF\": 1, \"IBB\": 0}, {\"Rk\": 248, \"Name\": \"Yuli\\u00a0Gurriel\", \"Age\": 39, \"Tm\": \"MIA\", \"Lg\": \"NL\", \"G\": 63, \"PA\": 237, \"AB\": 212, \"R\": 22, \"H\": 56, \"2B\": 11, \"3B\": 3, \"HR\": 3, \"RBI\": 18, \"SB\": 4, \"CS\": 0, \"BB\": 21, \"SO\": 26, \"BA\": 0.264, \"OBP\": 0.329, \"SLG\": 0.387, \"OPS\": 0.716, \"OPS+\": 97, \"TB\": 82, \"GDP\": 9, \"HBP\": 1, \"SH\": 0, \"SF\": 3, \"IBB\": 2}, {\"Rk\": 249, \"Name\": \"Dalton\\u00a0Guthrie\", \"Age\": 27, \"Tm\": \"PHI\", \"Lg\": \"NL\", \"G\": 23, \"PA\": 28, \"AB\": 24, \"R\": 4, \"H\": 4, \"2B\": 1, \"3B\": 0, \"HR\": 0, \"RBI\": 0, \"SB\": 0, \"CS\": 0, \"BB\": 3, \"SO\": 7, \"BA\": 0.167, \"OBP\": 0.286, \"SLG\": 0.208, \"OPS\": 0.494, \"OPS+\": 40, \"TB\": 5, \"GDP\": 0, \"HBP\": 1, \"SH\": 0, \"SF\": 0, \"IBB\": 0}, {\"Rk\": 250, \"Name\": \"Eric\\u00a0Haase\", \"Age\": 30, \"Tm\": \"DET\", \"Lg\": \"AL\", \"G\": 73, \"PA\": 248, \"AB\": 233, \"R\": 19, \"H\": 47, \"2B\": 8, \"3B\": 1, \"HR\": 3, \"RBI\": 23, \"SB\": 3, \"CS\": 1, \"BB\": 14, \"SO\": 68, \"BA\": 0.202, \"OBP\": 0.246, \"SLG\": 0.283, \"OPS\": 0.529, \"OPS+\": 48, \"TB\": 66, \"GDP\": 8, \"HBP\": 0, \"SH\": 0, \"SF\": 1, \"IBB\": 1}, {\"Rk\": 251, \"Name\": \"Josh\\u00a0Hader*\", \"Age\": 29, \"Tm\": \"SDP\", \"Lg\": \"NL\", \"G\": 1, \"PA\": 0, \"AB\": 0, \"R\": 0, \"H\": 0, \"2B\": 0, \"3B\": 0, \"HR\": 0, \"RBI\": 0, \"SB\": 0, \"CS\": 0, \"BB\": 0, \"SO\": 0, \"BA\": 0.0, \"OBP\": 0.0, \"SLG\": 0.0, \"OPS\": 0.0, \"OPS+\": 0, \"TB\": 0, \"GDP\": 0, \"HBP\": 0, \"SH\": 0, \"SF\": 0, \"IBB\": 0}, {\"Rk\": 252, \"Name\": \"Sam\\u00a0Haggerty#\", \"Age\": 29, \"Tm\": \"SEA\", \"Lg\": \"AL\", \"G\": 24, \"PA\": 48, \"AB\": 42, \"R\": 6, \"H\": 8, \"2B\": 2, \"3B\": 0, \"HR\": 0, \"RBI\": 2, \"SB\": 4, \"CS\": 1, \"BB\": 6, \"SO\": 11, \"BA\": 0.19, \"OBP\": 0.292, \"SLG\": 0.238, \"OPS\": 0.53, \"OPS+\": 53, \"TB\": 10, \"GDP\": 0, \"HBP\": 0, \"SH\": 0, \"SF\": 0, \"IBB\": 0}, {\"Rk\": 253, \"Name\": \"Darick\\u00a0Hall*\", \"Age\": 27, \"Tm\": \"PHI\", \"Lg\": \"NL\", \"G\": 18, \"PA\": 56, \"AB\": 54, \"R\": 2, \"H\": 9, \"2B\": 1, \"3B\": 0, \"HR\": 1, \"RBI\": 3, \"SB\": 0, \"CS\": 0, \"BB\": 2, \"SO\": 18, \"BA\": 0.167, \"OBP\": 0.196, \"SLG\": 0.241, \"OPS\": 0.437, \"OPS+\": 20, \"TB\": 13, \"GDP\": 2, \"HBP\": 0, \"SH\": 0, \"SF\": 0, \"IBB\": 0}, {\"Rk\": 254, \"Name\": \"Billy\\u00a0Hamilton\", \"Age\": 32, \"Tm\": \"CHW\", \"Lg\": \"AL\", \"G\": 3, \"PA\": 2, \"AB\": 2, \"R\": 2, \"H\": 0, \"2B\": 0, \"3B\": 0, \"HR\": 0, \"RBI\": 0, \"SB\": 2, \"CS\": 0, \"BB\": 0, \"SO\": 1, \"BA\": 0.0, \"OBP\": 0.0, \"SLG\": 0.0, \"OPS\": 0.0, \"OPS+\": -100, \"TB\": 0, \"GDP\": 0, \"HBP\": 0, \"SH\": 0, \"SF\": 0, \"IBB\": 0}, {\"Rk\": 255, \"Name\": \"Caleb\\u00a0Hamilton\", \"Age\": 28, \"Tm\": \"BOS\", \"Lg\": \"AL\", \"G\": 4, \"PA\": 6, \"AB\": 5, \"R\": 0, \"H\": 0, \"2B\": 0, \"3B\": 0, \"HR\": 0, \"RBI\": 0, \"SB\": 0, \"CS\": 0, \"BB\": 1, \"SO\": 5, \"BA\": 0.0, \"OBP\": 0.167, \"SLG\": 0.0, \"OPS\": 0.167, \"OPS+\": -49, \"TB\": 0, \"GDP\": 0, \"HBP\": 0, \"SH\": 0, \"SF\": 0, \"IBB\": 0}, {\"Rk\": 256, \"Name\": \"David\\u00a0Hamilton*\", \"Age\": 25, \"Tm\": \"BOS\", \"Lg\": \"AL\", \"G\": 13, \"PA\": 34, \"AB\": 29, \"R\": 2, \"H\": 4, \"2B\": 2, \"3B\": 0, \"HR\": 0, \"RBI\": 0, \"SB\": 2, \"CS\": 1, \"BB\": 5, \"SO\": 10, \"BA\": 0.138, \"OBP\": 0.265, \"SLG\": 0.207, \"OPS\": 0.472, \"OPS+\": 30, \"TB\": 6, \"GDP\": 1, \"HBP\": 0, \"SH\": 0, \"SF\": 0, \"IBB\": 0}, {\"Rk\": 257, \"Name\": \"Garrett\\u00a0Hampson\", \"Age\": 28, \"Tm\": \"MIA\", \"Lg\": \"NL\", \"G\": 62, \"PA\": 148, \"AB\": 130, \"R\": 20, \"H\": 33, \"2B\": 9, \"3B\": 0, \"HR\": 1, \"RBI\": 10, \"SB\": 3, \"CS\": 0, \"BB\": 12, \"SO\": 40, \"BA\": 0.254, \"OBP\": 0.331, \"SLG\": 0.346, \"OPS\": 0.677, \"OPS+\": 87, \"TB\": 45, \"GDP\": 1, \"HBP\": 3, \"SH\": 3, \"SF\": 0, \"IBB\": 0}, {\"Rk\": 258, \"Name\": \"Mitch\\u00a0Haniger\", \"Age\": 32, \"Tm\": \"SFG\", \"Lg\": \"NL\", \"G\": 40, \"PA\": 160, \"AB\": 148, \"R\": 20, \"H\": 34, \"2B\": 9, \"3B\": 0, \"HR\": 4, \"RBI\": 22, \"SB\": 1, \"CS\": 0, \"BB\": 9, \"SO\": 42, \"BA\": 0.23, \"OBP\": 0.281, \"SLG\": 0.372, \"OPS\": 0.653, \"OPS+\": 78, \"TB\": 55, \"GDP\": 2, \"HBP\": 2, \"SH\": 0, \"SF\": 1, \"IBB\": 0}, {\"Rk\": 259, \"Name\": \"Ian\\u00a0Happ#\", \"Age\": 28, \"Tm\": \"CHC\", \"Lg\": \"NL\", \"G\": 96, \"PA\": 415, \"AB\": 341, \"R\": 41, \"H\": 84, \"2B\": 20, \"3B\": 2, \"HR\": 8, \"RBI\": 42, \"SB\": 8, \"CS\": 2, \"BB\": 68, \"SO\": 102, \"BA\": 0.246, \"OBP\": 0.373, \"SLG\": 0.387, \"OPS\": 0.761, \"OPS+\": 107, \"TB\": 132, \"GDP\": 7, \"HBP\": 3, \"SH\": 0, \"SF\": 3, \"IBB\": 2}, {\"Rk\": 260, \"Name\": \"Bryce\\u00a0Harper*\", \"Age\": 30, \"Tm\": \"PHI\", \"Lg\": \"NL\", \"G\": 65, \"PA\": 281, \"AB\": 241, \"R\": 38, \"H\": 70, \"2B\": 16, \"3B\": 0, \"HR\": 4, \"RBI\": 26, \"SB\": 6, \"CS\": 2, \"BB\": 37, \"SO\": 64, \"BA\": 0.29, \"OBP\": 0.384, \"SLG\": 0.407, \"OPS\": 0.791, \"OPS+\": 119, \"TB\": 98, \"GDP\": 5, \"HBP\": 1, \"SH\": 0, \"SF\": 2, \"IBB\": 4}, {\"Rk\": 261, \"Name\": \"Michael\\u00a0Harris\\u00a0II*\", \"Age\": 22, \"Tm\": \"ATL\", \"Lg\": \"NL\", \"G\": 75, \"PA\": 279, \"AB\": 256, \"R\": 36, \"H\": 69, \"2B\": 13, \"3B\": 2, \"HR\": 9, \"RBI\": 28, \"SB\": 12, \"CS\": 2, \"BB\": 18, \"SO\": 55, \"BA\": 0.27, \"OBP\": 0.323, \"SLG\": 0.441, \"OPS\": 0.764, \"OPS+\": 102, \"TB\": 113, \"GDP\": 6, \"HBP\": 3, \"SH\": 0, \"SF\": 2, \"IBB\": 0}, {\"Rk\": 262, \"Name\": \"Josh\\u00a0Harrison\", \"Age\": 35, \"Tm\": \"PHI\", \"Lg\": \"NL\", \"G\": 38, \"PA\": 106, \"AB\": 96, \"R\": 8, \"H\": 21, \"2B\": 3, \"3B\": 0, \"HR\": 2, \"RBI\": 10, \"SB\": 0, \"CS\": 0, \"BB\": 3, \"SO\": 20, \"BA\": 0.219, \"OBP\": 0.274, \"SLG\": 0.313, \"OPS\": 0.586, \"OPS+\": 61, \"TB\": 30, \"GDP\": 2, \"HBP\": 5, \"SH\": 0, \"SF\": 2, \"IBB\": 0}, {\"Rk\": 263, \"Name\": \"Adam\\u00a0Haseley*\", \"Age\": 27, \"Tm\": \"CHW\", \"Lg\": \"AL\", \"G\": 28, \"PA\": 39, \"AB\": 36, \"R\": 6, \"H\": 8, \"2B\": 2, \"3B\": 0, \"HR\": 0, \"RBI\": 2, \"SB\": 1, \"CS\": 0, \"BB\": 3, \"SO\": 8, \"BA\": 0.222, \"OBP\": 0.282, \"SLG\": 0.278, \"OPS\": 0.56, \"OPS+\": 56, \"TB\": 10, \"GDP\": 1, \"HBP\": 0, \"SH\": 0, \"SF\": 0, \"IBB\": 0}, {\"Rk\": 264, \"Name\": \"Ke'Bryan\\u00a0Hayes\", \"Age\": 26, \"Tm\": \"PIT\", \"Lg\": \"NL\", \"G\": 75, \"PA\": 307, \"AB\": 290, \"R\": 34, \"H\": 73, \"2B\": 16, \"3B\": 5, \"HR\": 5, \"RBI\": 32, \"SB\": 9, \"CS\": 5, \"BB\": 16, \"SO\": 62, \"BA\": 0.252, \"OBP\": 0.29, \"SLG\": 0.393, \"OPS\": 0.683, \"OPS+\": 84, \"TB\": 114, \"GDP\": 9, \"HBP\": 0, \"SH\": 0, \"SF\": 1, \"IBB\": 0}, {\"Rk\": 265, \"Name\": \"Austin\\u00a0Hays\", \"Age\": 27, \"Tm\": \"BAL\", \"Lg\": \"AL\", \"G\": 87, \"PA\": 345, \"AB\": 321, \"R\": 47, \"H\": 95, \"2B\": 24, \"3B\": 2, \"HR\": 9, \"RBI\": 38, \"SB\": 2, \"CS\": 1, \"BB\": 19, \"SO\": 83, \"BA\": 0.296, \"OBP\": 0.333, \"SLG\": 0.467, \"OPS\": 0.801, \"OPS+\": 122, \"TB\": 150, \"GDP\": 4, \"HBP\": 1, \"SH\": 0, \"SF\": 4, \"IBB\": 0}, {\"Rk\": 266, \"Name\": \"Taylor\\u00a0Hearn*\", \"Age\": 28, \"Tm\": \"TEX\", \"Lg\": \"AL\", \"G\": 1, \"PA\": 0, \"AB\": 0, \"R\": 0, \"H\": 0, \"2B\": 0, \"3B\": 0, \"HR\": 0, \"RBI\": 0, \"SB\": 0, \"CS\": 0, \"BB\": 0, \"SO\": 0, \"BA\": 0.0, \"OBP\": 0.0, \"SLG\": 0.0, \"OPS\": 0.0, \"OPS+\": 0, \"TB\": 0, \"GDP\": 0, \"HBP\": 0, \"SH\": 0, \"SF\": 0, \"IBB\": 0}, {\"Rk\": 267, \"Name\": \"Austin\\u00a0Hedges\", \"Age\": 30, \"Tm\": \"PIT\", \"Lg\": \"NL\", \"G\": 62, \"PA\": 180, \"AB\": 156, \"R\": 12, \"H\": 27, \"2B\": 5, \"3B\": 0, \"HR\": 1, \"RBI\": 14, \"SB\": 1, \"CS\": 0, \"BB\": 10, \"SO\": 38, \"BA\": 0.173, \"OBP\": 0.224, \"SLG\": 0.224, \"OPS\": 0.448, \"OPS+\": 23, \"TB\": 35, \"GDP\": 6, \"HBP\": 1, \"SH\": 9, \"SF\": 3, \"IBB\": 0}, {\"Rk\": 268, \"Name\": \"Jonah\\u00a0Heim#\", \"Age\": 28, \"Tm\": \"TEX\", \"Lg\": \"AL\", \"G\": 86, \"PA\": 344, \"AB\": 316, \"R\": 47, \"H\": 89, \"2B\": 22, \"3B\": 0, \"HR\": 14, \"RBI\": 67, \"SB\": 2, \"CS\": 0, \"BB\": 25, \"SO\": 59, \"BA\": 0.282, \"OBP\": 0.334, \"SLG\": 0.484, \"OPS\": 0.818, \"OPS+\": 122, \"TB\": 153, \"GDP\": 7, \"HBP\": 1, \"SH\": 0, \"SF\": 2, \"IBB\": 2}, {\"Rk\": 269, \"Name\": \"Tyler\\u00a0Heineman#\", \"Age\": 32, \"Tm\": \"TOT\", \"Lg\": \"MLB\", \"G\": 12, \"PA\": 30, \"AB\": 25, \"R\": 2, \"H\": 6, \"2B\": 1, \"3B\": 0, \"HR\": 0, \"RBI\": 0, \"SB\": 1, \"CS\": 0, \"BB\": 5, \"SO\": 6, \"BA\": 0.24, \"OBP\": 0.367, \"SLG\": 0.28, \"OPS\": 0.647, \"OPS+\": 85, \"TB\": 7, \"GDP\": 0, \"HBP\": 0, \"SH\": 0, \"SF\": 0, \"IBB\": 0}, {\"Rk\": 270, \"Name\": \"Tyler\\u00a0Heineman#\", \"Age\": 32, \"Tm\": \"PIT\", \"Lg\": \"NL\", \"G\": 3, \"PA\": 10, \"AB\": 9, \"R\": 1, \"H\": 1, \"2B\": 0, \"3B\": 0, \"HR\": 0, \"RBI\": 0, \"SB\": 1, \"CS\": 0, \"BB\": 1, \"SO\": 1, \"BA\": 0.111, \"OBP\": 0.2, \"SLG\": 0.111, \"OPS\": 0.311, \"OPS+\": -11, \"TB\": 1, \"GDP\": 0, \"HBP\": 0, \"SH\": 0, \"SF\": 0, \"IBB\": 0}, {\"Rk\": 271, \"Name\": \"Tyler\\u00a0Heineman#\", \"Age\": 32, \"Tm\": \"TOR\", \"Lg\": \"AL\", \"G\": 9, \"PA\": 20, \"AB\": 16, \"R\": 1, \"H\": 5, \"2B\": 1, \"3B\": 0, \"HR\": 0, \"RBI\": 0, \"SB\": 0, \"CS\": 0, \"BB\": 4, \"SO\": 5, \"BA\": 0.313, \"OBP\": 0.45, \"SLG\": 0.375, \"OPS\": 0.825, \"OPS+\": 137, \"TB\": 6, \"GDP\": 0, \"HBP\": 0, \"SH\": 0, \"SF\": 0, \"IBB\": 0}, {\"Rk\": 272, \"Name\": \"Ryan\\u00a0Helsley\", \"Age\": 28, \"Tm\": \"STL\", \"Lg\": \"NL\", \"G\": 1, \"PA\": 0, \"AB\": 0, \"R\": 0, \"H\": 0, \"2B\": 0, \"3B\": 0, \"HR\": 0, \"RBI\": 0, \"SB\": 0, \"CS\": 0, \"BB\": 0, \"SO\": 0, \"BA\": 0.0, \"OBP\": 0.0, \"SLG\": 0.0, \"OPS\": 0.0, \"OPS+\": 0, \"TB\": 0, \"GDP\": 0, \"HBP\": 0, \"SH\": 0, \"SF\": 0, \"IBB\": 0}, {\"Rk\": 273, \"Name\": \"Gunnar\\u00a0Henderson*\", \"Age\": 22, \"Tm\": \"BAL\", \"Lg\": \"AL\", \"G\": 88, \"PA\": 344, \"AB\": 300, \"R\": 51, \"H\": 73, \"2B\": 12, \"3B\": 5, \"HR\": 15, \"RBI\": 41, \"SB\": 5, \"CS\": 2, \"BB\": 41, \"SO\": 98, \"BA\": 0.243, \"OBP\": 0.337, \"SLG\": 0.467, \"OPS\": 0.804, \"OPS+\": 123, \"TB\": 140, \"GDP\": 5, \"HBP\": 2, \"SH\": 0, \"SF\": 1, \"IBB\": 1}, {\"Rk\": 274, \"Name\": \"David\\u00a0Hensley\", \"Age\": 27, \"Tm\": \"HOU\", \"Lg\": \"AL\", \"G\": 29, \"PA\": 93, \"AB\": 83, \"R\": 12, \"H\": 10, \"2B\": 1, \"3B\": 0, \"HR\": 1, \"RBI\": 3, \"SB\": 1, \"CS\": 0, \"BB\": 10, \"SO\": 34, \"BA\": 0.12, \"OBP\": 0.215, \"SLG\": 0.169, \"OPS\": 0.384, \"OPS+\": 10, \"TB\": 14, \"GDP\": 0, \"HBP\": 0, \"SH\": 0, \"SF\": 0, \"IBB\": 0}, {\"Rk\": 275, \"Name\": \"Enrique\\u00a0Hern\\u00e1ndez\", \"Age\": 31, \"Tm\": \"BOS\", \"Lg\": \"AL\", \"G\": 85, \"PA\": 319, \"AB\": 293, \"R\": 38, \"H\": 64, \"2B\": 11, \"3B\": 0, \"HR\": 6, \"RBI\": 31, \"SB\": 3, \"CS\": 1, \"BB\": 22, \"SO\": 67, \"BA\": 0.218, \"OBP\": 0.276, \"SLG\": 0.317, \"OPS\": 0.593, \"OPS+\": 59, \"TB\": 93, \"GDP\": 11, \"HBP\": 2, \"SH\": 0, \"SF\": 2, \"IBB\": 0}, {\"Rk\": 276, \"Name\": \"Teoscar\\u00a0Hern\\u00e1ndez\", \"Age\": 30, \"Tm\": \"SEA\", \"Lg\": \"AL\", \"G\": 98, \"PA\": 408, \"AB\": 376, \"R\": 44, \"H\": 93, \"2B\": 17, \"3B\": 2, \"HR\": 16, \"RBI\": 55, \"SB\": 5, \"CS\": 2, \"BB\": 24, \"SO\": 127, \"BA\": 0.247, \"OBP\": 0.299, \"SLG\": 0.431, \"OPS\": 0.73, \"OPS+\": 104, \"TB\": 162, \"GDP\": 5, \"HBP\": 5, \"SH\": 0, \"SF\": 3, \"IBB\": 1}, {\"Rk\": 277, \"Name\": \"Yonny\\u00a0Hern\\u00e1ndez#\", \"Age\": 25, \"Tm\": \"LAD\", \"Lg\": \"NL\", \"G\": 10, \"PA\": 21, \"AB\": 17, \"R\": 5, \"H\": 3, \"2B\": 1, \"3B\": 0, \"HR\": 0, \"RBI\": 4, \"SB\": 0, \"CS\": 0, \"BB\": 1, \"SO\": 7, \"BA\": 0.176, \"OBP\": 0.25, \"SLG\": 0.235, \"OPS\": 0.485, \"OPS+\": 32, \"TB\": 4, \"GDP\": 0, \"HBP\": 1, \"SH\": 1, \"SF\": 1, \"IBB\": 0}, {\"Rk\": 278, \"Name\": \"Iv\\u00e1n\\u00a0Herrera\", \"Age\": 23, \"Tm\": \"STL\", \"Lg\": \"NL\", \"G\": 7, \"PA\": 22, \"AB\": 19, \"R\": 3, \"H\": 7, \"2B\": 1, \"3B\": 0, \"HR\": 0, \"RBI\": 2, \"SB\": 0, \"CS\": 0, \"BB\": 2, \"SO\": 7, \"BA\": 0.368, \"OBP\": 0.455, \"SLG\": 0.421, \"OPS\": 0.876, \"OPS+\": 143, \"TB\": 8, \"GDP\": 0, \"HBP\": 1, \"SH\": 0, \"SF\": 0, \"IBB\": 0}, {\"Rk\": 279, \"Name\": \"Jose\\u00a0Herrera#\", \"Age\": 26, \"Tm\": \"ARI\", \"Lg\": \"NL\", \"G\": 21, \"PA\": 68, \"AB\": 55, \"R\": 11, \"H\": 14, \"2B\": 4, \"3B\": 0, \"HR\": 0, \"RBI\": 6, \"SB\": 1, \"CS\": 0, \"BB\": 8, \"SO\": 19, \"BA\": 0.255, \"OBP\": 0.344, \"SLG\": 0.327, \"OPS\": 0.671, \"OPS+\": 88, \"TB\": 18, \"GDP\": 2, \"HBP\": 0, \"SH\": 4, \"SF\": 1, \"IBB\": 0}, {\"Rk\": 280, \"Name\": \"Jason\\u00a0Heyward*\", \"Age\": 33, \"Tm\": \"LAD\", \"Lg\": \"NL\", \"G\": 77, \"PA\": 228, \"AB\": 191, \"R\": 38, \"H\": 47, \"2B\": 13, \"3B\": 0, \"HR\": 9, \"RBI\": 25, \"SB\": 2, \"CS\": 1, \"BB\": 28, \"SO\": 45, \"BA\": 0.246, \"OBP\": 0.347, \"SLG\": 0.455, \"OPS\": 0.802, \"OPS+\": 113, \"TB\": 87, \"GDP\": 5, \"HBP\": 3, \"SH\": 0, \"SF\": 3, \"IBB\": 0}, {\"Rk\": 281, \"Name\": \"Aaron\\u00a0Hicks#\", \"Age\": 33, \"Tm\": \"TOT\", \"Lg\": \"AL\", \"G\": 68, \"PA\": 223, \"AB\": 195, \"R\": 33, \"H\": 46, \"2B\": 6, \"3B\": 1, \"HR\": 7, \"RBI\": 25, \"SB\": 3, \"CS\": 0, \"BB\": 27, \"SO\": 54, \"BA\": 0.236, \"OBP\": 0.327, \"SLG\": 0.385, \"OPS\": 0.712, \"OPS+\": 99, \"TB\": 75, \"GDP\": 0, \"HBP\": 0, \"SH\": 0, \"SF\": 1, \"IBB\": 0}, {\"Rk\": 282, \"Name\": \"Aaron\\u00a0Hicks#\", \"Age\": 33, \"Tm\": \"NYY\", \"Lg\": \"AL\", \"G\": 28, \"PA\": 76, \"AB\": 69, \"R\": 9, \"H\": 13, \"2B\": 2, \"3B\": 0, \"HR\": 1, \"RBI\": 5, \"SB\": 0, \"CS\": 0, \"BB\": 7, \"SO\": 20, \"BA\": 0.188, \"OBP\": 0.263, \"SLG\": 0.261, \"OPS\": 0.524, \"OPS+\": 47, \"TB\": 18, \"GDP\": 0, \"HBP\": 0, \"SH\": 0, \"SF\": 0, \"IBB\": 0}, {\"Rk\": 283, \"Name\": \"Aaron\\u00a0Hicks#\", \"Age\": 33, \"Tm\": \"BAL\", \"Lg\": \"AL\", \"G\": 40, \"PA\": 147, \"AB\": 126, \"R\": 24, \"H\": 33, \"2B\": 4, \"3B\": 1, \"HR\": 6, \"RBI\": 20, \"SB\": 3, \"CS\": 0, \"BB\": 20, \"SO\": 34, \"BA\": 0.262, \"OBP\": 0.361, \"SLG\": 0.452, \"OPS\": 0.813, \"OPS+\": 127, \"TB\": 57, \"GDP\": 0, \"HBP\": 0, \"SH\": 0, \"SF\": 1, \"IBB\": 0}, {\"Rk\": 284, \"Name\": \"Kyle\\u00a0Higashioka\", \"Age\": 33, \"Tm\": \"NYY\", \"Lg\": \"AL\", \"G\": 61, \"PA\": 165, \"AB\": 154, \"R\": 14, \"H\": 35, \"2B\": 8, \"3B\": 0, \"HR\": 5, \"RBI\": 24, \"SB\": 0, \"CS\": 0, \"BB\": 8, \"SO\": 46, \"BA\": 0.227, \"OBP\": 0.262, \"SLG\": 0.377, \"OPS\": 0.639, \"OPS+\": 75, \"TB\": 58, \"GDP\": 1, \"HBP\": 0, \"SH\": 1, \"SF\": 2, \"IBB\": 0}, {\"Rk\": 285, \"Name\": \"Derek\\u00a0Hill\", \"Age\": 27, \"Tm\": \"WSN\", \"Lg\": \"NL\", \"G\": 13, \"PA\": 50, \"AB\": 47, \"R\": 3, \"H\": 8, \"2B\": 1, \"3B\": 0, \"HR\": 0, \"RBI\": 1, \"SB\": 1, \"CS\": 0, \"BB\": 3, \"SO\": 11, \"BA\": 0.17, \"OBP\": 0.22, \"SLG\": 0.191, \"OPS\": 0.411, \"OPS+\": 18, \"TB\": 9, \"GDP\": 0, \"HBP\": 0, \"SH\": 0, \"SF\": 0, \"IBB\": 0}, {\"Rk\": 286, \"Name\": \"Sam\\u00a0Hilliard*\", \"Age\": 29, \"Tm\": \"ATL\", \"Lg\": \"NL\", \"G\": 40, \"PA\": 78, \"AB\": 72, \"R\": 15, \"H\": 17, \"2B\": 5, \"3B\": 0, \"HR\": 3, \"RBI\": 6, \"SB\": 4, \"CS\": 0, \"BB\": 6, \"SO\": 33, \"BA\": 0.236, \"OBP\": 0.295, \"SLG\": 0.431, \"OPS\": 0.725, \"OPS+\": 91, \"TB\": 31, \"GDP\": 1, \"HBP\": 0, \"SH\": 0, \"SF\": 0, \"IBB\": 0}, {\"Rk\": 287, \"Name\": \"Nico\\u00a0Hoerner\", \"Age\": 26, \"Tm\": \"CHC\", \"Lg\": \"NL\", \"G\": 90, \"PA\": 415, \"AB\": 381, \"R\": 54, \"H\": 104, \"2B\": 16, \"3B\": 4, \"HR\": 6, \"RBI\": 54, \"SB\": 22, \"CS\": 3, \"BB\": 26, \"SO\": 53, \"BA\": 0.273, \"OBP\": 0.328, \"SLG\": 0.383, \"OPS\": 0.711, \"OPS+\": 92, \"TB\": 146, \"GDP\": 6, \"HBP\": 6, \"SH\": 0, \"SF\": 2, \"IBB\": 0}, {\"Rk\": 288, \"Name\": \"TJ\\u00a0Hopkins\", \"Age\": 26, \"Tm\": \"CIN\", \"Lg\": \"NL\", \"G\": 14, \"PA\": 25, \"AB\": 24, \"R\": 4, \"H\": 4, \"2B\": 0, \"3B\": 0, \"HR\": 0, \"RBI\": 1, \"SB\": 1, \"CS\": 0, \"BB\": 1, \"SO\": 7, \"BA\": 0.167, \"OBP\": 0.2, \"SLG\": 0.167, \"OPS\": 0.367, \"OPS+\": -1, \"TB\": 4, \"GDP\": 0, \"HBP\": 0, \"SH\": 0, \"SF\": 0, \"IBB\": 0}, {\"Rk\": 289, \"Name\": \"Spencer\\u00a0Horwitz*\", \"Age\": 25, \"Tm\": \"TOR\", \"Lg\": \"AL\", \"G\": 3, \"PA\": 10, \"AB\": 8, \"R\": 1, \"H\": 2, \"2B\": 0, \"3B\": 0, \"HR\": 0, \"RBI\": 1, \"SB\": 0, \"CS\": 0, \"BB\": 2, \"SO\": 3, \"BA\": 0.25, \"OBP\": 0.4, \"SLG\": 0.25, \"OPS\": 0.65, \"OPS+\": 90, \"TB\": 2, \"GDP\": 0, \"HBP\": 0, \"SH\": 0, \"SF\": 0, \"IBB\": 0}, {\"Rk\": 290, \"Name\": \"Eric\\u00a0Hosmer*\", \"Age\": 33, \"Tm\": \"CHC\", \"Lg\": \"NL\", \"G\": 31, \"PA\": 100, \"AB\": 94, \"R\": 7, \"H\": 22, \"2B\": 3, \"3B\": 0, \"HR\": 2, \"RBI\": 14, \"SB\": 0, \"CS\": 0, \"BB\": 6, \"SO\": 25, \"BA\": 0.234, \"OBP\": 0.28, \"SLG\": 0.33, \"OPS\": 0.61, \"OPS+\": 65, \"TB\": 31, \"GDP\": 5, \"HBP\": 0, \"SH\": 0, \"SF\": 0, \"IBB\": 0}, {\"Rk\": 291, \"Name\": \"Sam\\u00a0Huff\", \"Age\": 25, \"Tm\": \"TEX\", \"Lg\": \"AL\", \"G\": 8, \"PA\": 14, \"AB\": 12, \"R\": 0, \"H\": 2, \"2B\": 0, \"3B\": 0, \"HR\": 0, \"RBI\": 1, \"SB\": 0, \"CS\": 0, \"BB\": 2, \"SO\": 5, \"BA\": 0.167, \"OBP\": 0.286, \"SLG\": 0.167, \"OPS\": 0.452, \"OPS+\": 30, \"TB\": 2, \"GDP\": 1, \"HBP\": 0, \"SH\": 0, \"SF\": 0, \"IBB\": 0}, {\"Rk\": 292, \"Name\": \"Cooper\\u00a0Hummel#\", \"Age\": 28, \"Tm\": \"SEA\", \"Lg\": \"AL\", \"G\": 10, \"PA\": 26, \"AB\": 23, \"R\": 2, \"H\": 2, \"2B\": 1, \"3B\": 0, \"HR\": 0, \"RBI\": 0, \"SB\": 1, \"CS\": 0, \"BB\": 2, \"SO\": 9, \"BA\": 0.087, \"OBP\": 0.192, \"SLG\": 0.13, \"OPS\": 0.323, \"OPS+\": -5, \"TB\": 3, \"GDP\": 1, \"HBP\": 1, \"SH\": 0, \"SF\": 0, \"IBB\": 0}, {\"Rk\": 293, \"Name\": \"Tommy\\u00a0Hunter\", \"Age\": 36, \"Tm\": \"NYM\", \"Lg\": \"NL\", \"G\": 2, \"PA\": 0, \"AB\": 0, \"R\": 0, \"H\": 0, \"2B\": 0, \"3B\": 0, \"HR\": 0, \"RBI\": 0, \"SB\": 0, \"CS\": 0, \"BB\": 0, \"SO\": 0, \"BA\": 0.0, \"OBP\": 0.0, \"SLG\": 0.0, \"OPS\": 0.0, \"OPS+\": 0, \"TB\": 0, \"GDP\": 0, \"HBP\": 0, \"SH\": 0, \"SF\": 0, \"IBB\": 0}, {\"Rk\": 294, \"Name\": \"Andy\\u00a0Ib\\u00e1\\u00f1ez\", \"Age\": 30, \"Tm\": \"DET\", \"Lg\": \"AL\", \"G\": 66, \"PA\": 222, \"AB\": 212, \"R\": 27, \"H\": 50, \"2B\": 15, \"3B\": 1, \"HR\": 6, \"RBI\": 18, \"SB\": 0, \"CS\": 0, \"BB\": 9, \"SO\": 40, \"BA\": 0.236, \"OBP\": 0.27, \"SLG\": 0.401, \"OPS\": 0.671, \"OPS+\": 85, \"TB\": 85, \"GDP\": 5, \"HBP\": 1, \"SH\": 0, \"SF\": 0, \"IBB\": 0}, {\"Rk\": 295, \"Name\": \"Jonathan\\u00a0India\", \"Age\": 26, \"Tm\": \"CIN\", \"Lg\": \"NL\", \"G\": 99, \"PA\": 437, \"AB\": 379, \"R\": 68, \"H\": 96, \"2B\": 19, \"3B\": 0, \"HR\": 14, \"RBI\": 51, \"SB\": 12, \"CS\": 2, \"BB\": 38, \"SO\": 87, \"BA\": 0.253, \"OBP\": 0.339, \"SLG\": 0.414, \"OPS\": 0.753, \"OPS+\": 99, \"TB\": 157, \"GDP\": 12, \"HBP\": 14, \"SH\": 0, \"SF\": 6, \"IBB\": 0}, {\"Rk\": 296, \"Name\": \"Kyle\\u00a0Isbel*\", \"Age\": 26, \"Tm\": \"KCR\", \"Lg\": \"AL\", \"G\": 45, \"PA\": 160, \"AB\": 152, \"R\": 15, \"H\": 31, \"2B\": 13, \"3B\": 1, \"HR\": 2, \"RBI\": 12, \"SB\": 3, \"CS\": 1, \"BB\": 7, \"SO\": 33, \"BA\": 0.204, \"OBP\": 0.244, \"SLG\": 0.342, \"OPS\": 0.586, \"OPS+\": 60, \"TB\": 52, \"GDP\": 2, \"HBP\": 1, \"SH\": 0, \"SF\": 0, \"IBB\": 0}, {\"Rk\": 297, \"Name\": \"Drey\\u00a0Jameson\", \"Age\": 25, \"Tm\": \"ARI\", \"Lg\": \"NL\", \"G\": 1, \"PA\": 0, \"AB\": 0, \"R\": 0, \"H\": 0, \"2B\": 0, \"3B\": 0, \"HR\": 0, \"RBI\": 0, \"SB\": 0, \"CS\": 0, \"BB\": 0, \"SO\": 0, \"BA\": 0.0, \"OBP\": 0.0, \"SLG\": 0.0, \"OPS\": 0.0, \"OPS+\": 0, \"TB\": 0, \"GDP\": 0, \"HBP\": 0, \"SH\": 0, \"SF\": 0, \"IBB\": 0}, {\"Rk\": 298, \"Name\": \"Travis\\u00a0Jankowski*\", \"Age\": 32, \"Tm\": \"TEX\", \"Lg\": \"AL\", \"G\": 61, \"PA\": 180, \"AB\": 154, \"R\": 26, \"H\": 50, \"2B\": 9, \"3B\": 1, \"HR\": 1, \"RBI\": 21, \"SB\": 14, \"CS\": 1, \"BB\": 22, \"SO\": 25, \"BA\": 0.325, \"OBP\": 0.413, \"SLG\": 0.416, \"OPS\": 0.829, \"OPS+\": 130, \"TB\": 64, \"GDP\": 2, \"HBP\": 2, \"SH\": 1, \"SF\": 1, \"IBB\": 0}, {\"Rk\": 299, \"Name\": \"Danny\\u00a0Jansen\", \"Age\": 28, \"Tm\": \"TOR\", \"Lg\": \"AL\", \"G\": 61, \"PA\": 215, \"AB\": 198, \"R\": 26, \"H\": 45, \"2B\": 11, \"3B\": 0, \"HR\": 12, \"RBI\": 41, \"SB\": 0, \"CS\": 0, \"BB\": 15, \"SO\": 46, \"BA\": 0.227, \"OBP\": 0.288, \"SLG\": 0.465, \"OPS\": 0.753, \"OPS+\": 107, \"TB\": 92, \"GDP\": 3, \"HBP\": 2, \"SH\": 0, \"SF\": 0, \"IBB\": 1}, {\"Rk\": 300, \"Name\": \"Kenley\\u00a0Jansen#\", \"Age\": 35, \"Tm\": \"BOS\", \"Lg\": \"AL\", \"G\": 1, \"PA\": 0, \"AB\": 0, \"R\": 0, \"H\": 0, \"2B\": 0, \"3B\": 0, \"HR\": 0, \"RBI\": 0, \"SB\": 0, \"CS\": 0, \"BB\": 0, \"SO\": 0, \"BA\": 0.0, \"OBP\": 0.0, \"SLG\": 0.0, \"OPS\": 0.0, \"OPS+\": 0, \"TB\": 0, \"GDP\": 0, \"HBP\": 0, \"SH\": 0, \"SF\": 0, \"IBB\": 0}, {\"Rk\": 301, \"Name\": \"Ryan\\u00a0Jeffers\", \"Age\": 26, \"Tm\": \"MIN\", \"Lg\": \"AL\", \"G\": 56, \"PA\": 175, \"AB\": 146, \"R\": 23, \"H\": 38, \"2B\": 8, \"3B\": 1, \"HR\": 5, \"RBI\": 14, \"SB\": 1, \"CS\": 1, \"BB\": 18, \"SO\": 51, \"BA\": 0.26, \"OBP\": 0.368, \"SLG\": 0.432, \"OPS\": 0.8, \"OPS+\": 122, \"TB\": 63, \"GDP\": 4, \"HBP\": 7, \"SH\": 4, \"SF\": 0, \"IBB\": 0}, {\"Rk\": 302, \"Name\": \"Eloy\\u00a0Jim\\u00e9nez\", \"Age\": 26, \"Tm\": \"CHW\", \"Lg\": \"AL\", \"G\": 65, \"PA\": 271, \"AB\": 253, \"R\": 31, \"H\": 70, \"2B\": 12, \"3B\": 0, \"HR\": 12, \"RBI\": 41, \"SB\": 0, \"CS\": 0, \"BB\": 17, \"SO\": 61, \"BA\": 0.277, \"OBP\": 0.321, \"SLG\": 0.466, \"OPS\": 0.787, \"OPS+\": 114, \"TB\": 118, \"GDP\": 10, \"HBP\": 0, \"SH\": 0, \"SF\": 1, \"IBB\": 1}, {\"Rk\": 303, \"Name\": \"Joe\\u00a0Jim\\u00e9nez\", \"Age\": 28, \"Tm\": \"ATL\", \"Lg\": \"NL\", \"G\": 1, \"PA\": 0, \"AB\": 0, \"R\": 0, \"H\": 0, \"2B\": 0, \"3B\": 0, \"HR\": 0, \"RBI\": 0, \"SB\": 0, \"CS\": 0, \"BB\": 0, \"SO\": 0, \"BA\": 0.0, \"OBP\": 0.0, \"SLG\": 0.0, \"OPS\": 0.0, \"OPS+\": 0, \"TB\": 0, \"GDP\": 0, \"HBP\": 0, \"SH\": 0, \"SF\": 0, \"IBB\": 0}, {\"Rk\": 304, \"Name\": \"Connor\\u00a0Joe\", \"Age\": 30, \"Tm\": \"PIT\", \"Lg\": \"NL\", \"G\": 86, \"PA\": 285, \"AB\": 251, \"R\": 38, \"H\": 61, \"2B\": 19, \"3B\": 3, \"HR\": 7, \"RBI\": 25, \"SB\": 3, \"CS\": 5, \"BB\": 28, \"SO\": 78, \"BA\": 0.243, \"OBP\": 0.333, \"SLG\": 0.426, \"OPS\": 0.76, \"OPS+\": 106, \"TB\": 107, \"GDP\": 3, \"HBP\": 6, \"SH\": 0, \"SF\": 0, \"IBB\": 0}, {\"Rk\": 305, \"Name\": \"Bryce\\u00a0Johnson#\", \"Age\": 27, \"Tm\": \"SFG\", \"Lg\": \"NL\", \"G\": 30, \"PA\": 48, \"AB\": 43, \"R\": 7, \"H\": 7, \"2B\": 1, \"3B\": 0, \"HR\": 1, \"RBI\": 3, \"SB\": 3, \"CS\": 0, \"BB\": 4, \"SO\": 15, \"BA\": 0.163, \"OBP\": 0.229, \"SLG\": 0.256, \"OPS\": 0.485, \"OPS+\": 34, \"TB\": 11, \"GDP\": 0, \"HBP\": 0, \"SH\": 0, \"SF\": 1, \"IBB\": 0}, {\"Rk\": 306, \"Name\": \"Pierce\\u00a0Johnson\", \"Age\": 32, \"Tm\": \"COL\", \"Lg\": \"NL\", \"G\": 1, \"PA\": 0, \"AB\": 0, \"R\": 0, \"H\": 0, \"2B\": 0, \"3B\": 0, \"HR\": 0, \"RBI\": 0, \"SB\": 0, \"CS\": 0, \"BB\": 0, \"SO\": 0, \"BA\": 0.0, \"OBP\": 0.0, \"SLG\": 0.0, \"OPS\": 0.0, \"OPS+\": 0, \"TB\": 0, \"GDP\": 0, \"HBP\": 0, \"SH\": 0, \"SF\": 0, \"IBB\": 0}, {\"Rk\": 307, \"Name\": \"Jahmai\\u00a0Jones\", \"Age\": 25, \"Tm\": \"MIL\", \"Lg\": \"NL\", \"G\": 5, \"PA\": 7, \"AB\": 6, \"R\": 2, \"H\": 2, \"2B\": 1, \"3B\": 0, \"HR\": 0, \"RBI\": 3, \"SB\": 1, \"CS\": 0, \"BB\": 1, \"SO\": 1, \"BA\": 0.333, \"OBP\": 0.429, \"SLG\": 0.5, \"OPS\": 0.929, \"OPS+\": 154, \"TB\": 3, \"GDP\": 0, \"HBP\": 0, \"SH\": 0, \"SF\": 0, \"IBB\": 0}, {\"Rk\": 308, \"Name\": \"Nolan\\u00a0Jones*\", \"Age\": 25, \"Tm\": \"COL\", \"Lg\": \"NL\", \"G\": 43, \"PA\": 158, \"AB\": 141, \"R\": 20, \"H\": 39, \"2B\": 8, \"3B\": 0, \"HR\": 8, \"RBI\": 20, \"SB\": 5, \"CS\": 1, \"BB\": 16, \"SO\": 55, \"BA\": 0.277, \"OBP\": 0.354, \"SLG\": 0.504, \"OPS\": 0.858, \"OPS+\": 119, \"TB\": 71, \"GDP\": 1, \"HBP\": 1, \"SH\": 0, \"SF\": 0, \"IBB\": 1}, {\"Rk\": 309, \"Name\": \"Aaron\\u00a0Judge\", \"Age\": 31, \"Tm\": \"NYY\", \"Lg\": \"AL\", \"G\": 49, \"PA\": 213, \"AB\": 175, \"R\": 42, \"H\": 51, \"2B\": 10, \"3B\": 0, \"HR\": 19, \"RBI\": 40, \"SB\": 3, \"CS\": 1, \"BB\": 35, \"SO\": 63, \"BA\": 0.291, \"OBP\": 0.404, \"SLG\": 0.674, \"OPS\": 1.078, \"OPS+\": 193, \"TB\": 118, \"GDP\": 3, \"HBP\": 0, \"SH\": 0, \"SF\": 3, \"IBB\": 4}, {\"Rk\": 310, \"Name\": \"Edouard\\u00a0Julien*\", \"Age\": 24, \"Tm\": \"MIN\", \"Lg\": \"AL\", \"G\": 51, \"PA\": 183, \"AB\": 158, \"R\": 27, \"H\": 49, \"2B\": 11, \"3B\": 0, \"HR\": 9, \"RBI\": 16, \"SB\": 2, \"CS\": 0, \"BB\": 21, \"SO\": 58, \"BA\": 0.31, \"OBP\": 0.39, \"SLG\": 0.551, \"OPS\": 0.941, \"OPS+\": 158, \"TB\": 87, \"GDP\": 2, \"HBP\": 1, \"SH\": 1, \"SF\": 2, \"IBB\": 0}, {\"Rk\": 311, \"Name\": \"Corey\\u00a0Julks\", \"Age\": 27, \"Tm\": \"HOU\", \"Lg\": \"AL\", \"G\": 77, \"PA\": 286, \"AB\": 266, \"R\": 35, \"H\": 70, \"2B\": 13, \"3B\": 0, \"HR\": 6, \"RBI\": 30, \"SB\": 15, \"CS\": 3, \"BB\": 19, \"SO\": 66, \"BA\": 0.263, \"OBP\": 0.311, \"SLG\": 0.38, \"OPS\": 0.691, \"OPS+\": 92, \"TB\": 101, \"GDP\": 5, \"HBP\": 0, \"SH\": 0, \"SF\": 1, \"IBB\": 0}, {\"Rk\": 312, \"Name\": \"Josh\\u00a0Jung\", \"Age\": 25, \"Tm\": \"TEX\", \"Lg\": \"AL\", \"G\": 96, \"PA\": 408, \"AB\": 377, \"R\": 62, \"H\": 103, \"2B\": 21, \"3B\": 1, \"HR\": 19, \"RBI\": 58, \"SB\": 1, \"CS\": 3, \"BB\": 27, \"SO\": 117, \"BA\": 0.273, \"OBP\": 0.326, \"SLG\": 0.485, \"OPS\": 0.811, \"OPS+\": 120, \"TB\": 183, \"GDP\": 5, \"HBP\": 3, \"SH\": 0, \"SF\": 1, \"IBB\": 0}, {\"Rk\": 313, \"Name\": \"Jakob\\u00a0Junis\", \"Age\": 30, \"Tm\": \"SFG\", \"Lg\": \"NL\", \"G\": 1, \"PA\": 0, \"AB\": 0, \"R\": 0, \"H\": 0, \"2B\": 0, \"3B\": 0, \"HR\": 0, \"RBI\": 0, \"SB\": 0, \"CS\": 0, \"BB\": 0, \"SO\": 0, \"BA\": 0.0, \"OBP\": 0.0, \"SLG\": 0.0, \"OPS\": 0.0, \"OPS+\": 0, \"TB\": 0, \"GDP\": 0, \"HBP\": 0, \"SH\": 0, \"SF\": 0, \"IBB\": 0}, {\"Rk\": 314, \"Name\": \"Connor\\u00a0Kaiser\", \"Age\": 26, \"Tm\": \"COL\", \"Lg\": \"NL\", \"G\": 3, \"PA\": 4, \"AB\": 4, \"R\": 0, \"H\": 0, \"2B\": 0, \"3B\": 0, \"HR\": 0, \"RBI\": 0, \"SB\": 0, \"CS\": 0, \"BB\": 0, \"SO\": 2, \"BA\": 0.0, \"OBP\": 0.0, \"SLG\": 0.0, \"OPS\": 0.0, \"OPS+\": -100, \"TB\": 0, \"GDP\": 0, \"HBP\": 0, \"SH\": 0, \"SF\": 0, \"IBB\": 0}, {\"Rk\": 315, \"Name\": \"Anthony\\u00a0Kay*\", \"Age\": 28, \"Tm\": \"CHC\", \"Lg\": \"NL\", \"G\": 2, \"PA\": 0, \"AB\": 0, \"R\": 0, \"H\": 0, \"2B\": 0, \"3B\": 0, \"HR\": 0, \"RBI\": 0, \"SB\": 0, \"CS\": 0, \"BB\": 0, \"SO\": 0, \"BA\": 0.0, \"OBP\": 0.0, \"SLG\": 0.0, \"OPS\": 0.0, \"OPS+\": 0, \"TB\": 0, \"GDP\": 0, \"HBP\": 0, \"SH\": 0, \"SF\": 0, \"IBB\": 0}, {\"Rk\": 316, \"Name\": \"Jarred\\u00a0Kelenic*\", \"Age\": 23, \"Tm\": \"SEA\", \"Lg\": \"AL\", \"G\": 90, \"PA\": 362, \"AB\": 326, \"R\": 43, \"H\": 82, \"2B\": 24, \"3B\": 2, \"HR\": 11, \"RBI\": 45, \"SB\": 12, \"CS\": 4, \"BB\": 33, \"SO\": 118, \"BA\": 0.252, \"OBP\": 0.32, \"SLG\": 0.439, \"OPS\": 0.759, \"OPS+\": 113, \"TB\": 143, \"GDP\": 6, \"HBP\": 1, \"SH\": 0, \"SF\": 2, \"IBB\": 3}, {\"Rk\": 317, \"Name\": \"Carson\\u00a0Kelly\", \"Age\": 28, \"Tm\": \"ARI\", \"Lg\": \"NL\", \"G\": 18, \"PA\": 60, \"AB\": 57, \"R\": 3, \"H\": 10, \"2B\": 1, \"3B\": 0, \"HR\": 1, \"RBI\": 5, \"SB\": 0, \"CS\": 0, \"BB\": 2, \"SO\": 18, \"BA\": 0.175, \"OBP\": 0.2, \"SLG\": 0.246, \"OPS\": 0.446, \"OPS+\": 23, \"TB\": 14, \"GDP\": 1, \"HBP\": 0, \"SH\": 0, \"SF\": 1, \"IBB\": 0}, {\"Rk\": 318, \"Name\": \"Tony\\u00a0Kemp*\", \"Age\": 31, \"Tm\": \"OAK\", \"Lg\": \"AL\", \"G\": 80, \"PA\": 286, \"AB\": 248, \"R\": 31, \"H\": 52, \"2B\": 8, \"3B\": 3, \"HR\": 3, \"RBI\": 19, \"SB\": 11, \"CS\": 1, \"BB\": 28, \"SO\": 28, \"BA\": 0.21, \"OBP\": 0.301, \"SLG\": 0.302, \"OPS\": 0.604, \"OPS+\": 75, \"TB\": 75, \"GDP\": 7, \"HBP\": 5, \"SH\": 4, \"SF\": 1, \"IBB\": 0}, {\"Rk\": 319, \"Name\": \"Max\\u00a0Kepler*\", \"Age\": 30, \"Tm\": \"MIN\", \"Lg\": \"AL\", \"G\": 73, \"PA\": 263, \"AB\": 237, \"R\": 33, \"H\": 52, \"2B\": 7, \"3B\": 0, \"HR\": 14, \"RBI\": 36, \"SB\": 0, \"CS\": 1, \"BB\": 20, \"SO\": 58, \"BA\": 0.219, \"OBP\": 0.285, \"SLG\": 0.426, \"OPS\": 0.711, \"OPS+\": 94, \"TB\": 101, \"GDP\": 6, \"HBP\": 3, \"SH\": 0, \"SF\": 3, \"IBB\": 0}, {\"Rk\": 320, \"Name\": \"Grae\\u00a0Kessinger\", \"Age\": 25, \"Tm\": \"HOU\", \"Lg\": \"AL\", \"G\": 11, \"PA\": 28, \"AB\": 23, \"R\": 2, \"H\": 6, \"2B\": 1, \"3B\": 0, \"HR\": 1, \"RBI\": 1, \"SB\": 0, \"CS\": 1, \"BB\": 5, \"SO\": 5, \"BA\": 0.261, \"OBP\": 0.393, \"SLG\": 0.435, \"OPS\": 0.828, \"OPS+\": 131, \"TB\": 10, \"GDP\": 0, \"HBP\": 0, \"SH\": 0, \"SF\": 0, \"IBB\": 0}, {\"Rk\": 321, \"Name\": \"Kevin\\u00a0Kiermaier*\", \"Age\": 33, \"Tm\": \"TOR\", \"Lg\": \"AL\", \"G\": 82, \"PA\": 263, \"AB\": 237, \"R\": 37, \"H\": 64, \"2B\": 12, \"3B\": 5, \"HR\": 5, \"RBI\": 22, \"SB\": 11, \"CS\": 0, \"BB\": 20, \"SO\": 54, \"BA\": 0.27, \"OBP\": 0.332, \"SLG\": 0.426, \"OPS\": 0.758, \"OPS+\": 112, \"TB\": 101, \"GDP\": 7, \"HBP\": 3, \"SH\": 1, \"SF\": 2, \"IBB\": 0}, {\"Rk\": 322, \"Name\": \"Ha-Seong\\u00a0Kim\", \"Age\": 27, \"Tm\": \"SDP\", \"Lg\": \"NL\", \"G\": 94, \"PA\": 364, \"AB\": 313, \"R\": 51, \"H\": 84, \"2B\": 14, \"3B\": 0, \"HR\": 12, \"RBI\": 34, \"SB\": 18, \"CS\": 4, \"BB\": 42, \"SO\": 79, \"BA\": 0.268, \"OBP\": 0.357, \"SLG\": 0.428, \"OPS\": 0.785, \"OPS+\": 120, \"TB\": 134, \"GDP\": 4, \"HBP\": 3, \"SH\": 3, \"SF\": 3, \"IBB\": 0}, {\"Rk\": 323, \"Name\": \"Isiah\\u00a0Kiner-Falefa\", \"Age\": 28, \"Tm\": \"NYY\", \"Lg\": \"AL\", \"G\": 76, \"PA\": 225, \"AB\": 204, \"R\": 29, \"H\": 51, \"2B\": 7, \"3B\": 1, \"HR\": 5, \"RBI\": 24, \"SB\": 9, \"CS\": 4, \"BB\": 17, \"SO\": 37, \"BA\": 0.25, \"OBP\": 0.308, \"SLG\": 0.368, \"OPS\": 0.676, \"OPS+\": 88, \"TB\": 75, \"GDP\": 8, \"HBP\": 1, \"SH\": 1, \"SF\": 2, \"IBB\": 0}, {\"Rk\": 324, \"Name\": \"John\\u00a0King*\", \"Age\": 28, \"Tm\": \"TEX\", \"Lg\": \"AL\", \"G\": 1, \"PA\": 0, \"AB\": 0, \"R\": 0, \"H\": 0, \"2B\": 0, \"3B\": 0, \"HR\": 0, \"RBI\": 0, \"SB\": 0, \"CS\": 0, \"BB\": 0, \"SO\": 0, \"BA\": 0.0, \"OBP\": 0.0, \"SLG\": 0.0, \"OPS\": 0.0, \"OPS+\": 0, \"TB\": 0, \"GDP\": 0, \"HBP\": 0, \"SH\": 0, \"SF\": 0, \"IBB\": 0}, {\"Rk\": 325, \"Name\": \"Alex\\u00a0Kirilloff*\", \"Age\": 25, \"Tm\": \"MIN\", \"Lg\": \"AL\", \"G\": 64, \"PA\": 235, \"AB\": 204, \"R\": 22, \"H\": 57, \"2B\": 11, \"3B\": 1, \"HR\": 8, \"RBI\": 31, \"SB\": 0, \"CS\": 0, \"BB\": 24, \"SO\": 60, \"BA\": 0.279, \"OBP\": 0.37, \"SLG\": 0.461, \"OPS\": 0.831, \"OPS+\": 129, \"TB\": 94, \"GDP\": 0, \"HBP\": 6, \"SH\": 0, \"SF\": 1, \"IBB\": 1}, {\"Rk\": 326, \"Name\": \"Alejandro\\u00a0Kirk\", \"Age\": 24, \"Tm\": \"TOR\", \"Lg\": \"AL\", \"G\": 73, \"PA\": 245, \"AB\": 218, \"R\": 16, \"H\": 55, \"2B\": 5, \"3B\": 0, \"HR\": 4, \"RBI\": 24, \"SB\": 0, \"CS\": 0, \"BB\": 21, \"SO\": 28, \"BA\": 0.252, \"OBP\": 0.331, \"SLG\": 0.33, \"OPS\": 0.661, \"OPS+\": 87, \"TB\": 72, \"GDP\": 11, \"HBP\": 5, \"SH\": 0, \"SF\": 1, \"IBB\": 1}, {\"Rk\": 327, \"Name\": \"Andrew\\u00a0Knizner\", \"Age\": 28, \"Tm\": \"STL\", \"Lg\": \"NL\", \"G\": 37, \"PA\": 122, \"AB\": 117, \"R\": 17, \"H\": 26, \"2B\": 6, \"3B\": 0, \"HR\": 5, \"RBI\": 17, \"SB\": 1, \"CS\": 0, \"BB\": 4, \"SO\": 35, \"BA\": 0.222, \"OBP\": 0.248, \"SLG\": 0.402, \"OPS\": 0.65, \"OPS+\": 74, \"TB\": 47, \"GDP\": 1, \"HBP\": 0, \"SH\": 1, \"SF\": 0, \"IBB\": 0}, {\"Rk\": 328, \"Name\": \"Taylor\\u00a0Kohlwey*\", \"Age\": 28, \"Tm\": \"SDP\", \"Lg\": \"NL\", \"G\": 3, \"PA\": 8, \"AB\": 8, \"R\": 0, \"H\": 2, \"2B\": 0, \"3B\": 0, \"HR\": 0, \"RBI\": 0, \"SB\": 0, \"CS\": 0, \"BB\": 0, \"SO\": 3, \"BA\": 0.25, \"OBP\": 0.25, \"SLG\": 0.25, \"OPS\": 0.5, \"OPS+\": 42, \"TB\": 2, \"GDP\": 0, \"HBP\": 0, \"SH\": 0, \"SF\": 0, \"IBB\": 0}, {\"Rk\": 329, \"Name\": \"Mark\\u00a0Kolozsvary\", \"Age\": 27, \"Tm\": \"BAL\", \"Lg\": \"AL\", \"G\": 1, \"PA\": 0, \"AB\": 0, \"R\": 0, \"H\": 0, \"2B\": 0, \"3B\": 0, \"HR\": 0, \"RBI\": 0, \"SB\": 0, \"CS\": 0, \"BB\": 0, \"SO\": 0, \"BA\": 0.0, \"OBP\": 0.0, \"SLG\": 0.0, \"OPS\": 0.0, \"OPS+\": 0, \"TB\": 0, \"GDP\": 0, \"HBP\": 0, \"SH\": 0, \"SF\": 0, \"IBB\": 0}, {\"Rk\": 330, \"Name\": \"Ryan\\u00a0Kreidler\", \"Age\": 25, \"Tm\": \"DET\", \"Lg\": \"AL\", \"G\": 11, \"PA\": 18, \"AB\": 18, \"R\": 2, \"H\": 2, \"2B\": 0, \"3B\": 0, \"HR\": 0, \"RBI\": 0, \"SB\": 0, \"CS\": 0, \"BB\": 0, \"SO\": 7, \"BA\": 0.111, \"OBP\": 0.111, \"SLG\": 0.111, \"OPS\": 0.222, \"OPS+\": -37, \"TB\": 2, \"GDP\": 0, \"HBP\": 0, \"SH\": 0, \"SF\": 0, \"IBB\": 0}, {\"Rk\": 331, \"Name\": \"Steven\\u00a0Kwan*\", \"Age\": 25, \"Tm\": \"CLE\", \"Lg\": \"AL\", \"G\": 97, \"PA\": 441, \"AB\": 392, \"R\": 66, \"H\": 105, \"2B\": 25, \"3B\": 2, \"HR\": 3, \"RBI\": 32, \"SB\": 15, \"CS\": 2, \"BB\": 42, \"SO\": 49, \"BA\": 0.268, \"OBP\": 0.341, \"SLG\": 0.365, \"OPS\": 0.706, \"OPS+\": 99, \"TB\": 143, \"GDP\": 6, \"HBP\": 3, \"SH\": 1, \"SF\": 3, \"IBB\": 2}, {\"Rk\": 332, \"Name\": \"Tommy\\u00a0La\\u00a0Stella*\", \"Age\": 34, \"Tm\": \"SEA\", \"Lg\": \"AL\", \"G\": 12, \"PA\": 24, \"AB\": 21, \"R\": 2, \"H\": 4, \"2B\": 1, \"3B\": 0, \"HR\": 0, \"RBI\": 2, \"SB\": 0, \"CS\": 0, \"BB\": 3, \"SO\": 5, \"BA\": 0.19, \"OBP\": 0.292, \"SLG\": 0.238, \"OPS\": 0.53, \"OPS+\": 53, \"TB\": 5, \"GDP\": 0, \"HBP\": 0, \"SH\": 0, \"SF\": 0, \"IBB\": 0}, {\"Rk\": 333, \"Name\": \"Jake\\u00a0Lamb*\", \"Age\": 32, \"Tm\": \"LAA\", \"Lg\": \"AL\", \"G\": 18, \"PA\": 54, \"AB\": 51, \"R\": 7, \"H\": 11, \"2B\": 1, \"3B\": 0, \"HR\": 2, \"RBI\": 5, \"SB\": 0, \"CS\": 0, \"BB\": 3, \"SO\": 15, \"BA\": 0.216, \"OBP\": 0.259, \"SLG\": 0.353, \"OPS\": 0.612, \"OPS+\": 66, \"TB\": 18, \"GDP\": 1, \"HBP\": 0, \"SH\": 0, \"SF\": 0, \"IBB\": 0}, {\"Rk\": 334, \"Name\": \"Shea\\u00a0Langeliers\", \"Age\": 25, \"Tm\": \"OAK\", \"Lg\": \"AL\", \"G\": 86, \"PA\": 319, \"AB\": 291, \"R\": 33, \"H\": 59, \"2B\": 13, \"3B\": 2, \"HR\": 10, \"RBI\": 33, \"SB\": 1, \"CS\": 2, \"BB\": 22, \"SO\": 95, \"BA\": 0.203, \"OBP\": 0.267, \"SLG\": 0.364, \"OPS\": 0.632, \"OPS+\": 80, \"TB\": 106, \"GDP\": 8, \"HBP\": 4, \"SH\": 1, \"SF\": 1, \"IBB\": 2}, {\"Rk\": 335, \"Name\": \"Trevor\\u00a0Larnach*\", \"Age\": 26, \"Tm\": \"MIN\", \"Lg\": \"AL\", \"G\": 47, \"PA\": 177, \"AB\": 152, \"R\": 21, \"H\": 32, \"2B\": 5, \"3B\": 2, \"HR\": 6, \"RBI\": 31, \"SB\": 1, \"CS\": 1, \"BB\": 23, \"SO\": 61, \"BA\": 0.211, \"OBP\": 0.311, \"SLG\": 0.388, \"OPS\": 0.699, \"OPS+\": 93, \"TB\": 59, \"GDP\": 1, \"HBP\": 0, \"SH\": 0, \"SF\": 2, \"IBB\": 1}, {\"Rk\": 336, \"Name\": \"Ram\\u00f3n\\u00a0Laureano\", \"Age\": 28, \"Tm\": \"OAK\", \"Lg\": \"AL\", \"G\": 56, \"PA\": 219, \"AB\": 202, \"R\": 21, \"H\": 43, \"2B\": 9, \"3B\": 3, \"HR\": 5, \"RBI\": 17, \"SB\": 8, \"CS\": 0, \"BB\": 13, \"SO\": 68, \"BA\": 0.213, \"OBP\": 0.274, \"SLG\": 0.361, \"OPS\": 0.635, \"OPS+\": 81, \"TB\": 73, \"GDP\": 3, \"HBP\": 4, \"SH\": 0, \"SF\": 0, \"IBB\": 0}, {\"Rk\": 337, \"Name\": \"Mark\\u00a0Leiter\\u00a0Jr.\", \"Age\": 32, \"Tm\": \"CHC\", \"Lg\": \"NL\", \"G\": 1, \"PA\": 0, \"AB\": 0, \"R\": 0, \"H\": 0, \"2B\": 0, \"3B\": 0, \"HR\": 0, \"RBI\": 0, \"SB\": 0, \"CS\": 0, \"BB\": 0, \"SO\": 0, \"BA\": 0.0, \"OBP\": 0.0, \"SLG\": 0.0, \"OPS\": 0.0, \"OPS+\": 0, \"TB\": 0, \"GDP\": 0, \"HBP\": 0, \"SH\": 0, \"SF\": 0, \"IBB\": 0}, {\"Rk\": 338, \"Name\": \"DJ\\u00a0LeMahieu\", \"Age\": 34, \"Tm\": \"NYY\", \"Lg\": \"AL\", \"G\": 84, \"PA\": 336, \"AB\": 306, \"R\": 32, \"H\": 71, \"2B\": 15, \"3B\": 2, \"HR\": 8, \"RBI\": 28, \"SB\": 0, \"CS\": 2, \"BB\": 26, \"SO\": 76, \"BA\": 0.232, \"OBP\": 0.295, \"SLG\": 0.373, \"OPS\": 0.667, \"OPS+\": 85, \"TB\": 114, \"GDP\": 7, \"HBP\": 2, \"SH\": 0, \"SF\": 2, \"IBB\": 2}, {\"Rk\": 339, \"Name\": \"Sandy\\u00a0Le\\u00f3n#\", \"Age\": 34, \"Tm\": \"TEX\", \"Lg\": \"AL\", \"G\": 21, \"PA\": 44, \"AB\": 41, \"R\": 4, \"H\": 6, \"2B\": 2, \"3B\": 0, \"HR\": 0, \"RBI\": 4, \"SB\": 0, \"CS\": 0, \"BB\": 1, \"SO\": 20, \"BA\": 0.146, \"OBP\": 0.186, \"SLG\": 0.195, \"OPS\": 0.381, \"OPS+\": 6, \"TB\": 8, \"GDP\": 2, \"HBP\": 1, \"SH\": 1, \"SF\": 0, \"IBB\": 0}, {\"Rk\": 340, \"Name\": \"Josh\\u00a0Lester*\", \"Age\": 28, \"Tm\": \"BAL\", \"Lg\": \"AL\", \"G\": 11, \"PA\": 23, \"AB\": 22, \"R\": 0, \"H\": 4, \"2B\": 0, \"3B\": 0, \"HR\": 0, \"RBI\": 4, \"SB\": 0, \"CS\": 0, \"BB\": 1, \"SO\": 7, \"BA\": 0.182, \"OBP\": 0.217, \"SLG\": 0.182, \"OPS\": 0.399, \"OPS+\": 14, \"TB\": 4, \"GDP\": 1, \"HBP\": 0, \"SH\": 0, \"SF\": 0, \"IBB\": 0}, {\"Rk\": 341, \"Name\": \"Kyle\\u00a0Lewis\", \"Age\": 27, \"Tm\": \"ARI\", \"Lg\": \"NL\", \"G\": 11, \"PA\": 35, \"AB\": 33, \"R\": 1, \"H\": 6, \"2B\": 1, \"3B\": 0, \"HR\": 1, \"RBI\": 2, \"SB\": 0, \"CS\": 0, \"BB\": 2, \"SO\": 11, \"BA\": 0.182, \"OBP\": 0.229, \"SLG\": 0.303, \"OPS\": 0.532, \"OPS+\": 46, \"TB\": 10, \"GDP\": 0, \"HBP\": 0, \"SH\": 0, \"SF\": 0, \"IBB\": 0}, {\"Rk\": 342, \"Name\": \"Royce\\u00a0Lewis\", \"Age\": 24, \"Tm\": \"MIN\", \"Lg\": \"AL\", \"G\": 26, \"PA\": 99, \"AB\": 95, \"R\": 11, \"H\": 31, \"2B\": 2, \"3B\": 0, \"HR\": 4, \"RBI\": 15, \"SB\": 1, \"CS\": 0, \"BB\": 3, \"SO\": 28, \"BA\": 0.326, \"OBP\": 0.354, \"SLG\": 0.474, \"OPS\": 0.827, \"OPS+\": 127, \"TB\": 45, \"GDP\": 1, \"HBP\": 1, \"SH\": 0, \"SF\": 0, \"IBB\": 0}, {\"Rk\": 343, \"Name\": \"Francisco\\u00a0Lindor#\", \"Age\": 29, \"Tm\": \"NYM\", \"Lg\": \"NL\", \"G\": 98, \"PA\": 421, \"AB\": 367, \"R\": 58, \"H\": 83, \"2B\": 21, \"3B\": 2, \"HR\": 19, \"RBI\": 61, \"SB\": 15, \"CS\": 1, \"BB\": 42, \"SO\": 94, \"BA\": 0.226, \"OBP\": 0.314, \"SLG\": 0.45, \"OPS\": 0.763, \"OPS+\": 110, \"TB\": 165, \"GDP\": 6, \"HBP\": 7, \"SH\": 0, \"SF\": 5, \"IBB\": 0}, {\"Rk\": 344, \"Name\": \"Tim\\u00a0Locastro\", \"Age\": 30, \"Tm\": \"NYM\", \"Lg\": \"NL\", \"G\": 11, \"PA\": 10, \"AB\": 7, \"R\": 3, \"H\": 0, \"2B\": 0, \"3B\": 0, \"HR\": 0, \"RBI\": 0, \"SB\": 4, \"CS\": 0, \"BB\": 0, \"SO\": 2, \"BA\": 0.0, \"OBP\": 0.3, \"SLG\": 0.0, \"OPS\": 0.3, \"OPS+\": -5, \"TB\": 0, \"GDP\": 0, \"HBP\": 3, \"SH\": 0, \"SF\": 0, \"IBB\": 0}, {\"Rk\": 345, \"Name\": \"Evan\\u00a0Longoria\", \"Age\": 37, \"Tm\": \"ARI\", \"Lg\": \"NL\", \"G\": 52, \"PA\": 170, \"AB\": 152, \"R\": 24, \"H\": 36, \"2B\": 8, \"3B\": 0, \"HR\": 11, \"RBI\": 22, \"SB\": 0, \"CS\": 0, \"BB\": 16, \"SO\": 54, \"BA\": 0.237, \"OBP\": 0.306, \"SLG\": 0.507, \"OPS\": 0.812, \"OPS+\": 120, \"TB\": 77, \"GDP\": 5, \"HBP\": 0, \"SH\": 0, \"SF\": 2, \"IBB\": 0}, {\"Rk\": 346, \"Name\": \"Nicky\\u00a0Lopez*\", \"Age\": 28, \"Tm\": \"KCR\", \"Lg\": \"AL\", \"G\": 63, \"PA\": 176, \"AB\": 148, \"R\": 17, \"H\": 31, \"2B\": 5, \"3B\": 3, \"HR\": 0, \"RBI\": 12, \"SB\": 3, \"CS\": 2, \"BB\": 20, \"SO\": 30, \"BA\": 0.209, \"OBP\": 0.324, \"SLG\": 0.284, \"OPS\": 0.607, \"OPS+\": 71, \"TB\": 42, \"GDP\": 3, \"HBP\": 5, \"SH\": 3, \"SF\": 0, \"IBB\": 0}, {\"Rk\": 347, \"Name\": \"Brandon\\u00a0Lowe*\", \"Age\": 28, \"Tm\": \"TBR\", \"Lg\": \"AL\", \"G\": 64, \"PA\": 249, \"AB\": 216, \"R\": 29, \"H\": 45, \"2B\": 10, \"3B\": 1, \"HR\": 10, \"RBI\": 32, \"SB\": 4, \"CS\": 0, \"BB\": 31, \"SO\": 71, \"BA\": 0.208, \"OBP\": 0.309, \"SLG\": 0.403, \"OPS\": 0.712, \"OPS+\": 98, \"TB\": 87, \"GDP\": 5, \"HBP\": 1, \"SH\": 0, \"SF\": 1, \"IBB\": 0}, {\"Rk\": 348, \"Name\": \"Josh\\u00a0Lowe*\", \"Age\": 25, \"Tm\": \"TBR\", \"Lg\": \"AL\", \"G\": 82, \"PA\": 301, \"AB\": 280, \"R\": 40, \"H\": 76, \"2B\": 18, \"3B\": 1, \"HR\": 13, \"RBI\": 51, \"SB\": 21, \"CS\": 2, \"BB\": 19, \"SO\": 82, \"BA\": 0.271, \"OBP\": 0.316, \"SLG\": 0.482, \"OPS\": 0.798, \"OPS+\": 120, \"TB\": 135, \"GDP\": 3, \"HBP\": 0, \"SH\": 0, \"SF\": 2, \"IBB\": 0}, {\"Rk\": 349, \"Name\": \"Nathaniel\\u00a0Lowe*\", \"Age\": 27, \"Tm\": \"TEX\", \"Lg\": \"AL\", \"G\": 98, \"PA\": 444, \"AB\": 385, \"R\": 64, \"H\": 109, \"2B\": 27, \"3B\": 2, \"HR\": 11, \"RBI\": 52, \"SB\": 0, \"CS\": 0, \"BB\": 53, \"SO\": 93, \"BA\": 0.283, \"OBP\": 0.372, \"SLG\": 0.449, \"OPS\": 0.821, \"OPS+\": 125, \"TB\": 173, \"GDP\": 11, \"HBP\": 3, \"SH\": 0, \"SF\": 3, \"IBB\": 2}, {\"Rk\": 350, \"Name\": \"Nathan\\u00a0Lukes*\", \"Age\": 28, \"Tm\": \"TOR\", \"Lg\": \"AL\", \"G\": 25, \"PA\": 25, \"AB\": 21, \"R\": 4, \"H\": 4, \"2B\": 1, \"3B\": 1, \"HR\": 0, \"RBI\": 2, \"SB\": 0, \"CS\": 0, \"BB\": 3, \"SO\": 8, \"BA\": 0.19, \"OBP\": 0.28, \"SLG\": 0.333, \"OPS\": 0.613, \"OPS+\": 72, \"TB\": 7, \"GDP\": 0, \"HBP\": 0, \"SH\": 0, \"SF\": 1, \"IBB\": 0}, {\"Rk\": 351, \"Name\": \"Jordan\\u00a0Luplow\", \"Age\": 29, \"Tm\": \"TOR\", \"Lg\": \"AL\", \"G\": 5, \"PA\": 11, \"AB\": 9, \"R\": 1, \"H\": 2, \"2B\": 0, \"3B\": 0, \"HR\": 0, \"RBI\": 1, \"SB\": 0, \"CS\": 0, \"BB\": 2, \"SO\": 5, \"BA\": 0.222, \"OBP\": 0.364, \"SLG\": 0.222, \"OPS\": 0.586, \"OPS+\": 71, \"TB\": 2, \"GDP\": 0, \"HBP\": 0, \"SH\": 0, \"SF\": 0, \"IBB\": 0}, {\"Rk\": 352, \"Name\": \"Manny\\u00a0Machado\", \"Age\": 30, \"Tm\": \"SDP\", \"Lg\": \"NL\", \"G\": 83, \"PA\": 361, \"AB\": 330, \"R\": 49, \"H\": 85, \"2B\": 13, \"3B\": 0, \"HR\": 19, \"RBI\": 57, \"SB\": 3, \"CS\": 1, \"BB\": 27, \"SO\": 63, \"BA\": 0.258, \"OBP\": 0.313, \"SLG\": 0.47, \"OPS\": 0.783, \"OPS+\": 117, \"TB\": 155, \"GDP\": 13, \"HBP\": 1, \"SH\": 0, \"SF\": 3, \"IBB\": 0}, {\"Rk\": 353, \"Name\": \"Nick\\u00a0Madrigal\", \"Age\": 26, \"Tm\": \"CHC\", \"Lg\": \"NL\", \"G\": 53, \"PA\": 167, \"AB\": 151, \"R\": 23, \"H\": 42, \"2B\": 8, \"3B\": 1, \"HR\": 1, \"RBI\": 17, \"SB\": 7, \"CS\": 2, \"BB\": 7, \"SO\": 16, \"BA\": 0.278, \"OBP\": 0.335, \"SLG\": 0.364, \"OPS\": 0.7, \"OPS+\": 90, \"TB\": 55, \"GDP\": 3, \"HBP\": 6, \"SH\": 3, \"SF\": 0, \"IBB\": 0}, {\"Rk\": 354, \"Name\": \"Bligh\\u00a0Madris*\", \"Age\": 27, \"Tm\": \"HOU\", \"Lg\": \"AL\", \"G\": 11, \"PA\": 27, \"AB\": 23, \"R\": 3, \"H\": 3, \"2B\": 1, \"3B\": 0, \"HR\": 0, \"RBI\": 0, \"SB\": 0, \"CS\": 0, \"BB\": 4, \"SO\": 6, \"BA\": 0.13, \"OBP\": 0.259, \"SLG\": 0.174, \"OPS\": 0.433, \"OPS+\": 25, \"TB\": 4, \"GDP\": 0, \"HBP\": 0, \"SH\": 0, \"SF\": 0, \"IBB\": 0}, {\"Rk\": 355, \"Name\": \"Drew\\u00a0Maggi\", \"Age\": 34, \"Tm\": \"PIT\", \"Lg\": \"NL\", \"G\": 3, \"PA\": 6, \"AB\": 6, \"R\": 1, \"H\": 2, \"2B\": 1, \"3B\": 0, \"HR\": 0, \"RBI\": 1, \"SB\": 0, \"CS\": 0, \"BB\": 0, \"SO\": 1, \"BA\": 0.333, \"OBP\": 0.333, \"SLG\": 0.5, \"OPS\": 0.833, \"OPS+\": 124, \"TB\": 3, \"GDP\": 0, \"HBP\": 0, \"SH\": 0, \"SF\": 0, \"IBB\": 0}, {\"Rk\": 356, \"Name\": \"Luke\\u00a0Maile\", \"Age\": 32, \"Tm\": \"CIN\", \"Lg\": \"NL\", \"G\": 43, \"PA\": 106, \"AB\": 99, \"R\": 10, \"H\": 23, \"2B\": 7, \"3B\": 0, \"HR\": 4, \"RBI\": 13, \"SB\": 1, \"CS\": 0, \"BB\": 6, \"SO\": 29, \"BA\": 0.232, \"OBP\": 0.283, \"SLG\": 0.424, \"OPS\": 0.707, \"OPS+\": 84, \"TB\": 42, \"GDP\": 5, \"HBP\": 1, \"SH\": 0, \"SF\": 0, \"IBB\": 0}, {\"Rk\": 357, \"Name\": \"Mart\\u00edn\\u00a0Maldonado\", \"Age\": 36, \"Tm\": \"HOU\", \"Lg\": \"AL\", \"G\": 73, \"PA\": 257, \"AB\": 227, \"R\": 18, \"H\": 37, \"2B\": 7, \"3B\": 0, \"HR\": 7, \"RBI\": 17, \"SB\": 0, \"CS\": 0, \"BB\": 19, \"SO\": 81, \"BA\": 0.163, \"OBP\": 0.237, \"SLG\": 0.286, \"OPS\": 0.523, \"OPS+\": 45, \"TB\": 65, \"GDP\": 8, \"HBP\": 3, \"SH\": 8, \"SF\": 0, \"IBB\": 0}, {\"Rk\": 358, \"Name\": \"Trey\\u00a0Mancini\", \"Age\": 31, \"Tm\": \"CHC\", \"Lg\": \"NL\", \"G\": 74, \"PA\": 251, \"AB\": 224, \"R\": 31, \"H\": 53, \"2B\": 11, \"3B\": 0, \"HR\": 4, \"RBI\": 26, \"SB\": 0, \"CS\": 0, \"BB\": 20, \"SO\": 75, \"BA\": 0.237, \"OBP\": 0.301, \"SLG\": 0.339, \"OPS\": 0.64, \"OPS+\": 74, \"TB\": 76, \"GDP\": 5, \"HBP\": 2, \"SH\": 0, \"SF\": 3, \"IBB\": 1}, {\"Rk\": 359, \"Name\": \"Tucupita\\u00a0Marcano*\", \"Age\": 23, \"Tm\": \"PIT\", \"Lg\": \"NL\", \"G\": 74, \"PA\": 217, \"AB\": 199, \"R\": 16, \"H\": 46, \"2B\": 12, \"3B\": 2, \"HR\": 3, \"RBI\": 18, \"SB\": 5, \"CS\": 2, \"BB\": 10, \"SO\": 34, \"BA\": 0.231, \"OBP\": 0.276, \"SLG\": 0.357, \"OPS\": 0.632, \"OPS+\": 71, \"TB\": 71, \"GDP\": 2, \"HBP\": 3, \"SH\": 3, \"SF\": 2, \"IBB\": 0}, {\"Rk\": 360, \"Name\": \"Manuel\\u00a0Margot\", \"Age\": 28, \"Tm\": \"TBR\", \"Lg\": \"AL\", \"G\": 75, \"PA\": 247, \"AB\": 225, \"R\": 32, \"H\": 57, \"2B\": 14, \"3B\": 1, \"HR\": 3, \"RBI\": 26, \"SB\": 7, \"CS\": 3, \"BB\": 16, \"SO\": 41, \"BA\": 0.253, \"OBP\": 0.308, \"SLG\": 0.364, \"OPS\": 0.672, \"OPS+\": 88, \"TB\": 82, \"GDP\": 6, \"HBP\": 3, \"SH\": 0, \"SF\": 3, \"IBB\": 0}, {\"Rk\": 361, \"Name\": \"Jake\\u00a0Marisnick\", \"Age\": 32, \"Tm\": \"TOT\", \"Lg\": \"MLB\", \"G\": 46, \"PA\": 83, \"AB\": 76, \"R\": 10, \"H\": 18, \"2B\": 3, \"3B\": 2, \"HR\": 2, \"RBI\": 10, \"SB\": 2, \"CS\": 3, \"BB\": 3, \"SO\": 21, \"BA\": 0.237, \"OBP\": 0.28, \"SLG\": 0.408, \"OPS\": 0.688, \"OPS+\": 89, \"TB\": 31, \"GDP\": 4, \"HBP\": 2, \"SH\": 1, \"SF\": 1, \"IBB\": 0}, {\"Rk\": 362, \"Name\": \"Jake\\u00a0Marisnick\", \"Age\": 32, \"Tm\": \"TOT\", \"Lg\": \"AL\", \"G\": 42, \"PA\": 77, \"AB\": 71, \"R\": 10, \"H\": 16, \"2B\": 3, \"3B\": 2, \"HR\": 2, \"RBI\": 10, \"SB\": 2, \"CS\": 2, \"BB\": 3, \"SO\": 21, \"BA\": 0.225, \"OBP\": 0.263, \"SLG\": 0.408, \"OPS\": 0.672, \"OPS+\": 84, \"TB\": 29, \"GDP\": 4, \"HBP\": 1, \"SH\": 1, \"SF\": 1, \"IBB\": 0}, {\"Rk\": 363, \"Name\": \"Jake\\u00a0Marisnick\", \"Age\": 32, \"Tm\": \"CHW\", \"Lg\": \"AL\", \"G\": 9, \"PA\": 2, \"AB\": 2, \"R\": 1, \"H\": 0, \"2B\": 0, \"3B\": 0, \"HR\": 0, \"RBI\": 0, \"SB\": 0, \"CS\": 0, \"BB\": 0, \"SO\": 1, \"BA\": 0.0, \"OBP\": 0.0, \"SLG\": 0.0, \"OPS\": 0.0, \"OPS+\": -100, \"TB\": 0, \"GDP\": 0, \"HBP\": 0, \"SH\": 0, \"SF\": 0, \"IBB\": 0}, {\"Rk\": 364, \"Name\": \"Jake\\u00a0Marisnick\", \"Age\": 32, \"Tm\": \"DET\", \"Lg\": \"AL\", \"G\": 33, \"PA\": 75, \"AB\": 69, \"R\": 9, \"H\": 16, \"2B\": 3, \"3B\": 2, \"HR\": 2, \"RBI\": 10, \"SB\": 2, \"CS\": 2, \"BB\": 3, \"SO\": 20, \"BA\": 0.232, \"OBP\": 0.27, \"SLG\": 0.42, \"OPS\": 0.691, \"OPS+\": 90, \"TB\": 29, \"GDP\": 4, \"HBP\": 1, \"SH\": 1, \"SF\": 1, \"IBB\": 0}, {\"Rk\": 365, \"Name\": \"Jake\\u00a0Marisnick\", \"Age\": 32, \"Tm\": \"LAD\", \"Lg\": \"NL\", \"G\": 4, \"PA\": 6, \"AB\": 5, \"R\": 0, \"H\": 2, \"2B\": 0, \"3B\": 0, \"HR\": 0, \"RBI\": 0, \"SB\": 0, \"CS\": 1, \"BB\": 0, \"SO\": 0, \"BA\": 0.4, \"OBP\": 0.5, \"SLG\": 0.4, \"OPS\": 0.9, \"OPS+\": 147, \"TB\": 2, \"GDP\": 0, \"HBP\": 1, \"SH\": 0, \"SF\": 0, \"IBB\": 0}, {\"Rk\": 366, \"Name\": \"Cade\\u00a0Marlowe*\", \"Age\": 26, \"Tm\": \"SEA\", \"Lg\": \"AL\", \"G\": 2, \"PA\": 5, \"AB\": 4, \"R\": 0, \"H\": 0, \"2B\": 0, \"3B\": 0, \"HR\": 0, \"RBI\": 0, \"SB\": 0, \"CS\": 0, \"BB\": 1, \"SO\": 2, \"BA\": 0.0, \"OBP\": 0.2, \"SLG\": 0.0, \"OPS\": 0.2, \"OPS+\": -36, \"TB\": 0, \"GDP\": 0, \"HBP\": 0, \"SH\": 0, \"SF\": 0, \"IBB\": 0}, {\"Rk\": 367, \"Name\": \"Brandon\\u00a0Marsh*\", \"Age\": 25, \"Tm\": \"PHI\", \"Lg\": \"NL\", \"G\": 89, \"PA\": 323, \"AB\": 282, \"R\": 34, \"H\": 78, \"2B\": 18, \"3B\": 5, \"HR\": 7, \"RBI\": 36, \"SB\": 6, \"CS\": 1, \"BB\": 36, \"SO\": 101, \"BA\": 0.277, \"OBP\": 0.357, \"SLG\": 0.45, \"OPS\": 0.807, \"OPS+\": 121, \"TB\": 127, \"GDP\": 3, \"HBP\": 1, \"SH\": 1, \"SF\": 3, \"IBB\": 2}, {\"Rk\": 368, \"Name\": \"Ketel\\u00a0Marte#\", \"Age\": 29, \"Tm\": \"ARI\", \"Lg\": \"NL\", \"G\": 92, \"PA\": 403, \"AB\": 356, \"R\": 67, \"H\": 102, \"2B\": 18, \"3B\": 6, \"HR\": 17, \"RBI\": 55, \"SB\": 6, \"CS\": 2, \"BB\": 39, \"SO\": 68, \"BA\": 0.287, \"OBP\": 0.362, \"SLG\": 0.514, \"OPS\": 0.876, \"OPS+\": 139, \"TB\": 183, \"GDP\": 11, \"HBP\": 5, \"SH\": 0, \"SF\": 3, \"IBB\": 1}, {\"Rk\": 369, \"Name\": \"Starling\\u00a0Marte\", \"Age\": 34, \"Tm\": \"NYM\", \"Lg\": \"NL\", \"G\": 84, \"PA\": 333, \"AB\": 307, \"R\": 38, \"H\": 78, \"2B\": 7, \"3B\": 1, \"HR\": 5, \"RBI\": 28, \"SB\": 24, \"CS\": 4, \"BB\": 16, \"SO\": 66, \"BA\": 0.254, \"OBP\": 0.308, \"SLG\": 0.332, \"OPS\": 0.64, \"OPS+\": 79, \"TB\": 102, \"GDP\": 8, \"HBP\": 8, \"SH\": 2, \"SF\": 0, \"IBB\": 1}, {\"Rk\": 370, \"Name\": \"J.D.\\u00a0Martinez\", \"Age\": 35, \"Tm\": \"LAD\", \"Lg\": \"NL\", \"G\": 80, \"PA\": 348, \"AB\": 315, \"R\": 47, \"H\": 83, \"2B\": 20, \"3B\": 2, \"HR\": 24, \"RBI\": 73, \"SB\": 1, \"CS\": 0, \"BB\": 24, \"SO\": 107, \"BA\": 0.263, \"OBP\": 0.313, \"SLG\": 0.568, \"OPS\": 0.881, \"OPS+\": 130, \"TB\": 179, \"GDP\": 7, \"HBP\": 2, \"SH\": 0, \"SF\": 7, \"IBB\": 1}, {\"Rk\": 371, \"Name\": \"Seth\\u00a0Martinez\", \"Age\": 28, \"Tm\": \"HOU\", \"Lg\": \"AL\", \"G\": 1, \"PA\": 0, \"AB\": 0, \"R\": 0, \"H\": 0, \"2B\": 0, \"3B\": 0, \"HR\": 0, \"RBI\": 0, \"SB\": 0, \"CS\": 0, \"BB\": 0, \"SO\": 0, \"BA\": 0.0, \"OBP\": 0.0, \"SLG\": 0.0, \"OPS\": 0.0, \"OPS+\": 0, \"TB\": 0, \"GDP\": 0, \"HBP\": 0, \"SH\": 0, \"SF\": 0, \"IBB\": 0}, {\"Rk\": 372, \"Name\": \"Michael\\u00a0Massey*\", \"Age\": 25, \"Tm\": \"KCR\", \"Lg\": \"AL\", \"G\": 73, \"PA\": 247, \"AB\": 226, \"R\": 18, \"H\": 47, \"2B\": 7, \"3B\": 1, \"HR\": 6, \"RBI\": 27, \"SB\": 3, \"CS\": 1, \"BB\": 15, \"SO\": 66, \"BA\": 0.208, \"OBP\": 0.263, \"SLG\": 0.327, \"OPS\": 0.591, \"OPS+\": 63, \"TB\": 74, \"GDP\": 0, \"HBP\": 3, \"SH\": 0, \"SF\": 3, \"IBB\": 0}, {\"Rk\": 373, \"Name\": \"Miles\\u00a0Mastrobuoni*\", \"Age\": 27, \"Tm\": \"CHC\", \"Lg\": \"NL\", \"G\": 38, \"PA\": 98, \"AB\": 85, \"R\": 12, \"H\": 18, \"2B\": 3, \"3B\": 0, \"HR\": 1, \"RBI\": 3, \"SB\": 8, \"CS\": 0, \"BB\": 11, \"SO\": 24, \"BA\": 0.212, \"OBP\": 0.302, \"SLG\": 0.282, \"OPS\": 0.584, \"OPS+\": 60, \"TB\": 24, \"GDP\": 1, \"HBP\": 0, \"SH\": 2, \"SF\": 0, \"IBB\": 0}, {\"Rk\": 374, \"Name\": \"Jorge\\u00a0Mateo\", \"Age\": 28, \"Tm\": \"BAL\", \"Lg\": \"AL\", \"G\": 82, \"PA\": 261, \"AB\": 237, \"R\": 39, \"H\": 51, \"2B\": 12, \"3B\": 1, \"HR\": 6, \"RBI\": 31, \"SB\": 23, \"CS\": 3, \"BB\": 16, \"SO\": 64, \"BA\": 0.215, \"OBP\": 0.265, \"SLG\": 0.35, \"OPS\": 0.615, \"OPS+\": 71, \"TB\": 83, \"GDP\": 5, \"HBP\": 1, \"SH\": 3, \"SF\": 3, \"IBB\": 0}, {\"Rk\": 375, \"Name\": \"Mark\\u00a0Mathias\", \"Age\": 28, \"Tm\": \"PIT\", \"Lg\": \"NL\", \"G\": 22, \"PA\": 62, \"AB\": 52, \"R\": 5, \"H\": 12, \"2B\": 2, \"3B\": 0, \"HR\": 0, \"RBI\": 4, \"SB\": 3, \"CS\": 0, \"BB\": 10, \"SO\": 11, \"BA\": 0.231, \"OBP\": 0.355, \"SLG\": 0.269, \"OPS\": 0.624, \"OPS+\": 75, \"TB\": 14, \"GDP\": 3, \"HBP\": 0, \"SH\": 0, \"SF\": 0, \"IBB\": 0}, {\"Rk\": 376, \"Name\": \"Nick\\u00a0Maton*\", \"Age\": 26, \"Tm\": \"DET\", \"Lg\": \"AL\", \"G\": 79, \"PA\": 260, \"AB\": 219, \"R\": 25, \"H\": 36, \"2B\": 7, \"3B\": 0, \"HR\": 7, \"RBI\": 27, \"SB\": 0, \"CS\": 2, \"BB\": 36, \"SO\": 64, \"BA\": 0.164, \"OBP\": 0.288, \"SLG\": 0.292, \"OPS\": 0.581, \"OPS+\": 64, \"TB\": 64, \"GDP\": 4, \"HBP\": 3, \"SH\": 0, \"SF\": 2, \"IBB\": 1}, {\"Rk\": 377, \"Name\": \"Phil\\u00a0Maton\", \"Age\": 30, \"Tm\": \"HOU\", \"Lg\": \"AL\", \"G\": 3, \"PA\": 0, \"AB\": 0, \"R\": 0, \"H\": 0, \"2B\": 0, \"3B\": 0, \"HR\": 0, \"RBI\": 0, \"SB\": 0, \"CS\": 0, \"BB\": 0, \"SO\": 0, \"BA\": 0.0, \"OBP\": 0.0, \"SLG\": 0.0, \"OPS\": 0.0, \"OPS+\": 0, \"TB\": 0, \"GDP\": 0, \"HBP\": 0, \"SH\": 0, \"SF\": 0, \"IBB\": 0}, {\"Rk\": 378, \"Name\": \"Luis\\u00a0Matos\", \"Age\": 21, \"Tm\": \"SFG\", \"Lg\": \"NL\", \"G\": 31, \"PA\": 111, \"AB\": 101, \"R\": 13, \"H\": 26, \"2B\": 3, \"3B\": 1, \"HR\": 1, \"RBI\": 8, \"SB\": 3, \"CS\": 0, \"BB\": 8, \"SO\": 11, \"BA\": 0.257, \"OBP\": 0.318, \"SLG\": 0.337, \"OPS\": 0.655, \"OPS+\": 81, \"TB\": 34, \"GDP\": 1, \"HBP\": 1, \"SH\": 1, \"SF\": 0, \"IBB\": 0}, {\"Rk\": 379, \"Name\": \"Tim\\u00a0Mayza*\", \"Age\": 31, \"Tm\": \"TOR\", \"Lg\": \"AL\", \"G\": 2, \"PA\": 0, \"AB\": 0, \"R\": 0, \"H\": 0, \"2B\": 0, \"3B\": 0, \"HR\": 0, \"RBI\": 0, \"SB\": 0, \"CS\": 0, \"BB\": 0, \"SO\": 0, \"BA\": 0.0, \"OBP\": 0.0, \"SLG\": 0.0, \"OPS\": 0.0, \"OPS+\": 0, \"TB\": 0, \"GDP\": 0, \"HBP\": 0, \"SH\": 0, \"SF\": 0, \"IBB\": 0}, {\"Rk\": 380, \"Name\": \"James\\u00a0McCann\", \"Age\": 33, \"Tm\": \"BAL\", \"Lg\": \"AL\", \"G\": 38, \"PA\": 122, \"AB\": 113, \"R\": 11, \"H\": 22, \"2B\": 7, \"3B\": 0, \"HR\": 3, \"RBI\": 10, \"SB\": 1, \"CS\": 0, \"BB\": 3, \"SO\": 26, \"BA\": 0.195, \"OBP\": 0.227, \"SLG\": 0.336, \"OPS\": 0.563, \"OPS+\": 56, \"TB\": 38, \"GDP\": 3, \"HBP\": 2, \"SH\": 3, \"SF\": 1, \"IBB\": 0}, {\"Rk\": 381, \"Name\": \"Jake\\u00a0McCarthy*\", \"Age\": 25, \"Tm\": \"ARI\", \"Lg\": \"NL\", \"G\": 68, \"PA\": 235, \"AB\": 207, \"R\": 31, \"H\": 52, \"2B\": 5, \"3B\": 5, \"HR\": 2, \"RBI\": 13, \"SB\": 22, \"CS\": 3, \"BB\": 21, \"SO\": 49, \"BA\": 0.251, \"OBP\": 0.33, \"SLG\": 0.353, \"OPS\": 0.683, \"OPS+\": 90, \"TB\": 73, \"GDP\": 4, \"HBP\": 4, \"SH\": 2, \"SF\": 1, \"IBB\": 0}, {\"Rk\": 382, \"Name\": \"Chas\\u00a0McCormick\", \"Age\": 28, \"Tm\": \"HOU\", \"Lg\": \"AL\", \"G\": 59, \"PA\": 232, \"AB\": 202, \"R\": 30, \"H\": 57, \"2B\": 10, \"3B\": 1, \"HR\": 12, \"RBI\": 35, \"SB\": 11, \"CS\": 1, \"BB\": 23, \"SO\": 61, \"BA\": 0.282, \"OBP\": 0.372, \"SLG\": 0.52, \"OPS\": 0.892, \"OPS+\": 145, \"TB\": 105, \"GDP\": 1, \"HBP\": 6, \"SH\": 1, \"SF\": 0, \"IBB\": 0}, {\"Rk\": 383, \"Name\": \"Andrew\\u00a0McCutchen\", \"Age\": 36, \"Tm\": \"PIT\", \"Lg\": \"NL\", \"G\": 79, \"PA\": 334, \"AB\": 278, \"R\": 40, \"H\": 74, \"2B\": 12, \"3B\": 0, \"HR\": 10, \"RBI\": 28, \"SB\": 9, \"CS\": 3, \"BB\": 50, \"SO\": 68, \"BA\": 0.266, \"OBP\": 0.377, \"SLG\": 0.417, \"OPS\": 0.795, \"OPS+\": 117, \"TB\": 116, \"GDP\": 5, \"HBP\": 2, \"SH\": 0, \"SF\": 4, \"IBB\": 1}, {\"Rk\": 384, \"Name\": \"Scott\\u00a0McGough\", \"Age\": 33, \"Tm\": \"ARI\", \"Lg\": \"NL\", \"G\": 1, \"PA\": 0, \"AB\": 0, \"R\": 0, \"H\": 0, \"2B\": 0, \"3B\": 0, \"HR\": 0, \"RBI\": 0, \"SB\": 0, \"CS\": 0, \"BB\": 0, \"SO\": 0, \"BA\": 0.0, \"OBP\": 0.0, \"SLG\": 0.0, \"OPS\": 0.0, \"OPS+\": 0, \"TB\": 0, \"GDP\": 0, \"HBP\": 0, \"SH\": 0, \"SF\": 0, \"IBB\": 0}, {\"Rk\": 385, \"Name\": \"Reese\\u00a0McGuire*\", \"Age\": 28, \"Tm\": \"BOS\", \"Lg\": \"AL\", \"G\": 40, \"PA\": 116, \"AB\": 105, \"R\": 11, \"H\": 28, \"2B\": 9, \"3B\": 0, \"HR\": 0, \"RBI\": 11, \"SB\": 0, \"CS\": 1, \"BB\": 7, \"SO\": 32, \"BA\": 0.267, \"OBP\": 0.313, \"SLG\": 0.352, \"OPS\": 0.665, \"OPS+\": 79, \"TB\": 37, \"GDP\": 1, \"HBP\": 0, \"SH\": 2, \"SF\": 0, \"IBB\": 0}, {\"Rk\": 386, \"Name\": \"Ryan\\u00a0McKenna\", \"Age\": 26, \"Tm\": \"BAL\", \"Lg\": \"AL\", \"G\": 62, \"PA\": 89, \"AB\": 79, \"R\": 16, \"H\": 20, \"2B\": 5, \"3B\": 0, \"HR\": 2, \"RBI\": 11, \"SB\": 1, \"CS\": 0, \"BB\": 5, \"SO\": 26, \"BA\": 0.253, \"OBP\": 0.315, \"SLG\": 0.392, \"OPS\": 0.707, \"OPS+\": 98, \"TB\": 31, \"GDP\": 3, \"HBP\": 3, \"SH\": 0, \"SF\": 2, \"IBB\": 0}, {\"Rk\": 387, \"Name\": \"Billy\\u00a0McKinney*\", \"Age\": 28, \"Tm\": \"NYY\", \"Lg\": \"AL\", \"G\": 31, \"PA\": 91, \"AB\": 83, \"R\": 12, \"H\": 21, \"2B\": 3, \"3B\": 1, \"HR\": 5, \"RBI\": 11, \"SB\": 1, \"CS\": 0, \"BB\": 7, \"SO\": 22, \"BA\": 0.253, \"OBP\": 0.319, \"SLG\": 0.494, \"OPS\": 0.813, \"OPS+\": 122, \"TB\": 41, \"GDP\": 1, \"HBP\": 1, \"SH\": 0, \"SF\": 0, \"IBB\": 0}, {\"Rk\": 388, \"Name\": \"Zach\\u00a0McKinstry*\", \"Age\": 28, \"Tm\": \"DET\", \"Lg\": \"AL\", \"G\": 90, \"PA\": 314, \"AB\": 278, \"R\": 41, \"H\": 69, \"2B\": 12, \"3B\": 2, \"HR\": 7, \"RBI\": 23, \"SB\": 12, \"CS\": 1, \"BB\": 30, \"SO\": 64, \"BA\": 0.248, \"OBP\": 0.324, \"SLG\": 0.381, \"OPS\": 0.705, \"OPS+\": 97, \"TB\": 106, \"GDP\": 1, \"HBP\": 2, \"SH\": 2, \"SF\": 2, \"IBB\": 0}, {\"Rk\": 389, \"Name\": \"Matt\\u00a0McLain\", \"Age\": 23, \"Tm\": \"CIN\", \"Lg\": \"NL\", \"G\": 58, \"PA\": 268, \"AB\": 242, \"R\": 45, \"H\": 73, \"2B\": 17, \"3B\": 4, \"HR\": 10, \"RBI\": 35, \"SB\": 8, \"CS\": 3, \"BB\": 20, \"SO\": 72, \"BA\": 0.302, \"OBP\": 0.369, \"SLG\": 0.529, \"OPS\": 0.898, \"OPS+\": 135, \"TB\": 128, \"GDP\": 4, \"HBP\": 6, \"SH\": 0, \"SF\": 0, \"IBB\": 0}, {\"Rk\": 390, \"Name\": \"Ryan\\u00a0McMahon*\", \"Age\": 28, \"Tm\": \"COL\", \"Lg\": \"NL\", \"G\": 95, \"PA\": 394, \"AB\": 349, \"R\": 51, \"H\": 89, \"2B\": 20, \"3B\": 3, \"HR\": 15, \"RBI\": 46, \"SB\": 5, \"CS\": 3, \"BB\": 43, \"SO\": 124, \"BA\": 0.255, \"OBP\": 0.338, \"SLG\": 0.458, \"OPS\": 0.796, \"OPS+\": 104, \"TB\": 160, \"GDP\": 12, \"HBP\": 1, \"SH\": 0, \"SF\": 1, \"IBB\": 1}, {\"Rk\": 391, \"Name\": \"Jeff\\u00a0McNeil*\", \"Age\": 31, \"Tm\": \"NYM\", \"Lg\": \"NL\", \"G\": 97, \"PA\": 395, \"AB\": 351, \"R\": 41, \"H\": 87, \"2B\": 15, \"3B\": 1, \"HR\": 3, \"RBI\": 30, \"SB\": 5, \"CS\": 0, \"BB\": 28, \"SO\": 46, \"BA\": 0.248, \"OBP\": 0.323, \"SLG\": 0.322, \"OPS\": 0.645, \"OPS+\": 81, \"TB\": 113, \"GDP\": 5, \"HBP\": 12, \"SH\": 2, \"SF\": 2, \"IBB\": 0}, {\"Rk\": 392, \"Name\": \"Austin\\u00a0Meadows*\", \"Age\": 28, \"Tm\": \"DET\", \"Lg\": \"AL\", \"G\": 6, \"PA\": 21, \"AB\": 21, \"R\": 0, \"H\": 5, \"2B\": 1, \"3B\": 0, \"HR\": 0, \"RBI\": 2, \"SB\": 0, \"CS\": 0, \"BB\": 0, \"SO\": 3, \"BA\": 0.238, \"OBP\": 0.238, \"SLG\": 0.286, \"OPS\": 0.524, \"OPS+\": 46, \"TB\": 6, \"GDP\": 0, \"HBP\": 0, \"SH\": 0, \"SF\": 0, \"IBB\": 0}, {\"Rk\": 393, \"Name\": \"Francisco\\u00a0Mej\\u00eda#\", \"Age\": 27, \"Tm\": \"TBR\", \"Lg\": \"AL\", \"G\": 50, \"PA\": 160, \"AB\": 150, \"R\": 22, \"H\": 34, \"2B\": 11, \"3B\": 0, \"HR\": 5, \"RBI\": 19, \"SB\": 0, \"CS\": 1, \"BB\": 6, \"SO\": 38, \"BA\": 0.227, \"OBP\": 0.258, \"SLG\": 0.4, \"OPS\": 0.658, \"OPS+\": 81, \"TB\": 60, \"GDP\": 2, \"HBP\": 1, \"SH\": 1, \"SF\": 2, \"IBB\": 0}, {\"Rk\": 394, \"Name\": \"MJ\\u00a0Melendez*\", \"Age\": 24, \"Tm\": \"KCR\", \"Lg\": \"AL\", \"G\": 93, \"PA\": 381, \"AB\": 339, \"R\": 37, \"H\": 72, \"2B\": 20, \"3B\": 2, \"HR\": 7, \"RBI\": 33, \"SB\": 5, \"CS\": 2, \"BB\": 36, \"SO\": 111, \"BA\": 0.212, \"OBP\": 0.291, \"SLG\": 0.345, \"OPS\": 0.636, \"OPS+\": 76, \"TB\": 117, \"GDP\": 3, \"HBP\": 3, \"SH\": 0, \"SF\": 3, \"IBB\": 1}, {\"Rk\": 395, \"Name\": \"Danny\\u00a0Mendick\", \"Age\": 29, \"Tm\": \"NYM\", \"Lg\": \"NL\", \"G\": 4, \"PA\": 7, \"AB\": 7, \"R\": 0, \"H\": 0, \"2B\": 0, \"3B\": 0, \"HR\": 0, \"RBI\": 0, \"SB\": 0, \"CS\": 0, \"BB\": 0, \"SO\": 1, \"BA\": 0.0, \"OBP\": 0.0, \"SLG\": 0.0, \"OPS\": 0.0, \"OPS+\": -100, \"TB\": 0, \"GDP\": 0, \"HBP\": 0, \"SH\": 0, \"SF\": 0, \"IBB\": 0}, {\"Rk\": 396, \"Name\": \"Joey\\u00a0Meneses\", \"Age\": 31, \"Tm\": \"WSN\", \"Lg\": \"NL\", \"G\": 91, \"PA\": 393, \"AB\": 367, \"R\": 36, \"H\": 102, \"2B\": 22, \"3B\": 1, \"HR\": 6, \"RBI\": 50, \"SB\": 0, \"CS\": 0, \"BB\": 24, \"SO\": 80, \"BA\": 0.278, \"OBP\": 0.321, \"SLG\": 0.392, \"OPS\": 0.713, \"OPS+\": 100, \"TB\": 144, \"GDP\": 10, \"HBP\": 0, \"SH\": 0, \"SF\": 2, \"IBB\": 0}, {\"Rk\": 397, \"Name\": \"\\u00d3scar\\u00a0Mercado\", \"Age\": 28, \"Tm\": \"STL\", \"Lg\": \"NL\", \"G\": 20, \"PA\": 32, \"AB\": 31, \"R\": 3, \"H\": 9, \"2B\": 3, \"3B\": 0, \"HR\": 0, \"RBI\": 5, \"SB\": 2, \"CS\": 1, \"BB\": 1, \"SO\": 4, \"BA\": 0.29, \"OBP\": 0.313, \"SLG\": 0.387, \"OPS\": 0.7, \"OPS+\": 91, \"TB\": 12, \"GDP\": 0, \"HBP\": 0, \"SH\": 0, \"SF\": 0, \"IBB\": 0}, {\"Rk\": 398, \"Name\": \"Whit\\u00a0Merrifield\", \"Age\": 34, \"Tm\": \"TOR\", \"Lg\": \"AL\", \"G\": 90, \"PA\": 358, \"AB\": 327, \"R\": 41, \"H\": 95, \"2B\": 17, \"3B\": 0, \"HR\": 6, \"RBI\": 42, \"SB\": 20, \"CS\": 8, \"BB\": 25, \"SO\": 63, \"BA\": 0.291, \"OBP\": 0.344, \"SLG\": 0.398, \"OPS\": 0.741, \"OPS+\": 108, \"TB\": 130, \"GDP\": 10, \"HBP\": 3, \"SH\": 0, \"SF\": 3, \"IBB\": 0}, {\"Rk\": 399, \"Name\": \"Julian\\u00a0Merryweather\", \"Age\": 31, \"Tm\": \"CHC\", \"Lg\": \"NL\", \"G\": 1, \"PA\": 0, \"AB\": 0, \"R\": 0, \"H\": 0, \"2B\": 0, \"3B\": 0, \"HR\": 0, \"RBI\": 0, \"SB\": 0, \"CS\": 0, \"BB\": 0, \"SO\": 0, \"BA\": 0.0, \"OBP\": 0.0, \"SLG\": 0.0, \"OPS\": 0.0, \"OPS+\": 0, \"TB\": 0, \"GDP\": 0, \"HBP\": 0, \"SH\": 0, \"SF\": 0, \"IBB\": 0}, {\"Rk\": 400, \"Name\": \"Matt\\u00a0Mervis*\", \"Age\": 25, \"Tm\": \"CHC\", \"Lg\": \"NL\", \"G\": 27, \"PA\": 99, \"AB\": 90, \"R\": 8, \"H\": 15, \"2B\": 2, \"3B\": 0, \"HR\": 3, \"RBI\": 11, \"SB\": 0, \"CS\": 0, \"BB\": 8, \"SO\": 32, \"BA\": 0.167, \"OBP\": 0.242, \"SLG\": 0.289, \"OPS\": 0.531, \"OPS+\": 43, \"TB\": 26, \"GDP\": 1, \"HBP\": 1, \"SH\": 0, \"SF\": 0, \"IBB\": 0}, {\"Rk\": 401, \"Name\": \"Jake\\u00a0Meyers\", \"Age\": 27, \"Tm\": \"HOU\", \"Lg\": \"AL\", \"G\": 76, \"PA\": 255, \"AB\": 227, \"R\": 31, \"H\": 51, \"2B\": 12, \"3B\": 1, \"HR\": 7, \"RBI\": 23, \"SB\": 5, \"CS\": 1, \"BB\": 23, \"SO\": 66, \"BA\": 0.225, \"OBP\": 0.306, \"SLG\": 0.379, \"OPS\": 0.685, \"OPS+\": 90, \"TB\": 86, \"GDP\": 2, \"HBP\": 4, \"SH\": 0, \"SF\": 1, \"IBB\": 0}, {\"Rk\": 402, \"Name\": \"Brad\\u00a0Miller*\", \"Age\": 33, \"Tm\": \"TEX\", \"Lg\": \"AL\", \"G\": 24, \"PA\": 58, \"AB\": 49, \"R\": 5, \"H\": 10, \"2B\": 3, \"3B\": 0, \"HR\": 1, \"RBI\": 6, \"SB\": 0, \"CS\": 0, \"BB\": 8, \"SO\": 9, \"BA\": 0.204, \"OBP\": 0.31, \"SLG\": 0.327, \"OPS\": 0.637, \"OPS+\": 76, \"TB\": 16, \"GDP\": 1, \"HBP\": 0, \"SH\": 0, \"SF\": 1, \"IBB\": 0}, {\"Rk\": 403, \"Name\": \"Owen\\u00a0Miller\", \"Age\": 26, \"Tm\": \"MIL\", \"Lg\": \"NL\", \"G\": 81, \"PA\": 295, \"AB\": 274, \"R\": 29, \"H\": 74, \"2B\": 17, \"3B\": 0, \"HR\": 5, \"RBI\": 26, \"SB\": 12, \"CS\": 2, \"BB\": 16, \"SO\": 56, \"BA\": 0.27, \"OBP\": 0.312, \"SLG\": 0.387, \"OPS\": 0.699, \"OPS+\": 91, \"TB\": 106, \"GDP\": 6, \"HBP\": 2, \"SH\": 0, \"SF\": 3, \"IBB\": 1}, {\"Rk\": 404, \"Name\": \"Shelby\\u00a0Miller\", \"Age\": 32, \"Tm\": \"LAD\", \"Lg\": \"NL\", \"G\": 1, \"PA\": 1, \"AB\": 1, \"R\": 0, \"H\": 0, \"2B\": 0, \"3B\": 0, \"HR\": 0, \"RBI\": 0, \"SB\": 0, \"CS\": 0, \"BB\": 0, \"SO\": 0, \"BA\": 0.0, \"OBP\": 0.0, \"SLG\": 0.0, \"OPS\": 0.0, \"OPS+\": -100, \"TB\": 0, \"GDP\": 0, \"HBP\": 0, \"SH\": 0, \"SF\": 0, \"IBB\": 0}, {\"Rk\": 405, \"Name\": \"Jose\\u00a0Miranda\", \"Age\": 25, \"Tm\": \"MIN\", \"Lg\": \"AL\", \"G\": 40, \"PA\": 152, \"AB\": 142, \"R\": 12, \"H\": 30, \"2B\": 4, \"3B\": 0, \"HR\": 3, \"RBI\": 13, \"SB\": 0, \"CS\": 0, \"BB\": 9, \"SO\": 24, \"BA\": 0.211, \"OBP\": 0.263, \"SLG\": 0.303, \"OPS\": 0.566, \"OPS+\": 57, \"TB\": 43, \"GDP\": 8, \"HBP\": 1, \"SH\": 0, \"SF\": 0, \"IBB\": 0}, {\"Rk\": 406, \"Name\": \"Calvin\\u00a0Mitchell*\", \"Age\": 24, \"Tm\": \"PIT\", \"Lg\": \"NL\", \"G\": 2, \"PA\": 5, \"AB\": 4, \"R\": 0, \"H\": 0, \"2B\": 0, \"3B\": 0, \"HR\": 0, \"RBI\": 0, \"SB\": 0, \"CS\": 0, \"BB\": 1, \"SO\": 1, \"BA\": 0.0, \"OBP\": 0.2, \"SLG\": 0.0, \"OPS\": 0.2, \"OPS+\": -38, \"TB\": 0, \"GDP\": 0, \"HBP\": 0, \"SH\": 0, \"SF\": 0, \"IBB\": 0}, {\"Rk\": 407, \"Name\": \"Garrett\\u00a0Mitchell*\", \"Age\": 24, \"Tm\": \"MIL\", \"Lg\": \"NL\", \"G\": 16, \"PA\": 62, \"AB\": 58, \"R\": 9, \"H\": 15, \"2B\": 1, \"3B\": 1, \"HR\": 3, \"RBI\": 6, \"SB\": 1, \"CS\": 0, \"BB\": 4, \"SO\": 24, \"BA\": 0.259, \"OBP\": 0.306, \"SLG\": 0.466, \"OPS\": 0.772, \"OPS+\": 108, \"TB\": 27, \"GDP\": 0, \"HBP\": 0, \"SH\": 0, \"SF\": 0, \"IBB\": 0}, {\"Rk\": 408, \"Name\": \"Andruw\\u00a0Monasterio\", \"Age\": 26, \"Tm\": \"MIL\", \"Lg\": \"NL\", \"G\": 32, \"PA\": 94, \"AB\": 83, \"R\": 16, \"H\": 24, \"2B\": 5, \"3B\": 0, \"HR\": 1, \"RBI\": 7, \"SB\": 3, \"CS\": 0, \"BB\": 11, \"SO\": 22, \"BA\": 0.289, \"OBP\": 0.372, \"SLG\": 0.386, \"OPS\": 0.758, \"OPS+\": 109, \"TB\": 32, \"GDP\": 1, \"HBP\": 0, \"SH\": 0, \"SF\": 0, \"IBB\": 0}, {\"Rk\": 409, \"Name\": \"Yo\\u00e1n\\u00a0Moncada#\", \"Age\": 28, \"Tm\": \"CHW\", \"Lg\": \"AL\", \"G\": 38, \"PA\": 147, \"AB\": 138, \"R\": 17, \"H\": 32, \"2B\": 8, \"3B\": 1, \"HR\": 3, \"RBI\": 13, \"SB\": 1, \"CS\": 0, \"BB\": 7, \"SO\": 39, \"BA\": 0.232, \"OBP\": 0.279, \"SLG\": 0.37, \"OPS\": 0.648, \"OPS+\": 78, \"TB\": 51, \"GDP\": 2, \"HBP\": 2, \"SH\": 0, \"SF\": 0, \"IBB\": 0}, {\"Rk\": 410, \"Name\": \"Mickey\\u00a0Moniak*\", \"Age\": 25, \"Tm\": \"LAA\", \"Lg\": \"AL\", \"G\": 46, \"PA\": 173, \"AB\": 165, \"R\": 25, \"H\": 55, \"2B\": 13, \"3B\": 1, \"HR\": 11, \"RBI\": 34, \"SB\": 3, \"CS\": 1, \"BB\": 5, \"SO\": 53, \"BA\": 0.333, \"OBP\": 0.364, \"SLG\": 0.624, \"OPS\": 0.988, \"OPS+\": 164, \"TB\": 103, \"GDP\": 1, \"HBP\": 3, \"SH\": 0, \"SF\": 0, \"IBB\": 0}, {\"Rk\": 411, \"Name\": \"Elehuris\\u00a0Montero\", \"Age\": 24, \"Tm\": \"COL\", \"Lg\": \"NL\", \"G\": 35, \"PA\": 112, \"AB\": 106, \"R\": 11, \"H\": 21, \"2B\": 5, \"3B\": 1, \"HR\": 2, \"RBI\": 13, \"SB\": 0, \"CS\": 0, \"BB\": 3, \"SO\": 44, \"BA\": 0.198, \"OBP\": 0.223, \"SLG\": 0.321, \"OPS\": 0.544, \"OPS+\": 39, \"TB\": 34, \"GDP\": 2, \"HBP\": 1, \"SH\": 0, \"SF\": 2, \"IBB\": 0}, {\"Rk\": 412, \"Name\": \"Rafael\\u00a0Montero\", \"Age\": 32, \"Tm\": \"HOU\", \"Lg\": \"AL\", \"G\": 1, \"PA\": 0, \"AB\": 0, \"R\": 0, \"H\": 0, \"2B\": 0, \"3B\": 0, \"HR\": 0, \"RBI\": 0, \"SB\": 0, \"CS\": 0, \"BB\": 0, \"SO\": 0, \"BA\": 0.0, \"OBP\": 0.0, \"SLG\": 0.0, \"OPS\": 0.0, \"OPS+\": 0, \"TB\": 0, \"GDP\": 0, \"HBP\": 0, \"SH\": 0, \"SF\": 0, \"IBB\": 0}, {\"Rk\": 413, \"Name\": \"Coco\\u00a0Montes\", \"Age\": 26, \"Tm\": \"COL\", \"Lg\": \"NL\", \"G\": 18, \"PA\": 41, \"AB\": 38, \"R\": 3, \"H\": 7, \"2B\": 2, \"3B\": 0, \"HR\": 1, \"RBI\": 3, \"SB\": 0, \"CS\": 0, \"BB\": 2, \"SO\": 12, \"BA\": 0.184, \"OBP\": 0.244, \"SLG\": 0.316, \"OPS\": 0.56, \"OPS+\": 44, \"TB\": 12, \"GDP\": 0, \"HBP\": 1, \"SH\": 0, \"SF\": 0, \"IBB\": 0}, {\"Rk\": 414, \"Name\": \"Dylan\\u00a0Moore\", \"Age\": 30, \"Tm\": \"SEA\", \"Lg\": \"AL\", \"G\": 18, \"PA\": 40, \"AB\": 36, \"R\": 5, \"H\": 4, \"2B\": 2, \"3B\": 0, \"HR\": 2, \"RBI\": 4, \"SB\": 1, \"CS\": 1, \"BB\": 4, \"SO\": 18, \"BA\": 0.111, \"OBP\": 0.2, \"SLG\": 0.333, \"OPS\": 0.533, \"OPS+\": 48, \"TB\": 12, \"GDP\": 0, \"HBP\": 0, \"SH\": 0, \"SF\": 0, \"IBB\": 0}, {\"Rk\": 415, \"Name\": \"Jovani\\u00a0Moran*\", \"Age\": 26, \"Tm\": \"MIN\", \"Lg\": \"AL\", \"G\": 2, \"PA\": 0, \"AB\": 0, \"R\": 0, \"H\": 0, \"2B\": 0, \"3B\": 0, \"HR\": 0, \"RBI\": 0, \"SB\": 0, \"CS\": 0, \"BB\": 0, \"SO\": 0, \"BA\": 0.0, \"OBP\": 0.0, \"SLG\": 0.0, \"OPS\": 0.0, \"OPS+\": 0, \"TB\": 0, \"GDP\": 0, \"HBP\": 0, \"SH\": 0, \"SF\": 0, \"IBB\": 0}, {\"Rk\": 416, \"Name\": \"Christopher\\u00a0Morel\", \"Age\": 24, \"Tm\": \"CHC\", \"Lg\": \"NL\", \"G\": 57, \"PA\": 232, \"AB\": 209, \"R\": 38, \"H\": 56, \"2B\": 8, \"3B\": 1, \"HR\": 15, \"RBI\": 43, \"SB\": 3, \"CS\": 1, \"BB\": 19, \"SO\": 73, \"BA\": 0.268, \"OBP\": 0.329, \"SLG\": 0.531, \"OPS\": 0.86, \"OPS+\": 128, \"TB\": 111, \"GDP\": 5, \"HBP\": 1, \"SH\": 1, \"SF\": 2, \"IBB\": 0}, {\"Rk\": 417, \"Name\": \"Gabriel\\u00a0Moreno\", \"Age\": 23, \"Tm\": \"ARI\", \"Lg\": \"NL\", \"G\": 74, \"PA\": 244, \"AB\": 222, \"R\": 17, \"H\": 60, \"2B\": 11, \"3B\": 0, \"HR\": 3, \"RBI\": 28, \"SB\": 4, \"CS\": 0, \"BB\": 16, \"SO\": 54, \"BA\": 0.27, \"OBP\": 0.316, \"SLG\": 0.36, \"OPS\": 0.676, \"OPS+\": 87, \"TB\": 80, \"GDP\": 9, \"HBP\": 1, \"SH\": 0, \"SF\": 5, \"IBB\": 0}, {\"Rk\": 418, \"Name\": \"Taylor\\u00a0Motter\", \"Age\": 33, \"Tm\": \"STL\", \"Lg\": \"NL\", \"G\": 8, \"PA\": 22, \"AB\": 20, \"R\": 0, \"H\": 4, \"2B\": 2, \"3B\": 0, \"HR\": 0, \"RBI\": 1, \"SB\": 0, \"CS\": 0, \"BB\": 2, \"SO\": 8, \"BA\": 0.2, \"OBP\": 0.273, \"SLG\": 0.3, \"OPS\": 0.573, \"OPS+\": 57, \"TB\": 6, \"GDP\": 0, \"HBP\": 0, \"SH\": 0, \"SF\": 0, \"IBB\": 0}, {\"Rk\": 419, \"Name\": \"Ryan\\u00a0Mountcastle\", \"Age\": 26, \"Tm\": \"BAL\", \"Lg\": \"AL\", \"G\": 69, \"PA\": 283, \"AB\": 264, \"R\": 37, \"H\": 62, \"2B\": 15, \"3B\": 1, \"HR\": 11, \"RBI\": 41, \"SB\": 2, \"CS\": 0, \"BB\": 12, \"SO\": 70, \"BA\": 0.235, \"OBP\": 0.269, \"SLG\": 0.424, \"OPS\": 0.693, \"OPS+\": 91, \"TB\": 112, \"GDP\": 8, \"HBP\": 2, \"SH\": 0, \"SF\": 5, \"IBB\": 0}, {\"Rk\": 420, \"Name\": \"Mike\\u00a0Moustakas*\", \"Age\": 34, \"Tm\": \"TOT\", \"Lg\": \"MLB\", \"G\": 65, \"PA\": 207, \"AB\": 181, \"R\": 29, \"H\": 46, \"2B\": 7, \"3B\": 0, \"HR\": 9, \"RBI\": 28, \"SB\": 0, \"CS\": 0, \"BB\": 20, \"SO\": 56, \"BA\": 0.254, \"OBP\": 0.333, \"SLG\": 0.442, \"OPS\": 0.775, \"OPS+\": 103, \"TB\": 80, \"GDP\": 4, \"HBP\": 3, \"SH\": 0, \"SF\": 3, \"IBB\": 1}, {\"Rk\": 421, \"Name\": \"Mike\\u00a0Moustakas*\", \"Age\": 34, \"Tm\": \"COL\", \"Lg\": \"NL\", \"G\": 47, \"PA\": 136, \"AB\": 115, \"R\": 21, \"H\": 31, \"2B\": 7, \"3B\": 0, \"HR\": 4, \"RBI\": 17, \"SB\": 0, \"CS\": 0, \"BB\": 17, \"SO\": 34, \"BA\": 0.27, \"OBP\": 0.36, \"SLG\": 0.435, \"OPS\": 0.795, \"OPS+\": 105, \"TB\": 50, \"GDP\": 1, \"HBP\": 1, \"SH\": 0, \"SF\": 3, \"IBB\": 1}, {\"Rk\": 422, \"Name\": \"Mike\\u00a0Moustakas*\", \"Age\": 34, \"Tm\": \"LAA\", \"Lg\": \"AL\", \"G\": 18, \"PA\": 71, \"AB\": 66, \"R\": 8, \"H\": 15, \"2B\": 0, \"3B\": 0, \"HR\": 5, \"RBI\": 11, \"SB\": 0, \"CS\": 0, \"BB\": 3, \"SO\": 22, \"BA\": 0.227, \"OBP\": 0.282, \"SLG\": 0.455, \"OPS\": 0.736, \"OPS+\": 97, \"TB\": 30, \"GDP\": 3, \"HBP\": 2, \"SH\": 0, \"SF\": 0, \"IBB\": 0}, {\"Rk\": 423, \"Name\": \"Cedric\\u00a0Mullins*\", \"Age\": 28, \"Tm\": \"BAL\", \"Lg\": \"AL\", \"G\": 69, \"PA\": 290, \"AB\": 251, \"R\": 33, \"H\": 65, \"2B\": 16, \"3B\": 3, \"HR\": 9, \"RBI\": 47, \"SB\": 14, \"CS\": 3, \"BB\": 35, \"SO\": 58, \"BA\": 0.259, \"OBP\": 0.347, \"SLG\": 0.454, \"OPS\": 0.801, \"OPS+\": 123, \"TB\": 114, \"GDP\": 3, \"HBP\": 0, \"SH\": 2, \"SF\": 2, \"IBB\": 0}, {\"Rk\": 424, \"Name\": \"Max\\u00a0Muncy*\", \"Age\": 32, \"Tm\": \"LAD\", \"Lg\": \"NL\", \"G\": 80, \"PA\": 338, \"AB\": 281, \"R\": 56, \"H\": 55, \"2B\": 8, \"3B\": 0, \"HR\": 23, \"RBI\": 59, \"SB\": 1, \"CS\": 2, \"BB\": 52, \"SO\": 92, \"BA\": 0.196, \"OBP\": 0.328, \"SLG\": 0.47, \"OPS\": 0.798, \"OPS+\": 111, \"TB\": 132, \"GDP\": 4, \"HBP\": 4, \"SH\": 0, \"SF\": 1, \"IBB\": 3}, {\"Rk\": 425, \"Name\": \"Andr\\u00e9s\\u00a0Mu\\u00f1oz\", \"Age\": 24, \"Tm\": \"SEA\", \"Lg\": \"AL\", \"G\": 1, \"PA\": 0, \"AB\": 0, \"R\": 0, \"H\": 0, \"2B\": 0, \"3B\": 0, \"HR\": 0, \"RBI\": 0, \"SB\": 0, \"CS\": 0, \"BB\": 0, \"SO\": 0, \"BA\": 0.0, \"OBP\": 0.0, \"SLG\": 0.0, \"OPS\": 0.0, \"OPS+\": 0, \"TB\": 0, \"GDP\": 0, \"HBP\": 0, \"SH\": 0, \"SF\": 0, \"IBB\": 0}, {\"Rk\": 426, \"Name\": \"Penn\\u00a0Murfee\", \"Age\": 29, \"Tm\": \"SEA\", \"Lg\": \"AL\", \"G\": 1, \"PA\": 0, \"AB\": 0, \"R\": 0, \"H\": 0, \"2B\": 0, \"3B\": 0, \"HR\": 0, \"RBI\": 0, \"SB\": 0, \"CS\": 0, \"BB\": 0, \"SO\": 0, \"BA\": 0.0, \"OBP\": 0.0, \"SLG\": 0.0, \"OPS\": 0.0, \"OPS+\": 0, \"TB\": 0, \"GDP\": 0, \"HBP\": 0, \"SH\": 0, \"SF\": 0, \"IBB\": 0}, {\"Rk\": 427, \"Name\": \"Sean\\u00a0Murphy\", \"Age\": 28, \"Tm\": \"ATL\", \"Lg\": \"NL\", \"G\": 73, \"PA\": 297, \"AB\": 256, \"R\": 45, \"H\": 73, \"2B\": 18, \"3B\": 0, \"HR\": 17, \"RBI\": 57, \"SB\": 0, \"CS\": 0, \"BB\": 31, \"SO\": 71, \"BA\": 0.285, \"OBP\": 0.38, \"SLG\": 0.555, \"OPS\": 0.935, \"OPS+\": 146, \"TB\": 142, \"GDP\": 11, \"HBP\": 9, \"SH\": 0, \"SF\": 1, \"IBB\": 0}, {\"Rk\": 428, \"Name\": \"Tom\\u00a0Murphy\", \"Age\": 32, \"Tm\": \"SEA\", \"Lg\": \"AL\", \"G\": 35, \"PA\": 117, \"AB\": 106, \"R\": 13, \"H\": 29, \"2B\": 9, \"3B\": 0, \"HR\": 6, \"RBI\": 11, \"SB\": 0, \"CS\": 0, \"BB\": 8, \"SO\": 35, \"BA\": 0.274, \"OBP\": 0.328, \"SLG\": 0.528, \"OPS\": 0.856, \"OPS+\": 138, \"TB\": 56, \"GDP\": 2, \"HBP\": 1, \"SH\": 0, \"SF\": 1, \"IBB\": 0}, {\"Rk\": 429, \"Name\": \"Dane\\u00a0Myers\", \"Age\": 27, \"Tm\": \"MIA\", \"Lg\": \"NL\", \"G\": 13, \"PA\": 49, \"AB\": 48, \"R\": 7, \"H\": 16, \"2B\": 2, \"3B\": 0, \"HR\": 1, \"RBI\": 8, \"SB\": 0, \"CS\": 1, \"BB\": 1, \"SO\": 11, \"BA\": 0.333, \"OBP\": 0.347, \"SLG\": 0.438, \"OPS\": 0.784, \"OPS+\": 115, \"TB\": 21, \"GDP\": 1, \"HBP\": 0, \"SH\": 0, \"SF\": 0, \"IBB\": 0}, {\"Rk\": 430, \"Name\": \"Wil\\u00a0Myers\", \"Age\": 32, \"Tm\": \"CIN\", \"Lg\": \"NL\", \"G\": 37, \"PA\": 141, \"AB\": 127, \"R\": 11, \"H\": 24, \"2B\": 3, \"3B\": 0, \"HR\": 3, \"RBI\": 12, \"SB\": 2, \"CS\": 1, \"BB\": 12, \"SO\": 48, \"BA\": 0.189, \"OBP\": 0.257, \"SLG\": 0.283, \"OPS\": 0.541, \"OPS+\": 44, \"TB\": 36, \"GDP\": 3, \"HBP\": 0, \"SH\": 1, \"SF\": 1, \"IBB\": 0}, {\"Rk\": 431, \"Name\": \"James\\u00a0Naile\", \"Age\": 30, \"Tm\": \"STL\", \"Lg\": \"NL\", \"G\": 1, \"PA\": 0, \"AB\": 0, \"R\": 0, \"H\": 0, \"2B\": 0, \"3B\": 0, \"HR\": 0, \"RBI\": 0, \"SB\": 0, \"CS\": 0, \"BB\": 0, \"SO\": 0, \"BA\": 0.0, \"OBP\": 0.0, \"SLG\": 0.0, \"OPS\": 0.0, \"OPS+\": 0, \"TB\": 0, \"GDP\": 0, \"HBP\": 0, \"SH\": 0, \"SF\": 0, \"IBB\": 0}, {\"Rk\": 432, \"Name\": \"Omar\\u00a0Narv\\u00e1ez*\", \"Age\": 31, \"Tm\": \"NYM\", \"Lg\": \"NL\", \"G\": 19, \"PA\": 51, \"AB\": 43, \"R\": 6, \"H\": 9, \"2B\": 0, \"3B\": 0, \"HR\": 1, \"RBI\": 4, \"SB\": 0, \"CS\": 0, \"BB\": 6, \"SO\": 7, \"BA\": 0.209, \"OBP\": 0.294, \"SLG\": 0.279, \"OPS\": 0.573, \"OPS+\": 62, \"TB\": 12, \"GDP\": 0, \"HBP\": 0, \"SH\": 0, \"SF\": 2, \"IBB\": 0}, {\"Rk\": 433, \"Name\": \"Bo\\u00a0Naylor*\", \"Age\": 23, \"Tm\": \"CLE\", \"Lg\": \"AL\", \"G\": 20, \"PA\": 73, \"AB\": 68, \"R\": 9, \"H\": 13, \"2B\": 3, \"3B\": 0, \"HR\": 2, \"RBI\": 8, \"SB\": 0, \"CS\": 0, \"BB\": 5, \"SO\": 22, \"BA\": 0.191, \"OBP\": 0.247, \"SLG\": 0.324, \"OPS\": 0.57, \"OPS+\": 59, \"TB\": 22, \"GDP\": 1, \"HBP\": 0, \"SH\": 0, \"SF\": 0, \"IBB\": 0}, {\"Rk\": 434, \"Name\": \"Josh\\u00a0Naylor*\", \"Age\": 26, \"Tm\": \"CLE\", \"Lg\": \"AL\", \"G\": 87, \"PA\": 351, \"AB\": 324, \"R\": 40, \"H\": 101, \"2B\": 22, \"3B\": 0, \"HR\": 15, \"RBI\": 76, \"SB\": 6, \"CS\": 1, \"BB\": 21, \"SO\": 55, \"BA\": 0.312, \"OBP\": 0.35, \"SLG\": 0.519, \"OPS\": 0.869, \"OPS+\": 140, \"TB\": 168, \"GDP\": 7, \"HBP\": 1, \"SH\": 0, \"SF\": 5, \"IBB\": 7}, {\"Rk\": 435, \"Name\": \"Hector\\u00a0Neris\", \"Age\": 34, \"Tm\": \"HOU\", \"Lg\": \"AL\", \"G\": 1, \"PA\": 0, \"AB\": 0, \"R\": 0, \"H\": 0, \"2B\": 0, \"3B\": 0, \"HR\": 0, \"RBI\": 0, \"SB\": 0, \"CS\": 0, \"BB\": 0, \"SO\": 0, \"BA\": 0.0, \"OBP\": 0.0, \"SLG\": 0.0, \"OPS\": 0.0, \"OPS+\": 0, \"TB\": 0, \"GDP\": 0, \"HBP\": 0, \"SH\": 0, \"SF\": 0, \"IBB\": 0}, {\"Rk\": 436, \"Name\": \"Zach\\u00a0Neto\", \"Age\": 22, \"Tm\": \"LAA\", \"Lg\": \"AL\", \"G\": 62, \"PA\": 233, \"AB\": 206, \"R\": 30, \"H\": 52, \"2B\": 13, \"3B\": 0, \"HR\": 8, \"RBI\": 27, \"SB\": 5, \"CS\": 0, \"BB\": 12, \"SO\": 48, \"BA\": 0.252, \"OBP\": 0.328, \"SLG\": 0.432, \"OPS\": 0.76, \"OPS+\": 106, \"TB\": 89, \"GDP\": 4, \"HBP\": 12, \"SH\": 1, \"SF\": 2, \"IBB\": 0}, {\"Rk\": 437, \"Name\": \"Tyler\\u00a0Nevin\", \"Age\": 26, \"Tm\": \"DET\", \"Lg\": \"AL\", \"G\": 22, \"PA\": 56, \"AB\": 49, \"R\": 3, \"H\": 6, \"2B\": 0, \"3B\": 0, \"HR\": 1, \"RBI\": 5, \"SB\": 0, \"CS\": 0, \"BB\": 5, \"SO\": 12, \"BA\": 0.122, \"OBP\": 0.214, \"SLG\": 0.184, \"OPS\": 0.398, \"OPS+\": 13, \"TB\": 9, \"GDP\": 1, \"HBP\": 1, \"SH\": 0, \"SF\": 1, \"IBB\": 0}, {\"Rk\": 438, \"Name\": \"Kevin\\u00a0Newman\", \"Age\": 29, \"Tm\": \"CIN\", \"Lg\": \"NL\", \"G\": 64, \"PA\": 225, \"AB\": 200, \"R\": 24, \"H\": 52, \"2B\": 14, \"3B\": 0, \"HR\": 3, \"RBI\": 27, \"SB\": 7, \"CS\": 1, \"BB\": 16, \"SO\": 29, \"BA\": 0.26, \"OBP\": 0.318, \"SLG\": 0.375, \"OPS\": 0.693, \"OPS+\": 84, \"TB\": 75, \"GDP\": 6, \"HBP\": 3, \"SH\": 2, \"SF\": 4, \"IBB\": 0}, {\"Rk\": 439, \"Name\": \"Tom\\u00e1s\\u00a0Nido\", \"Age\": 29, \"Tm\": \"NYM\", \"Lg\": \"NL\", \"G\": 22, \"PA\": 61, \"AB\": 56, \"R\": 5, \"H\": 7, \"2B\": 0, \"3B\": 0, \"HR\": 0, \"RBI\": 1, \"SB\": 0, \"CS\": 0, \"BB\": 2, \"SO\": 18, \"BA\": 0.125, \"OBP\": 0.153, \"SLG\": 0.125, \"OPS\": 0.278, \"OPS+\": -21, \"TB\": 7, \"GDP\": 2, \"HBP\": 0, \"SH\": 2, \"SF\": 1, \"IBB\": 0}, {\"Rk\": 440, \"Name\": \"Brandon\\u00a0Nimmo*\", \"Age\": 30, \"Tm\": \"NYM\", \"Lg\": \"NL\", \"G\": 96, \"PA\": 435, \"AB\": 373, \"R\": 57, \"H\": 97, \"2B\": 16, \"3B\": 4, \"HR\": 15, \"RBI\": 46, \"SB\": 3, \"CS\": 1, \"BB\": 49, \"SO\": 99, \"BA\": 0.26, \"OBP\": 0.357, \"SLG\": 0.445, \"OPS\": 0.802, \"OPS+\": 123, \"TB\": 166, \"GDP\": 2, \"HBP\": 9, \"SH\": 1, \"SF\": 3, \"IBB\": 0}, {\"Rk\": 441, \"Name\": \"Ryan\\u00a0Noda*\", \"Age\": 27, \"Tm\": \"OAK\", \"Lg\": \"AL\", \"G\": 90, \"PA\": 341, \"AB\": 275, \"R\": 43, \"H\": 63, \"2B\": 17, \"3B\": 1, \"HR\": 11, \"RBI\": 38, \"SB\": 2, \"CS\": 1, \"BB\": 60, \"SO\": 116, \"BA\": 0.229, \"OBP\": 0.375, \"SLG\": 0.418, \"OPS\": 0.794, \"OPS+\": 128, \"TB\": 115, \"GDP\": 1, \"HBP\": 5, \"SH\": 0, \"SF\": 1, \"IBB\": 1}, {\"Rk\": 442, \"Name\": \"Austin\\u00a0Nola\", \"Age\": 33, \"Tm\": \"SDP\", \"Lg\": \"NL\", \"G\": 52, \"PA\": 154, \"AB\": 130, \"R\": 9, \"H\": 19, \"2B\": 3, \"3B\": 0, \"HR\": 1, \"RBI\": 8, \"SB\": 0, \"CS\": 0, \"BB\": 18, \"SO\": 31, \"BA\": 0.146, \"OBP\": 0.26, \"SLG\": 0.192, \"OPS\": 0.452, \"OPS+\": 31, \"TB\": 25, \"GDP\": 5, \"HBP\": 2, \"SH\": 4, \"SF\": 0, \"IBB\": 0}, {\"Rk\": 443, \"Name\": \"Lars\\u00a0Nootbaar*\", \"Age\": 25, \"Tm\": \"STL\", \"Lg\": \"NL\", \"G\": 69, \"PA\": 298, \"AB\": 254, \"R\": 46, \"H\": 67, \"2B\": 13, \"3B\": 0, \"HR\": 7, \"RBI\": 28, \"SB\": 7, \"CS\": 1, \"BB\": 41, \"SO\": 68, \"BA\": 0.264, \"OBP\": 0.364, \"SLG\": 0.398, \"OPS\": 0.761, \"OPS+\": 109, \"TB\": 101, \"GDP\": 4, \"HBP\": 0, \"SH\": 1, \"SF\": 2, \"IBB\": 2}, {\"Rk\": 444, \"Name\": \"Ryan\\u00a0O'Hearn*\", \"Age\": 29, \"Tm\": \"BAL\", \"Lg\": \"AL\", \"G\": 54, \"PA\": 175, \"AB\": 159, \"R\": 22, \"H\": 49, \"2B\": 10, \"3B\": 0, \"HR\": 7, \"RBI\": 31, \"SB\": 1, \"CS\": 1, \"BB\": 11, \"SO\": 39, \"BA\": 0.308, \"OBP\": 0.354, \"SLG\": 0.503, \"OPS\": 0.857, \"OPS+\": 138, \"TB\": 80, \"GDP\": 1, \"HBP\": 2, \"SH\": 0, \"SF\": 3, \"IBB\": 1}, {\"Rk\": 445, \"Name\": \"Logan\\u00a0O'Hoppe\", \"Age\": 23, \"Tm\": \"LAA\", \"Lg\": \"AL\", \"G\": 16, \"PA\": 59, \"AB\": 53, \"R\": 5, \"H\": 15, \"2B\": 2, \"3B\": 0, \"HR\": 4, \"RBI\": 13, \"SB\": 0, \"CS\": 0, \"BB\": 4, \"SO\": 15, \"BA\": 0.283, \"OBP\": 0.339, \"SLG\": 0.547, \"OPS\": 0.886, \"OPS+\": 138, \"TB\": 29, \"GDP\": 2, \"HBP\": 1, \"SH\": 0, \"SF\": 1, \"IBB\": 0}, {\"Rk\": 446, \"Name\": \"Tyler\\u00a0O'Neill\", \"Age\": 28, \"Tm\": \"STL\", \"Lg\": \"NL\", \"G\": 32, \"PA\": 113, \"AB\": 102, \"R\": 14, \"H\": 24, \"2B\": 5, \"3B\": 0, \"HR\": 2, \"RBI\": 6, \"SB\": 2, \"CS\": 0, \"BB\": 11, \"SO\": 37, \"BA\": 0.235, \"OBP\": 0.31, \"SLG\": 0.343, \"OPS\": 0.653, \"OPS+\": 79, \"TB\": 35, \"GDP\": 2, \"HBP\": 0, \"SH\": 0, \"SF\": 0, \"IBB\": 0}, {\"Rk\": 447, \"Name\": \"Rougned\\u00a0Odor*\", \"Age\": 29, \"Tm\": \"SDP\", \"Lg\": \"NL\", \"G\": 59, \"PA\": 157, \"AB\": 138, \"R\": 21, \"H\": 29, \"2B\": 10, \"3B\": 0, \"HR\": 4, \"RBI\": 18, \"SB\": 2, \"CS\": 1, \"BB\": 17, \"SO\": 37, \"BA\": 0.21, \"OBP\": 0.306, \"SLG\": 0.37, \"OPS\": 0.675, \"OPS+\": 89, \"TB\": 51, \"GDP\": 2, \"HBP\": 2, \"SH\": 0, \"SF\": 0, \"IBB\": 0}, {\"Rk\": 448, \"Name\": \"Shohei\\u00a0Ohtani*\", \"Age\": 28, \"Tm\": \"LAA\", \"Lg\": \"AL\", \"G\": 97, \"PA\": 436, \"AB\": 368, \"R\": 73, \"H\": 111, \"2B\": 16, \"3B\": 7, \"HR\": 35, \"RBI\": 76, \"SB\": 11, \"CS\": 4, \"BB\": 59, \"SO\": 100, \"BA\": 0.302, \"OBP\": 0.397, \"SLG\": 0.668, \"OPS\": 1.065, \"OPS+\": 185, \"TB\": 246, \"GDP\": 7, \"HBP\": 1, \"SH\": 0, \"SF\": 3, \"IBB\": 8}, {\"Rk\": 449, \"Name\": \"Chris\\u00a0Okey\", \"Age\": 28, \"Tm\": \"LAA\", \"Lg\": \"AL\", \"G\": 2, \"PA\": 2, \"AB\": 2, \"R\": 0, \"H\": 0, \"2B\": 0, \"3B\": 0, \"HR\": 0, \"RBI\": 0, \"SB\": 0, \"CS\": 0, \"BB\": 0, \"SO\": 2, \"BA\": 0.0, \"OBP\": 0.0, \"SLG\": 0.0, \"OPS\": 0.0, \"OPS+\": -100, \"TB\": 0, \"GDP\": 0, \"HBP\": 0, \"SH\": 0, \"SF\": 0, \"IBB\": 0}, {\"Rk\": 450, \"Name\": \"Edward\\u00a0Olivares\", \"Age\": 27, \"Tm\": \"KCR\", \"Lg\": \"AL\", \"G\": 72, \"PA\": 262, \"AB\": 240, \"R\": 34, \"H\": 60, \"2B\": 13, \"3B\": 4, \"HR\": 6, \"RBI\": 17, \"SB\": 8, \"CS\": 3, \"BB\": 14, \"SO\": 43, \"BA\": 0.25, \"OBP\": 0.305, \"SLG\": 0.413, \"OPS\": 0.718, \"OPS+\": 97, \"TB\": 99, \"GDP\": 4, \"HBP\": 6, \"SH\": 0, \"SF\": 2, \"IBB\": 1}, {\"Rk\": 451, \"Name\": \"Matt\\u00a0Olson*\", \"Age\": 29, \"Tm\": \"ATL\", \"Lg\": \"NL\", \"G\": 97, \"PA\": 435, \"AB\": 371, \"R\": 75, \"H\": 95, \"2B\": 19, \"3B\": 2, \"HR\": 32, \"RBI\": 80, \"SB\": 1, \"CS\": 0, \"BB\": 60, \"SO\": 116, \"BA\": 0.256, \"OBP\": 0.363, \"SLG\": 0.577, \"OPS\": 0.94, \"OPS+\": 146, \"TB\": 214, \"GDP\": 8, \"HBP\": 3, \"SH\": 0, \"SF\": 1, \"IBB\": 2}, {\"Rk\": 452, \"Name\": \"Joey\\u00a0Ortiz\", \"Age\": 24, \"Tm\": \"BAL\", \"Lg\": \"AL\", \"G\": 15, \"PA\": 34, \"AB\": 33, \"R\": 4, \"H\": 7, \"2B\": 1, \"3B\": 0, \"HR\": 0, \"RBI\": 4, \"SB\": 0, \"CS\": 0, \"BB\": 0, \"SO\": 9, \"BA\": 0.212, \"OBP\": 0.206, \"SLG\": 0.242, \"OPS\": 0.448, \"OPS+\": 26, \"TB\": 8, \"GDP\": 2, \"HBP\": 0, \"SH\": 0, \"SF\": 1, \"IBB\": 0}, {\"Rk\": 453, \"Name\": \"James\\u00a0Outman*\", \"Age\": 26, \"Tm\": \"LAD\", \"Lg\": \"NL\", \"G\": 91, \"PA\": 333, \"AB\": 291, \"R\": 50, \"H\": 71, \"2B\": 11, \"3B\": 3, \"HR\": 12, \"RBI\": 42, \"SB\": 10, \"CS\": 2, \"BB\": 33, \"SO\": 112, \"BA\": 0.244, \"OBP\": 0.333, \"SLG\": 0.426, \"OPS\": 0.759, \"OPS+\": 102, \"TB\": 124, \"GDP\": 0, \"HBP\": 7, \"SH\": 0, \"SF\": 2, \"IBB\": 1}, {\"Rk\": 454, \"Name\": \"Chris\\u00a0Owings\", \"Age\": 31, \"Tm\": \"PIT\", \"Lg\": \"NL\", \"G\": 10, \"PA\": 25, \"AB\": 25, \"R\": 0, \"H\": 4, \"2B\": 0, \"3B\": 0, \"HR\": 0, \"RBI\": 0, \"SB\": 0, \"CS\": 0, \"BB\": 0, \"SO\": 12, \"BA\": 0.16, \"OBP\": 0.16, \"SLG\": 0.16, \"OPS\": 0.32, \"OPS+\": -12, \"TB\": 4, \"GDP\": 1, \"HBP\": 0, \"SH\": 0, \"SF\": 0, \"IBB\": 0}, {\"Rk\": 455, \"Name\": \"Marcell\\u00a0Ozuna\", \"Age\": 32, \"Tm\": \"ATL\", \"Lg\": \"NL\", \"G\": 81, \"PA\": 324, \"AB\": 290, \"R\": 38, \"H\": 67, \"2B\": 8, \"3B\": 0, \"HR\": 18, \"RBI\": 43, \"SB\": 0, \"CS\": 0, \"BB\": 31, \"SO\": 76, \"BA\": 0.231, \"OBP\": 0.306, \"SLG\": 0.445, \"OPS\": 0.75, \"OPS+\": 98, \"TB\": 129, \"GDP\": 6, \"HBP\": 1, \"SH\": 0, \"SF\": 2, \"IBB\": 1}, {\"Rk\": 456, \"Name\": \"Cristian\\u00a0Pache\", \"Age\": 24, \"Tm\": \"PHI\", \"Lg\": \"NL\", \"G\": 32, \"PA\": 53, \"AB\": 49, \"R\": 8, \"H\": 16, \"2B\": 7, \"3B\": 0, \"HR\": 2, \"RBI\": 8, \"SB\": 1, \"CS\": 0, \"BB\": 3, \"SO\": 12, \"BA\": 0.327, \"OBP\": 0.365, \"SLG\": 0.592, \"OPS\": 0.957, \"OPS+\": 158, \"TB\": 29, \"GDP\": 1, \"HBP\": 0, \"SH\": 1, \"SF\": 0, \"IBB\": 0}, {\"Rk\": 457, \"Name\": \"Kevin\\u00a0Padlo\", \"Age\": 26, \"Tm\": \"LAA\", \"Lg\": \"AL\", \"G\": 3, \"PA\": 8, \"AB\": 8, \"R\": 1, \"H\": 1, \"2B\": 1, \"3B\": 0, \"HR\": 0, \"RBI\": 0, \"SB\": 0, \"CS\": 0, \"BB\": 0, \"SO\": 0, \"BA\": 0.125, \"OBP\": 0.125, \"SLG\": 0.25, \"OPS\": 0.375, \"OPS+\": -1, \"TB\": 2, \"GDP\": 1, \"HBP\": 0, \"SH\": 0, \"SF\": 0, \"IBB\": 0}, {\"Rk\": 458, \"Name\": \"Josh\\u00a0Palacios*\", \"Age\": 27, \"Tm\": \"PIT\", \"Lg\": \"NL\", \"G\": 42, \"PA\": 111, \"AB\": 105, \"R\": 9, \"H\": 24, \"2B\": 7, \"3B\": 1, \"HR\": 1, \"RBI\": 13, \"SB\": 2, \"CS\": 0, \"BB\": 4, \"SO\": 16, \"BA\": 0.229, \"OBP\": 0.264, \"SLG\": 0.343, \"OPS\": 0.606, \"OPS+\": 64, \"TB\": 36, \"GDP\": 5, \"HBP\": 1, \"SH\": 1, \"SF\": 0, \"IBB\": 0}, {\"Rk\": 459, \"Name\": \"Isaac\\u00a0Paredes\", \"Age\": 24, \"Tm\": \"TBR\", \"Lg\": \"AL\", \"G\": 88, \"PA\": 330, \"AB\": 284, \"R\": 45, \"H\": 74, \"2B\": 15, \"3B\": 0, \"HR\": 18, \"RBI\": 59, \"SB\": 1, \"CS\": 0, \"BB\": 34, \"SO\": 59, \"BA\": 0.261, \"OBP\": 0.361, \"SLG\": 0.504, \"OPS\": 0.864, \"OPS+\": 140, \"TB\": 143, \"GDP\": 4, \"HBP\": 11, \"SH\": 0, \"SF\": 1, \"IBB\": 0}, {\"Rk\": 460, \"Name\": \"Vinnie\\u00a0Pasquantino*\", \"Age\": 25, \"Tm\": \"KCR\", \"Lg\": \"AL\", \"G\": 61, \"PA\": 260, \"AB\": 231, \"R\": 24, \"H\": 57, \"2B\": 17, \"3B\": 0, \"HR\": 9, \"RBI\": 26, \"SB\": 0, \"CS\": 0, \"BB\": 25, \"SO\": 31, \"BA\": 0.247, \"OBP\": 0.324, \"SLG\": 0.437, \"OPS\": 0.762, \"OPS+\": 109, \"TB\": 101, \"GDP\": 7, \"HBP\": 2, \"SH\": 0, \"SF\": 1, \"IBB\": 2}, {\"Rk\": 461, \"Name\": \"Joc\\u00a0Pederson*\", \"Age\": 31, \"Tm\": \"SFG\", \"Lg\": \"NL\", \"G\": 64, \"PA\": 237, \"AB\": 196, \"R\": 37, \"H\": 47, \"2B\": 8, \"3B\": 2, \"HR\": 9, \"RBI\": 34, \"SB\": 0, \"CS\": 0, \"BB\": 34, \"SO\": 53, \"BA\": 0.24, \"OBP\": 0.363, \"SLG\": 0.439, \"OPS\": 0.802, \"OPS+\": 120, \"TB\": 86, \"GDP\": 7, \"HBP\": 5, \"SH\": 0, \"SF\": 2, \"IBB\": 2}, {\"Rk\": 462, \"Name\": \"Liover\\u00a0Peguero\", \"Age\": 22, \"Tm\": \"PIT\", \"Lg\": \"NL\", \"G\": 3, \"PA\": 10, \"AB\": 10, \"R\": 0, \"H\": 0, \"2B\": 0, \"3B\": 0, \"HR\": 0, \"RBI\": 0, \"SB\": 0, \"CS\": 0, \"BB\": 0, \"SO\": 8, \"BA\": 0.0, \"OBP\": 0.0, \"SLG\": 0.0, \"OPS\": 0.0, \"OPS+\": -100, \"TB\": 0, \"GDP\": 0, \"HBP\": 0, \"SH\": 0, \"SF\": 0, \"IBB\": 0}, {\"Rk\": 463, \"Name\": \"Jeremy\\u00a0Pe\\u00f1a\", \"Age\": 25, \"Tm\": \"HOU\", \"Lg\": \"AL\", \"G\": 88, \"PA\": 371, \"AB\": 343, \"R\": 46, \"H\": 81, \"2B\": 16, \"3B\": 1, \"HR\": 10, \"RBI\": 33, \"SB\": 9, \"CS\": 6, \"BB\": 19, \"SO\": 82, \"BA\": 0.236, \"OBP\": 0.289, \"SLG\": 0.376, \"OPS\": 0.665, \"OPS+\": 84, \"TB\": 129, \"GDP\": 4, \"HBP\": 7, \"SH\": 0, \"SF\": 1, \"IBB\": 1}, {\"Rk\": 464, \"Name\": \"David\\u00a0Peralta*\", \"Age\": 35, \"Tm\": \"LAD\", \"Lg\": \"NL\", \"G\": 81, \"PA\": 260, \"AB\": 243, \"R\": 26, \"H\": 69, \"2B\": 11, \"3B\": 1, \"HR\": 7, \"RBI\": 37, \"SB\": 1, \"CS\": 1, \"BB\": 13, \"SO\": 42, \"BA\": 0.284, \"OBP\": 0.319, \"SLG\": 0.424, \"OPS\": 0.743, \"OPS+\": 98, \"TB\": 103, \"GDP\": 3, \"HBP\": 1, \"SH\": 0, \"SF\": 3, \"IBB\": 0}, {\"Rk\": 465, \"Name\": \"Oswald\\u00a0Peraza\", \"Age\": 23, \"Tm\": \"NYY\", \"Lg\": \"AL\", \"G\": 17, \"PA\": 57, \"AB\": 45, \"R\": 5, \"H\": 8, \"2B\": 1, \"3B\": 0, \"HR\": 0, \"RBI\": 4, \"SB\": 4, \"CS\": 1, \"BB\": 8, \"SO\": 14, \"BA\": 0.178, \"OBP\": 0.351, \"SLG\": 0.2, \"OPS\": 0.551, \"OPS+\": 60, \"TB\": 9, \"GDP\": 1, \"HBP\": 4, \"SH\": 0, \"SF\": 0, \"IBB\": 0}, {\"Rk\": 466, \"Name\": \"Geraldo\\u00a0Perdomo#\", \"Age\": 23, \"Tm\": \"ARI\", \"Lg\": \"NL\", \"G\": 81, \"PA\": 300, \"AB\": 246, \"R\": 43, \"H\": 68, \"2B\": 15, \"3B\": 1, \"HR\": 5, \"RBI\": 36, \"SB\": 11, \"CS\": 2, \"BB\": 41, \"SO\": 46, \"BA\": 0.276, \"OBP\": 0.384, \"SLG\": 0.407, \"OPS\": 0.79, \"OPS+\": 119, \"TB\": 100, \"GDP\": 1, \"HBP\": 3, \"SH\": 8, \"SF\": 2, \"IBB\": 1}, {\"Rk\": 467, \"Name\": \"Carlos\\u00a0P\\u00e9rez\", \"Age\": 32, \"Tm\": \"OAK\", \"Lg\": \"AL\", \"G\": 47, \"PA\": 140, \"AB\": 125, \"R\": 12, \"H\": 29, \"2B\": 4, \"3B\": 0, \"HR\": 5, \"RBI\": 17, \"SB\": 0, \"CS\": 0, \"BB\": 11, \"SO\": 27, \"BA\": 0.232, \"OBP\": 0.293, \"SLG\": 0.384, \"OPS\": 0.677, \"OPS+\": 93, \"TB\": 48, \"GDP\": 1, \"HBP\": 1, \"SH\": 0, \"SF\": 3, \"IBB\": 0}, {\"Rk\": 468, \"Name\": \"Carlos\\u00a0P\\u00e9rez\", \"Age\": 26, \"Tm\": \"CHW\", \"Lg\": \"AL\", \"G\": 11, \"PA\": 14, \"AB\": 13, \"R\": 0, \"H\": 2, \"2B\": 1, \"3B\": 0, \"HR\": 0, \"RBI\": 1, \"SB\": 0, \"CS\": 0, \"BB\": 1, \"SO\": 4, \"BA\": 0.154, \"OBP\": 0.214, \"SLG\": 0.231, \"OPS\": 0.445, \"OPS+\": 23, \"TB\": 3, \"GDP\": 1, \"HBP\": 0, \"SH\": 0, \"SF\": 0, \"IBB\": 0}, {\"Rk\": 469, \"Name\": \"Cionel\\u00a0P\\u00e9rez\", \"Age\": 27, \"Tm\": \"BAL\", \"Lg\": \"AL\", \"G\": 2, \"PA\": 0, \"AB\": 0, \"R\": 0, \"H\": 0, \"2B\": 0, \"3B\": 0, \"HR\": 0, \"RBI\": 0, \"SB\": 0, \"CS\": 0, \"BB\": 0, \"SO\": 0, \"BA\": 0.0, \"OBP\": 0.0, \"SLG\": 0.0, \"OPS\": 0.0, \"OPS+\": 0, \"TB\": 0, \"GDP\": 0, \"HBP\": 0, \"SH\": 0, \"SF\": 0, \"IBB\": 0}, {\"Rk\": 470, \"Name\": \"Michael\\u00a0Perez*\", \"Age\": 30, \"Tm\": \"NYM\", \"Lg\": \"NL\", \"G\": 2, \"PA\": 7, \"AB\": 7, \"R\": 1, \"H\": 4, \"2B\": 1, \"3B\": 0, \"HR\": 0, \"RBI\": 0, \"SB\": 0, \"CS\": 0, \"BB\": 0, \"SO\": 1, \"BA\": 0.571, \"OBP\": 0.571, \"SLG\": 0.714, \"OPS\": 1.286, \"OPS+\": 257, \"TB\": 5, \"GDP\": 0, \"HBP\": 0, \"SH\": 0, \"SF\": 0, \"IBB\": 0}, {\"Rk\": 471, \"Name\": \"Roberto\\u00a0P\\u00e9rez\", \"Age\": 34, \"Tm\": \"SFG\", \"Lg\": \"NL\", \"G\": 5, \"PA\": 17, \"AB\": 15, \"R\": 0, \"H\": 2, \"2B\": 0, \"3B\": 0, \"HR\": 0, \"RBI\": 1, \"SB\": 0, \"CS\": 0, \"BB\": 2, \"SO\": 6, \"BA\": 0.133, \"OBP\": 0.235, \"SLG\": 0.133, \"OPS\": 0.369, \"OPS+\": 6, \"TB\": 2, \"GDP\": 0, \"HBP\": 0, \"SH\": 0, \"SF\": 0, \"IBB\": 0}, {\"Rk\": 472, \"Name\": \"Salvador\\u00a0Perez\", \"Age\": 33, \"Tm\": \"KCR\", \"Lg\": \"AL\", \"G\": 88, \"PA\": 361, \"AB\": 337, \"R\": 38, \"H\": 83, \"2B\": 15, \"3B\": 0, \"HR\": 15, \"RBI\": 40, \"SB\": 0, \"CS\": 0, \"BB\": 12, \"SO\": 87, \"BA\": 0.246, \"OBP\": 0.288, \"SLG\": 0.424, \"OPS\": 0.712, \"OPS+\": 95, \"TB\": 143, \"GDP\": 9, \"HBP\": 9, \"SH\": 0, \"SF\": 3, \"IBB\": 3}, {\"Rk\": 473, \"Name\": \"Blake\\u00a0Perkins#\", \"Age\": 26, \"Tm\": \"MIL\", \"Lg\": \"NL\", \"G\": 47, \"PA\": 119, \"AB\": 103, \"R\": 16, \"H\": 22, \"2B\": 4, \"3B\": 0, \"HR\": 2, \"RBI\": 15, \"SB\": 4, \"CS\": 2, \"BB\": 14, \"SO\": 33, \"BA\": 0.214, \"OBP\": 0.308, \"SLG\": 0.311, \"OPS\": 0.618, \"OPS+\": 71, \"TB\": 32, \"GDP\": 1, \"HBP\": 0, \"SH\": 2, \"SF\": 0, \"IBB\": 0}, {\"Rk\": 474, \"Name\": \"Jace\\u00a0Peterson*\", \"Age\": 33, \"Tm\": \"OAK\", \"Lg\": \"AL\", \"G\": 87, \"PA\": 307, \"AB\": 266, \"R\": 28, \"H\": 58, \"2B\": 7, \"3B\": 2, \"HR\": 6, \"RBI\": 27, \"SB\": 11, \"CS\": 1, \"BB\": 34, \"SO\": 72, \"BA\": 0.218, \"OBP\": 0.31, \"SLG\": 0.327, \"OPS\": 0.638, \"OPS+\": 84, \"TB\": 87, \"GDP\": 6, \"HBP\": 3, \"SH\": 1, \"SF\": 3, \"IBB\": 1}, {\"Rk\": 475, \"Name\": \"Tommy\\u00a0Pham\", \"Age\": 35, \"Tm\": \"NYM\", \"Lg\": \"NL\", \"G\": 74, \"PA\": 250, \"AB\": 217, \"R\": 28, \"H\": 59, \"2B\": 15, \"3B\": 1, \"HR\": 9, \"RBI\": 35, \"SB\": 11, \"CS\": 1, \"BB\": 29, \"SO\": 53, \"BA\": 0.272, \"OBP\": 0.356, \"SLG\": 0.475, \"OPS\": 0.831, \"OPS+\": 129, \"TB\": 103, \"GDP\": 2, \"HBP\": 1, \"SH\": 0, \"SF\": 3, \"IBB\": 1}, {\"Rk\": 476, \"Name\": \"Brett\\u00a0Phillips*\", \"Age\": 29, \"Tm\": \"LAA\", \"Lg\": \"AL\", \"G\": 19, \"PA\": 16, \"AB\": 13, \"R\": 3, \"H\": 1, \"2B\": 0, \"3B\": 0, \"HR\": 0, \"RBI\": 2, \"SB\": 3, \"CS\": 0, \"BB\": 3, \"SO\": 8, \"BA\": 0.077, \"OBP\": 0.25, \"SLG\": 0.077, \"OPS\": 0.327, \"OPS+\": -3, \"TB\": 1, \"GDP\": 0, \"HBP\": 0, \"SH\": 0, \"SF\": 0, \"IBB\": 0}, {\"Rk\": 477, \"Name\": \"Kevin\\u00a0Pillar\", \"Age\": 34, \"Tm\": \"ATL\", \"Lg\": \"NL\", \"G\": 48, \"PA\": 116, \"AB\": 110, \"R\": 17, \"H\": 27, \"2B\": 7, \"3B\": 0, \"HR\": 6, \"RBI\": 18, \"SB\": 3, \"CS\": 0, \"BB\": 5, \"SO\": 27, \"BA\": 0.245, \"OBP\": 0.276, \"SLG\": 0.473, \"OPS\": 0.749, \"OPS+\": 95, \"TB\": 52, \"GDP\": 0, \"HBP\": 0, \"SH\": 0, \"SF\": 1, \"IBB\": 0}, {\"Rk\": 478, \"Name\": \"Manny\\u00a0Pi\\u00f1a\", \"Age\": 36, \"Tm\": \"OAK\", \"Lg\": \"AL\", \"G\": 4, \"PA\": 12, \"AB\": 12, \"R\": 1, \"H\": 3, \"2B\": 0, \"3B\": 0, \"HR\": 1, \"RBI\": 1, \"SB\": 0, \"CS\": 0, \"BB\": 0, \"SO\": 3, \"BA\": 0.25, \"OBP\": 0.25, \"SLG\": 0.5, \"OPS\": 0.75, \"OPS+\": 108, \"TB\": 6, \"GDP\": 1, \"HBP\": 0, \"SH\": 0, \"SF\": 0, \"IBB\": 0}, {\"Rk\": 479, \"Name\": \"Ren\\u00e9\\u00a0Pinto\", \"Age\": 26, \"Tm\": \"TBR\", \"Lg\": \"AL\", \"G\": 1, \"PA\": 2, \"AB\": 2, \"R\": 0, \"H\": 0, \"2B\": 0, \"3B\": 0, \"HR\": 0, \"RBI\": 0, \"SB\": 0, \"CS\": 0, \"BB\": 0, \"SO\": 1, \"BA\": 0.0, \"OBP\": 0.0, \"SLG\": 0.0, \"OPS\": 0.0, \"OPS+\": -100, \"TB\": 0, \"GDP\": 0, \"HBP\": 0, \"SH\": 0, \"SF\": 0, \"IBB\": 0}, {\"Rk\": 480, \"Name\": \"Nick\\u00a0Pivetta\", \"Age\": 30, \"Tm\": \"BOS\", \"Lg\": \"AL\", \"G\": 1, \"PA\": 0, \"AB\": 0, \"R\": 0, \"H\": 0, \"2B\": 0, \"3B\": 0, \"HR\": 0, \"RBI\": 0, \"SB\": 0, \"CS\": 0, \"BB\": 0, \"SO\": 0, \"BA\": 0.0, \"OBP\": 0.0, \"SLG\": 0.0, \"OPS\": 0.0, \"OPS+\": 0, \"TB\": 0, \"GDP\": 0, \"HBP\": 0, \"SH\": 0, \"SF\": 0, \"IBB\": 0}, {\"Rk\": 481, \"Name\": \"Jorge\\u00a0Polanco#\", \"Age\": 29, \"Tm\": \"MIN\", \"Lg\": \"AL\", \"G\": 30, \"PA\": 127, \"AB\": 120, \"R\": 11, \"H\": 30, \"2B\": 9, \"3B\": 0, \"HR\": 5, \"RBI\": 16, \"SB\": 1, \"CS\": 0, \"BB\": 7, \"SO\": 29, \"BA\": 0.25, \"OBP\": 0.291, \"SLG\": 0.45, \"OPS\": 0.741, \"OPS+\": 102, \"TB\": 54, \"GDP\": 1, \"HBP\": 0, \"SH\": 0, \"SF\": 0, \"IBB\": 0}, {\"Rk\": 482, \"Name\": \"AJ\\u00a0Pollock\", \"Age\": 35, \"Tm\": \"SEA\", \"Lg\": \"AL\", \"G\": 49, \"PA\": 138, \"AB\": 127, \"R\": 15, \"H\": 22, \"2B\": 4, \"3B\": 0, \"HR\": 5, \"RBI\": 15, \"SB\": 0, \"CS\": 1, \"BB\": 9, \"SO\": 30, \"BA\": 0.173, \"OBP\": 0.225, \"SLG\": 0.323, \"OPS\": 0.547, \"OPS+\": 53, \"TB\": 41, \"GDP\": 1, \"HBP\": 0, \"SH\": 0, \"SF\": 2, \"IBB\": 0}, {\"Rk\": 483, \"Name\": \"Nick\\u00a0Pratto*\", \"Age\": 24, \"Tm\": \"KCR\", \"Lg\": \"AL\", \"G\": 74, \"PA\": 287, \"AB\": 249, \"R\": 31, \"H\": 61, \"2B\": 15, \"3B\": 0, \"HR\": 7, \"RBI\": 31, \"SB\": 1, \"CS\": 1, \"BB\": 29, \"SO\": 105, \"BA\": 0.245, \"OBP\": 0.334, \"SLG\": 0.39, \"OPS\": 0.724, \"OPS+\": 101, \"TB\": 97, \"GDP\": 3, \"HBP\": 6, \"SH\": 0, \"SF\": 3, \"IBB\": 0}, {\"Rk\": 484, \"Name\": \"Ryan\\u00a0Pressly\", \"Age\": 34, \"Tm\": \"HOU\", \"Lg\": \"AL\", \"G\": 1, \"PA\": 0, \"AB\": 0, \"R\": 0, \"H\": 0, \"2B\": 0, \"3B\": 0, \"HR\": 0, \"RBI\": 0, \"SB\": 0, \"CS\": 0, \"BB\": 0, \"SO\": 0, \"BA\": 0.0, \"OBP\": 0.0, \"SLG\": 0.0, \"OPS\": 0.0, \"OPS+\": 0, \"TB\": 0, \"GDP\": 0, \"HBP\": 0, \"SH\": 0, \"SF\": 0, \"IBB\": 0}, {\"Rk\": 485, \"Name\": \"Jurickson\\u00a0Profar#\", \"Age\": 30, \"Tm\": \"COL\", \"Lg\": \"NL\", \"G\": 86, \"PA\": 380, \"AB\": 334, \"R\": 41, \"H\": 80, \"2B\": 20, \"3B\": 2, \"HR\": 7, \"RBI\": 34, \"SB\": 1, \"CS\": 0, \"BB\": 37, \"SO\": 71, \"BA\": 0.24, \"OBP\": 0.319, \"SLG\": 0.374, \"OPS\": 0.694, \"OPS+\": 79, \"TB\": 125, \"GDP\": 8, \"HBP\": 4, \"SH\": 0, \"SF\": 4, \"IBB\": 0}, {\"Rk\": 486, \"Name\": \"Cole\\u00a0Ragans*\", \"Age\": 25, \"Tm\": \"TOT\", \"Lg\": \"AL\", \"G\": 1, \"PA\": 0, \"AB\": 0, \"R\": 0, \"H\": 0, \"2B\": 0, \"3B\": 0, \"HR\": 0, \"RBI\": 0, \"SB\": 0, \"CS\": 0, \"BB\": 0, \"SO\": 0, \"BA\": 0.0, \"OBP\": 0.0, \"SLG\": 0.0, \"OPS\": 0.0, \"OPS+\": 0, \"TB\": 0, \"GDP\": 0, \"HBP\": 0, \"SH\": 0, \"SF\": 0, \"IBB\": 0}, {\"Rk\": 487, \"Name\": \"Cole\\u00a0Ragans*\", \"Age\": 25, \"Tm\": \"TEX\", \"Lg\": \"AL\", \"G\": 1, \"PA\": 0, \"AB\": 0, \"R\": 0, \"H\": 0, \"2B\": 0, \"3B\": 0, \"HR\": 0, \"RBI\": 0, \"SB\": 0, \"CS\": 0, \"BB\": 0, \"SO\": 0, \"BA\": 0.0, \"OBP\": 0.0, \"SLG\": 0.0, \"OPS\": 0.0, \"OPS+\": 0, \"TB\": 0, \"GDP\": 0, \"HBP\": 0, \"SH\": 0, \"SF\": 0, \"IBB\": 0}, {\"Rk\": 488, \"Name\": \"Cal\\u00a0Raleigh#\", \"Age\": 26, \"Tm\": \"SEA\", \"Lg\": \"AL\", \"G\": 84, \"PA\": 318, \"AB\": 285, \"R\": 42, \"H\": 63, \"2B\": 13, \"3B\": 1, \"HR\": 14, \"RBI\": 38, \"SB\": 0, \"CS\": 0, \"BB\": 32, \"SO\": 81, \"BA\": 0.221, \"OBP\": 0.302, \"SLG\": 0.421, \"OPS\": 0.723, \"OPS+\": 102, \"TB\": 120, \"GDP\": 2, \"HBP\": 1, \"SH\": 0, \"SF\": 0, \"IBB\": 1}, {\"Rk\": 489, \"Name\": \"Luke\\u00a0Raley*\", \"Age\": 28, \"Tm\": \"TBR\", \"Lg\": \"AL\", \"G\": 79, \"PA\": 272, \"AB\": 238, \"R\": 45, \"H\": 64, \"2B\": 16, \"3B\": 2, \"HR\": 15, \"RBI\": 39, \"SB\": 11, \"CS\": 2, \"BB\": 19, \"SO\": 82, \"BA\": 0.269, \"OBP\": 0.354, \"SLG\": 0.542, \"OPS\": 0.896, \"OPS+\": 147, \"TB\": 129, \"GDP\": 2, \"HBP\": 13, \"SH\": 1, \"SF\": 1, \"IBB\": 0}, {\"Rk\": 490, \"Name\": \"Harold\\u00a0Ram\\u00edrez\", \"Age\": 28, \"Tm\": \"TBR\", \"Lg\": \"AL\", \"G\": 73, \"PA\": 267, \"AB\": 246, \"R\": 33, \"H\": 70, \"2B\": 11, \"3B\": 1, \"HR\": 9, \"RBI\": 37, \"SB\": 4, \"CS\": 2, \"BB\": 16, \"SO\": 54, \"BA\": 0.285, \"OBP\": 0.33, \"SLG\": 0.447, \"OPS\": 0.777, \"OPS+\": 116, \"TB\": 110, \"GDP\": 3, \"HBP\": 2, \"SH\": 0, \"SF\": 3, \"IBB\": 0}, {\"Rk\": 491, \"Name\": \"Jos\\u00e9\\u00a0Ram\\u00edrez#\", \"Age\": 30, \"Tm\": \"CLE\", \"Lg\": \"AL\", \"G\": 94, \"PA\": 421, \"AB\": 370, \"R\": 61, \"H\": 109, \"2B\": 25, \"3B\": 4, \"HR\": 14, \"RBI\": 55, \"SB\": 12, \"CS\": 4, \"BB\": 44, \"SO\": 41, \"BA\": 0.295, \"OBP\": 0.366, \"SLG\": 0.497, \"OPS\": 0.863, \"OPS+\": 140, \"TB\": 184, \"GDP\": 7, \"HBP\": 1, \"SH\": 0, \"SF\": 6, \"IBB\": 12}, {\"Rk\": 492, \"Name\": \"Heliot\\u00a0Ramos\", \"Age\": 23, \"Tm\": \"SFG\", \"Lg\": \"NL\", \"G\": 9, \"PA\": 27, \"AB\": 26, \"R\": 1, \"H\": 5, \"2B\": 2, \"3B\": 0, \"HR\": 0, \"RBI\": 1, \"SB\": 0, \"CS\": 0, \"BB\": 1, \"SO\": 8, \"BA\": 0.192, \"OBP\": 0.222, \"SLG\": 0.269, \"OPS\": 0.491, \"OPS+\": 35, \"TB\": 7, \"GDP\": 1, \"HBP\": 0, \"SH\": 0, \"SF\": 0, \"IBB\": 0}, {\"Rk\": 493, \"Name\": \"Henry\\u00a0Ramos#\", \"Age\": 31, \"Tm\": \"CIN\", \"Lg\": \"NL\", \"G\": 18, \"PA\": 73, \"AB\": 62, \"R\": 8, \"H\": 15, \"2B\": 2, \"3B\": 1, \"HR\": 0, \"RBI\": 4, \"SB\": 2, \"CS\": 1, \"BB\": 10, \"SO\": 15, \"BA\": 0.242, \"OBP\": 0.356, \"SLG\": 0.306, \"OPS\": 0.663, \"OPS+\": 79, \"TB\": 19, \"GDP\": 2, \"HBP\": 1, \"SH\": 0, \"SF\": 0, \"IBB\": 0}, {\"Rk\": 494, \"Name\": \"J.T.\\u00a0Realmuto\", \"Age\": 32, \"Tm\": \"PHI\", \"Lg\": \"NL\", \"G\": 86, \"PA\": 344, \"AB\": 311, \"R\": 41, \"H\": 76, \"2B\": 21, \"3B\": 5, \"HR\": 12, \"RBI\": 39, \"SB\": 11, \"CS\": 3, \"BB\": 22, \"SO\": 86, \"BA\": 0.244, \"OBP\": 0.304, \"SLG\": 0.46, \"OPS\": 0.764, \"OPS+\": 107, \"TB\": 143, \"GDP\": 6, \"HBP\": 6, \"SH\": 0, \"SF\": 3, \"IBB\": 2}, {\"Rk\": 495, \"Name\": \"Rob\\u00a0Refsnyder\", \"Age\": 32, \"Tm\": \"BOS\", \"Lg\": \"AL\", \"G\": 61, \"PA\": 177, \"AB\": 145, \"R\": 22, \"H\": 39, \"2B\": 6, \"3B\": 1, \"HR\": 1, \"RBI\": 25, \"SB\": 7, \"CS\": 1, \"BB\": 24, \"SO\": 36, \"BA\": 0.269, \"OBP\": 0.389, \"SLG\": 0.345, \"OPS\": 0.733, \"OPS+\": 100, \"TB\": 50, \"GDP\": 4, \"HBP\": 5, \"SH\": 1, \"SF\": 1, \"IBB\": 0}, {\"Rk\": 496, \"Name\": \"Zach\\u00a0Remillard\", \"Age\": 29, \"Tm\": \"CHW\", \"Lg\": \"AL\", \"G\": 26, \"PA\": 87, \"AB\": 77, \"R\": 8, \"H\": 23, \"2B\": 5, \"3B\": 0, \"HR\": 0, \"RBI\": 11, \"SB\": 3, \"CS\": 1, \"BB\": 7, \"SO\": 25, \"BA\": 0.299, \"OBP\": 0.365, \"SLG\": 0.364, \"OPS\": 0.728, \"OPS+\": 103, \"TB\": 28, \"GDP\": 2, \"HBP\": 1, \"SH\": 2, \"SF\": 0, \"IBB\": 1}, {\"Rk\": 497, \"Name\": \"Anthony\\u00a0Rendon\", \"Age\": 33, \"Tm\": \"LAA\", \"Lg\": \"AL\", \"G\": 43, \"PA\": 183, \"AB\": 148, \"R\": 23, \"H\": 35, \"2B\": 6, \"3B\": 0, \"HR\": 2, \"RBI\": 22, \"SB\": 2, \"CS\": 0, \"BB\": 25, \"SO\": 27, \"BA\": 0.236, \"OBP\": 0.361, \"SLG\": 0.318, \"OPS\": 0.678, \"OPS+\": 89, \"TB\": 47, \"GDP\": 6, \"HBP\": 6, \"SH\": 0, \"SF\": 4, \"IBB\": 0}, {\"Rk\": 498, \"Name\": \"Hunter\\u00a0Renfroe\", \"Age\": 31, \"Tm\": \"LAA\", \"Lg\": \"AL\", \"G\": 91, \"PA\": 374, \"AB\": 342, \"R\": 45, \"H\": 83, \"2B\": 22, \"3B\": 0, \"HR\": 15, \"RBI\": 42, \"SB\": 0, \"CS\": 0, \"BB\": 28, \"SO\": 81, \"BA\": 0.243, \"OBP\": 0.302, \"SLG\": 0.439, \"OPS\": 0.741, \"OPS+\": 100, \"TB\": 150, \"GDP\": 13, \"HBP\": 2, \"SH\": 0, \"SF\": 2, \"IBB\": 0}, {\"Rk\": 499, \"Name\": \"Luis\\u00a0Rengifo#\", \"Age\": 26, \"Tm\": \"LAA\", \"Lg\": \"AL\", \"G\": 84, \"PA\": 271, \"AB\": 237, \"R\": 32, \"H\": 51, \"2B\": 6, \"3B\": 1, \"HR\": 7, \"RBI\": 27, \"SB\": 5, \"CS\": 4, \"BB\": 29, \"SO\": 57, \"BA\": 0.215, \"OBP\": 0.306, \"SLG\": 0.338, \"OPS\": 0.644, \"OPS+\": 77, \"TB\": 80, \"GDP\": 3, \"HBP\": 3, \"SH\": 0, \"SF\": 2, \"IBB\": 0}, {\"Rk\": 500, \"Name\": \"Franmil\\u00a0Reyes\", \"Age\": 27, \"Tm\": \"KCR\", \"Lg\": \"AL\", \"G\": 19, \"PA\": 65, \"AB\": 59, \"R\": 5, \"H\": 11, \"2B\": 0, \"3B\": 0, \"HR\": 2, \"RBI\": 7, \"SB\": 0, \"CS\": 0, \"BB\": 4, \"SO\": 24, \"BA\": 0.186, \"OBP\": 0.231, \"SLG\": 0.288, \"OPS\": 0.519, \"OPS+\": 43, \"TB\": 17, \"GDP\": 3, \"HBP\": 0, \"SH\": 0, \"SF\": 2, \"IBB\": 0}, {\"Rk\": 501, \"Name\": \"Pablo\\u00a0Reyes\", \"Age\": 29, \"Tm\": \"BOS\", \"Lg\": \"AL\", \"G\": 27, \"PA\": 72, \"AB\": 66, \"R\": 9, \"H\": 20, \"2B\": 4, \"3B\": 0, \"HR\": 0, \"RBI\": 9, \"SB\": 1, \"CS\": 1, \"BB\": 4, \"SO\": 10, \"BA\": 0.303, \"OBP\": 0.338, \"SLG\": 0.364, \"OPS\": 0.702, \"OPS+\": 89, \"TB\": 24, \"GDP\": 1, \"HBP\": 0, \"SH\": 1, \"SF\": 1, \"IBB\": 0}, {\"Rk\": 502, \"Name\": \"Bryan\\u00a0Reynolds#\", \"Age\": 28, \"Tm\": \"PIT\", \"Lg\": \"NL\", \"G\": 84, \"PA\": 362, \"AB\": 323, \"R\": 43, \"H\": 83, \"2B\": 21, \"3B\": 3, \"HR\": 9, \"RBI\": 45, \"SB\": 8, \"CS\": 0, \"BB\": 31, \"SO\": 70, \"BA\": 0.257, \"OBP\": 0.323, \"SLG\": 0.424, \"OPS\": 0.747, \"OPS+\": 102, \"TB\": 137, \"GDP\": 8, \"HBP\": 3, \"SH\": 0, \"SF\": 5, \"IBB\": 0}, {\"Rk\": 503, \"Name\": \"Matt\\u00a0Reynolds\", \"Age\": 32, \"Tm\": \"CIN\", \"Lg\": \"NL\", \"G\": 2, \"PA\": 5, \"AB\": 5, \"R\": 1, \"H\": 1, \"2B\": 0, \"3B\": 0, \"HR\": 0, \"RBI\": 0, \"SB\": 0, \"CS\": 0, \"BB\": 0, \"SO\": 3, \"BA\": 0.2, \"OBP\": 0.2, \"SLG\": 0.2, \"OPS\": 0.4, \"OPS+\": 7, \"TB\": 1, \"GDP\": 0, \"HBP\": 0, \"SH\": 0, \"SF\": 0, \"IBB\": 0}, {\"Rk\": 504, \"Name\": \"Austin\\u00a0Riley\", \"Age\": 26, \"Tm\": \"ATL\", \"Lg\": \"NL\", \"G\": 97, \"PA\": 429, \"AB\": 385, \"R\": 71, \"H\": 105, \"2B\": 17, \"3B\": 1, \"HR\": 22, \"RBI\": 61, \"SB\": 2, \"CS\": 0, \"BB\": 34, \"SO\": 101, \"BA\": 0.273, \"OBP\": 0.333, \"SLG\": 0.494, \"OPS\": 0.827, \"OPS+\": 118, \"TB\": 190, \"GDP\": 14, \"HBP\": 4, \"SH\": 0, \"SF\": 6, \"IBB\": 2}, {\"Rk\": 505, \"Name\": \"Edwin\\u00a0Rios*\", \"Age\": 29, \"Tm\": \"CHC\", \"Lg\": \"NL\", \"G\": 18, \"PA\": 34, \"AB\": 28, \"R\": 3, \"H\": 2, \"2B\": 1, \"3B\": 0, \"HR\": 1, \"RBI\": 2, \"SB\": 0, \"CS\": 0, \"BB\": 5, \"SO\": 16, \"BA\": 0.071, \"OBP\": 0.235, \"SLG\": 0.214, \"OPS\": 0.45, \"OPS+\": 23, \"TB\": 6, \"GDP\": 0, \"HBP\": 1, \"SH\": 0, \"SF\": 0, \"IBB\": 0}, {\"Rk\": 506, \"Name\": \"Alfonso\\u00a0Rivas*\", \"Age\": 26, \"Tm\": \"SDP\", \"Lg\": \"NL\", \"G\": 6, \"PA\": 15, \"AB\": 14, \"R\": 2, \"H\": 3, \"2B\": 2, \"3B\": 0, \"HR\": 0, \"RBI\": 1, \"SB\": 0, \"CS\": 0, \"BB\": 1, \"SO\": 6, \"BA\": 0.214, \"OBP\": 0.267, \"SLG\": 0.357, \"OPS\": 0.624, \"OPS+\": 74, \"TB\": 5, \"GDP\": 0, \"HBP\": 0, \"SH\": 0, \"SF\": 0, \"IBB\": 0}, {\"Rk\": 507, \"Name\": \"Emmanuel\\u00a0Rivera\", \"Age\": 27, \"Tm\": \"ARI\", \"Lg\": \"NL\", \"G\": 53, \"PA\": 195, \"AB\": 182, \"R\": 29, \"H\": 51, \"2B\": 11, \"3B\": 0, \"HR\": 3, \"RBI\": 22, \"SB\": 1, \"CS\": 0, \"BB\": 11, \"SO\": 39, \"BA\": 0.28, \"OBP\": 0.318, \"SLG\": 0.39, \"OPS\": 0.708, \"OPS+\": 95, \"TB\": 71, \"GDP\": 5, \"HBP\": 0, \"SH\": 0, \"SF\": 2, \"IBB\": 0}, {\"Rk\": 508, \"Name\": \"Anthony\\u00a0Rizzo*\", \"Age\": 33, \"Tm\": \"NYY\", \"Lg\": \"AL\", \"G\": 91, \"PA\": 386, \"AB\": 340, \"R\": 41, \"H\": 83, \"2B\": 13, \"3B\": 0, \"HR\": 11, \"RBI\": 39, \"SB\": 0, \"CS\": 3, \"BB\": 34, \"SO\": 87, \"BA\": 0.244, \"OBP\": 0.332, \"SLG\": 0.379, \"OPS\": 0.711, \"OPS+\": 98, \"TB\": 129, \"GDP\": 9, \"HBP\": 11, \"SH\": 0, \"SF\": 1, \"IBB\": 1}, {\"Rk\": 509, \"Name\": \"Luis\\u00a0Robert\\u00a0Jr.\", \"Age\": 25, \"Tm\": \"CHW\", \"Lg\": \"AL\", \"G\": 97, \"PA\": 409, \"AB\": 373, \"R\": 66, \"H\": 102, \"2B\": 25, \"3B\": 0, \"HR\": 28, \"RBI\": 57, \"SB\": 11, \"CS\": 2, \"BB\": 21, \"SO\": 118, \"BA\": 0.273, \"OBP\": 0.327, \"SLG\": 0.566, \"OPS\": 0.892, \"OPS+\": 140, \"TB\": 211, \"GDP\": 8, \"HBP\": 9, \"SH\": 0, \"SF\": 1, \"IBB\": 4}, {\"Rk\": 510, \"Name\": \"Victor\\u00a0Robles\", \"Age\": 26, \"Tm\": \"WSN\", \"Lg\": \"NL\", \"G\": 36, \"PA\": 126, \"AB\": 107, \"R\": 15, \"H\": 32, \"2B\": 5, \"3B\": 1, \"HR\": 0, \"RBI\": 8, \"SB\": 8, \"CS\": 1, \"BB\": 11, \"SO\": 18, \"BA\": 0.299, \"OBP\": 0.385, \"SLG\": 0.364, \"OPS\": 0.75, \"OPS+\": 113, \"TB\": 39, \"GDP\": 3, \"HBP\": 4, \"SH\": 4, \"SF\": 0, \"IBB\": 0}, {\"Rk\": 511, \"Name\": \"Brayan\\u00a0Rocchio#\", \"Age\": 22, \"Tm\": \"CLE\", \"Lg\": \"AL\", \"G\": 4, \"PA\": 14, \"AB\": 14, \"R\": 0, \"H\": 3, \"2B\": 0, \"3B\": 0, \"HR\": 0, \"RBI\": 1, \"SB\": 0, \"CS\": 0, \"BB\": 0, \"SO\": 1, \"BA\": 0.214, \"OBP\": 0.214, \"SLG\": 0.214, \"OPS\": 0.429, \"OPS+\": 21, \"TB\": 3, \"GDP\": 2, \"HBP\": 0, \"SH\": 0, \"SF\": 0, \"IBB\": 0}, {\"Rk\": 512, \"Name\": \"Endy\\u00a0Rodr\\u00edguez#\", \"Age\": 23, \"Tm\": \"PIT\", \"Lg\": \"NL\", \"G\": 5, \"PA\": 17, \"AB\": 16, \"R\": 2, \"H\": 3, \"2B\": 1, \"3B\": 0, \"HR\": 1, \"RBI\": 1, \"SB\": 0, \"CS\": 0, \"BB\": 1, \"SO\": 9, \"BA\": 0.188, \"OBP\": 0.235, \"SLG\": 0.438, \"OPS\": 0.673, \"OPS+\": 78, \"TB\": 7, \"GDP\": 0, \"HBP\": 0, \"SH\": 0, \"SF\": 0, \"IBB\": 0}, {\"Rk\": 513, \"Name\": \"Jos\\u00e9\\u00a0Rodriguez\", \"Age\": 22, \"Tm\": \"CHW\", \"Lg\": \"AL\", \"G\": 1, \"PA\": 0, \"AB\": 0, \"R\": 1, \"H\": 0, \"2B\": 0, \"3B\": 0, \"HR\": 0, \"RBI\": 0, \"SB\": 0, \"CS\": 0, \"BB\": 0, \"SO\": 0, \"BA\": 0.0, \"OBP\": 0.0, \"SLG\": 0.0, \"OPS\": 0.0, \"OPS+\": 0, \"TB\": 0, \"GDP\": 0, \"HBP\": 0, \"SH\": 0, \"SF\": 0, \"IBB\": 0}, {\"Rk\": 514, \"Name\": \"Julio\\u00a0Rodr\\u00edguez\", \"Age\": 22, \"Tm\": \"SEA\", \"Lg\": \"AL\", \"G\": 95, \"PA\": 431, \"AB\": 392, \"R\": 55, \"H\": 96, \"2B\": 18, \"3B\": 1, \"HR\": 14, \"RBI\": 51, \"SB\": 22, \"CS\": 5, \"BB\": 33, \"SO\": 112, \"BA\": 0.245, \"OBP\": 0.313, \"SLG\": 0.403, \"OPS\": 0.716, \"OPS+\": 102, \"TB\": 158, \"GDP\": 11, \"HBP\": 6, \"SH\": 0, \"SF\": 0, \"IBB\": 1}, {\"Rk\": 515, \"Name\": \"Jake\\u00a0Rogers\", \"Age\": 28, \"Tm\": \"DET\", \"Lg\": \"AL\", \"G\": 63, \"PA\": 207, \"AB\": 182, \"R\": 26, \"H\": 38, \"2B\": 8, \"3B\": 0, \"HR\": 11, \"RBI\": 28, \"SB\": 0, \"CS\": 1, \"BB\": 22, \"SO\": 71, \"BA\": 0.209, \"OBP\": 0.296, \"SLG\": 0.434, \"OPS\": 0.73, \"OPS+\": 101, \"TB\": 79, \"GDP\": 1, \"HBP\": 1, \"SH\": 1, \"SF\": 1, \"IBB\": 0}, {\"Rk\": 516, \"Name\": \"Taylor\\u00a0Rogers*\", \"Age\": 32, \"Tm\": \"SFG\", \"Lg\": \"NL\", \"G\": 1, \"PA\": 0, \"AB\": 0, \"R\": 0, \"H\": 0, \"2B\": 0, \"3B\": 0, \"HR\": 0, \"RBI\": 0, \"SB\": 0, \"CS\": 0, \"BB\": 0, \"SO\": 0, \"BA\": 0.0, \"OBP\": 0.0, \"SLG\": 0.0, \"OPS\": 0.0, \"OPS+\": 0, \"TB\": 0, \"GDP\": 0, \"HBP\": 0, \"SH\": 0, \"SF\": 0, \"IBB\": 0}, {\"Rk\": 517, \"Name\": \"Tyler\\u00a0Rogers\", \"Age\": 32, \"Tm\": \"SFG\", \"Lg\": \"NL\", \"G\": 1, \"PA\": 0, \"AB\": 0, \"R\": 0, \"H\": 0, \"2B\": 0, \"3B\": 0, \"HR\": 0, \"RBI\": 0, \"SB\": 0, \"CS\": 0, \"BB\": 0, \"SO\": 0, \"BA\": 0.0, \"OBP\": 0.0, \"SLG\": 0.0, \"OPS\": 0.0, \"OPS+\": 0, \"TB\": 0, \"GDP\": 0, \"HBP\": 0, \"SH\": 0, \"SF\": 0, \"IBB\": 0}, {\"Rk\": 518, \"Name\": \"Johan\\u00a0Rojas\", \"Age\": 22, \"Tm\": \"PHI\", \"Lg\": \"NL\", \"G\": 4, \"PA\": 12, \"AB\": 11, \"R\": 2, \"H\": 3, \"2B\": 0, \"3B\": 0, \"HR\": 0, \"RBI\": 2, \"SB\": 1, \"CS\": 0, \"BB\": 0, \"SO\": 3, \"BA\": 0.273, \"OBP\": 0.273, \"SLG\": 0.273, \"OPS\": 0.545, \"OPS+\": 51, \"TB\": 3, \"GDP\": 0, \"HBP\": 0, \"SH\": 1, \"SF\": 0, \"IBB\": 0}, {\"Rk\": 519, \"Name\": \"Josh\\u00a0Rojas*\", \"Age\": 29, \"Tm\": \"ARI\", \"Lg\": \"NL\", \"G\": 57, \"PA\": 210, \"AB\": 183, \"R\": 23, \"H\": 43, \"2B\": 13, \"3B\": 0, \"HR\": 0, \"RBI\": 26, \"SB\": 6, \"CS\": 0, \"BB\": 18, \"SO\": 49, \"BA\": 0.235, \"OBP\": 0.301, \"SLG\": 0.306, \"OPS\": 0.607, \"OPS+\": 69, \"TB\": 56, \"GDP\": 2, \"HBP\": 1, \"SH\": 2, \"SF\": 4, \"IBB\": 0}, {\"Rk\": 520, \"Name\": \"Miguel\\u00a0Rojas\", \"Age\": 34, \"Tm\": \"LAD\", \"Lg\": \"NL\", \"G\": 70, \"PA\": 244, \"AB\": 221, \"R\": 28, \"H\": 50, \"2B\": 11, \"3B\": 0, \"HR\": 0, \"RBI\": 11, \"SB\": 7, \"CS\": 1, \"BB\": 18, \"SO\": 30, \"BA\": 0.226, \"OBP\": 0.287, \"SLG\": 0.276, \"OPS\": 0.563, \"OPS+\": 53, \"TB\": 61, \"GDP\": 4, \"HBP\": 2, \"SH\": 0, \"SF\": 3, \"IBB\": 0}, {\"Rk\": 521, \"Name\": \"Jordan\\u00a0Romano\", \"Age\": 30, \"Tm\": \"TOR\", \"Lg\": \"AL\", \"G\": 1, \"PA\": 0, \"AB\": 0, \"R\": 0, \"H\": 0, \"2B\": 0, \"3B\": 0, \"HR\": 0, \"RBI\": 0, \"SB\": 0, \"CS\": 0, \"BB\": 0, \"SO\": 0, \"BA\": 0.0, \"OBP\": 0.0, \"SLG\": 0.0, \"OPS\": 0.0, \"OPS+\": 0, \"TB\": 0, \"GDP\": 0, \"HBP\": 0, \"SH\": 0, \"SF\": 0, \"IBB\": 0}, {\"Rk\": 522, \"Name\": \"JoJo\\u00a0Romero*\", \"Age\": 26, \"Tm\": \"STL\", \"Lg\": \"NL\", \"G\": 1, \"PA\": 0, \"AB\": 0, \"R\": 0, \"H\": 0, \"2B\": 0, \"3B\": 0, \"HR\": 0, \"RBI\": 0, \"SB\": 0, \"CS\": 0, \"BB\": 0, \"SO\": 0, \"BA\": 0.0, \"OBP\": 0.0, \"SLG\": 0.0, \"OPS\": 0.0, \"OPS+\": 0, \"TB\": 0, \"GDP\": 0, \"HBP\": 0, \"SH\": 0, \"SF\": 0, \"IBB\": 0}, {\"Rk\": 523, \"Name\": \"Brent\\u00a0Rooker\", \"Age\": 28, \"Tm\": \"OAK\", \"Lg\": \"AL\", \"G\": 83, \"PA\": 319, \"AB\": 276, \"R\": 33, \"H\": 66, \"2B\": 13, \"3B\": 1, \"HR\": 16, \"RBI\": 44, \"SB\": 2, \"CS\": 0, \"BB\": 33, \"SO\": 101, \"BA\": 0.239, \"OBP\": 0.332, \"SLG\": 0.467, \"OPS\": 0.8, \"OPS+\": 127, \"TB\": 129, \"GDP\": 10, \"HBP\": 7, \"SH\": 0, \"SF\": 3, \"IBB\": 1}, {\"Rk\": 524, \"Name\": \"Ben\\u00a0Rortvedt*\", \"Age\": 25, \"Tm\": \"NYY\", \"Lg\": \"AL\", \"G\": 6, \"PA\": 12, \"AB\": 10, \"R\": 2, \"H\": 2, \"2B\": 1, \"3B\": 0, \"HR\": 0, \"RBI\": 0, \"SB\": 0, \"CS\": 0, \"BB\": 2, \"SO\": 3, \"BA\": 0.2, \"OBP\": 0.333, \"SLG\": 0.3, \"OPS\": 0.633, \"OPS+\": 79, \"TB\": 3, \"GDP\": 0, \"HBP\": 0, \"SH\": 0, \"SF\": 0, \"IBB\": 0}, {\"Rk\": 525, \"Name\": \"Amed\\u00a0Rosario\", \"Age\": 27, \"Tm\": \"CLE\", \"Lg\": \"AL\", \"G\": 91, \"PA\": 403, \"AB\": 376, \"R\": 49, \"H\": 98, \"2B\": 17, \"3B\": 5, \"HR\": 3, \"RBI\": 40, \"SB\": 9, \"CS\": 0, \"BB\": 22, \"SO\": 76, \"BA\": 0.261, \"OBP\": 0.303, \"SLG\": 0.356, \"OPS\": 0.659, \"OPS+\": 85, \"TB\": 134, \"GDP\": 10, \"HBP\": 2, \"SH\": 0, \"SF\": 3, \"IBB\": 0}, {\"Rk\": 526, \"Name\": \"Eddie\\u00a0Rosario*\", \"Age\": 31, \"Tm\": \"ATL\", \"Lg\": \"NL\", \"G\": 85, \"PA\": 313, \"AB\": 291, \"R\": 39, \"H\": 73, \"2B\": 15, \"3B\": 2, \"HR\": 15, \"RBI\": 44, \"SB\": 1, \"CS\": 3, \"BB\": 21, \"SO\": 78, \"BA\": 0.251, \"OBP\": 0.3, \"SLG\": 0.471, \"OPS\": 0.771, \"OPS+\": 102, \"TB\": 137, \"GDP\": 7, \"HBP\": 0, \"SH\": 0, \"SF\": 1, \"IBB\": 1}, {\"Rk\": 527, \"Name\": \"Michael\\u00a0Rucker\", \"Age\": 29, \"Tm\": \"CHC\", \"Lg\": \"NL\", \"G\": 1, \"PA\": 0, \"AB\": 0, \"R\": 0, \"H\": 0, \"2B\": 0, \"3B\": 0, \"HR\": 0, \"RBI\": 0, \"SB\": 0, \"CS\": 0, \"BB\": 0, \"SO\": 0, \"BA\": 0.0, \"OBP\": 0.0, \"SLG\": 0.0, \"OPS\": 0.0, \"OPS+\": 0, \"TB\": 0, \"GDP\": 0, \"HBP\": 0, \"SH\": 0, \"SF\": 0, \"IBB\": 0}, {\"Rk\": 528, \"Name\": \"Darin\\u00a0Ruf\", \"Age\": 36, \"Tm\": \"TOT\", \"Lg\": \"NL\", \"G\": 20, \"PA\": 57, \"AB\": 49, \"R\": 3, \"H\": 11, \"2B\": 3, \"3B\": 0, \"HR\": 0, \"RBI\": 3, \"SB\": 0, \"CS\": 0, \"BB\": 8, \"SO\": 16, \"BA\": 0.224, \"OBP\": 0.333, \"SLG\": 0.286, \"OPS\": 0.619, \"OPS+\": 73, \"TB\": 14, \"GDP\": 0, \"HBP\": 0, \"SH\": 0, \"SF\": 0, \"IBB\": 0}, {\"Rk\": 529, \"Name\": \"Darin\\u00a0Ruf\", \"Age\": 36, \"Tm\": \"SFG\", \"Lg\": \"NL\", \"G\": 9, \"PA\": 27, \"AB\": 23, \"R\": 1, \"H\": 6, \"2B\": 2, \"3B\": 0, \"HR\": 0, \"RBI\": 3, \"SB\": 0, \"CS\": 0, \"BB\": 4, \"SO\": 9, \"BA\": 0.261, \"OBP\": 0.37, \"SLG\": 0.348, \"OPS\": 0.718, \"OPS+\": 100, \"TB\": 8, \"GDP\": 0, \"HBP\": 0, \"SH\": 0, \"SF\": 0, \"IBB\": 0}, {\"Rk\": 530, \"Name\": \"Darin\\u00a0Ruf\", \"Age\": 36, \"Tm\": \"MIL\", \"Lg\": \"NL\", \"G\": 11, \"PA\": 30, \"AB\": 26, \"R\": 2, \"H\": 5, \"2B\": 1, \"3B\": 0, \"HR\": 0, \"RBI\": 0, \"SB\": 0, \"CS\": 0, \"BB\": 4, \"SO\": 7, \"BA\": 0.192, \"OBP\": 0.3, \"SLG\": 0.231, \"OPS\": 0.531, \"OPS+\": 49, \"TB\": 6, \"GDP\": 0, \"HBP\": 0, \"SH\": 0, \"SF\": 0, \"IBB\": 0}, {\"Rk\": 531, \"Name\": \"Esteury\\u00a0Ruiz\", \"Age\": 24, \"Tm\": \"OAK\", \"Lg\": \"AL\", \"G\": 85, \"PA\": 369, \"AB\": 334, \"R\": 33, \"H\": 86, \"2B\": 19, \"3B\": 1, \"HR\": 1, \"RBI\": 35, \"SB\": 43, \"CS\": 8, \"BB\": 14, \"SO\": 68, \"BA\": 0.257, \"OBP\": 0.31, \"SLG\": 0.329, \"OPS\": 0.64, \"OPS+\": 85, \"TB\": 110, \"GDP\": 4, \"HBP\": 12, \"SH\": 3, \"SF\": 1, \"IBB\": 1}, {\"Rk\": 532, \"Name\": \"Jos\\u00e9\\u00a0Ruiz\", \"Age\": 28, \"Tm\": \"TOT\", \"Lg\": \"MLB\", \"G\": 1, \"PA\": 0, \"AB\": 0, \"R\": 0, \"H\": 0, \"2B\": 0, \"3B\": 0, \"HR\": 0, \"RBI\": 0, \"SB\": 0, \"CS\": 0, \"BB\": 0, \"SO\": 0, \"BA\": 0.0, \"OBP\": 0.0, \"SLG\": 0.0, \"OPS\": 0.0, \"OPS+\": 0, \"TB\": 0, \"GDP\": 0, \"HBP\": 0, \"SH\": 0, \"SF\": 0, \"IBB\": 0}, {\"Rk\": 533, \"Name\": \"Jos\\u00e9\\u00a0Ruiz\", \"Age\": 28, \"Tm\": \"ARI\", \"Lg\": \"NL\", \"G\": 1, \"PA\": 0, \"AB\": 0, \"R\": 0, \"H\": 0, \"2B\": 0, \"3B\": 0, \"HR\": 0, \"RBI\": 0, \"SB\": 0, \"CS\": 0, \"BB\": 0, \"SO\": 0, \"BA\": 0.0, \"OBP\": 0.0, \"SLG\": 0.0, \"OPS\": 0.0, \"OPS+\": 0, \"TB\": 0, \"GDP\": 0, \"HBP\": 0, \"SH\": 0, \"SF\": 0, \"IBB\": 0}, {\"Rk\": 534, \"Name\": \"Keibert\\u00a0Ruiz#\", \"Age\": 24, \"Tm\": \"WSN\", \"Lg\": \"NL\", \"G\": 80, \"PA\": 333, \"AB\": 307, \"R\": 29, \"H\": 75, \"2B\": 14, \"3B\": 0, \"HR\": 11, \"RBI\": 37, \"SB\": 1, \"CS\": 1, \"BB\": 20, \"SO\": 31, \"BA\": 0.244, \"OBP\": 0.3, \"SLG\": 0.397, \"OPS\": 0.698, \"OPS+\": 95, \"TB\": 122, \"GDP\": 11, \"HBP\": 5, \"SH\": 0, \"SF\": 1, \"IBB\": 0}, {\"Rk\": 535, \"Name\": \"Adley\\u00a0Rutschman#\", \"Age\": 25, \"Tm\": \"BAL\", \"Lg\": \"AL\", \"G\": 94, \"PA\": 417, \"AB\": 355, \"R\": 48, \"H\": 96, \"2B\": 16, \"3B\": 0, \"HR\": 13, \"RBI\": 42, \"SB\": 0, \"CS\": 1, \"BB\": 60, \"SO\": 64, \"BA\": 0.27, \"OBP\": 0.374, \"SLG\": 0.425, \"OPS\": 0.799, \"OPS+\": 125, \"TB\": 151, \"GDP\": 8, \"HBP\": 0, \"SH\": 0, \"SF\": 2, \"IBB\": 5}, {\"Rk\": 536, \"Name\": \"Blake\\u00a0Sabol*\", \"Age\": 25, \"Tm\": \"SFG\", \"Lg\": \"NL\", \"G\": 74, \"PA\": 247, \"AB\": 225, \"R\": 29, \"H\": 57, \"2B\": 8, \"3B\": 0, \"HR\": 11, \"RBI\": 35, \"SB\": 2, \"CS\": 2, \"BB\": 16, \"SO\": 85, \"BA\": 0.253, \"OBP\": 0.309, \"SLG\": 0.436, \"OPS\": 0.744, \"OPS+\": 102, \"TB\": 98, \"GDP\": 4, \"HBP\": 3, \"SH\": 1, \"SF\": 2, \"IBB\": 0}, {\"Rk\": 537, \"Name\": \"C\\u00e9sar\\u00a0Salazar*\", \"Age\": 27, \"Tm\": \"HOU\", \"Lg\": \"AL\", \"G\": 13, \"PA\": 19, \"AB\": 18, \"R\": 1, \"H\": 2, \"2B\": 0, \"3B\": 0, \"HR\": 0, \"RBI\": 0, \"SB\": 0, \"CS\": 0, \"BB\": 1, \"SO\": 6, \"BA\": 0.111, \"OBP\": 0.158, \"SLG\": 0.111, \"OPS\": 0.269, \"OPS+\": -23, \"TB\": 2, \"GDP\": 1, \"HBP\": 0, \"SH\": 0, \"SF\": 0, \"IBB\": 0}, {\"Rk\": 538, \"Name\": \"Gary\\u00a0S\\u00e1nchez\", \"Age\": 30, \"Tm\": \"TOT\", \"Lg\": \"NL\", \"G\": 45, \"PA\": 158, \"AB\": 141, \"R\": 20, \"H\": 27, \"2B\": 4, \"3B\": 0, \"HR\": 9, \"RBI\": 24, \"SB\": 0, \"CS\": 0, \"BB\": 14, \"SO\": 38, \"BA\": 0.191, \"OBP\": 0.266, \"SLG\": 0.411, \"OPS\": 0.677, \"OPS+\": 87, \"TB\": 58, \"GDP\": 2, \"HBP\": 1, \"SH\": 0, \"SF\": 2, \"IBB\": 0}, {\"Rk\": 539, \"Name\": \"Gary\\u00a0S\\u00e1nchez\", \"Age\": 30, \"Tm\": \"NYM\", \"Lg\": \"NL\", \"G\": 3, \"PA\": 7, \"AB\": 6, \"R\": 0, \"H\": 1, \"2B\": 0, \"3B\": 0, \"HR\": 0, \"RBI\": 1, \"SB\": 0, \"CS\": 0, \"BB\": 0, \"SO\": 3, \"BA\": 0.167, \"OBP\": 0.143, \"SLG\": 0.167, \"OPS\": 0.31, \"OPS+\": -14, \"TB\": 1, \"GDP\": 0, \"HBP\": 0, \"SH\": 0, \"SF\": 1, \"IBB\": 0}, {\"Rk\": 540, \"Name\": \"Gary\\u00a0S\\u00e1nchez\", \"Age\": 30, \"Tm\": \"SDP\", \"Lg\": \"NL\", \"G\": 42, \"PA\": 151, \"AB\": 135, \"R\": 20, \"H\": 26, \"2B\": 4, \"3B\": 0, \"HR\": 9, \"RBI\": 23, \"SB\": 0, \"CS\": 0, \"BB\": 14, \"SO\": 35, \"BA\": 0.193, \"OBP\": 0.272, \"SLG\": 0.422, \"OPS\": 0.694, \"OPS+\": 92, \"TB\": 57, \"GDP\": 2, \"HBP\": 1, \"SH\": 0, \"SF\": 1, \"IBB\": 0}, {\"Rk\": 541, \"Name\": \"Jes\\u00fas\\u00a0S\\u00e1nchez*\", \"Age\": 25, \"Tm\": \"MIA\", \"Lg\": \"NL\", \"G\": 69, \"PA\": 225, \"AB\": 207, \"R\": 26, \"H\": 54, \"2B\": 16, \"3B\": 0, \"HR\": 10, \"RBI\": 35, \"SB\": 3, \"CS\": 0, \"BB\": 17, \"SO\": 61, \"BA\": 0.261, \"OBP\": 0.32, \"SLG\": 0.483, \"OPS\": 0.803, \"OPS+\": 117, \"TB\": 100, \"GDP\": 8, \"HBP\": 1, \"SH\": 0, \"SF\": 0, \"IBB\": 0}, {\"Rk\": 542, \"Name\": \"Cole\\u00a0Sands\", \"Age\": 25, \"Tm\": \"MIN\", \"Lg\": \"AL\", \"G\": 1, \"PA\": 0, \"AB\": 0, \"R\": 0, \"H\": 0, \"2B\": 0, \"3B\": 0, \"HR\": 0, \"RBI\": 0, \"SB\": 0, \"CS\": 0, \"BB\": 0, \"SO\": 0, \"BA\": 0.0, \"OBP\": 0.0, \"SLG\": 0.0, \"OPS\": 0.0, \"OPS+\": 0, \"TB\": 0, \"GDP\": 0, \"HBP\": 0, \"SH\": 0, \"SF\": 0, \"IBB\": 0}, {\"Rk\": 543, \"Name\": \"Carlos\\u00a0Santana#\", \"Age\": 37, \"Tm\": \"PIT\", \"Lg\": \"NL\", \"G\": 90, \"PA\": 375, \"AB\": 329, \"R\": 41, \"H\": 75, \"2B\": 23, \"3B\": 0, \"HR\": 9, \"RBI\": 46, \"SB\": 6, \"CS\": 0, \"BB\": 43, \"SO\": 68, \"BA\": 0.228, \"OBP\": 0.315, \"SLG\": 0.38, \"OPS\": 0.695, \"OPS+\": 89, \"TB\": 125, \"GDP\": 3, \"HBP\": 0, \"SH\": 0, \"SF\": 3, \"IBB\": 0}, {\"Rk\": 544, \"Name\": \"Anthony\\u00a0Santander#\", \"Age\": 28, \"Tm\": \"BAL\", \"Lg\": \"AL\", \"G\": 94, \"PA\": 403, \"AB\": 358, \"R\": 51, \"H\": 95, \"2B\": 25, \"3B\": 1, \"HR\": 17, \"RBI\": 54, \"SB\": 3, \"CS\": 1, \"BB\": 38, \"SO\": 91, \"BA\": 0.265, \"OBP\": 0.34, \"SLG\": 0.483, \"OPS\": 0.823, \"OPS+\": 128, \"TB\": 173, \"GDP\": 5, \"HBP\": 4, \"SH\": 0, \"SF\": 3, \"IBB\": 1}, {\"Rk\": 545, \"Name\": \"Tony\\u00a0Santillan\", \"Age\": 26, \"Tm\": \"CIN\", \"Lg\": \"NL\", \"G\": 1, \"PA\": 0, \"AB\": 0, \"R\": 0, \"H\": 0, \"2B\": 0, \"3B\": 0, \"HR\": 0, \"RBI\": 0, \"SB\": 0, \"CS\": 0, \"BB\": 0, \"SO\": 0, \"BA\": 0.0, \"OBP\": 0.0, \"SLG\": 0.0, \"OPS\": 0.0, \"OPS+\": 0, \"TB\": 0, \"GDP\": 0, \"HBP\": 0, \"SH\": 0, \"SF\": 0, \"IBB\": 0}, {\"Rk\": 546, \"Name\": \"Tayler\\u00a0Saucedo*\", \"Age\": 30, \"Tm\": \"SEA\", \"Lg\": \"AL\", \"G\": 2, \"PA\": 0, \"AB\": 0, \"R\": 0, \"H\": 0, \"2B\": 0, \"3B\": 0, \"HR\": 0, \"RBI\": 0, \"SB\": 0, \"CS\": 0, \"BB\": 0, \"SO\": 0, \"BA\": 0.0, \"OBP\": 0.0, \"SLG\": 0.0, \"OPS\": 0.0, \"OPS+\": 0, \"TB\": 0, \"GDP\": 0, \"HBP\": 0, \"SH\": 0, \"SF\": 0, \"IBB\": 0}, {\"Rk\": 547, \"Name\": \"Josh\\u00a0Sborz\", \"Age\": 29, \"Tm\": \"TEX\", \"Lg\": \"AL\", \"G\": 1, \"PA\": 1, \"AB\": 1, \"R\": 0, \"H\": 0, \"2B\": 0, \"3B\": 0, \"HR\": 0, \"RBI\": 0, \"SB\": 0, \"CS\": 0, \"BB\": 0, \"SO\": 1, \"BA\": 0.0, \"OBP\": 0.0, \"SLG\": 0.0, \"OPS\": 0.0, \"OPS+\": -100, \"TB\": 0, \"GDP\": 0, \"HBP\": 0, \"SH\": 0, \"SF\": 0, \"IBB\": 0}, {\"Rk\": 548, \"Name\": \"Casey\\u00a0Schmitt\", \"Age\": 24, \"Tm\": \"SFG\", \"Lg\": \"NL\", \"G\": 59, \"PA\": 194, \"AB\": 181, \"R\": 20, \"H\": 39, \"2B\": 10, \"3B\": 0, \"HR\": 2, \"RBI\": 22, \"SB\": 2, \"CS\": 1, \"BB\": 9, \"SO\": 45, \"BA\": 0.215, \"OBP\": 0.263, \"SLG\": 0.304, \"OPS\": 0.567, \"OPS+\": 56, \"TB\": 55, \"GDP\": 6, \"HBP\": 3, \"SH\": 0, \"SF\": 1, \"IBB\": 0}, {\"Rk\": 549, \"Name\": \"Jonathan\\u00a0Schoop\", \"Age\": 31, \"Tm\": \"DET\", \"Lg\": \"AL\", \"G\": 55, \"PA\": 151, \"AB\": 136, \"R\": 15, \"H\": 29, \"2B\": 8, \"3B\": 0, \"HR\": 0, \"RBI\": 7, \"SB\": 0, \"CS\": 0, \"BB\": 13, \"SO\": 37, \"BA\": 0.213, \"OBP\": 0.278, \"SLG\": 0.272, \"OPS\": 0.55, \"OPS+\": 56, \"TB\": 37, \"GDP\": 6, \"HBP\": 0, \"SH\": 0, \"SF\": 2, \"IBB\": 0}, {\"Rk\": 550, \"Name\": \"John\\u00a0Schreiber\", \"Age\": 29, \"Tm\": \"BOS\", \"Lg\": \"AL\", \"G\": 1, \"PA\": 0, \"AB\": 0, \"R\": 0, \"H\": 0, \"2B\": 0, \"3B\": 0, \"HR\": 0, \"RBI\": 0, \"SB\": 0, \"CS\": 0, \"BB\": 0, \"SO\": 0, \"BA\": 0.0, \"OBP\": 0.0, \"SLG\": 0.0, \"OPS\": 0.0, \"OPS+\": 0, \"TB\": 0, \"GDP\": 0, \"HBP\": 0, \"SH\": 0, \"SF\": 0, \"IBB\": 0}, {\"Rk\": 551, \"Name\": \"Kyle\\u00a0Schwarber*\", \"Age\": 30, \"Tm\": \"PHI\", \"Lg\": \"NL\", \"G\": 98, \"PA\": 436, \"AB\": 368, \"R\": 56, \"H\": 68, \"2B\": 12, \"3B\": 1, \"HR\": 26, \"RBI\": 60, \"SB\": 0, \"CS\": 1, \"BB\": 63, \"SO\": 130, \"BA\": 0.185, \"OBP\": 0.31, \"SLG\": 0.435, \"OPS\": 0.744, \"OPS+\": 102, \"TB\": 160, \"GDP\": 3, \"HBP\": 4, \"SH\": 0, \"SF\": 1, \"IBB\": 3}, {\"Rk\": 552, \"Name\": \"Tayler\\u00a0Scott\", \"Age\": 31, \"Tm\": \"TOT\", \"Lg\": \"MLB\", \"G\": 2, \"PA\": 0, \"AB\": 0, \"R\": 0, \"H\": 0, \"2B\": 0, \"3B\": 0, \"HR\": 0, \"RBI\": 0, \"SB\": 0, \"CS\": 0, \"BB\": 0, \"SO\": 0, \"BA\": 0.0, \"OBP\": 0.0, \"SLG\": 0.0, \"OPS\": 0.0, \"OPS+\": 0, \"TB\": 0, \"GDP\": 0, \"HBP\": 0, \"SH\": 0, \"SF\": 0, \"IBB\": 0}, {\"Rk\": 553, \"Name\": \"Tayler\\u00a0Scott\", \"Age\": 31, \"Tm\": \"TOT\", \"Lg\": \"AL\", \"G\": 1, \"PA\": 0, \"AB\": 0, \"R\": 0, \"H\": 0, \"2B\": 0, \"3B\": 0, \"HR\": 0, \"RBI\": 0, \"SB\": 0, \"CS\": 0, \"BB\": 0, \"SO\": 0, \"BA\": 0.0, \"OBP\": 0.0, \"SLG\": 0.0, \"OPS\": 0.0, \"OPS+\": 0, \"TB\": 0, \"GDP\": 0, \"HBP\": 0, \"SH\": 0, \"SF\": 0, \"IBB\": 0}, {\"Rk\": 554, \"Name\": \"Tayler\\u00a0Scott\", \"Age\": 31, \"Tm\": \"LAD\", \"Lg\": \"NL\", \"G\": 1, \"PA\": 0, \"AB\": 0, \"R\": 0, \"H\": 0, \"2B\": 0, \"3B\": 0, \"HR\": 0, \"RBI\": 0, \"SB\": 0, \"CS\": 0, \"BB\": 0, \"SO\": 0, \"BA\": 0.0, \"OBP\": 0.0, \"SLG\": 0.0, \"OPS\": 0.0, \"OPS+\": 0, \"TB\": 0, \"GDP\": 0, \"HBP\": 0, \"SH\": 0, \"SF\": 0, \"IBB\": 0}, {\"Rk\": 555, \"Name\": \"Tayler\\u00a0Scott\", \"Age\": 31, \"Tm\": \"BOS\", \"Lg\": \"AL\", \"G\": 1, \"PA\": 0, \"AB\": 0, \"R\": 0, \"H\": 0, \"2B\": 0, \"3B\": 0, \"HR\": 0, \"RBI\": 0, \"SB\": 0, \"CS\": 0, \"BB\": 0, \"SO\": 0, \"BA\": 0.0, \"OBP\": 0.0, \"SLG\": 0.0, \"OPS\": 0.0, \"OPS+\": 0, \"TB\": 0, \"GDP\": 0, \"HBP\": 0, \"SH\": 0, \"SF\": 0, \"IBB\": 0}, {\"Rk\": 556, \"Name\": \"Corey\\u00a0Seager*\", \"Age\": 29, \"Tm\": \"TEX\", \"Lg\": \"AL\", \"G\": 66, \"PA\": 298, \"AB\": 263, \"R\": 47, \"H\": 92, \"2B\": 29, \"3B\": 0, \"HR\": 15, \"RBI\": 58, \"SB\": 1, \"CS\": 1, \"BB\": 30, \"SO\": 52, \"BA\": 0.35, \"OBP\": 0.413, \"SLG\": 0.631, \"OPS\": 1.044, \"OPS+\": 182, \"TB\": 166, \"GDP\": 4, \"HBP\": 1, \"SH\": 0, \"SF\": 4, \"IBB\": 2}, {\"Rk\": 557, \"Name\": \"Jean\\u00a0Segura\", \"Age\": 33, \"Tm\": \"MIA\", \"Lg\": \"NL\", \"G\": 79, \"PA\": 303, \"AB\": 278, \"R\": 23, \"H\": 62, \"2B\": 5, \"3B\": 2, \"HR\": 2, \"RBI\": 19, \"SB\": 6, \"CS\": 2, \"BB\": 22, \"SO\": 45, \"BA\": 0.223, \"OBP\": 0.285, \"SLG\": 0.277, \"OPS\": 0.562, \"OPS+\": 56, \"TB\": 77, \"GDP\": 12, \"HBP\": 2, \"SH\": 1, \"SF\": 0, \"IBB\": 1}, {\"Rk\": 558, \"Name\": \"Marcus\\u00a0Semien\", \"Age\": 32, \"Tm\": \"TEX\", \"Lg\": \"AL\", \"G\": 99, \"PA\": 463, \"AB\": 412, \"R\": 78, \"H\": 112, \"2B\": 27, \"3B\": 2, \"HR\": 14, \"RBI\": 60, \"SB\": 9, \"CS\": 1, \"BB\": 44, \"SO\": 62, \"BA\": 0.272, \"OBP\": 0.34, \"SLG\": 0.449, \"OPS\": 0.789, \"OPS+\": 115, \"TB\": 185, \"GDP\": 2, \"HBP\": 1, \"SH\": 0, \"SF\": 5, \"IBB\": 1}, {\"Rk\": 559, \"Name\": \"Nick\\u00a0Senzel\", \"Age\": 28, \"Tm\": \"CIN\", \"Lg\": \"NL\", \"G\": 67, \"PA\": 232, \"AB\": 206, \"R\": 30, \"H\": 48, \"2B\": 8, \"3B\": 0, \"HR\": 7, \"RBI\": 34, \"SB\": 5, \"CS\": 2, \"BB\": 23, \"SO\": 50, \"BA\": 0.233, \"OBP\": 0.31, \"SLG\": 0.374, \"OPS\": 0.684, \"OPS+\": 81, \"TB\": 77, \"GDP\": 5, \"HBP\": 1, \"SH\": 0, \"SF\": 2, \"IBB\": 0}, {\"Rk\": 560, \"Name\": \"Brian\\u00a0Serven\", \"Age\": 28, \"Tm\": \"COL\", \"Lg\": \"NL\", \"G\": 11, \"PA\": 23, \"AB\": 23, \"R\": 0, \"H\": 3, \"2B\": 1, \"3B\": 0, \"HR\": 0, \"RBI\": 1, \"SB\": 0, \"CS\": 0, \"BB\": 0, \"SO\": 10, \"BA\": 0.13, \"OBP\": 0.13, \"SLG\": 0.174, \"OPS\": 0.304, \"OPS+\": -22, \"TB\": 4, \"GDP\": 0, \"HBP\": 0, \"SH\": 0, \"SF\": 0, \"IBB\": 0}, {\"Rk\": 561, \"Name\": \"Paul\\u00a0Sewald\", \"Age\": 33, \"Tm\": \"SEA\", \"Lg\": \"AL\", \"G\": 1, \"PA\": 0, \"AB\": 0, \"R\": 0, \"H\": 0, \"2B\": 0, \"3B\": 0, \"HR\": 0, \"RBI\": 0, \"SB\": 0, \"CS\": 0, \"BB\": 0, \"SO\": 0, \"BA\": 0.0, \"OBP\": 0.0, \"SLG\": 0.0, \"OPS\": 0.0, \"OPS+\": 0, \"TB\": 0, \"GDP\": 0, \"HBP\": 0, \"SH\": 0, \"SF\": 0, \"IBB\": 0}, {\"Rk\": 562, \"Name\": \"Gavin\\u00a0Sheets*\", \"Age\": 27, \"Tm\": \"CHW\", \"Lg\": \"AL\", \"G\": 73, \"PA\": 217, \"AB\": 194, \"R\": 17, \"H\": 42, \"2B\": 4, \"3B\": 0, \"HR\": 8, \"RBI\": 26, \"SB\": 0, \"CS\": 0, \"BB\": 20, \"SO\": 40, \"BA\": 0.216, \"OBP\": 0.29, \"SLG\": 0.361, \"OPS\": 0.651, \"OPS+\": 79, \"TB\": 70, \"GDP\": 3, \"HBP\": 1, \"SH\": 0, \"SF\": 2, \"IBB\": 2}, {\"Rk\": 563, \"Name\": \"Braden\\u00a0Shewmake*\", \"Age\": 25, \"Tm\": \"ATL\", \"Lg\": \"NL\", \"G\": 2, \"PA\": 4, \"AB\": 4, \"R\": 0, \"H\": 0, \"2B\": 0, \"3B\": 0, \"HR\": 0, \"RBI\": 0, \"SB\": 0, \"CS\": 0, \"BB\": 0, \"SO\": 1, \"BA\": 0.0, \"OBP\": 0.0, \"SLG\": 0.0, \"OPS\": 0.0, \"OPS+\": -100, \"TB\": 0, \"GDP\": 0, \"HBP\": 0, \"SH\": 0, \"SF\": 0, \"IBB\": 0}, {\"Rk\": 564, \"Name\": \"Zack\\u00a0Short\", \"Age\": 28, \"Tm\": \"DET\", \"Lg\": \"AL\", \"G\": 62, \"PA\": 150, \"AB\": 135, \"R\": 10, \"H\": 27, \"2B\": 4, \"3B\": 0, \"HR\": 4, \"RBI\": 20, \"SB\": 1, \"CS\": 0, \"BB\": 14, \"SO\": 38, \"BA\": 0.2, \"OBP\": 0.273, \"SLG\": 0.319, \"OPS\": 0.592, \"OPS+\": 65, \"TB\": 43, \"GDP\": 1, \"HBP\": 0, \"SH\": 0, \"SF\": 1, \"IBB\": 0}, {\"Rk\": 565, \"Name\": \"Lucas\\u00a0Sims\", \"Age\": 29, \"Tm\": \"CIN\", \"Lg\": \"NL\", \"G\": 3, \"PA\": 0, \"AB\": 0, \"R\": 0, \"H\": 0, \"2B\": 0, \"3B\": 0, \"HR\": 0, \"RBI\": 0, \"SB\": 0, \"CS\": 0, \"BB\": 0, \"SO\": 0, \"BA\": 0.0, \"OBP\": 0.0, \"SLG\": 0.0, \"OPS\": 0.0, \"OPS+\": 0, \"TB\": 0, \"GDP\": 0, \"HBP\": 0, \"SH\": 0, \"SF\": 0, \"IBB\": 0}, {\"Rk\": 566, \"Name\": \"Jon\\u00a0Singleton*\", \"Age\": 31, \"Tm\": \"MIL\", \"Lg\": \"NL\", \"G\": 11, \"PA\": 32, \"AB\": 29, \"R\": 3, \"H\": 3, \"2B\": 1, \"3B\": 0, \"HR\": 0, \"RBI\": 2, \"SB\": 0, \"CS\": 0, \"BB\": 3, \"SO\": 11, \"BA\": 0.103, \"OBP\": 0.188, \"SLG\": 0.138, \"OPS\": 0.325, \"OPS+\": -8, \"TB\": 4, \"GDP\": 0, \"HBP\": 0, \"SH\": 0, \"SF\": 0, \"IBB\": 0}, {\"Rk\": 567, \"Name\": \"Jose\\u00a0Siri\", \"Age\": 27, \"Tm\": \"TBR\", \"Lg\": \"AL\", \"G\": 63, \"PA\": 236, \"AB\": 218, \"R\": 38, \"H\": 50, \"2B\": 7, \"3B\": 1, \"HR\": 20, \"RBI\": 41, \"SB\": 7, \"CS\": 2, \"BB\": 14, \"SO\": 81, \"BA\": 0.229, \"OBP\": 0.272, \"SLG\": 0.546, \"OPS\": 0.818, \"OPS+\": 122, \"TB\": 119, \"GDP\": 3, \"HBP\": 0, \"SH\": 1, \"SF\": 3, \"IBB\": 0}, {\"Rk\": 568, \"Name\": \"Austin\\u00a0Slater\", \"Age\": 30, \"Tm\": \"SFG\", \"Lg\": \"NL\", \"G\": 40, \"PA\": 103, \"AB\": 92, \"R\": 13, \"H\": 29, \"2B\": 3, \"3B\": 0, \"HR\": 4, \"RBI\": 14, \"SB\": 2, \"CS\": 2, \"BB\": 10, \"SO\": 24, \"BA\": 0.315, \"OBP\": 0.388, \"SLG\": 0.478, \"OPS\": 0.867, \"OPS+\": 137, \"TB\": 44, \"GDP\": 0, \"HBP\": 1, \"SH\": 0, \"SF\": 0, \"IBB\": 0}, {\"Rk\": 569, \"Name\": \"Dominic\\u00a0Smith*\", \"Age\": 28, \"Tm\": \"WSN\", \"Lg\": \"NL\", \"G\": 94, \"PA\": 378, \"AB\": 342, \"R\": 37, \"H\": 92, \"2B\": 12, \"3B\": 1, \"HR\": 5, \"RBI\": 25, \"SB\": 0, \"CS\": 0, \"BB\": 29, \"SO\": 57, \"BA\": 0.269, \"OBP\": 0.336, \"SLG\": 0.354, \"OPS\": 0.69, \"OPS+\": 95, \"TB\": 121, \"GDP\": 10, \"HBP\": 6, \"SH\": 0, \"SF\": 1, \"IBB\": 0}, {\"Rk\": 570, \"Name\": \"Josh\\u00a0H.\\u00a0Smith*\", \"Age\": 25, \"Tm\": \"TEX\", \"Lg\": \"AL\", \"G\": 54, \"PA\": 134, \"AB\": 110, \"R\": 21, \"H\": 23, \"2B\": 4, \"3B\": 0, \"HR\": 3, \"RBI\": 6, \"SB\": 1, \"CS\": 0, \"BB\": 14, \"SO\": 37, \"BA\": 0.209, \"OBP\": 0.341, \"SLG\": 0.327, \"OPS\": 0.668, \"OPS+\": 86, \"TB\": 36, \"GDP\": 2, \"HBP\": 8, \"SH\": 2, \"SF\": 0, \"IBB\": 0}, {\"Rk\": 571, \"Name\": \"Kevin\\u00a0Smith\", \"Age\": 26, \"Tm\": \"OAK\", \"Lg\": \"AL\", \"G\": 34, \"PA\": 102, \"AB\": 94, \"R\": 11, \"H\": 18, \"2B\": 1, \"3B\": 0, \"HR\": 4, \"RBI\": 8, \"SB\": 1, \"CS\": 0, \"BB\": 3, \"SO\": 34, \"BA\": 0.191, \"OBP\": 0.216, \"SLG\": 0.33, \"OPS\": 0.546, \"OPS+\": 54, \"TB\": 31, \"GDP\": 2, \"HBP\": 0, \"SH\": 5, \"SF\": 0, \"IBB\": 0}, {\"Rk\": 572, \"Name\": \"Pavin\\u00a0Smith*\", \"Age\": 27, \"Tm\": \"ARI\", \"Lg\": \"NL\", \"G\": 61, \"PA\": 217, \"AB\": 184, \"R\": 26, \"H\": 35, \"2B\": 5, \"3B\": 0, \"HR\": 7, \"RBI\": 30, \"SB\": 1, \"CS\": 1, \"BB\": 32, \"SO\": 43, \"BA\": 0.19, \"OBP\": 0.31, \"SLG\": 0.332, \"OPS\": 0.642, \"OPS+\": 78, \"TB\": 61, \"GDP\": 2, \"HBP\": 0, \"SH\": 0, \"SF\": 0, \"IBB\": 0}, {\"Rk\": 573, \"Name\": \"Will\\u00a0Smith\", \"Age\": 28, \"Tm\": \"LAD\", \"Lg\": \"NL\", \"G\": 74, \"PA\": 325, \"AB\": 266, \"R\": 51, \"H\": 77, \"2B\": 13, \"3B\": 1, \"HR\": 13, \"RBI\": 52, \"SB\": 1, \"CS\": 0, \"BB\": 47, \"SO\": 44, \"BA\": 0.289, \"OBP\": 0.4, \"SLG\": 0.492, \"OPS\": 0.892, \"OPS+\": 138, \"TB\": 131, \"GDP\": 5, \"HBP\": 6, \"SH\": 0, \"SF\": 6, \"IBB\": 0}, {\"Rk\": 574, \"Name\": \"Canaan\\u00a0Smith-Njigba*\", \"Age\": 24, \"Tm\": \"PIT\", \"Lg\": \"NL\", \"G\": 15, \"PA\": 37, \"AB\": 32, \"R\": 3, \"H\": 4, \"2B\": 1, \"3B\": 1, \"HR\": 0, \"RBI\": 5, \"SB\": 1, \"CS\": 0, \"BB\": 4, \"SO\": 16, \"BA\": 0.125, \"OBP\": 0.216, \"SLG\": 0.219, \"OPS\": 0.435, \"OPS+\": 20, \"TB\": 7, \"GDP\": 1, \"HBP\": 0, \"SH\": 0, \"SF\": 1, \"IBB\": 0}, {\"Rk\": 575, \"Name\": \"Tyler\\u00a0Soderstrom*\", \"Age\": 21, \"Tm\": \"OAK\", \"Lg\": \"AL\", \"G\": 8, \"PA\": 28, \"AB\": 25, \"R\": 0, \"H\": 3, \"2B\": 0, \"3B\": 0, \"HR\": 0, \"RBI\": 0, \"SB\": 0, \"CS\": 0, \"BB\": 3, \"SO\": 10, \"BA\": 0.12, \"OBP\": 0.214, \"SLG\": 0.12, \"OPS\": 0.334, \"OPS+\": 0, \"TB\": 3, \"GDP\": 4, \"HBP\": 0, \"SH\": 0, \"SF\": 0, \"IBB\": 0}, {\"Rk\": 576, \"Name\": \"Nick\\u00a0Solak\", \"Age\": 28, \"Tm\": \"TOT\", \"Lg\": \"MLB\", \"G\": 2, \"PA\": 0, \"AB\": 0, \"R\": 1, \"H\": 0, \"2B\": 0, \"3B\": 0, \"HR\": 0, \"RBI\": 0, \"SB\": 0, \"CS\": 0, \"BB\": 0, \"SO\": 0, \"BA\": 0.0, \"OBP\": 0.0, \"SLG\": 0.0, \"OPS\": 0.0, \"OPS+\": 0, \"TB\": 0, \"GDP\": 0, \"HBP\": 0, \"SH\": 0, \"SF\": 0, \"IBB\": 0}, {\"Rk\": 577, \"Name\": \"Nick\\u00a0Solak\", \"Age\": 28, \"Tm\": \"ATL\", \"Lg\": \"NL\", \"G\": 1, \"PA\": 0, \"AB\": 0, \"R\": 1, \"H\": 0, \"2B\": 0, \"3B\": 0, \"HR\": 0, \"RBI\": 0, \"SB\": 0, \"CS\": 0, \"BB\": 0, \"SO\": 0, \"BA\": 0.0, \"OBP\": 0.0, \"SLG\": 0.0, \"OPS\": 0.0, \"OPS+\": 0, \"TB\": 0, \"GDP\": 0, \"HBP\": 0, \"SH\": 0, \"SF\": 0, \"IBB\": 0}, {\"Rk\": 578, \"Name\": \"Nick\\u00a0Solak\", \"Age\": 28, \"Tm\": \"DET\", \"Lg\": \"AL\", \"G\": 1, \"PA\": 0, \"AB\": 0, \"R\": 0, \"H\": 0, \"2B\": 0, \"3B\": 0, \"HR\": 0, \"RBI\": 0, \"SB\": 0, \"CS\": 0, \"BB\": 0, \"SO\": 0, \"BA\": 0.0, \"OBP\": 0.0, \"SLG\": 0.0, \"OPS\": 0.0, \"OPS+\": 0, \"TB\": 0, \"GDP\": 0, \"HBP\": 0, \"SH\": 0, \"SF\": 0, \"IBB\": 0}, {\"Rk\": 579, \"Name\": \"Donovan\\u00a0Solano\", \"Age\": 35, \"Tm\": \"MIN\", \"Lg\": \"AL\", \"G\": 87, \"PA\": 279, \"AB\": 239, \"R\": 25, \"H\": 65, \"2B\": 20, \"3B\": 0, \"HR\": 4, \"RBI\": 22, \"SB\": 0, \"CS\": 0, \"BB\": 33, \"SO\": 61, \"BA\": 0.272, \"OBP\": 0.376, \"SLG\": 0.406, \"OPS\": 0.782, \"OPS+\": 118, \"TB\": 97, \"GDP\": 5, \"HBP\": 7, \"SH\": 0, \"SF\": 0, \"IBB\": 1}, {\"Rk\": 580, \"Name\": \"Jorge\\u00a0Soler\", \"Age\": 31, \"Tm\": \"MIA\", \"Lg\": \"NL\", \"G\": 96, \"PA\": 405, \"AB\": 351, \"R\": 54, \"H\": 86, \"2B\": 19, \"3B\": 0, \"HR\": 24, \"RBI\": 54, \"SB\": 1, \"CS\": 0, \"BB\": 46, \"SO\": 97, \"BA\": 0.245, \"OBP\": 0.338, \"SLG\": 0.504, \"OPS\": 0.843, \"OPS+\": 128, \"TB\": 177, \"GDP\": 13, \"HBP\": 5, \"SH\": 0, \"SF\": 3, \"IBB\": 2}, {\"Rk\": 581, \"Name\": \"Edmundo\\u00a0Sosa\", \"Age\": 27, \"Tm\": \"PHI\", \"Lg\": \"NL\", \"G\": 69, \"PA\": 198, \"AB\": 188, \"R\": 22, \"H\": 47, \"2B\": 10, \"3B\": 1, \"HR\": 6, \"RBI\": 20, \"SB\": 2, \"CS\": 2, \"BB\": 4, \"SO\": 45, \"BA\": 0.25, \"OBP\": 0.276, \"SLG\": 0.41, \"OPS\": 0.685, \"OPS+\": 86, \"TB\": 77, \"GDP\": 6, \"HBP\": 3, \"SH\": 1, \"SF\": 1, \"IBB\": 0}, {\"Rk\": 582, \"Name\": \"Lenyn\\u00a0Sosa\", \"Age\": 23, \"Tm\": \"CHW\", \"Lg\": \"AL\", \"G\": 22, \"PA\": 70, \"AB\": 68, \"R\": 4, \"H\": 9, \"2B\": 3, \"3B\": 0, \"HR\": 1, \"RBI\": 3, \"SB\": 0, \"CS\": 0, \"BB\": 1, \"SO\": 16, \"BA\": 0.132, \"OBP\": 0.145, \"SLG\": 0.221, \"OPS\": 0.366, \"OPS+\": -1, \"TB\": 15, \"GDP\": 0, \"HBP\": 0, \"SH\": 1, \"SF\": 0, \"IBB\": 0}, {\"Rk\": 583, \"Name\": \"Juan\\u00a0Soto*\", \"Age\": 24, \"Tm\": \"SDP\", \"Lg\": \"NL\", \"G\": 99, \"PA\": 438, \"AB\": 340, \"R\": 58, \"H\": 91, \"2B\": 24, \"3B\": 0, \"HR\": 19, \"RBI\": 60, \"SB\": 6, \"CS\": 3, \"BB\": 93, \"SO\": 87, \"BA\": 0.268, \"OBP\": 0.422, \"SLG\": 0.506, \"OPS\": 0.928, \"OPS+\": 161, \"TB\": 172, \"GDP\": 7, \"HBP\": 1, \"SH\": 0, \"SF\": 4, \"IBB\": 8}, {\"Rk\": 584, \"Name\": \"Livan\\u00a0Soto*\", \"Age\": 23, \"Tm\": \"LAA\", \"Lg\": \"AL\", \"G\": 4, \"PA\": 12, \"AB\": 9, \"R\": 2, \"H\": 2, \"2B\": 0, \"3B\": 0, \"HR\": 0, \"RBI\": 0, \"SB\": 0, \"CS\": 0, \"BB\": 3, \"SO\": 2, \"BA\": 0.222, \"OBP\": 0.417, \"SLG\": 0.222, \"OPS\": 0.639, \"OPS+\": 84, \"TB\": 2, \"GDP\": 0, \"HBP\": 0, \"SH\": 0, \"SF\": 0, \"IBB\": 0}, {\"Rk\": 585, \"Name\": \"George\\u00a0Springer\", \"Age\": 33, \"Tm\": \"TOR\", \"Lg\": \"AL\", \"G\": 95, \"PA\": 418, \"AB\": 379, \"R\": 54, \"H\": 101, \"2B\": 14, \"3B\": 1, \"HR\": 13, \"RBI\": 41, \"SB\": 13, \"CS\": 4, \"BB\": 34, \"SO\": 71, \"BA\": 0.266, \"OBP\": 0.333, \"SLG\": 0.412, \"OPS\": 0.744, \"OPS+\": 108, \"TB\": 156, \"GDP\": 13, \"HBP\": 4, \"SH\": 0, \"SF\": 1, \"IBB\": 0}, {\"Rk\": 586, \"Name\": \"Jacob\\u00a0Stallings\", \"Age\": 33, \"Tm\": \"MIA\", \"Lg\": \"NL\", \"G\": 49, \"PA\": 159, \"AB\": 137, \"R\": 13, \"H\": 27, \"2B\": 6, \"3B\": 0, \"HR\": 1, \"RBI\": 10, \"SB\": 0, \"CS\": 0, \"BB\": 15, \"SO\": 40, \"BA\": 0.197, \"OBP\": 0.287, \"SLG\": 0.263, \"OPS\": 0.549, \"OPS+\": 53, \"TB\": 36, \"GDP\": 3, \"HBP\": 3, \"SH\": 2, \"SF\": 2, \"IBB\": 0}, {\"Rk\": 587, \"Name\": \"Ryne\\u00a0Stanek\", \"Age\": 31, \"Tm\": \"HOU\", \"Lg\": \"AL\", \"G\": 1, \"PA\": 0, \"AB\": 0, \"R\": 0, \"H\": 0, \"2B\": 0, \"3B\": 0, \"HR\": 0, \"RBI\": 0, \"SB\": 0, \"CS\": 0, \"BB\": 0, \"SO\": 0, \"BA\": 0.0, \"OBP\": 0.0, \"SLG\": 0.0, \"OPS\": 0.0, \"OPS+\": 0, \"TB\": 0, \"GDP\": 0, \"HBP\": 0, \"SH\": 0, \"SF\": 0, \"IBB\": 0}, {\"Rk\": 588, \"Name\": \"Giancarlo\\u00a0Stanton\", \"Age\": 33, \"Tm\": \"NYY\", \"Lg\": \"AL\", \"G\": 49, \"PA\": 199, \"AB\": 180, \"R\": 22, \"H\": 36, \"2B\": 7, \"3B\": 0, \"HR\": 13, \"RBI\": 33, \"SB\": 0, \"CS\": 0, \"BB\": 17, \"SO\": 47, \"BA\": 0.2, \"OBP\": 0.276, \"SLG\": 0.456, \"OPS\": 0.732, \"OPS+\": 99, \"TB\": 82, \"GDP\": 4, \"HBP\": 2, \"SH\": 0, \"SF\": 0, \"IBB\": 3}, {\"Rk\": 589, \"Name\": \"Spencer\\u00a0Steer\", \"Age\": 25, \"Tm\": \"CIN\", \"Lg\": \"NL\", \"G\": 96, \"PA\": 407, \"AB\": 354, \"R\": 46, \"H\": 97, \"2B\": 20, \"3B\": 2, \"HR\": 14, \"RBI\": 54, \"SB\": 9, \"CS\": 2, \"BB\": 44, \"SO\": 78, \"BA\": 0.274, \"OBP\": 0.361, \"SLG\": 0.46, \"OPS\": 0.822, \"OPS+\": 116, \"TB\": 163, \"GDP\": 5, \"HBP\": 6, \"SH\": 0, \"SF\": 3, \"IBB\": 0}, {\"Rk\": 590, \"Name\": \"Michael\\u00a0Stefanic\", \"Age\": 27, \"Tm\": \"LAA\", \"Lg\": \"AL\", \"G\": 7, \"PA\": 17, \"AB\": 15, \"R\": 2, \"H\": 4, \"2B\": 1, \"3B\": 0, \"HR\": 0, \"RBI\": 3, \"SB\": 0, \"CS\": 0, \"BB\": 2, \"SO\": 1, \"BA\": 0.267, \"OBP\": 0.353, \"SLG\": 0.333, \"OPS\": 0.686, \"OPS+\": 90, \"TB\": 5, \"GDP\": 0, \"HBP\": 0, \"SH\": 0, \"SF\": 0, \"IBB\": 0}, {\"Rk\": 591, \"Name\": \"Tyler\\u00a0Stephenson\", \"Age\": 26, \"Tm\": \"CIN\", \"Lg\": \"NL\", \"G\": 93, \"PA\": 365, \"AB\": 323, \"R\": 44, \"H\": 80, \"2B\": 14, \"3B\": 1, \"HR\": 7, \"RBI\": 37, \"SB\": 0, \"CS\": 1, \"BB\": 37, \"SO\": 97, \"BA\": 0.248, \"OBP\": 0.332, \"SLG\": 0.362, \"OPS\": 0.694, \"OPS+\": 85, \"TB\": 117, \"GDP\": 9, \"HBP\": 4, \"SH\": 0, \"SF\": 1, \"IBB\": 1}, {\"Rk\": 592, \"Name\": \"Cal\\u00a0Stevenson*\", \"Age\": 26, \"Tm\": \"SFG\", \"Lg\": \"NL\", \"G\": 6, \"PA\": 12, \"AB\": 9, \"R\": 1, \"H\": 0, \"2B\": 0, \"3B\": 0, \"HR\": 0, \"RBI\": 0, \"SB\": 0, \"CS\": 0, \"BB\": 3, \"SO\": 2, \"BA\": 0.0, \"OBP\": 0.25, \"SLG\": 0.0, \"OPS\": 0.25, \"OPS+\": -22, \"TB\": 0, \"GDP\": 0, \"HBP\": 0, \"SH\": 0, \"SF\": 0, \"IBB\": 0}, {\"Rk\": 593, \"Name\": \"DJ\\u00a0Stewart*\", \"Age\": 29, \"Tm\": \"NYM\", \"Lg\": \"NL\", \"G\": 9, \"PA\": 17, \"AB\": 13, \"R\": 2, \"H\": 3, \"2B\": 0, \"3B\": 0, \"HR\": 1, \"RBI\": 2, \"SB\": 1, \"CS\": 0, \"BB\": 3, \"SO\": 4, \"BA\": 0.231, \"OBP\": 0.353, \"SLG\": 0.462, \"OPS\": 0.814, \"OPS+\": 125, \"TB\": 6, \"GDP\": 0, \"HBP\": 0, \"SH\": 0, \"SF\": 1, \"IBB\": 0}, {\"Rk\": 594, \"Name\": \"Bryson\\u00a0Stott*\", \"Age\": 25, \"Tm\": \"PHI\", \"Lg\": \"NL\", \"G\": 92, \"PA\": 392, \"AB\": 364, \"R\": 47, \"H\": 111, \"2B\": 17, \"3B\": 2, \"HR\": 9, \"RBI\": 36, \"SB\": 16, \"CS\": 2, \"BB\": 20, \"SO\": 61, \"BA\": 0.305, \"OBP\": 0.342, \"SLG\": 0.437, \"OPS\": 0.779, \"OPS+\": 113, \"TB\": 159, \"GDP\": 8, \"HBP\": 3, \"SH\": 0, \"SF\": 5, \"IBB\": 0}, {\"Rk\": 595, \"Name\": \"Kyle\\u00a0Stowers*\", \"Age\": 25, \"Tm\": \"BAL\", \"Lg\": \"AL\", \"G\": 14, \"PA\": 33, \"AB\": 30, \"R\": 1, \"H\": 2, \"2B\": 0, \"3B\": 0, \"HR\": 0, \"RBI\": 0, \"SB\": 0, \"CS\": 0, \"BB\": 3, \"SO\": 12, \"BA\": 0.067, \"OBP\": 0.152, \"SLG\": 0.067, \"OPS\": 0.218, \"OPS+\": -35, \"TB\": 2, \"GDP\": 1, \"HBP\": 0, \"SH\": 0, \"SF\": 0, \"IBB\": 0}, {\"Rk\": 596, \"Name\": \"Myles\\u00a0Straw\", \"Age\": 28, \"Tm\": \"CLE\", \"Lg\": \"AL\", \"G\": 96, \"PA\": 360, \"AB\": 322, \"R\": 39, \"H\": 78, \"2B\": 15, \"3B\": 3, \"HR\": 0, \"RBI\": 17, \"SB\": 12, \"CS\": 3, \"BB\": 32, \"SO\": 75, \"BA\": 0.242, \"OBP\": 0.311, \"SLG\": 0.307, \"OPS\": 0.618, \"OPS+\": 75, \"TB\": 99, \"GDP\": 9, \"HBP\": 1, \"SH\": 3, \"SF\": 2, \"IBB\": 0}, {\"Rk\": 597, \"Name\": \"Garrett\\u00a0Stubbs*\", \"Age\": 30, \"Tm\": \"PHI\", \"Lg\": \"NL\", \"G\": 22, \"PA\": 60, \"AB\": 53, \"R\": 6, \"H\": 12, \"2B\": 1, \"3B\": 1, \"HR\": 0, \"RBI\": 4, \"SB\": 0, \"CS\": 0, \"BB\": 4, \"SO\": 17, \"BA\": 0.226, \"OBP\": 0.305, \"SLG\": 0.283, \"OPS\": 0.588, \"OPS+\": 64, \"TB\": 15, \"GDP\": 0, \"HBP\": 2, \"SH\": 1, \"SF\": 0, \"IBB\": 0}, {\"Rk\": 598, \"Name\": \"Eugenio\\u00a0Su\\u00e1rez\", \"Age\": 31, \"Tm\": \"SEA\", \"Lg\": \"AL\", \"G\": 98, \"PA\": 414, \"AB\": 352, \"R\": 41, \"H\": 80, \"2B\": 16, \"3B\": 0, \"HR\": 14, \"RBI\": 58, \"SB\": 1, \"CS\": 1, \"BB\": 43, \"SO\": 119, \"BA\": 0.227, \"OBP\": 0.324, \"SLG\": 0.392, \"OPS\": 0.716, \"OPS+\": 102, \"TB\": 138, \"GDP\": 6, \"HBP\": 11, \"SH\": 0, \"SF\": 8, \"IBB\": 0}, {\"Rk\": 599, \"Name\": \"Brett\\u00a0Sullivan*\", \"Age\": 29, \"Tm\": \"SDP\", \"Lg\": \"NL\", \"G\": 21, \"PA\": 49, \"AB\": 47, \"R\": 4, \"H\": 8, \"2B\": 3, \"3B\": 0, \"HR\": 1, \"RBI\": 5, \"SB\": 0, \"CS\": 0, \"BB\": 1, \"SO\": 13, \"BA\": 0.17, \"OBP\": 0.184, \"SLG\": 0.298, \"OPS\": 0.482, \"OPS+\": 33, \"TB\": 14, \"GDP\": 0, \"HBP\": 0, \"SH\": 0, \"SF\": 1, \"IBB\": 0}, {\"Rk\": 600, \"Name\": \"Brent\\u00a0Suter*\", \"Age\": 33, \"Tm\": \"COL\", \"Lg\": \"NL\", \"G\": 1, \"PA\": 0, \"AB\": 0, \"R\": 0, \"H\": 0, \"2B\": 0, \"3B\": 0, \"HR\": 0, \"RBI\": 0, \"SB\": 0, \"CS\": 0, \"BB\": 0, \"SO\": 0, \"BA\": 0.0, \"OBP\": 0.0, \"SLG\": 0.0, \"OPS\": 0.0, \"OPS+\": 0, \"TB\": 0, \"GDP\": 0, \"HBP\": 0, \"SH\": 0, \"SF\": 0, \"IBB\": 0}, {\"Rk\": 601, \"Name\": \"Jack\\u00a0Suwinski*\", \"Age\": 24, \"Tm\": \"PIT\", \"Lg\": \"NL\", \"G\": 86, \"PA\": 317, \"AB\": 262, \"R\": 41, \"H\": 59, \"2B\": 12, \"3B\": 0, \"HR\": 20, \"RBI\": 51, \"SB\": 7, \"CS\": 1, \"BB\": 47, \"SO\": 104, \"BA\": 0.225, \"OBP\": 0.347, \"SLG\": 0.5, \"OPS\": 0.847, \"OPS+\": 128, \"TB\": 131, \"GDP\": 1, \"HBP\": 4, \"SH\": 0, \"SF\": 4, \"IBB\": 0}, {\"Rk\": 602, \"Name\": \"Seiya\\u00a0Suzuki\", \"Age\": 28, \"Tm\": \"CHC\", \"Lg\": \"NL\", \"G\": 80, \"PA\": 340, \"AB\": 299, \"R\": 34, \"H\": 79, \"2B\": 14, \"3B\": 2, \"HR\": 8, \"RBI\": 33, \"SB\": 3, \"CS\": 5, \"BB\": 35, \"SO\": 87, \"BA\": 0.264, \"OBP\": 0.341, \"SLG\": 0.405, \"OPS\": 0.746, \"OPS+\": 101, \"TB\": 121, \"GDP\": 6, \"HBP\": 2, \"SH\": 0, \"SF\": 4, \"IBB\": 1}, {\"Rk\": 603, \"Name\": \"Dansby\\u00a0Swanson\", \"Age\": 29, \"Tm\": \"CHC\", \"Lg\": \"NL\", \"G\": 84, \"PA\": 372, \"AB\": 329, \"R\": 42, \"H\": 86, \"2B\": 16, \"3B\": 2, \"HR\": 10, \"RBI\": 37, \"SB\": 4, \"CS\": 1, \"BB\": 40, \"SO\": 85, \"BA\": 0.261, \"OBP\": 0.347, \"SLG\": 0.413, \"OPS\": 0.76, \"OPS+\": 105, \"TB\": 136, \"GDP\": 5, \"HBP\": 3, \"SH\": 0, \"SF\": 0, \"IBB\": 0}, {\"Rk\": 604, \"Name\": \"Domingo\\u00a0Tapia\", \"Age\": 31, \"Tm\": \"SDP\", \"Lg\": \"NL\", \"G\": 1, \"PA\": 0, \"AB\": 0, \"R\": 0, \"H\": 0, \"2B\": 0, \"3B\": 0, \"HR\": 0, \"RBI\": 0, \"SB\": 0, \"CS\": 0, \"BB\": 0, \"SO\": 0, \"BA\": 0.0, \"OBP\": 0.0, \"SLG\": 0.0, \"OPS\": 0.0, \"OPS+\": 0, \"TB\": 0, \"GDP\": 0, \"HBP\": 0, \"SH\": 0, \"SF\": 0, \"IBB\": 0}, {\"Rk\": 605, \"Name\": \"Raimel\\u00a0Tapia*\", \"Age\": 29, \"Tm\": \"TOT\", \"Lg\": \"MLB\", \"G\": 59, \"PA\": 158, \"AB\": 139, \"R\": 24, \"H\": 32, \"2B\": 4, \"3B\": 1, \"HR\": 3, \"RBI\": 13, \"SB\": 8, \"CS\": 2, \"BB\": 15, \"SO\": 39, \"BA\": 0.23, \"OBP\": 0.308, \"SLG\": 0.338, \"OPS\": 0.646, \"OPS+\": 75, \"TB\": 47, \"GDP\": 2, \"HBP\": 1, \"SH\": 1, \"SF\": 1, \"IBB\": 0}, {\"Rk\": 606, \"Name\": \"Raimel\\u00a0Tapia*\", \"Age\": 29, \"Tm\": \"BOS\", \"Lg\": \"AL\", \"G\": 39, \"PA\": 97, \"AB\": 87, \"R\": 14, \"H\": 23, \"2B\": 4, \"3B\": 1, \"HR\": 1, \"RBI\": 10, \"SB\": 6, \"CS\": 1, \"BB\": 9, \"SO\": 19, \"BA\": 0.264, \"OBP\": 0.333, \"SLG\": 0.368, \"OPS\": 0.701, \"OPS+\": 89, \"TB\": 32, \"GDP\": 1, \"HBP\": 0, \"SH\": 0, \"SF\": 0, \"IBB\": 0}, {\"Rk\": 607, \"Name\": \"Raimel\\u00a0Tapia*\", \"Age\": 29, \"Tm\": \"MIL\", \"Lg\": \"NL\", \"G\": 20, \"PA\": 61, \"AB\": 52, \"R\": 10, \"H\": 9, \"2B\": 0, \"3B\": 0, \"HR\": 2, \"RBI\": 3, \"SB\": 2, \"CS\": 1, \"BB\": 6, \"SO\": 20, \"BA\": 0.173, \"OBP\": 0.267, \"SLG\": 0.288, \"OPS\": 0.555, \"OPS+\": 53, \"TB\": 15, \"GDP\": 1, \"HBP\": 1, \"SH\": 1, \"SF\": 1, \"IBB\": 0}, {\"Rk\": 608, \"Name\": \"Fernando\\u00a0Tatis\\u00a0Jr.\", \"Age\": 24, \"Tm\": \"SDP\", \"Lg\": \"NL\", \"G\": 79, \"PA\": 365, \"AB\": 331, \"R\": 57, \"H\": 95, \"2B\": 23, \"3B\": 1, \"HR\": 17, \"RBI\": 50, \"SB\": 15, \"CS\": 3, \"BB\": 28, \"SO\": 71, \"BA\": 0.287, \"OBP\": 0.346, \"SLG\": 0.517, \"OPS\": 0.863, \"OPS+\": 139, \"TB\": 171, \"GDP\": 9, \"HBP\": 3, \"SH\": 1, \"SF\": 2, \"IBB\": 0}, {\"Rk\": 609, \"Name\": \"Mike\\u00a0Tauchman*\", \"Age\": 32, \"Tm\": \"CHC\", \"Lg\": \"NL\", \"G\": 50, \"PA\": 194, \"AB\": 163, \"R\": 32, \"H\": 42, \"2B\": 9, \"3B\": 0, \"HR\": 4, \"RBI\": 30, \"SB\": 3, \"CS\": 1, \"BB\": 26, \"SO\": 40, \"BA\": 0.258, \"OBP\": 0.363, \"SLG\": 0.387, \"OPS\": 0.749, \"OPS+\": 104, \"TB\": 63, \"GDP\": 0, \"HBP\": 2, \"SH\": 1, \"SF\": 2, \"IBB\": 0}, {\"Rk\": 610, \"Name\": \"Leody\\u00a0Taveras#\", \"Age\": 24, \"Tm\": \"TEX\", \"Lg\": \"AL\", \"G\": 84, \"PA\": 326, \"AB\": 303, \"R\": 45, \"H\": 86, \"2B\": 16, \"3B\": 2, \"HR\": 11, \"RBI\": 43, \"SB\": 10, \"CS\": 3, \"BB\": 20, \"SO\": 66, \"BA\": 0.284, \"OBP\": 0.329, \"SLG\": 0.459, \"OPS\": 0.788, \"OPS+\": 114, \"TB\": 139, \"GDP\": 2, \"HBP\": 1, \"SH\": 1, \"SF\": 1, \"IBB\": 0}, {\"Rk\": 611, \"Name\": \"Chris\\u00a0Taylor\", \"Age\": 32, \"Tm\": \"LAD\", \"Lg\": \"NL\", \"G\": 65, \"PA\": 201, \"AB\": 183, \"R\": 29, \"H\": 38, \"2B\": 7, \"3B\": 1, \"HR\": 12, \"RBI\": 31, \"SB\": 7, \"CS\": 0, \"BB\": 15, \"SO\": 68, \"BA\": 0.208, \"OBP\": 0.274, \"SLG\": 0.454, \"OPS\": 0.727, \"OPS+\": 91, \"TB\": 83, \"GDP\": 2, \"HBP\": 2, \"SH\": 0, \"SF\": 1, \"IBB\": 1}, {\"Rk\": 612, \"Name\": \"Michael\\u00a0A.\\u00a0Taylor\", \"Age\": 32, \"Tm\": \"MIN\", \"Lg\": \"AL\", \"G\": 90, \"PA\": 264, \"AB\": 244, \"R\": 30, \"H\": 54, \"2B\": 13, \"3B\": 0, \"HR\": 11, \"RBI\": 29, \"SB\": 11, \"CS\": 1, \"BB\": 14, \"SO\": 90, \"BA\": 0.221, \"OBP\": 0.271, \"SLG\": 0.41, \"OPS\": 0.681, \"OPS+\": 86, \"TB\": 100, \"GDP\": 6, \"HBP\": 3, \"SH\": 2, \"SF\": 1, \"IBB\": 0}, {\"Rk\": 613, \"Name\": \"Samad\\u00a0Taylor\", \"Age\": 24, \"Tm\": \"KCR\", \"Lg\": \"AL\", \"G\": 13, \"PA\": 41, \"AB\": 33, \"R\": 3, \"H\": 5, \"2B\": 0, \"3B\": 0, \"HR\": 0, \"RBI\": 3, \"SB\": 2, \"CS\": 0, \"BB\": 6, \"SO\": 11, \"BA\": 0.152, \"OBP\": 0.275, \"SLG\": 0.152, \"OPS\": 0.427, \"OPS+\": 24, \"TB\": 5, \"GDP\": 1, \"HBP\": 0, \"SH\": 1, \"SF\": 1, \"IBB\": 0}, {\"Rk\": 614, \"Name\": \"Tyrone\\u00a0Taylor\", \"Age\": 29, \"Tm\": \"MIL\", \"Lg\": \"NL\", \"G\": 31, \"PA\": 88, \"AB\": 85, \"R\": 6, \"H\": 13, \"2B\": 3, \"3B\": 0, \"HR\": 1, \"RBI\": 4, \"SB\": 5, \"CS\": 0, \"BB\": 2, \"SO\": 22, \"BA\": 0.153, \"OBP\": 0.17, \"SLG\": 0.224, \"OPS\": 0.394, \"OPS+\": 7, \"TB\": 19, \"GDP\": 5, \"HBP\": 0, \"SH\": 0, \"SF\": 1, \"IBB\": 0}, {\"Rk\": 615, \"Name\": \"Rowdy\\u00a0Tellez*\", \"Age\": 28, \"Tm\": \"MIL\", \"Lg\": \"NL\", \"G\": 79, \"PA\": 288, \"AB\": 258, \"R\": 23, \"H\": 55, \"2B\": 7, \"3B\": 1, \"HR\": 12, \"RBI\": 36, \"SB\": 0, \"CS\": 0, \"BB\": 27, \"SO\": 69, \"BA\": 0.213, \"OBP\": 0.285, \"SLG\": 0.388, \"OPS\": 0.672, \"OPS+\": 82, \"TB\": 100, \"GDP\": 9, \"HBP\": 0, \"SH\": 0, \"SF\": 3, \"IBB\": 2}, {\"Rk\": 616, \"Name\": \"Matt\\u00a0Thaiss*\", \"Age\": 28, \"Tm\": \"LAA\", \"Lg\": \"AL\", \"G\": 70, \"PA\": 227, \"AB\": 191, \"R\": 27, \"H\": 46, \"2B\": 6, \"3B\": 0, \"HR\": 6, \"RBI\": 23, \"SB\": 2, \"CS\": 0, \"BB\": 31, \"SO\": 58, \"BA\": 0.241, \"OBP\": 0.357, \"SLG\": 0.366, \"OPS\": 0.723, \"OPS+\": 100, \"TB\": 70, \"GDP\": 4, \"HBP\": 4, \"SH\": 0, \"SF\": 1, \"IBB\": 1}, {\"Rk\": 617, \"Name\": \"Alek\\u00a0Thomas*\", \"Age\": 23, \"Tm\": \"ARI\", \"Lg\": \"NL\", \"G\": 65, \"PA\": 207, \"AB\": 196, \"R\": 29, \"H\": 46, \"2B\": 12, \"3B\": 2, \"HR\": 6, \"RBI\": 17, \"SB\": 5, \"CS\": 1, \"BB\": 9, \"SO\": 47, \"BA\": 0.235, \"OBP\": 0.271, \"SLG\": 0.408, \"OPS\": 0.679, \"OPS+\": 84, \"TB\": 80, \"GDP\": 4, \"HBP\": 1, \"SH\": 0, \"SF\": 1, \"IBB\": 0}, {\"Rk\": 618, \"Name\": \"Cody\\u00a0Thomas*\", \"Age\": 28, \"Tm\": \"OAK\", \"Lg\": \"AL\", \"G\": 10, \"PA\": 25, \"AB\": 22, \"R\": 1, \"H\": 7, \"2B\": 2, \"3B\": 0, \"HR\": 1, \"RBI\": 2, \"SB\": 0, \"CS\": 0, \"BB\": 3, \"SO\": 8, \"BA\": 0.318, \"OBP\": 0.4, \"SLG\": 0.545, \"OPS\": 0.945, \"OPS+\": 169, \"TB\": 12, \"GDP\": 0, \"HBP\": 0, \"SH\": 0, \"SF\": 0, \"IBB\": 0}, {\"Rk\": 619, \"Name\": \"Lane\\u00a0Thomas\", \"Age\": 27, \"Tm\": \"WSN\", \"Lg\": \"NL\", \"G\": 96, \"PA\": 421, \"AB\": 389, \"R\": 65, \"H\": 113, \"2B\": 25, \"3B\": 2, \"HR\": 16, \"RBI\": 53, \"SB\": 8, \"CS\": 2, \"BB\": 24, \"SO\": 109, \"BA\": 0.29, \"OBP\": 0.337, \"SLG\": 0.488, \"OPS\": 0.826, \"OPS+\": 129, \"TB\": 190, \"GDP\": 3, \"HBP\": 5, \"SH\": 0, \"SF\": 3, \"IBB\": 0}, {\"Rk\": 620, \"Name\": \"Bubba\\u00a0Thompson\", \"Age\": 25, \"Tm\": \"TEX\", \"Lg\": \"AL\", \"G\": 36, \"PA\": 60, \"AB\": 53, \"R\": 10, \"H\": 9, \"2B\": 4, \"3B\": 1, \"HR\": 0, \"RBI\": 4, \"SB\": 4, \"CS\": 2, \"BB\": 4, \"SO\": 16, \"BA\": 0.17, \"OBP\": 0.237, \"SLG\": 0.283, \"OPS\": 0.52, \"OPS+\": 43, \"TB\": 15, \"GDP\": 0, \"HBP\": 1, \"SH\": 1, \"SF\": 1, \"IBB\": 0}, {\"Rk\": 621, \"Name\": \"Trayce\\u00a0Thompson\", \"Age\": 32, \"Tm\": \"LAD\", \"Lg\": \"NL\", \"G\": 36, \"PA\": 87, \"AB\": 71, \"R\": 12, \"H\": 11, \"2B\": 0, \"3B\": 0, \"HR\": 5, \"RBI\": 14, \"SB\": 0, \"CS\": 0, \"BB\": 15, \"SO\": 37, \"BA\": 0.155, \"OBP\": 0.31, \"SLG\": 0.366, \"OPS\": 0.677, \"OPS+\": 81, \"TB\": 26, \"GDP\": 0, \"HBP\": 1, \"SH\": 0, \"SF\": 0, \"IBB\": 0}, {\"Rk\": 622, \"Name\": \"Michael\\u00a0Toglia#\", \"Age\": 24, \"Tm\": \"COL\", \"Lg\": \"NL\", \"G\": 14, \"PA\": 39, \"AB\": 35, \"R\": 6, \"H\": 6, \"2B\": 1, \"3B\": 0, \"HR\": 1, \"RBI\": 1, \"SB\": 0, \"CS\": 1, \"BB\": 4, \"SO\": 12, \"BA\": 0.171, \"OBP\": 0.256, \"SLG\": 0.286, \"OPS\": 0.542, \"OPS+\": 41, \"TB\": 10, \"GDP\": 1, \"HBP\": 0, \"SH\": 0, \"SF\": 0, \"IBB\": 0}, {\"Rk\": 623, \"Name\": \"Justin\\u00a0Topa\", \"Age\": 32, \"Tm\": \"SEA\", \"Lg\": \"AL\", \"G\": 1, \"PA\": 0, \"AB\": 0, \"R\": 0, \"H\": 0, \"2B\": 0, \"3B\": 0, \"HR\": 0, \"RBI\": 0, \"SB\": 0, \"CS\": 0, \"BB\": 0, \"SO\": 0, \"BA\": 0.0, \"OBP\": 0.0, \"SLG\": 0.0, \"OPS\": 0.0, \"OPS+\": 0, \"TB\": 0, \"GDP\": 0, \"HBP\": 0, \"SH\": 0, \"SF\": 0, \"IBB\": 0}, {\"Rk\": 624, \"Name\": \"Spencer\\u00a0Torkelson\", \"Age\": 23, \"Tm\": \"DET\", \"Lg\": \"AL\", \"G\": 96, \"PA\": 413, \"AB\": 367, \"R\": 48, \"H\": 83, \"2B\": 21, \"3B\": 1, \"HR\": 14, \"RBI\": 52, \"SB\": 2, \"CS\": 0, \"BB\": 39, \"SO\": 100, \"BA\": 0.226, \"OBP\": 0.303, \"SLG\": 0.403, \"OPS\": 0.706, \"OPS+\": 96, \"TB\": 148, \"GDP\": 7, \"HBP\": 3, \"SH\": 0, \"SF\": 4, \"IBB\": 1}, {\"Rk\": 625, \"Name\": \"Abraham\\u00a0Toro#\", \"Age\": 26, \"Tm\": \"MIL\", \"Lg\": \"NL\", \"G\": 5, \"PA\": 9, \"AB\": 8, \"R\": 1, \"H\": 4, \"2B\": 0, \"3B\": 0, \"HR\": 1, \"RBI\": 5, \"SB\": 0, \"CS\": 0, \"BB\": 0, \"SO\": 3, \"BA\": 0.5, \"OBP\": 0.556, \"SLG\": 0.875, \"OPS\": 1.431, \"OPS+\": 284, \"TB\": 7, \"GDP\": 0, \"HBP\": 1, \"SH\": 0, \"SF\": 0, \"IBB\": 0}, {\"Rk\": 626, \"Name\": \"Luis\\u00a0Torrens\", \"Age\": 27, \"Tm\": \"CHC\", \"Lg\": \"NL\", \"G\": 13, \"PA\": 22, \"AB\": 20, \"R\": 1, \"H\": 5, \"2B\": 1, \"3B\": 0, \"HR\": 0, \"RBI\": 3, \"SB\": 0, \"CS\": 0, \"BB\": 1, \"SO\": 8, \"BA\": 0.25, \"OBP\": 0.318, \"SLG\": 0.3, \"OPS\": 0.618, \"OPS+\": 69, \"TB\": 6, \"GDP\": 0, \"HBP\": 1, \"SH\": 0, \"SF\": 0, \"IBB\": 0}, {\"Rk\": 627, \"Name\": \"Gleyber\\u00a0Torres\", \"Age\": 26, \"Tm\": \"NYY\", \"Lg\": \"AL\", \"G\": 98, \"PA\": 412, \"AB\": 368, \"R\": 56, \"H\": 97, \"2B\": 13, \"3B\": 2, \"HR\": 15, \"RBI\": 41, \"SB\": 8, \"CS\": 5, \"BB\": 38, \"SO\": 59, \"BA\": 0.264, \"OBP\": 0.33, \"SLG\": 0.432, \"OPS\": 0.762, \"OPS+\": 111, \"TB\": 159, \"GDP\": 9, \"HBP\": 1, \"SH\": 0, \"SF\": 5, \"IBB\": 0}, {\"Rk\": 628, \"Name\": \"Ezequiel\\u00a0Tovar\", \"Age\": 21, \"Tm\": \"COL\", \"Lg\": \"NL\", \"G\": 91, \"PA\": 348, \"AB\": 331, \"R\": 44, \"H\": 85, \"2B\": 21, \"3B\": 3, \"HR\": 9, \"RBI\": 46, \"SB\": 4, \"CS\": 3, \"BB\": 13, \"SO\": 94, \"BA\": 0.257, \"OBP\": 0.29, \"SLG\": 0.42, \"OPS\": 0.71, \"OPS+\": 81, \"TB\": 139, \"GDP\": 4, \"HBP\": 3, \"SH\": 0, \"SF\": 1, \"IBB\": 0}, {\"Rk\": 629, \"Name\": \"Taylor\\u00a0Trammell*\", \"Age\": 25, \"Tm\": \"SEA\", \"Lg\": \"AL\", \"G\": 20, \"PA\": 54, \"AB\": 45, \"R\": 6, \"H\": 6, \"2B\": 0, \"3B\": 0, \"HR\": 3, \"RBI\": 11, \"SB\": 0, \"CS\": 1, \"BB\": 8, \"SO\": 21, \"BA\": 0.133, \"OBP\": 0.278, \"SLG\": 0.333, \"OPS\": 0.611, \"OPS+\": 73, \"TB\": 15, \"GDP\": 2, \"HBP\": 1, \"SH\": 0, \"SF\": 0, \"IBB\": 0}, {\"Rk\": 630, \"Name\": \"Alan\\u00a0Trejo\", \"Age\": 27, \"Tm\": \"COL\", \"Lg\": \"NL\", \"G\": 47, \"PA\": 133, \"AB\": 126, \"R\": 13, \"H\": 30, \"2B\": 9, \"3B\": 0, \"HR\": 1, \"RBI\": 15, \"SB\": 4, \"CS\": 0, \"BB\": 5, \"SO\": 31, \"BA\": 0.238, \"OBP\": 0.265, \"SLG\": 0.333, \"OPS\": 0.598, \"OPS+\": 54, \"TB\": 42, \"GDP\": 2, \"HBP\": 0, \"SH\": 1, \"SF\": 1, \"IBB\": 0}, {\"Rk\": 631, \"Name\": \"Jose\\u00a0Trevino\", \"Age\": 30, \"Tm\": \"NYY\", \"Lg\": \"AL\", \"G\": 55, \"PA\": 168, \"AB\": 157, \"R\": 15, \"H\": 33, \"2B\": 4, \"3B\": 0, \"HR\": 4, \"RBI\": 15, \"SB\": 0, \"CS\": 0, \"BB\": 8, \"SO\": 22, \"BA\": 0.21, \"OBP\": 0.257, \"SLG\": 0.312, \"OPS\": 0.57, \"OPS+\": 58, \"TB\": 49, \"GDP\": 6, \"HBP\": 2, \"SH\": 1, \"SF\": 0, \"IBB\": 0}, {\"Rk\": 632, \"Name\": \"Jared\\u00a0Triolo\", \"Age\": 25, \"Tm\": \"PIT\", \"Lg\": \"NL\", \"G\": 19, \"PA\": 76, \"AB\": 69, \"R\": 9, \"H\": 20, \"2B\": 2, \"3B\": 0, \"HR\": 0, \"RBI\": 9, \"SB\": 0, \"CS\": 1, \"BB\": 5, \"SO\": 25, \"BA\": 0.29, \"OBP\": 0.342, \"SLG\": 0.319, \"OPS\": 0.661, \"OPS+\": 83, \"TB\": 22, \"GDP\": 0, \"HBP\": 1, \"SH\": 0, \"SF\": 1, \"IBB\": 0}, {\"Rk\": 633, \"Name\": \"Chadwick\\u00a0Tromp\", \"Age\": 28, \"Tm\": \"ATL\", \"Lg\": \"NL\", \"G\": 6, \"PA\": 16, \"AB\": 16, \"R\": 1, \"H\": 2, \"2B\": 1, \"3B\": 0, \"HR\": 0, \"RBI\": 1, \"SB\": 0, \"CS\": 0, \"BB\": 0, \"SO\": 7, \"BA\": 0.125, \"OBP\": 0.125, \"SLG\": 0.188, \"OPS\": 0.313, \"OPS+\": -18, \"TB\": 3, \"GDP\": 0, \"HBP\": 0, \"SH\": 0, \"SF\": 0, \"IBB\": 0}, {\"Rk\": 634, \"Name\": \"Mike\\u00a0Trout\", \"Age\": 31, \"Tm\": \"LAA\", \"Lg\": \"AL\", \"G\": 81, \"PA\": 358, \"AB\": 304, \"R\": 54, \"H\": 80, \"2B\": 14, \"3B\": 1, \"HR\": 18, \"RBI\": 44, \"SB\": 2, \"CS\": 0, \"BB\": 45, \"SO\": 103, \"BA\": 0.263, \"OBP\": 0.369, \"SLG\": 0.493, \"OPS\": 0.862, \"OPS+\": 134, \"TB\": 150, \"GDP\": 3, \"HBP\": 7, \"SH\": 0, \"SF\": 2, \"IBB\": 2}, {\"Rk\": 635, \"Name\": \"Kyle\\u00a0Tucker*\", \"Age\": 26, \"Tm\": \"HOU\", \"Lg\": \"AL\", \"G\": 97, \"PA\": 411, \"AB\": 354, \"R\": 52, \"H\": 107, \"2B\": 25, \"3B\": 0, \"HR\": 17, \"RBI\": 68, \"SB\": 17, \"CS\": 3, \"BB\": 45, \"SO\": 56, \"BA\": 0.302, \"OBP\": 0.378, \"SLG\": 0.517, \"OPS\": 0.895, \"OPS+\": 147, \"TB\": 183, \"GDP\": 9, \"HBP\": 2, \"SH\": 0, \"SF\": 6, \"IBB\": 5}, {\"Rk\": 636, \"Name\": \"Brice\\u00a0Turang*\", \"Age\": 23, \"Tm\": \"MIL\", \"Lg\": \"NL\", \"G\": 76, \"PA\": 246, \"AB\": 223, \"R\": 19, \"H\": 45, \"2B\": 7, \"3B\": 3, \"HR\": 3, \"RBI\": 19, \"SB\": 11, \"CS\": 4, \"BB\": 22, \"SO\": 57, \"BA\": 0.202, \"OBP\": 0.272, \"SLG\": 0.3, \"OPS\": 0.573, \"OPS+\": 57, \"TB\": 67, \"GDP\": 4, \"HBP\": 0, \"SH\": 0, \"SF\": 1, \"IBB\": 1}, {\"Rk\": 637, \"Name\": \"Justin\\u00a0Turner\", \"Age\": 38, \"Tm\": \"BOS\", \"Lg\": \"AL\", \"G\": 95, \"PA\": 410, \"AB\": 364, \"R\": 61, \"H\": 104, \"2B\": 22, \"3B\": 0, \"HR\": 16, \"RBI\": 64, \"SB\": 4, \"CS\": 0, \"BB\": 35, \"SO\": 66, \"BA\": 0.286, \"OBP\": 0.354, \"SLG\": 0.478, \"OPS\": 0.832, \"OPS+\": 121, \"TB\": 174, \"GDP\": 6, \"HBP\": 6, \"SH\": 0, \"SF\": 5, \"IBB\": 0}, {\"Rk\": 638, \"Name\": \"Trea\\u00a0Turner\", \"Age\": 30, \"Tm\": \"PHI\", \"Lg\": \"NL\", \"G\": 97, \"PA\": 436, \"AB\": 406, \"R\": 55, \"H\": 100, \"2B\": 19, \"3B\": 4, \"HR\": 10, \"RBI\": 34, \"SB\": 21, \"CS\": 0, \"BB\": 28, \"SO\": 104, \"BA\": 0.246, \"OBP\": 0.298, \"SLG\": 0.387, \"OPS\": 0.685, \"OPS+\": 87, \"TB\": 157, \"GDP\": 3, \"HBP\": 2, \"SH\": 0, \"SF\": 0, \"IBB\": 2}, {\"Rk\": 639, \"Name\": \"Luis\\u00a0Ur\\u00edas\", \"Age\": 26, \"Tm\": \"MIL\", \"Lg\": \"NL\", \"G\": 20, \"PA\": 68, \"AB\": 55, \"R\": 5, \"H\": 8, \"2B\": 2, \"3B\": 0, \"HR\": 1, \"RBI\": 5, \"SB\": 0, \"CS\": 0, \"BB\": 7, \"SO\": 15, \"BA\": 0.145, \"OBP\": 0.299, \"SLG\": 0.236, \"OPS\": 0.535, \"OPS+\": 50, \"TB\": 13, \"GDP\": 1, \"HBP\": 5, \"SH\": 0, \"SF\": 0, \"IBB\": 0}, {\"Rk\": 640, \"Name\": \"Ram\\u00f3n\\u00a0Ur\\u00edas\", \"Age\": 29, \"Tm\": \"BAL\", \"Lg\": \"AL\", \"G\": 69, \"PA\": 248, \"AB\": 223, \"R\": 30, \"H\": 57, \"2B\": 19, \"3B\": 0, \"HR\": 4, \"RBI\": 33, \"SB\": 3, \"CS\": 1, \"BB\": 18, \"SO\": 63, \"BA\": 0.256, \"OBP\": 0.327, \"SLG\": 0.395, \"OPS\": 0.721, \"OPS+\": 102, \"TB\": 88, \"GDP\": 7, \"HBP\": 6, \"SH\": 0, \"SF\": 1, \"IBB\": 0}, {\"Rk\": 641, \"Name\": \"Gio\\u00a0Urshela\", \"Age\": 31, \"Tm\": \"LAA\", \"Lg\": \"AL\", \"G\": 62, \"PA\": 228, \"AB\": 214, \"R\": 22, \"H\": 64, \"2B\": 8, \"3B\": 1, \"HR\": 2, \"RBI\": 24, \"SB\": 3, \"CS\": 2, \"BB\": 10, \"SO\": 36, \"BA\": 0.299, \"OBP\": 0.329, \"SLG\": 0.374, \"OPS\": 0.703, \"OPS+\": 93, \"TB\": 80, \"GDP\": 9, \"HBP\": 1, \"SH\": 0, \"SF\": 3, \"IBB\": 0}, {\"Rk\": 642, \"Name\": \"Enmanuel\\u00a0Valdez*\", \"Age\": 24, \"Tm\": \"BOS\", \"Lg\": \"AL\", \"G\": 33, \"PA\": 101, \"AB\": 94, \"R\": 9, \"H\": 22, \"2B\": 4, \"3B\": 0, \"HR\": 4, \"RBI\": 11, \"SB\": 4, \"CS\": 1, \"BB\": 5, \"SO\": 27, \"BA\": 0.234, \"OBP\": 0.28, \"SLG\": 0.404, \"OPS\": 0.684, \"OPS+\": 81, \"TB\": 38, \"GDP\": 2, \"HBP\": 1, \"SH\": 0, \"SF\": 0, \"IBB\": 0}, {\"Rk\": 643, \"Name\": \"Ildemaro\\u00a0Vargas#\", \"Age\": 31, \"Tm\": \"WSN\", \"Lg\": \"NL\", \"G\": 35, \"PA\": 106, \"AB\": 100, \"R\": 15, \"H\": 27, \"2B\": 6, \"3B\": 1, \"HR\": 2, \"RBI\": 13, \"SB\": 0, \"CS\": 0, \"BB\": 5, \"SO\": 5, \"BA\": 0.27, \"OBP\": 0.305, \"SLG\": 0.41, \"OPS\": 0.715, \"OPS+\": 99, \"TB\": 41, \"GDP\": 6, \"HBP\": 0, \"SH\": 1, \"SF\": 0, \"IBB\": 0}, {\"Rk\": 644, \"Name\": \"Miguel\\u00a0Vargas\", \"Age\": 23, \"Tm\": \"LAD\", \"Lg\": \"NL\", \"G\": 81, \"PA\": 304, \"AB\": 256, \"R\": 36, \"H\": 50, \"2B\": 15, \"3B\": 4, \"HR\": 7, \"RBI\": 32, \"SB\": 3, \"CS\": 2, \"BB\": 38, \"SO\": 61, \"BA\": 0.195, \"OBP\": 0.305, \"SLG\": 0.367, \"OPS\": 0.672, \"OPS+\": 80, \"TB\": 94, \"GDP\": 1, \"HBP\": 4, \"SH\": 1, \"SF\": 4, \"IBB\": 1}, {\"Rk\": 645, \"Name\": \"Daulton\\u00a0Varsho*\", \"Age\": 26, \"Tm\": \"TOR\", \"Lg\": \"AL\", \"G\": 97, \"PA\": 374, \"AB\": 341, \"R\": 40, \"H\": 73, \"2B\": 13, \"3B\": 0, \"HR\": 12, \"RBI\": 32, \"SB\": 12, \"CS\": 3, \"BB\": 27, \"SO\": 88, \"BA\": 0.214, \"OBP\": 0.275, \"SLG\": 0.358, \"OPS\": 0.633, \"OPS+\": 77, \"TB\": 122, \"GDP\": 3, \"HBP\": 3, \"SH\": 0, \"SF\": 3, \"IBB\": 0}, {\"Rk\": 646, \"Name\": \"Andrew\\u00a0Vaughn\", \"Age\": 25, \"Tm\": \"CHW\", \"Lg\": \"AL\", \"G\": 94, \"PA\": 393, \"AB\": 353, \"R\": 43, \"H\": 86, \"2B\": 23, \"3B\": 2, \"HR\": 12, \"RBI\": 54, \"SB\": 0, \"CS\": 0, \"BB\": 28, \"SO\": 78, \"BA\": 0.244, \"OBP\": 0.316, \"SLG\": 0.422, \"OPS\": 0.738, \"OPS+\": 102, \"TB\": 149, \"GDP\": 11, \"HBP\": 10, \"SH\": 0, \"SF\": 2, \"IBB\": 0}, {\"Rk\": 647, \"Name\": \"Terrin\\u00a0Vavra*\", \"Age\": 26, \"Tm\": \"BAL\", \"Lg\": \"AL\", \"G\": 27, \"PA\": 56, \"AB\": 49, \"R\": 9, \"H\": 12, \"2B\": 0, \"3B\": 0, \"HR\": 0, \"RBI\": 5, \"SB\": 1, \"CS\": 0, \"BB\": 5, \"SO\": 12, \"BA\": 0.245, \"OBP\": 0.315, \"SLG\": 0.245, \"OPS\": 0.56, \"OPS+\": 61, \"TB\": 12, \"GDP\": 5, \"HBP\": 0, \"SH\": 2, \"SF\": 0, \"IBB\": 0}, {\"Rk\": 648, \"Name\": \"Christian\\u00a0V\\u00e1zquez\", \"Age\": 32, \"Tm\": \"MIN\", \"Lg\": \"AL\", \"G\": 64, \"PA\": 220, \"AB\": 198, \"R\": 21, \"H\": 43, \"2B\": 9, \"3B\": 0, \"HR\": 2, \"RBI\": 19, \"SB\": 0, \"CS\": 0, \"BB\": 20, \"SO\": 51, \"BA\": 0.217, \"OBP\": 0.291, \"SLG\": 0.293, \"OPS\": 0.584, \"OPS+\": 63, \"TB\": 58, \"GDP\": 6, \"HBP\": 1, \"SH\": 0, \"SF\": 1, \"IBB\": 1}, {\"Rk\": 649, \"Name\": \"Andrew\\u00a0Velazquez#\", \"Age\": 28, \"Tm\": \"LAA\", \"Lg\": \"AL\", \"G\": 25, \"PA\": 50, \"AB\": 42, \"R\": 6, \"H\": 8, \"2B\": 1, \"3B\": 0, \"HR\": 0, \"RBI\": 0, \"SB\": 9, \"CS\": 1, \"BB\": 7, \"SO\": 12, \"BA\": 0.19, \"OBP\": 0.306, \"SLG\": 0.214, \"OPS\": 0.52, \"OPS+\": 47, \"TB\": 9, \"GDP\": 0, \"HBP\": 0, \"SH\": 1, \"SF\": 0, \"IBB\": 0}, {\"Rk\": 650, \"Name\": \"Nelson\\u00a0Vel\\u00e1zquez\", \"Age\": 24, \"Tm\": \"CHC\", \"Lg\": \"NL\", \"G\": 13, \"PA\": 32, \"AB\": 29, \"R\": 8, \"H\": 7, \"2B\": 2, \"3B\": 0, \"HR\": 3, \"RBI\": 6, \"SB\": 0, \"CS\": 0, \"BB\": 3, \"SO\": 8, \"BA\": 0.241, \"OBP\": 0.313, \"SLG\": 0.621, \"OPS\": 0.933, \"OPS+\": 144, \"TB\": 18, \"GDP\": 1, \"HBP\": 0, \"SH\": 0, \"SF\": 0, \"IBB\": 0}, {\"Rk\": 651, \"Name\": \"Alex\\u00a0Verdugo*\", \"Age\": 27, \"Tm\": \"BOS\", \"Lg\": \"AL\", \"G\": 90, \"PA\": 397, \"AB\": 354, \"R\": 57, \"H\": 97, \"2B\": 27, \"3B\": 4, \"HR\": 7, \"RBI\": 39, \"SB\": 4, \"CS\": 2, \"BB\": 35, \"SO\": 55, \"BA\": 0.274, \"OBP\": 0.348, \"SLG\": 0.432, \"OPS\": 0.78, \"OPS+\": 108, \"TB\": 153, \"GDP\": 6, \"HBP\": 6, \"SH\": 0, \"SF\": 2, \"IBB\": 1}, {\"Rk\": 652, \"Name\": \"Alex\\u00a0Vesia*\", \"Age\": 27, \"Tm\": \"LAD\", \"Lg\": \"NL\", \"G\": 1, \"PA\": 0, \"AB\": 0, \"R\": 0, \"H\": 0, \"2B\": 0, \"3B\": 0, \"HR\": 0, \"RBI\": 0, \"SB\": 0, \"CS\": 0, \"BB\": 0, \"SO\": 0, \"BA\": 0.0, \"OBP\": 0.0, \"SLG\": 0.0, \"OPS\": 0.0, \"OPS+\": 0, \"TB\": 0, \"GDP\": 0, \"HBP\": 0, \"SH\": 0, \"SF\": 0, \"IBB\": 0}, {\"Rk\": 653, \"Name\": \"Mark\\u00a0Vientos\", \"Age\": 23, \"Tm\": \"NYM\", \"Lg\": \"NL\", \"G\": 18, \"PA\": 55, \"AB\": 51, \"R\": 3, \"H\": 11, \"2B\": 0, \"3B\": 0, \"HR\": 1, \"RBI\": 6, \"SB\": 0, \"CS\": 0, \"BB\": 3, \"SO\": 15, \"BA\": 0.216, \"OBP\": 0.255, \"SLG\": 0.275, \"OPS\": 0.529, \"OPS+\": 48, \"TB\": 14, \"GDP\": 1, \"HBP\": 0, \"SH\": 0, \"SF\": 1, \"IBB\": 0}, {\"Rk\": 654, \"Name\": \"Matt\\u00a0Vierling\", \"Age\": 26, \"Tm\": \"DET\", \"Lg\": \"AL\", \"G\": 76, \"PA\": 289, \"AB\": 264, \"R\": 30, \"H\": 71, \"2B\": 9, \"3B\": 2, \"HR\": 7, \"RBI\": 26, \"SB\": 5, \"CS\": 5, \"BB\": 23, \"SO\": 53, \"BA\": 0.269, \"OBP\": 0.332, \"SLG\": 0.398, \"OPS\": 0.73, \"OPS+\": 104, \"TB\": 105, \"GDP\": 3, \"HBP\": 2, \"SH\": 0, \"SF\": 0, \"IBB\": 0}, {\"Rk\": 655, \"Name\": \"David\\u00a0Villar\", \"Age\": 26, \"Tm\": \"SFG\", \"Lg\": \"NL\", \"G\": 44, \"PA\": 135, \"AB\": 120, \"R\": 15, \"H\": 18, \"2B\": 6, \"3B\": 0, \"HR\": 5, \"RBI\": 12, \"SB\": 1, \"CS\": 1, \"BB\": 10, \"SO\": 42, \"BA\": 0.15, \"OBP\": 0.237, \"SLG\": 0.325, \"OPS\": 0.562, \"OPS+\": 53, \"TB\": 39, \"GDP\": 1, \"HBP\": 4, \"SH\": 0, \"SF\": 1, \"IBB\": 0}, {\"Rk\": 656, \"Name\": \"Meibrys\\u00a0Viloria*\", \"Age\": 26, \"Tm\": \"CLE\", \"Lg\": \"AL\", \"G\": 10, \"PA\": 4, \"AB\": 3, \"R\": 0, \"H\": 0, \"2B\": 0, \"3B\": 0, \"HR\": 0, \"RBI\": 0, \"SB\": 0, \"CS\": 0, \"BB\": 1, \"SO\": 0, \"BA\": 0.0, \"OBP\": 0.25, \"SLG\": 0.0, \"OPS\": 0.25, \"OPS+\": -20, \"TB\": 0, \"GDP\": 1, \"HBP\": 0, \"SH\": 0, \"SF\": 0, \"IBB\": 0}, {\"Rk\": 657, \"Name\": \"Daniel\\u00a0Vogelbach*\", \"Age\": 30, \"Tm\": \"NYM\", \"Lg\": \"NL\", \"G\": 69, \"PA\": 211, \"AB\": 182, \"R\": 21, \"H\": 41, \"2B\": 7, \"3B\": 0, \"HR\": 6, \"RBI\": 28, \"SB\": 0, \"CS\": 0, \"BB\": 29, \"SO\": 51, \"BA\": 0.225, \"OBP\": 0.332, \"SLG\": 0.363, \"OPS\": 0.694, \"OPS+\": 94, \"TB\": 66, \"GDP\": 5, \"HBP\": 0, \"SH\": 0, \"SF\": 0, \"IBB\": 1}, {\"Rk\": 658, \"Name\": \"Luke\\u00a0Voit\", \"Age\": 32, \"Tm\": \"MIL\", \"Lg\": \"NL\", \"G\": 22, \"PA\": 74, \"AB\": 68, \"R\": 5, \"H\": 15, \"2B\": 3, \"3B\": 0, \"HR\": 0, \"RBI\": 4, \"SB\": 2, \"CS\": 0, \"BB\": 4, \"SO\": 27, \"BA\": 0.221, \"OBP\": 0.284, \"SLG\": 0.265, \"OPS\": 0.548, \"OPS+\": 52, \"TB\": 18, \"GDP\": 3, \"HBP\": 2, \"SH\": 0, \"SF\": 0, \"IBB\": 0}, {\"Rk\": 659, \"Name\": \"Anthony\\u00a0Volpe\", \"Age\": 22, \"Tm\": \"NYY\", \"Lg\": \"AL\", \"G\": 99, \"PA\": 370, \"AB\": 334, \"R\": 43, \"H\": 70, \"2B\": 11, \"3B\": 3, \"HR\": 13, \"RBI\": 34, \"SB\": 17, \"CS\": 2, \"BB\": 32, \"SO\": 109, \"BA\": 0.21, \"OBP\": 0.282, \"SLG\": 0.377, \"OPS\": 0.659, \"OPS+\": 82, \"TB\": 126, \"GDP\": 9, \"HBP\": 2, \"SH\": 1, \"SF\": 1, \"IBB\": 0}, {\"Rk\": 660, \"Name\": \"Jason\\u00a0Vosler*\", \"Age\": 29, \"Tm\": \"CIN\", \"Lg\": \"NL\", \"G\": 20, \"PA\": 65, \"AB\": 62, \"R\": 6, \"H\": 10, \"2B\": 2, \"3B\": 1, \"HR\": 3, \"RBI\": 10, \"SB\": 0, \"CS\": 0, \"BB\": 3, \"SO\": 25, \"BA\": 0.161, \"OBP\": 0.2, \"SLG\": 0.371, \"OPS\": 0.571, \"OPS+\": 47, \"TB\": 23, \"GDP\": 0, \"HBP\": 0, \"SH\": 0, \"SF\": 0, \"IBB\": 0}, {\"Rk\": 661, \"Name\": \"Joey\\u00a0Votto*\", \"Age\": 39, \"Tm\": \"CIN\", \"Lg\": \"NL\", \"G\": 26, \"PA\": 102, \"AB\": 86, \"R\": 11, \"H\": 16, \"2B\": 3, \"3B\": 0, \"HR\": 8, \"RBI\": 21, \"SB\": 0, \"CS\": 0, \"BB\": 12, \"SO\": 29, \"BA\": 0.186, \"OBP\": 0.314, \"SLG\": 0.5, \"OPS\": 0.814, \"OPS+\": 111, \"TB\": 43, \"GDP\": 0, \"HBP\": 4, \"SH\": 0, \"SF\": 0, \"IBB\": 0}, {\"Rk\": 662, \"Name\": \"LaMonte\\u00a0Wade\\u00a0Jr.*\", \"Age\": 29, \"Tm\": \"SFG\", \"Lg\": \"NL\", \"G\": 86, \"PA\": 338, \"AB\": 272, \"R\": 43, \"H\": 75, \"2B\": 13, \"3B\": 1, \"HR\": 9, \"RBI\": 28, \"SB\": 2, \"CS\": 0, \"BB\": 57, \"SO\": 63, \"BA\": 0.276, \"OBP\": 0.406, \"SLG\": 0.43, \"OPS\": 0.836, \"OPS+\": 131, \"TB\": 117, \"GDP\": 2, \"HBP\": 4, \"SH\": 3, \"SF\": 2, \"IBB\": 1}, {\"Rk\": 663, \"Name\": \"Tyler\\u00a0Wade*\", \"Age\": 28, \"Tm\": \"OAK\", \"Lg\": \"AL\", \"G\": 26, \"PA\": 55, \"AB\": 51, \"R\": 8, \"H\": 13, \"2B\": 1, \"3B\": 1, \"HR\": 0, \"RBI\": 2, \"SB\": 4, \"CS\": 0, \"BB\": 4, \"SO\": 13, \"BA\": 0.255, \"OBP\": 0.309, \"SLG\": 0.314, \"OPS\": 0.623, \"OPS+\": 80, \"TB\": 16, \"GDP\": 0, \"HBP\": 0, \"SH\": 0, \"SF\": 0, \"IBB\": 0}, {\"Rk\": 664, \"Name\": \"Christian\\u00a0Walker\", \"Age\": 32, \"Tm\": \"ARI\", \"Lg\": \"NL\", \"G\": 95, \"PA\": 405, \"AB\": 357, \"R\": 52, \"H\": 93, \"2B\": 29, \"3B\": 0, \"HR\": 20, \"RBI\": 63, \"SB\": 7, \"CS\": 0, \"BB\": 40, \"SO\": 74, \"BA\": 0.261, \"OBP\": 0.337, \"SLG\": 0.51, \"OPS\": 0.846, \"OPS+\": 130, \"TB\": 182, \"GDP\": 9, \"HBP\": 3, \"SH\": 0, \"SF\": 4, \"IBB\": 2}, {\"Rk\": 665, \"Name\": \"Jordan\\u00a0Walker\", \"Age\": 21, \"Tm\": \"STL\", \"Lg\": \"NL\", \"G\": 59, \"PA\": 235, \"AB\": 215, \"R\": 24, \"H\": 60, \"2B\": 9, \"3B\": 0, \"HR\": 9, \"RBI\": 28, \"SB\": 4, \"CS\": 4, \"BB\": 15, \"SO\": 54, \"BA\": 0.279, \"OBP\": 0.34, \"SLG\": 0.447, \"OPS\": 0.787, \"OPS+\": 114, \"TB\": 96, \"GDP\": 6, \"HBP\": 5, \"SH\": 0, \"SF\": 0, \"IBB\": 0}, {\"Rk\": 666, \"Name\": \"Forrest\\u00a0Wall*\", \"Age\": 27, \"Tm\": \"ATL\", \"Lg\": \"NL\", \"G\": 1, \"PA\": 0, \"AB\": 0, \"R\": 0, \"H\": 0, \"2B\": 0, \"3B\": 0, \"HR\": 0, \"RBI\": 0, \"SB\": 2, \"CS\": 0, \"BB\": 0, \"SO\": 0, \"BA\": 0.0, \"OBP\": 0.0, \"SLG\": 0.0, \"OPS\": 0.0, \"OPS+\": 0, \"TB\": 0, \"GDP\": 0, \"HBP\": 0, \"SH\": 0, \"SF\": 0, \"IBB\": 0}, {\"Rk\": 667, \"Name\": \"Chad\\u00a0Wallach\", \"Age\": 31, \"Tm\": \"LAA\", \"Lg\": \"AL\", \"G\": 44, \"PA\": 117, \"AB\": 105, \"R\": 14, \"H\": 21, \"2B\": 2, \"3B\": 0, \"HR\": 6, \"RBI\": 12, \"SB\": 0, \"CS\": 1, \"BB\": 11, \"SO\": 42, \"BA\": 0.2, \"OBP\": 0.276, \"SLG\": 0.39, \"OPS\": 0.666, \"OPS+\": 80, \"TB\": 41, \"GDP\": 4, \"HBP\": 0, \"SH\": 1, \"SF\": 0, \"IBB\": 0}, {\"Rk\": 668, \"Name\": \"Matt\\u00a0Wallner*\", \"Age\": 25, \"Tm\": \"MIN\", \"Lg\": \"AL\", \"G\": 17, \"PA\": 46, \"AB\": 37, \"R\": 5, \"H\": 10, \"2B\": 1, \"3B\": 0, \"HR\": 1, \"RBI\": 4, \"SB\": 1, \"CS\": 1, \"BB\": 5, \"SO\": 10, \"BA\": 0.27, \"OBP\": 0.413, \"SLG\": 0.378, \"OPS\": 0.791, \"OPS+\": 123, \"TB\": 14, \"GDP\": 0, \"HBP\": 4, \"SH\": 0, \"SF\": 0, \"IBB\": 0}, {\"Rk\": 669, \"Name\": \"Taylor\\u00a0Walls#\", \"Age\": 26, \"Tm\": \"TBR\", \"Lg\": \"AL\", \"G\": 79, \"PA\": 279, \"AB\": 242, \"R\": 42, \"H\": 51, \"2B\": 11, \"3B\": 2, \"HR\": 7, \"RBI\": 27, \"SB\": 20, \"CS\": 1, \"BB\": 36, \"SO\": 71, \"BA\": 0.211, \"OBP\": 0.315, \"SLG\": 0.36, \"OPS\": 0.675, \"OPS+\": 90, \"TB\": 87, \"GDP\": 1, \"HBP\": 1, \"SH\": 0, \"SF\": 0, \"IBB\": 0}, {\"Rk\": 670, \"Name\": \"Jared\\u00a0Walsh*\", \"Age\": 29, \"Tm\": \"LAA\", \"Lg\": \"AL\", \"G\": 28, \"PA\": 78, \"AB\": 67, \"R\": 5, \"H\": 8, \"2B\": 4, \"3B\": 0, \"HR\": 1, \"RBI\": 5, \"SB\": 0, \"CS\": 0, \"BB\": 11, \"SO\": 26, \"BA\": 0.119, \"OBP\": 0.244, \"SLG\": 0.224, \"OPS\": 0.467, \"OPS+\": 30, \"TB\": 15, \"GDP\": 1, \"HBP\": 0, \"SH\": 0, \"SF\": 0, \"IBB\": 0}, {\"Rk\": 671, \"Name\": \"Taylor\\u00a0Ward\", \"Age\": 29, \"Tm\": \"LAA\", \"Lg\": \"AL\", \"G\": 91, \"PA\": 384, \"AB\": 334, \"R\": 57, \"H\": 83, \"2B\": 17, \"3B\": 0, \"HR\": 12, \"RBI\": 40, \"SB\": 4, \"CS\": 2, \"BB\": 38, \"SO\": 74, \"BA\": 0.249, \"OBP\": 0.333, \"SLG\": 0.407, \"OPS\": 0.741, \"OPS+\": 102, \"TB\": 136, \"GDP\": 8, \"HBP\": 7, \"SH\": 0, \"SF\": 5, \"IBB\": 0}, {\"Rk\": 672, \"Name\": \"Drew\\u00a0Waters#\", \"Age\": 24, \"Tm\": \"KCR\", \"Lg\": \"AL\", \"G\": 46, \"PA\": 157, \"AB\": 146, \"R\": 19, \"H\": 35, \"2B\": 4, \"3B\": 2, \"HR\": 4, \"RBI\": 15, \"SB\": 5, \"CS\": 3, \"BB\": 7, \"SO\": 56, \"BA\": 0.24, \"OBP\": 0.287, \"SLG\": 0.377, \"OPS\": 0.663, \"OPS+\": 82, \"TB\": 55, \"GDP\": 2, \"HBP\": 3, \"SH\": 0, \"SF\": 1, \"IBB\": 0}, {\"Rk\": 673, \"Name\": \"Joey\\u00a0Wendle*\", \"Age\": 33, \"Tm\": \"MIA\", \"Lg\": \"NL\", \"G\": 64, \"PA\": 202, \"AB\": 188, \"R\": 23, \"H\": 50, \"2B\": 13, \"3B\": 2, \"HR\": 1, \"RBI\": 11, \"SB\": 4, \"CS\": 0, \"BB\": 9, \"SO\": 47, \"BA\": 0.266, \"OBP\": 0.305, \"SLG\": 0.372, \"OPS\": 0.677, \"OPS+\": 86, \"TB\": 70, \"GDP\": 4, \"HBP\": 2, \"SH\": 2, \"SF\": 1, \"IBB\": 0}, {\"Rk\": 674, \"Name\": \"Jordan\\u00a0Westburg\", \"Age\": 24, \"Tm\": \"BAL\", \"Lg\": \"AL\", \"G\": 19, \"PA\": 66, \"AB\": 61, \"R\": 9, \"H\": 16, \"2B\": 4, \"3B\": 2, \"HR\": 0, \"RBI\": 7, \"SB\": 1, \"CS\": 1, \"BB\": 4, \"SO\": 14, \"BA\": 0.262, \"OBP\": 0.318, \"SLG\": 0.393, \"OPS\": 0.712, \"OPS+\": 99, \"TB\": 24, \"GDP\": 1, \"HBP\": 1, \"SH\": 0, \"SF\": 0, \"IBB\": 0}, {\"Rk\": 675, \"Name\": \"Eli\\u00a0White\", \"Age\": 29, \"Tm\": \"ATL\", \"Lg\": \"NL\", \"G\": 6, \"PA\": 17, \"AB\": 14, \"R\": 1, \"H\": 1, \"2B\": 0, \"3B\": 0, \"HR\": 0, \"RBI\": 0, \"SB\": 0, \"CS\": 0, \"BB\": 2, \"SO\": 7, \"BA\": 0.071, \"OBP\": 0.235, \"SLG\": 0.071, \"OPS\": 0.307, \"OPS+\": -12, \"TB\": 1, \"GDP\": 0, \"HBP\": 1, \"SH\": 0, \"SF\": 0, \"IBB\": 0}, {\"Rk\": 676, \"Name\": \"Joey\\u00a0Wiemer\", \"Age\": 24, \"Tm\": \"MIL\", \"Lg\": \"NL\", \"G\": 96, \"PA\": 322, \"AB\": 285, \"R\": 39, \"H\": 59, \"2B\": 15, \"3B\": 0, \"HR\": 12, \"RBI\": 33, \"SB\": 11, \"CS\": 3, \"BB\": 31, \"SO\": 90, \"BA\": 0.207, \"OBP\": 0.292, \"SLG\": 0.386, \"OPS\": 0.678, \"OPS+\": 84, \"TB\": 110, \"GDP\": 3, \"HBP\": 4, \"SH\": 0, \"SF\": 2, \"IBB\": 0}, {\"Rk\": 677, \"Name\": \"Luke\\u00a0Williams\", \"Age\": 26, \"Tm\": \"LAD\", \"Lg\": \"NL\", \"G\": 4, \"PA\": 10, \"AB\": 10, \"R\": 0, \"H\": 1, \"2B\": 0, \"3B\": 0, \"HR\": 0, \"RBI\": 0, \"SB\": 1, \"CS\": 0, \"BB\": 0, \"SO\": 3, \"BA\": 0.1, \"OBP\": 0.1, \"SLG\": 0.1, \"OPS\": 0.2, \"OPS+\": -46, \"TB\": 1, \"GDP\": 0, \"HBP\": 0, \"SH\": 0, \"SF\": 0, \"IBB\": 0}, {\"Rk\": 678, \"Name\": \"Jesse\\u00a0Winker*\", \"Age\": 29, \"Tm\": \"MIL\", \"Lg\": \"NL\", \"G\": 60, \"PA\": 196, \"AB\": 165, \"R\": 16, \"H\": 32, \"2B\": 5, \"3B\": 0, \"HR\": 1, \"RBI\": 23, \"SB\": 0, \"CS\": 0, \"BB\": 26, \"SO\": 51, \"BA\": 0.194, \"OBP\": 0.316, \"SLG\": 0.242, \"OPS\": 0.559, \"OPS+\": 57, \"TB\": 40, \"GDP\": 0, \"HBP\": 4, \"SH\": 0, \"SF\": 1, \"IBB\": 0}, {\"Rk\": 679, \"Name\": \"Patrick\\u00a0Wisdom\", \"Age\": 31, \"Tm\": \"CHC\", \"Lg\": \"NL\", \"G\": 67, \"PA\": 239, \"AB\": 208, \"R\": 34, \"H\": 41, \"2B\": 7, \"3B\": 1, \"HR\": 17, \"RBI\": 35, \"SB\": 3, \"CS\": 1, \"BB\": 27, \"SO\": 89, \"BA\": 0.197, \"OBP\": 0.294, \"SLG\": 0.486, \"OPS\": 0.78, \"OPS+\": 106, \"TB\": 101, \"GDP\": 3, \"HBP\": 2, \"SH\": 1, \"SF\": 1, \"IBB\": 0}, {\"Rk\": 680, \"Name\": \"Brett\\u00a0Wisely*\", \"Age\": 24, \"Tm\": \"SFG\", \"Lg\": \"NL\", \"G\": 47, \"PA\": 121, \"AB\": 110, \"R\": 10, \"H\": 20, \"2B\": 5, \"3B\": 0, \"HR\": 2, \"RBI\": 7, \"SB\": 2, \"CS\": 1, \"BB\": 9, \"SO\": 36, \"BA\": 0.182, \"OBP\": 0.242, \"SLG\": 0.282, \"OPS\": 0.523, \"OPS+\": 44, \"TB\": 31, \"GDP\": 1, \"HBP\": 0, \"SH\": 1, \"SF\": 1, \"IBB\": 0}, {\"Rk\": 681, \"Name\": \"Bobby\\u00a0Witt\", \"Age\": 23, \"Tm\": \"KCR\", \"Lg\": \"AL\", \"G\": 98, \"PA\": 425, \"AB\": 396, \"R\": 50, \"H\": 99, \"2B\": 16, \"3B\": 6, \"HR\": 16, \"RBI\": 51, \"SB\": 27, \"CS\": 7, \"BB\": 21, \"SO\": 86, \"BA\": 0.25, \"OBP\": 0.29, \"SLG\": 0.442, \"OPS\": 0.732, \"OPS+\": 99, \"TB\": 175, \"GDP\": 5, \"HBP\": 3, \"SH\": 1, \"SF\": 4, \"IBB\": 0}, {\"Rk\": 682, \"Name\": \"Connor\\u00a0Wong\", \"Age\": 27, \"Tm\": \"BOS\", \"Lg\": \"AL\", \"G\": 76, \"PA\": 247, \"AB\": 225, \"R\": 35, \"H\": 54, \"2B\": 19, \"3B\": 0, \"HR\": 6, \"RBI\": 23, \"SB\": 3, \"CS\": 2, \"BB\": 16, \"SO\": 85, \"BA\": 0.24, \"OBP\": 0.301, \"SLG\": 0.404, \"OPS\": 0.705, \"OPS+\": 88, \"TB\": 91, \"GDP\": 2, \"HBP\": 4, \"SH\": 1, \"SF\": 1, \"IBB\": 0}, {\"Rk\": 683, \"Name\": \"Kolten\\u00a0Wong*\", \"Age\": 32, \"Tm\": \"SEA\", \"Lg\": \"AL\", \"G\": 60, \"PA\": 196, \"AB\": 175, \"R\": 18, \"H\": 28, \"2B\": 6, \"3B\": 0, \"HR\": 1, \"RBI\": 16, \"SB\": 1, \"CS\": 1, \"BB\": 15, \"SO\": 43, \"BA\": 0.16, \"OBP\": 0.24, \"SLG\": 0.211, \"OPS\": 0.451, \"OPS+\": 30, \"TB\": 37, \"GDP\": 0, \"HBP\": 4, \"SH\": 0, \"SF\": 2, \"IBB\": 0}, {\"Rk\": 684, \"Name\": \"Austin\\u00a0Wynns\", \"Age\": 32, \"Tm\": \"TOT\", \"Lg\": \"NL\", \"G\": 27, \"PA\": 69, \"AB\": 62, \"R\": 5, \"H\": 13, \"2B\": 3, \"3B\": 0, \"HR\": 1, \"RBI\": 7, \"SB\": 1, \"CS\": 0, \"BB\": 5, \"SO\": 25, \"BA\": 0.21, \"OBP\": 0.265, \"SLG\": 0.306, \"OPS\": 0.571, \"OPS+\": 49, \"TB\": 19, \"GDP\": 3, \"HBP\": 0, \"SH\": 1, \"SF\": 1, \"IBB\": 0}, {\"Rk\": 685, \"Name\": \"Austin\\u00a0Wynns\", \"Age\": 32, \"Tm\": \"SFG\", \"Lg\": \"NL\", \"G\": 1, \"PA\": 2, \"AB\": 2, \"R\": 0, \"H\": 0, \"2B\": 0, \"3B\": 0, \"HR\": 0, \"RBI\": 0, \"SB\": 0, \"CS\": 0, \"BB\": 0, \"SO\": 2, \"BA\": 0.0, \"OBP\": 0.0, \"SLG\": 0.0, \"OPS\": 0.0, \"OPS+\": -100, \"TB\": 0, \"GDP\": 0, \"HBP\": 0, \"SH\": 0, \"SF\": 0, \"IBB\": 0}, {\"Rk\": 686, \"Name\": \"Austin\\u00a0Wynns\", \"Age\": 32, \"Tm\": \"LAD\", \"Lg\": \"NL\", \"G\": 5, \"PA\": 12, \"AB\": 11, \"R\": 0, \"H\": 2, \"2B\": 1, \"3B\": 0, \"HR\": 0, \"RBI\": 2, \"SB\": 0, \"CS\": 0, \"BB\": 1, \"SO\": 5, \"BA\": 0.182, \"OBP\": 0.25, \"SLG\": 0.273, \"OPS\": 0.523, \"OPS+\": 41, \"TB\": 3, \"GDP\": 0, \"HBP\": 0, \"SH\": 0, \"SF\": 0, \"IBB\": 0}, {\"Rk\": 687, \"Name\": \"Austin\\u00a0Wynns\", \"Age\": 32, \"Tm\": \"COL\", \"Lg\": \"NL\", \"G\": 21, \"PA\": 55, \"AB\": 49, \"R\": 5, \"H\": 11, \"2B\": 2, \"3B\": 0, \"HR\": 1, \"RBI\": 5, \"SB\": 1, \"CS\": 0, \"BB\": 4, \"SO\": 18, \"BA\": 0.224, \"OBP\": 0.278, \"SLG\": 0.327, \"OPS\": 0.604, \"OPS+\": 56, \"TB\": 16, \"GDP\": 3, \"HBP\": 0, \"SH\": 1, \"SF\": 1, \"IBB\": 0}, {\"Rk\": 688, \"Name\": \"Mike\\u00a0Yastrzemski*\", \"Age\": 32, \"Tm\": \"SFG\", \"Lg\": \"NL\", \"G\": 70, \"PA\": 268, \"AB\": 239, \"R\": 41, \"H\": 55, \"2B\": 14, \"3B\": 1, \"HR\": 11, \"RBI\": 30, \"SB\": 1, \"CS\": 2, \"BB\": 27, \"SO\": 69, \"BA\": 0.23, \"OBP\": 0.311, \"SLG\": 0.435, \"OPS\": 0.746, \"OPS+\": 103, \"TB\": 104, \"GDP\": 2, \"HBP\": 1, \"SH\": 1, \"SF\": 0, \"IBB\": 2}, {\"Rk\": 689, \"Name\": \"Christian\\u00a0Yelich*\", \"Age\": 31, \"Tm\": \"MIL\", \"Lg\": \"NL\", \"G\": 95, \"PA\": 410, \"AB\": 360, \"R\": 71, \"H\": 103, \"2B\": 23, \"3B\": 2, \"HR\": 14, \"RBI\": 54, \"SB\": 21, \"CS\": 2, \"BB\": 47, \"SO\": 87, \"BA\": 0.286, \"OBP\": 0.373, \"SLG\": 0.478, \"OPS\": 0.851, \"OPS+\": 132, \"TB\": 172, \"GDP\": 8, \"HBP\": 3, \"SH\": 0, \"SF\": 0, \"IBB\": 3}, {\"Rk\": 690, \"Name\": \"Juan\\u00a0Yepez\", \"Age\": 25, \"Tm\": \"STL\", \"Lg\": \"NL\", \"G\": 20, \"PA\": 46, \"AB\": 42, \"R\": 5, \"H\": 9, \"2B\": 1, \"3B\": 0, \"HR\": 2, \"RBI\": 2, \"SB\": 0, \"CS\": 1, \"BB\": 3, \"SO\": 13, \"BA\": 0.214, \"OBP\": 0.283, \"SLG\": 0.381, \"OPS\": 0.664, \"OPS+\": 80, \"TB\": 16, \"GDP\": 0, \"HBP\": 1, \"SH\": 0, \"SF\": 0, \"IBB\": 0}, {\"Rk\": 691, \"Name\": \"Masataka\\u00a0Yoshida*\", \"Age\": 29, \"Tm\": \"BOS\", \"Lg\": \"AL\", \"G\": 86, \"PA\": 370, \"AB\": 335, \"R\": 52, \"H\": 107, \"2B\": 22, \"3B\": 3, \"HR\": 11, \"RBI\": 51, \"SB\": 8, \"CS\": 0, \"BB\": 28, \"SO\": 42, \"BA\": 0.319, \"OBP\": 0.381, \"SLG\": 0.501, \"OPS\": 0.883, \"OPS+\": 135, \"TB\": 168, \"GDP\": 11, \"HBP\": 6, \"SH\": 0, \"SF\": 1, \"IBB\": 0}, {\"Rk\": 692, \"Name\": \"Alex\\u00a0Young*\", \"Age\": 29, \"Tm\": \"CIN\", \"Lg\": \"NL\", \"G\": 2, \"PA\": 0, \"AB\": 0, \"R\": 0, \"H\": 0, \"2B\": 0, \"3B\": 0, \"HR\": 0, \"RBI\": 0, \"SB\": 0, \"CS\": 0, \"BB\": 0, \"SO\": 0, \"BA\": 0.0, \"OBP\": 0.0, \"SLG\": 0.0, \"OPS\": 0.0, \"OPS+\": 0, \"TB\": 0, \"GDP\": 0, \"HBP\": 0, \"SH\": 0, \"SF\": 0, \"IBB\": 0}, {\"Rk\": 693, \"Name\": \"Jared\\u00a0Young*\", \"Age\": 27, \"Tm\": \"CHC\", \"Lg\": \"NL\", \"G\": 13, \"PA\": 39, \"AB\": 35, \"R\": 7, \"H\": 6, \"2B\": 0, \"3B\": 2, \"HR\": 1, \"RBI\": 5, \"SB\": 2, \"CS\": 0, \"BB\": 3, \"SO\": 11, \"BA\": 0.171, \"OBP\": 0.256, \"SLG\": 0.371, \"OPS\": 0.628, \"OPS+\": 67, \"TB\": 13, \"GDP\": 1, \"HBP\": 1, \"SH\": 0, \"SF\": 0, \"IBB\": 0}, {\"Rk\": 694, \"Name\": \"Seby\\u00a0Zavala\", \"Age\": 29, \"Tm\": \"CHW\", \"Lg\": \"AL\", \"G\": 59, \"PA\": 156, \"AB\": 143, \"R\": 14, \"H\": 23, \"2B\": 3, \"3B\": 0, \"HR\": 6, \"RBI\": 15, \"SB\": 1, \"CS\": 0, \"BB\": 8, \"SO\": 60, \"BA\": 0.161, \"OBP\": 0.208, \"SLG\": 0.308, \"OPS\": 0.515, \"OPS+\": 40, \"TB\": 44, \"GDP\": 3, \"HBP\": 1, \"SH\": 2, \"SF\": 2, \"IBB\": 0}, {\"Rk\": 695, \"Name\": \"Mike\\u00a0Zunino\", \"Age\": 32, \"Tm\": \"CLE\", \"Lg\": \"AL\", \"G\": 42, \"PA\": 140, \"AB\": 124, \"R\": 11, \"H\": 22, \"2B\": 7, \"3B\": 0, \"HR\": 3, \"RBI\": 11, \"SB\": 0, \"CS\": 0, \"BB\": 15, \"SO\": 61, \"BA\": 0.177, \"OBP\": 0.271, \"SLG\": 0.306, \"OPS\": 0.578, \"OPS+\": 63, \"TB\": 38, \"GDP\": 3, \"HBP\": 1, \"SH\": 0, \"SF\": 0, \"IBB\": 0}]}}, {\"mode\": \"vega-lite\"});\n",
       "</script>"
      ],
      "text/plain": [
       "alt.LayerChart(...)"
      ]
     },
     "metadata": {},
     "output_type": "display_data"
    }
   ],
   "source": [
    "\n",
    "# Convert categorical columns to strings (Altair prefers this)\n",
    "mlb_data[\"Tm\"] = mlb_data[\"Tm\"].astype(str)\n",
    "\n",
    "# Dropdown filter with \"HOU\" pre-selected\n",
    "team_dropdown = alt.binding_select(options=mlb_data[\"Tm\"].unique().tolist(), name=\"Select Team: \")\n",
    "team_selection = alt.selection_single(fields=[\"Tm\"], bind=team_dropdown, name=\"Team\")\n",
    "\n",
    "# Scatter Plot: Home Runs vs. Batting Average\n",
    "scatter_plot = alt.Chart(mlb_data).mark_circle(size=80).encode(\n",
    "    x=alt.X(\"HR:Q\", title=\"Home Runs\"),\n",
    "    y=alt.Y(\"BA:Q\", title=\"Batting Average\"),\n",
    "    color=alt.Color(\"Tm:N\", legend=None),\n",
    "    tooltip=[\"Name:N\", \"Tm:N\", \"HR:Q\", \"BA:Q\"]\n",
    ").add_selection(\n",
    "    team_selection\n",
    ").transform_filter(\n",
    "    team_selection\n",
    ").interactive().properties(\n",
    "    title=\"Home Runs vs Batting Average (Interactive)\",\n",
    "    width=600,\n",
    "    height=400\n",
    ")\n",
    "\n",
    "# Add regression line to the scatter plot\n",
    "scatter_plot = scatter_plot + scatter_plot.transform_regression(\"HR\", \"BA\").mark_line(color=\"red\")\n",
    "\n",
    "\n",
    "# Display the scatter plot\n",
    "scatter_plot.show()\n"
   ]
  },
  {
   "cell_type": "markdown",
   "metadata": {},
   "source": [
    "Violin Plot: Displays the distribution of Home Runs across different teams, helping compare power-focused and contact-focused teams."
   ]
  },
  {
   "cell_type": "code",
   "execution_count": 190,
   "metadata": {},
   "outputs": [
    {
     "data": {
      "application/vnd.plotly.v1+json": {
       "config": {
        "plotlyServerURL": "https://plot.ly"
       },
       "data": [
        {
         "alignmentgroup": "True",
         "box": {
          "visible": true
         },
         "hovertemplate": "Team=%{x}<br>Home Runs=%{y}<extra></extra>",
         "legendgroup": "WSN",
         "marker": {
          "color": "#636efa"
         },
         "name": "WSN",
         "offsetgroup": "WSN",
         "orientation": "v",
         "points": false,
         "scalegroup": "True",
         "showlegend": true,
         "type": "violin",
         "x": [
          "WSN",
          "WSN",
          "WSN",
          "WSN",
          "WSN",
          "WSN",
          "WSN",
          "WSN",
          "WSN",
          "WSN",
          "WSN",
          "WSN",
          "WSN",
          "WSN",
          "WSN",
          "WSN",
          "WSN"
         ],
         "x0": " ",
         "xaxis": "x",
         "y": [
          10,
          3,
          0,
          6,
          15,
          1,
          2,
          0,
          5,
          6,
          0,
          6,
          0,
          11,
          5,
          16,
          2
         ],
         "y0": " ",
         "yaxis": "y"
        },
        {
         "alignmentgroup": "True",
         "box": {
          "visible": true
         },
         "hovertemplate": "Team=%{x}<br>Home Runs=%{y}<extra></extra>",
         "legendgroup": "HOU",
         "marker": {
          "color": "#EF553B"
         },
         "name": "HOU",
         "offsetgroup": "HOU",
         "orientation": "v",
         "points": false,
         "scalegroup": "True",
         "showlegend": true,
         "type": "violin",
         "x": [
          "HOU",
          "HOU",
          "HOU",
          "HOU",
          "HOU",
          "HOU",
          "HOU",
          "HOU",
          "HOU",
          "HOU",
          "HOU",
          "HOU",
          "HOU",
          "HOU",
          "HOU",
          "HOU",
          "HOU",
          "HOU",
          "HOU",
          "HOU",
          "HOU",
          "HOU",
          "HOU"
         ],
         "x0": " ",
         "xaxis": "x",
         "y": [
          8,
          6,
          17,
          0,
          16,
          10,
          4,
          1,
          6,
          1,
          0,
          7,
          0,
          0,
          12,
          7,
          0,
          0,
          10,
          0,
          0,
          0,
          17
         ],
         "y0": " ",
         "yaxis": "y"
        },
        {
         "alignmentgroup": "True",
         "box": {
          "visible": true
         },
         "hovertemplate": "Team=%{x}<br>Home Runs=%{y}<extra></extra>",
         "legendgroup": "ATL",
         "marker": {
          "color": "#00cc96"
         },
         "name": "ATL",
         "offsetgroup": "ATL",
         "orientation": "v",
         "points": false,
         "scalegroup": "True",
         "showlegend": true,
         "type": "violin",
         "x": [
          "ATL",
          "ATL",
          "ATL",
          "ATL",
          "ATL",
          "ATL",
          "ATL",
          "ATL",
          "ATL",
          "ATL",
          "ATL",
          "ATL",
          "ATL",
          "ATL",
          "ATL",
          "ATL",
          "ATL",
          "ATL",
          "ATL",
          "ATL",
          "ATL"
         ],
         "x0": " ",
         "xaxis": "x",
         "y": [
          23,
          0,
          22,
          10,
          0,
          8,
          0,
          9,
          3,
          0,
          17,
          32,
          18,
          6,
          22,
          15,
          0,
          0,
          0,
          0,
          0
         ],
         "y0": " ",
         "yaxis": "y"
        },
        {
         "alignmentgroup": "True",
         "box": {
          "visible": true
         },
         "hovertemplate": "Team=%{x}<br>Home Runs=%{y}<extra></extra>",
         "legendgroup": "MIL",
         "marker": {
          "color": "#ab63fa"
         },
         "name": "MIL",
         "offsetgroup": "MIL",
         "orientation": "v",
         "points": false,
         "scalegroup": "True",
         "showlegend": true,
         "type": "violin",
         "x": [
          "MIL",
          "MIL",
          "MIL",
          "MIL",
          "MIL",
          "MIL",
          "MIL",
          "MIL",
          "MIL",
          "MIL",
          "MIL",
          "MIL",
          "MIL",
          "MIL",
          "MIL",
          "MIL",
          "MIL",
          "MIL",
          "MIL",
          "MIL",
          "MIL",
          "MIL",
          "MIL"
         ],
         "x0": " ",
         "xaxis": "x",
         "y": [
          17,
          9,
          4,
          5,
          10,
          0,
          0,
          5,
          3,
          1,
          2,
          0,
          0,
          2,
          1,
          12,
          1,
          3,
          1,
          0,
          12,
          1,
          14
         ],
         "y0": " ",
         "yaxis": "y"
        },
        {
         "alignmentgroup": "True",
         "box": {
          "visible": true
         },
         "hovertemplate": "Team=%{x}<br>Home Runs=%{y}<extra></extra>",
         "legendgroup": "SEA",
         "marker": {
          "color": "#FFA15A"
         },
         "name": "SEA",
         "offsetgroup": "SEA",
         "orientation": "v",
         "points": false,
         "scalegroup": "True",
         "showlegend": true,
         "type": "violin",
         "x": [
          "SEA",
          "SEA",
          "SEA",
          "SEA",
          "SEA",
          "SEA",
          "SEA",
          "SEA",
          "SEA",
          "SEA",
          "SEA",
          "SEA",
          "SEA",
          "SEA",
          "SEA",
          "SEA",
          "SEA",
          "SEA",
          "SEA",
          "SEA",
          "SEA",
          "SEA",
          "SEA",
          "SEA",
          "SEA",
          "SEA"
         ],
         "x0": " ",
         "xaxis": "x",
         "y": [
          0,
          0,
          0,
          3,
          8,
          10,
          7,
          0,
          16,
          0,
          11,
          0,
          0,
          2,
          0,
          0,
          6,
          5,
          14,
          14,
          0,
          0,
          14,
          0,
          3,
          1
         ],
         "y0": " ",
         "yaxis": "y"
        },
        {
         "alignmentgroup": "True",
         "box": {
          "visible": true
         },
         "hovertemplate": "Team=%{x}<br>Home Runs=%{y}<extra></extra>",
         "legendgroup": "LAA",
         "marker": {
          "color": "#19d3f3"
         },
         "name": "LAA",
         "offsetgroup": "LAA",
         "orientation": "v",
         "points": false,
         "scalegroup": "True",
         "showlegend": true,
         "type": "violin",
         "x": [
          "LAA",
          "LAA",
          "LAA",
          "LAA",
          "LAA",
          "LAA",
          "LAA",
          "LAA",
          "LAA",
          "LAA",
          "LAA",
          "LAA",
          "LAA",
          "LAA",
          "LAA",
          "LAA",
          "LAA",
          "LAA",
          "LAA",
          "LAA",
          "LAA",
          "LAA",
          "LAA",
          "LAA",
          "LAA",
          "LAA"
         ],
         "x0": " ",
         "xaxis": "x",
         "y": [
          1,
          1,
          14,
          0,
          1,
          2,
          11,
          5,
          8,
          4,
          35,
          0,
          0,
          0,
          2,
          15,
          7,
          0,
          0,
          6,
          18,
          2,
          0,
          6,
          1,
          12
         ],
         "y0": " ",
         "yaxis": "y"
        },
        {
         "alignmentgroup": "True",
         "box": {
          "visible": true
         },
         "hovertemplate": "Team=%{x}<br>Home Runs=%{y}<extra></extra>",
         "legendgroup": "OAK",
         "marker": {
          "color": "#FF6692"
         },
         "name": "OAK",
         "offsetgroup": "OAK",
         "orientation": "v",
         "points": false,
         "scalegroup": "True",
         "showlegend": true,
         "type": "violin",
         "x": [
          "OAK",
          "OAK",
          "OAK",
          "OAK",
          "OAK",
          "OAK",
          "OAK",
          "OAK",
          "OAK",
          "OAK",
          "OAK",
          "OAK",
          "OAK",
          "OAK",
          "OAK",
          "OAK",
          "OAK",
          "OAK",
          "OAK",
          "OAK",
          "OAK",
          "OAK"
         ],
         "x0": " ",
         "xaxis": "x",
         "y": [
          5,
          1,
          7,
          0,
          10,
          0,
          2,
          6,
          1,
          3,
          10,
          5,
          11,
          5,
          6,
          1,
          16,
          1,
          4,
          0,
          1,
          0
         ],
         "y0": " ",
         "yaxis": "y"
        },
        {
         "alignmentgroup": "True",
         "box": {
          "visible": true
         },
         "hovertemplate": "Team=%{x}<br>Home Runs=%{y}<extra></extra>",
         "legendgroup": "ARI",
         "marker": {
          "color": "#B6E880"
         },
         "name": "ARI",
         "offsetgroup": "ARI",
         "orientation": "v",
         "points": false,
         "scalegroup": "True",
         "showlegend": true,
         "type": "violin",
         "x": [
          "ARI",
          "ARI",
          "ARI",
          "ARI",
          "ARI",
          "ARI",
          "ARI",
          "ARI",
          "ARI",
          "ARI",
          "ARI",
          "ARI",
          "ARI",
          "ARI",
          "ARI",
          "ARI",
          "ARI",
          "ARI",
          "ARI",
          "ARI",
          "ARI",
          "ARI",
          "ARI",
          "ARI"
         ],
         "x0": " ",
         "xaxis": "x",
         "y": [
          2,
          1,
          20,
          0,
          0,
          2,
          0,
          15,
          0,
          0,
          1,
          1,
          11,
          17,
          2,
          0,
          3,
          5,
          3,
          0,
          0,
          7,
          6,
          20
         ],
         "y0": " ",
         "yaxis": "y"
        },
        {
         "alignmentgroup": "True",
         "box": {
          "visible": true
         },
         "hovertemplate": "Team=%{x}<br>Home Runs=%{y}<extra></extra>",
         "legendgroup": "CHW",
         "marker": {
          "color": "#FF97FF"
         },
         "name": "CHW",
         "offsetgroup": "CHW",
         "orientation": "v",
         "points": false,
         "scalegroup": "True",
         "showlegend": true,
         "type": "violin",
         "x": [
          "CHW",
          "CHW",
          "CHW",
          "CHW",
          "CHW",
          "CHW",
          "CHW",
          "CHW",
          "CHW",
          "CHW",
          "CHW",
          "CHW",
          "CHW",
          "CHW",
          "CHW",
          "CHW",
          "CHW",
          "CHW",
          "CHW",
          "CHW",
          "CHW",
          "CHW",
          "CHW"
         ],
         "x0": " ",
         "xaxis": "x",
         "y": [
          3,
          0,
          2,
          2,
          0,
          21,
          1,
          0,
          3,
          8,
          0,
          0,
          12,
          0,
          3,
          0,
          0,
          28,
          0,
          8,
          1,
          12,
          6
         ],
         "y0": " ",
         "yaxis": "y"
        },
        {
         "alignmentgroup": "True",
         "box": {
          "visible": true
         },
         "hovertemplate": "Team=%{x}<br>Home Runs=%{y}<extra></extra>",
         "legendgroup": "SFG",
         "marker": {
          "color": "#FECB52"
         },
         "name": "SFG",
         "offsetgroup": "SFG",
         "orientation": "v",
         "points": false,
         "scalegroup": "True",
         "showlegend": true,
         "type": "violin",
         "x": [
          "SFG",
          "SFG",
          "SFG",
          "SFG",
          "SFG",
          "SFG",
          "SFG",
          "SFG",
          "SFG",
          "SFG",
          "SFG",
          "SFG",
          "SFG",
          "SFG",
          "SFG",
          "SFG",
          "SFG",
          "SFG",
          "SFG",
          "SFG",
          "SFG",
          "SFG",
          "SFG",
          "SFG",
          "SFG",
          "SFG",
          "SFG",
          "SFG",
          "SFG",
          "SFG"
         ],
         "x0": " ",
         "xaxis": "x",
         "y": [
          0,
          5,
          0,
          0,
          13,
          5,
          12,
          0,
          0,
          9,
          12,
          4,
          1,
          0,
          1,
          9,
          0,
          0,
          0,
          0,
          0,
          11,
          2,
          4,
          0,
          5,
          9,
          2,
          0,
          11
         ],
         "y0": " ",
         "yaxis": "y"
        },
        {
         "alignmentgroup": "True",
         "box": {
          "visible": true
         },
         "hovertemplate": "Team=%{x}<br>Home Runs=%{y}<extra></extra>",
         "legendgroup": "TOT",
         "marker": {
          "color": "#636efa"
         },
         "name": "TOT",
         "offsetgroup": "TOT",
         "orientation": "v",
         "points": false,
         "scalegroup": "True",
         "showlegend": true,
         "type": "violin",
         "x": [
          "TOT",
          "TOT",
          "TOT",
          "TOT",
          "TOT",
          "TOT",
          "TOT",
          "TOT",
          "TOT",
          "TOT",
          "TOT",
          "TOT",
          "TOT",
          "TOT",
          "TOT",
          "TOT",
          "TOT",
          "TOT",
          "TOT"
         ],
         "x0": " ",
         "xaxis": "x",
         "y": [
          1,
          0,
          0,
          0,
          4,
          0,
          7,
          2,
          2,
          9,
          0,
          0,
          0,
          9,
          0,
          0,
          0,
          3,
          1
         ],
         "y0": " ",
         "yaxis": "y"
        },
        {
         "alignmentgroup": "True",
         "box": {
          "visible": true
         },
         "hovertemplate": "Team=%{x}<br>Home Runs=%{y}<extra></extra>",
         "legendgroup": "COL",
         "marker": {
          "color": "#EF553B"
         },
         "name": "COL",
         "offsetgroup": "COL",
         "orientation": "v",
         "points": false,
         "scalegroup": "True",
         "showlegend": true,
         "type": "violin",
         "x": [
          "COL",
          "COL",
          "COL",
          "COL",
          "COL",
          "COL",
          "COL",
          "COL",
          "COL",
          "COL",
          "COL",
          "COL",
          "COL",
          "COL",
          "COL",
          "COL",
          "COL",
          "COL",
          "COL",
          "COL",
          "COL",
          "COL",
          "COL"
         ],
         "x0": " ",
         "xaxis": "x",
         "y": [
          1,
          5,
          8,
          1,
          11,
          0,
          10,
          6,
          5,
          0,
          8,
          0,
          15,
          2,
          1,
          4,
          7,
          0,
          0,
          1,
          9,
          1,
          1
         ],
         "y0": " ",
         "yaxis": "y"
        },
        {
         "alignmentgroup": "True",
         "box": {
          "visible": true
         },
         "hovertemplate": "Team=%{x}<br>Home Runs=%{y}<extra></extra>",
         "legendgroup": "BOS",
         "marker": {
          "color": "#00cc96"
         },
         "name": "BOS",
         "offsetgroup": "BOS",
         "orientation": "v",
         "points": false,
         "scalegroup": "True",
         "showlegend": true,
         "type": "violin",
         "x": [
          "BOS",
          "BOS",
          "BOS",
          "BOS",
          "BOS",
          "BOS",
          "BOS",
          "BOS",
          "BOS",
          "BOS",
          "BOS",
          "BOS",
          "BOS",
          "BOS",
          "BOS",
          "BOS",
          "BOS",
          "BOS",
          "BOS",
          "BOS",
          "BOS",
          "BOS",
          "BOS",
          "BOS",
          "BOS"
         ],
         "x0": " ",
         "xaxis": "x",
         "y": [
          0,
          3,
          14,
          5,
          0,
          0,
          23,
          6,
          7,
          0,
          0,
          6,
          0,
          0,
          0,
          1,
          0,
          0,
          0,
          1,
          16,
          4,
          7,
          6,
          11
         ],
         "y0": " ",
         "yaxis": "y"
        },
        {
         "alignmentgroup": "True",
         "box": {
          "visible": true
         },
         "hovertemplate": "Team=%{x}<br>Home Runs=%{y}<extra></extra>",
         "legendgroup": "NYY",
         "marker": {
          "color": "#ab63fa"
         },
         "name": "NYY",
         "offsetgroup": "NYY",
         "orientation": "v",
         "points": false,
         "scalegroup": "True",
         "showlegend": true,
         "type": "violin",
         "x": [
          "NYY",
          "NYY",
          "NYY",
          "NYY",
          "NYY",
          "NYY",
          "NYY",
          "NYY",
          "NYY",
          "NYY",
          "NYY",
          "NYY",
          "NYY",
          "NYY",
          "NYY",
          "NYY",
          "NYY",
          "NYY",
          "NYY",
          "NYY",
          "NYY"
         ],
         "x0": " ",
         "xaxis": "x",
         "y": [
          1,
          7,
          7,
          4,
          5,
          6,
          10,
          0,
          1,
          5,
          19,
          5,
          8,
          5,
          0,
          11,
          0,
          13,
          15,
          4,
          13
         ],
         "y0": " ",
         "yaxis": "y"
        },
        {
         "alignmentgroup": "True",
         "box": {
          "visible": true
         },
         "hovertemplate": "Team=%{x}<br>Home Runs=%{y}<extra></extra>",
         "legendgroup": "NYM",
         "marker": {
          "color": "#FFA15A"
         },
         "name": "NYM",
         "offsetgroup": "NYM",
         "orientation": "v",
         "points": false,
         "scalegroup": "True",
         "showlegend": true,
         "type": "violin",
         "x": [
          "NYM",
          "NYM",
          "NYM",
          "NYM",
          "NYM",
          "NYM",
          "NYM",
          "NYM",
          "NYM",
          "NYM",
          "NYM",
          "NYM",
          "NYM",
          "NYM",
          "NYM",
          "NYM",
          "NYM",
          "NYM",
          "NYM",
          "NYM",
          "NYM"
         ],
         "x0": " ",
         "xaxis": "x",
         "y": [
          26,
          19,
          7,
          6,
          4,
          1,
          0,
          19,
          0,
          5,
          3,
          0,
          1,
          0,
          15,
          0,
          9,
          0,
          1,
          1,
          6
         ],
         "y0": " ",
         "yaxis": "y"
        },
        {
         "alignmentgroup": "True",
         "box": {
          "visible": true
         },
         "hovertemplate": "Team=%{x}<br>Home Runs=%{y}<extra></extra>",
         "legendgroup": "MIA",
         "marker": {
          "color": "#19d3f3"
         },
         "name": "MIA",
         "offsetgroup": "MIA",
         "orientation": "v",
         "points": false,
         "scalegroup": "True",
         "showlegend": true,
         "type": "violin",
         "x": [
          "MIA",
          "MIA",
          "MIA",
          "MIA",
          "MIA",
          "MIA",
          "MIA",
          "MIA",
          "MIA",
          "MIA",
          "MIA",
          "MIA",
          "MIA",
          "MIA",
          "MIA",
          "MIA",
          "MIA",
          "MIA",
          "MIA"
         ],
         "x0": " ",
         "xaxis": "x",
         "y": [
          0,
          3,
          2,
          1,
          9,
          12,
          2,
          12,
          0,
          4,
          3,
          3,
          1,
          1,
          10,
          2,
          24,
          1,
          1
         ],
         "y0": " ",
         "yaxis": "y"
        },
        {
         "alignmentgroup": "True",
         "box": {
          "visible": true
         },
         "hovertemplate": "Team=%{x}<br>Home Runs=%{y}<extra></extra>",
         "legendgroup": "CHC",
         "marker": {
          "color": "#FF6692"
         },
         "name": "CHC",
         "offsetgroup": "CHC",
         "orientation": "v",
         "points": false,
         "scalegroup": "True",
         "showlegend": true,
         "type": "violin",
         "x": [
          "CHC",
          "CHC",
          "CHC",
          "CHC",
          "CHC",
          "CHC",
          "CHC",
          "CHC",
          "CHC",
          "CHC",
          "CHC",
          "CHC",
          "CHC",
          "CHC",
          "CHC",
          "CHC",
          "CHC",
          "CHC",
          "CHC",
          "CHC",
          "CHC",
          "CHC",
          "CHC",
          "CHC",
          "CHC"
         ],
         "x0": " ",
         "xaxis": "x",
         "y": [
          2,
          1,
          13,
          0,
          8,
          8,
          6,
          2,
          0,
          0,
          1,
          4,
          1,
          0,
          3,
          15,
          1,
          0,
          8,
          10,
          4,
          0,
          3,
          17,
          1
         ],
         "y0": " ",
         "yaxis": "y"
        },
        {
         "alignmentgroup": "True",
         "box": {
          "visible": true
         },
         "hovertemplate": "Team=%{x}<br>Home Runs=%{y}<extra></extra>",
         "legendgroup": "PIT",
         "marker": {
          "color": "#B6E880"
         },
         "name": "PIT",
         "offsetgroup": "PIT",
         "orientation": "v",
         "points": false,
         "scalegroup": "True",
         "showlegend": true,
         "type": "violin",
         "x": [
          "PIT",
          "PIT",
          "PIT",
          "PIT",
          "PIT",
          "PIT",
          "PIT",
          "PIT",
          "PIT",
          "PIT",
          "PIT",
          "PIT",
          "PIT",
          "PIT",
          "PIT",
          "PIT",
          "PIT",
          "PIT",
          "PIT",
          "PIT",
          "PIT",
          "PIT",
          "PIT",
          "PIT",
          "PIT",
          "PIT"
         ],
         "x0": " ",
         "xaxis": "x",
         "y": [
          2,
          2,
          6,
          5,
          1,
          4,
          1,
          2,
          5,
          1,
          0,
          7,
          0,
          3,
          0,
          10,
          0,
          0,
          1,
          0,
          9,
          1,
          9,
          0,
          20,
          0
         ],
         "y0": " ",
         "yaxis": "y"
        },
        {
         "alignmentgroup": "True",
         "box": {
          "visible": true
         },
         "hovertemplate": "Team=%{x}<br>Home Runs=%{y}<extra></extra>",
         "legendgroup": "TBR",
         "marker": {
          "color": "#FF97FF"
         },
         "name": "TBR",
         "offsetgroup": "TBR",
         "orientation": "v",
         "points": false,
         "scalegroup": "True",
         "showlegend": true,
         "type": "violin",
         "x": [
          "TBR",
          "TBR",
          "TBR",
          "TBR",
          "TBR",
          "TBR",
          "TBR",
          "TBR",
          "TBR",
          "TBR",
          "TBR",
          "TBR",
          "TBR",
          "TBR",
          "TBR",
          "TBR"
         ],
         "x0": " ",
         "xaxis": "x",
         "y": [
          0,
          17,
          7,
          0,
          13,
          11,
          10,
          13,
          3,
          5,
          18,
          0,
          15,
          9,
          20,
          7
         ],
         "y0": " ",
         "yaxis": "y"
        },
        {
         "alignmentgroup": "True",
         "box": {
          "visible": true
         },
         "hovertemplate": "Team=%{x}<br>Home Runs=%{y}<extra></extra>",
         "legendgroup": "STL",
         "marker": {
          "color": "#FECB52"
         },
         "name": "STL",
         "offsetgroup": "STL",
         "orientation": "v",
         "points": false,
         "scalegroup": "True",
         "showlegend": true,
         "type": "violin",
         "x": [
          "STL",
          "STL",
          "STL",
          "STL",
          "STL",
          "STL",
          "STL",
          "STL",
          "STL",
          "STL",
          "STL",
          "STL",
          "STL",
          "STL",
          "STL",
          "STL",
          "STL",
          "STL",
          "STL",
          "STL",
          "STL",
          "STL",
          "STL",
          "STL"
         ],
         "x0": " ",
         "xaxis": "x",
         "y": [
          21,
          0,
          0,
          6,
          0,
          5,
          11,
          13,
          11,
          7,
          0,
          16,
          20,
          0,
          0,
          5,
          0,
          0,
          0,
          7,
          2,
          0,
          9,
          2
         ],
         "y0": " ",
         "yaxis": "y"
        },
        {
         "alignmentgroup": "True",
         "box": {
          "visible": true
         },
         "hovertemplate": "Team=%{x}<br>Home Runs=%{y}<extra></extra>",
         "legendgroup": "CLE",
         "marker": {
          "color": "#636efa"
         },
         "name": "CLE",
         "offsetgroup": "CLE",
         "orientation": "v",
         "points": false,
         "scalegroup": "True",
         "showlegend": true,
         "type": "violin",
         "x": [
          "CLE",
          "CLE",
          "CLE",
          "CLE",
          "CLE",
          "CLE",
          "CLE",
          "CLE",
          "CLE",
          "CLE",
          "CLE",
          "CLE",
          "CLE",
          "CLE",
          "CLE",
          "CLE",
          "CLE"
         ],
         "x0": " ",
         "xaxis": "x",
         "y": [
          4,
          11,
          5,
          0,
          2,
          0,
          8,
          1,
          3,
          2,
          15,
          14,
          0,
          3,
          0,
          0,
          3
         ],
         "y0": " ",
         "yaxis": "y"
        },
        {
         "alignmentgroup": "True",
         "box": {
          "visible": true
         },
         "hovertemplate": "Team=%{x}<br>Home Runs=%{y}<extra></extra>",
         "legendgroup": "SDP",
         "marker": {
          "color": "#EF553B"
         },
         "name": "SDP",
         "offsetgroup": "SDP",
         "orientation": "v",
         "points": false,
         "scalegroup": "True",
         "showlegend": true,
         "type": "violin",
         "x": [
          "SDP",
          "SDP",
          "SDP",
          "SDP",
          "SDP",
          "SDP",
          "SDP",
          "SDP",
          "SDP",
          "SDP",
          "SDP",
          "SDP",
          "SDP",
          "SDP",
          "SDP",
          "SDP",
          "SDP",
          "SDP",
          "SDP",
          "SDP",
          "SDP",
          "SDP",
          "SDP"
         ],
         "x0": " ",
         "xaxis": "x",
         "y": [
          0,
          1,
          11,
          2,
          4,
          8,
          5,
          1,
          2,
          0,
          10,
          0,
          12,
          0,
          19,
          1,
          4,
          0,
          9,
          19,
          1,
          0,
          17
         ],
         "y0": " ",
         "yaxis": "y"
        },
        {
         "alignmentgroup": "True",
         "box": {
          "visible": true
         },
         "hovertemplate": "Team=%{x}<br>Home Runs=%{y}<extra></extra>",
         "legendgroup": "DET",
         "marker": {
          "color": "#00cc96"
         },
         "name": "DET",
         "offsetgroup": "DET",
         "orientation": "v",
         "points": false,
         "scalegroup": "True",
         "showlegend": true,
         "type": "violin",
         "x": [
          "DET",
          "DET",
          "DET",
          "DET",
          "DET",
          "DET",
          "DET",
          "DET",
          "DET",
          "DET",
          "DET",
          "DET",
          "DET",
          "DET",
          "DET",
          "DET",
          "DET",
          "DET",
          "DET"
         ],
         "x0": " ",
         "xaxis": "x",
         "y": [
          4,
          7,
          1,
          11,
          7,
          3,
          6,
          0,
          2,
          7,
          7,
          0,
          1,
          11,
          0,
          4,
          0,
          14,
          7
         ],
         "y0": " ",
         "yaxis": "y"
        },
        {
         "alignmentgroup": "True",
         "box": {
          "visible": true
         },
         "hovertemplate": "Team=%{x}<br>Home Runs=%{y}<extra></extra>",
         "legendgroup": "BAL",
         "marker": {
          "color": "#ab63fa"
         },
         "name": "BAL",
         "offsetgroup": "BAL",
         "orientation": "v",
         "points": false,
         "scalegroup": "True",
         "showlegend": true,
         "type": "violin",
         "x": [
          "BAL",
          "BAL",
          "BAL",
          "BAL",
          "BAL",
          "BAL",
          "BAL",
          "BAL",
          "BAL",
          "BAL",
          "BAL",
          "BAL",
          "BAL",
          "BAL",
          "BAL",
          "BAL",
          "BAL",
          "BAL",
          "BAL",
          "BAL",
          "BAL",
          "BAL",
          "BAL",
          "BAL",
          "BAL",
          "BAL",
          "BAL",
          "BAL"
         ],
         "x0": " ",
         "xaxis": "x",
         "y": [
          0,
          0,
          0,
          0,
          0,
          0,
          12,
          0,
          0,
          9,
          15,
          6,
          0,
          0,
          6,
          3,
          2,
          11,
          9,
          7,
          0,
          0,
          13,
          17,
          0,
          4,
          0,
          0
         ],
         "y0": " ",
         "yaxis": "y"
        },
        {
         "alignmentgroup": "True",
         "box": {
          "visible": true
         },
         "hovertemplate": "Team=%{x}<br>Home Runs=%{y}<extra></extra>",
         "legendgroup": "KCR",
         "marker": {
          "color": "#FFA15A"
         },
         "name": "KCR",
         "offsetgroup": "KCR",
         "orientation": "v",
         "points": false,
         "scalegroup": "True",
         "showlegend": true,
         "type": "violin",
         "x": [
          "KCR",
          "KCR",
          "KCR",
          "KCR",
          "KCR",
          "KCR",
          "KCR",
          "KCR",
          "KCR",
          "KCR",
          "KCR",
          "KCR",
          "KCR",
          "KCR",
          "KCR",
          "KCR",
          "KCR",
          "KCR",
          "KCR",
          "KCR",
          "KCR",
          "KCR"
         ],
         "x0": " ",
         "xaxis": "x",
         "y": [
          0,
          0,
          0,
          1,
          0,
          2,
          1,
          0,
          4,
          3,
          2,
          0,
          6,
          7,
          6,
          9,
          15,
          7,
          2,
          0,
          4,
          16
         ],
         "y0": " ",
         "yaxis": "y"
        },
        {
         "alignmentgroup": "True",
         "box": {
          "visible": true
         },
         "hovertemplate": "Team=%{x}<br>Home Runs=%{y}<extra></extra>",
         "legendgroup": "LAD",
         "marker": {
          "color": "#19d3f3"
         },
         "name": "LAD",
         "offsetgroup": "LAD",
         "orientation": "v",
         "points": false,
         "scalegroup": "True",
         "showlegend": true,
         "type": "violin",
         "x": [
          "LAD",
          "LAD",
          "LAD",
          "LAD",
          "LAD",
          "LAD",
          "LAD",
          "LAD",
          "LAD",
          "LAD",
          "LAD",
          "LAD",
          "LAD",
          "LAD",
          "LAD",
          "LAD",
          "LAD",
          "LAD",
          "LAD",
          "LAD",
          "LAD",
          "LAD",
          "LAD",
          "LAD",
          "LAD"
         ],
         "x0": " ",
         "xaxis": "x",
         "y": [
          0,
          27,
          0,
          2,
          0,
          20,
          0,
          0,
          0,
          9,
          0,
          24,
          0,
          23,
          12,
          7,
          0,
          0,
          13,
          12,
          5,
          7,
          0,
          0,
          0
         ],
         "y0": " ",
         "yaxis": "y"
        },
        {
         "alignmentgroup": "True",
         "box": {
          "visible": true
         },
         "hovertemplate": "Team=%{x}<br>Home Runs=%{y}<extra></extra>",
         "legendgroup": "CIN",
         "marker": {
          "color": "#FF6692"
         },
         "name": "CIN",
         "offsetgroup": "CIN",
         "orientation": "v",
         "points": false,
         "scalegroup": "True",
         "showlegend": true,
         "type": "violin",
         "x": [
          "CIN",
          "CIN",
          "CIN",
          "CIN",
          "CIN",
          "CIN",
          "CIN",
          "CIN",
          "CIN",
          "CIN",
          "CIN",
          "CIN",
          "CIN",
          "CIN",
          "CIN",
          "CIN",
          "CIN",
          "CIN",
          "CIN",
          "CIN",
          "CIN",
          "CIN",
          "CIN",
          "CIN",
          "CIN",
          "CIN",
          "CIN"
         ],
         "x0": " ",
         "xaxis": "x",
         "y": [
          2,
          6,
          0,
          4,
          0,
          0,
          1,
          4,
          14,
          7,
          0,
          0,
          14,
          4,
          10,
          3,
          3,
          0,
          0,
          0,
          7,
          0,
          14,
          7,
          3,
          8,
          0
         ],
         "y0": " ",
         "yaxis": "y"
        },
        {
         "alignmentgroup": "True",
         "box": {
          "visible": true
         },
         "hovertemplate": "Team=%{x}<br>Home Runs=%{y}<extra></extra>",
         "legendgroup": "TOR",
         "marker": {
          "color": "#B6E880"
         },
         "name": "TOR",
         "offsetgroup": "TOR",
         "orientation": "v",
         "points": false,
         "scalegroup": "True",
         "showlegend": true,
         "type": "violin",
         "x": [
          "TOR",
          "TOR",
          "TOR",
          "TOR",
          "TOR",
          "TOR",
          "TOR",
          "TOR",
          "TOR",
          "TOR",
          "TOR",
          "TOR",
          "TOR",
          "TOR",
          "TOR",
          "TOR",
          "TOR",
          "TOR",
          "TOR",
          "TOR"
         ],
         "x0": " ",
         "xaxis": "x",
         "y": [
          7,
          0,
          16,
          7,
          12,
          0,
          1,
          16,
          0,
          0,
          12,
          5,
          4,
          0,
          0,
          0,
          6,
          0,
          13,
          12
         ],
         "y0": " ",
         "yaxis": "y"
        },
        {
         "alignmentgroup": "True",
         "box": {
          "visible": true
         },
         "hovertemplate": "Team=%{x}<br>Home Runs=%{y}<extra></extra>",
         "legendgroup": "PHI",
         "marker": {
          "color": "#FF97FF"
         },
         "name": "PHI",
         "offsetgroup": "PHI",
         "orientation": "v",
         "points": false,
         "scalegroup": "True",
         "showlegend": true,
         "type": "violin",
         "x": [
          "PHI",
          "PHI",
          "PHI",
          "PHI",
          "PHI",
          "PHI",
          "PHI",
          "PHI",
          "PHI",
          "PHI",
          "PHI",
          "PHI",
          "PHI",
          "PHI",
          "PHI",
          "PHI",
          "PHI",
          "PHI"
         ],
         "x0": " ",
         "xaxis": "x",
         "y": [
          9,
          14,
          1,
          4,
          2,
          0,
          1,
          4,
          2,
          7,
          2,
          12,
          0,
          26,
          6,
          9,
          0,
          10
         ],
         "y0": " ",
         "yaxis": "y"
        },
        {
         "alignmentgroup": "True",
         "box": {
          "visible": true
         },
         "hovertemplate": "Team=%{x}<br>Home Runs=%{y}<extra></extra>",
         "legendgroup": "MIN",
         "marker": {
          "color": "#FECB52"
         },
         "name": "MIN",
         "offsetgroup": "MIN",
         "orientation": "v",
         "points": false,
         "scalegroup": "True",
         "showlegend": true,
         "type": "violin",
         "x": [
          "MIN",
          "MIN",
          "MIN",
          "MIN",
          "MIN",
          "MIN",
          "MIN",
          "MIN",
          "MIN",
          "MIN",
          "MIN",
          "MIN",
          "MIN",
          "MIN",
          "MIN",
          "MIN",
          "MIN",
          "MIN",
          "MIN",
          "MIN",
          "MIN"
         ],
         "x0": " ",
         "xaxis": "x",
         "y": [
          17,
          5,
          12,
          6,
          17,
          2,
          2,
          5,
          9,
          14,
          8,
          6,
          4,
          3,
          0,
          5,
          0,
          4,
          11,
          2,
          1
         ],
         "y0": " ",
         "yaxis": "y"
        },
        {
         "alignmentgroup": "True",
         "box": {
          "visible": true
         },
         "hovertemplate": "Team=%{x}<br>Home Runs=%{y}<extra></extra>",
         "legendgroup": "TEX",
         "marker": {
          "color": "#636efa"
         },
         "name": "TEX",
         "offsetgroup": "TEX",
         "orientation": "v",
         "points": false,
         "scalegroup": "True",
         "showlegend": true,
         "type": "violin",
         "x": [
          "TEX",
          "TEX",
          "TEX",
          "TEX",
          "TEX",
          "TEX",
          "TEX",
          "TEX",
          "TEX",
          "TEX",
          "TEX",
          "TEX",
          "TEX",
          "TEX",
          "TEX",
          "TEX",
          "TEX",
          "TEX",
          "TEX",
          "TEX",
          "TEX"
         ],
         "x0": " ",
         "xaxis": "x",
         "y": [
          13,
          24,
          4,
          0,
          7,
          0,
          14,
          0,
          1,
          19,
          0,
          0,
          11,
          1,
          0,
          0,
          15,
          14,
          3,
          11,
          0
         ],
         "y0": " ",
         "yaxis": "y"
        }
       ],
       "layout": {
        "legend": {
         "title": {
          "text": "Team"
         },
         "tracegroupgap": 0
        },
        "template": {
         "data": {
          "bar": [
           {
            "error_x": {
             "color": "#2a3f5f"
            },
            "error_y": {
             "color": "#2a3f5f"
            },
            "marker": {
             "line": {
              "color": "#E5ECF6",
              "width": 0.5
             },
             "pattern": {
              "fillmode": "overlay",
              "size": 10,
              "solidity": 0.2
             }
            },
            "type": "bar"
           }
          ],
          "barpolar": [
           {
            "marker": {
             "line": {
              "color": "#E5ECF6",
              "width": 0.5
             },
             "pattern": {
              "fillmode": "overlay",
              "size": 10,
              "solidity": 0.2
             }
            },
            "type": "barpolar"
           }
          ],
          "carpet": [
           {
            "aaxis": {
             "endlinecolor": "#2a3f5f",
             "gridcolor": "white",
             "linecolor": "white",
             "minorgridcolor": "white",
             "startlinecolor": "#2a3f5f"
            },
            "baxis": {
             "endlinecolor": "#2a3f5f",
             "gridcolor": "white",
             "linecolor": "white",
             "minorgridcolor": "white",
             "startlinecolor": "#2a3f5f"
            },
            "type": "carpet"
           }
          ],
          "choropleth": [
           {
            "colorbar": {
             "outlinewidth": 0,
             "ticks": ""
            },
            "type": "choropleth"
           }
          ],
          "contour": [
           {
            "colorbar": {
             "outlinewidth": 0,
             "ticks": ""
            },
            "colorscale": [
             [
              0,
              "#0d0887"
             ],
             [
              0.1111111111111111,
              "#46039f"
             ],
             [
              0.2222222222222222,
              "#7201a8"
             ],
             [
              0.3333333333333333,
              "#9c179e"
             ],
             [
              0.4444444444444444,
              "#bd3786"
             ],
             [
              0.5555555555555556,
              "#d8576b"
             ],
             [
              0.6666666666666666,
              "#ed7953"
             ],
             [
              0.7777777777777778,
              "#fb9f3a"
             ],
             [
              0.8888888888888888,
              "#fdca26"
             ],
             [
              1,
              "#f0f921"
             ]
            ],
            "type": "contour"
           }
          ],
          "contourcarpet": [
           {
            "colorbar": {
             "outlinewidth": 0,
             "ticks": ""
            },
            "type": "contourcarpet"
           }
          ],
          "heatmap": [
           {
            "colorbar": {
             "outlinewidth": 0,
             "ticks": ""
            },
            "colorscale": [
             [
              0,
              "#0d0887"
             ],
             [
              0.1111111111111111,
              "#46039f"
             ],
             [
              0.2222222222222222,
              "#7201a8"
             ],
             [
              0.3333333333333333,
              "#9c179e"
             ],
             [
              0.4444444444444444,
              "#bd3786"
             ],
             [
              0.5555555555555556,
              "#d8576b"
             ],
             [
              0.6666666666666666,
              "#ed7953"
             ],
             [
              0.7777777777777778,
              "#fb9f3a"
             ],
             [
              0.8888888888888888,
              "#fdca26"
             ],
             [
              1,
              "#f0f921"
             ]
            ],
            "type": "heatmap"
           }
          ],
          "heatmapgl": [
           {
            "colorbar": {
             "outlinewidth": 0,
             "ticks": ""
            },
            "colorscale": [
             [
              0,
              "#0d0887"
             ],
             [
              0.1111111111111111,
              "#46039f"
             ],
             [
              0.2222222222222222,
              "#7201a8"
             ],
             [
              0.3333333333333333,
              "#9c179e"
             ],
             [
              0.4444444444444444,
              "#bd3786"
             ],
             [
              0.5555555555555556,
              "#d8576b"
             ],
             [
              0.6666666666666666,
              "#ed7953"
             ],
             [
              0.7777777777777778,
              "#fb9f3a"
             ],
             [
              0.8888888888888888,
              "#fdca26"
             ],
             [
              1,
              "#f0f921"
             ]
            ],
            "type": "heatmapgl"
           }
          ],
          "histogram": [
           {
            "marker": {
             "pattern": {
              "fillmode": "overlay",
              "size": 10,
              "solidity": 0.2
             }
            },
            "type": "histogram"
           }
          ],
          "histogram2d": [
           {
            "colorbar": {
             "outlinewidth": 0,
             "ticks": ""
            },
            "colorscale": [
             [
              0,
              "#0d0887"
             ],
             [
              0.1111111111111111,
              "#46039f"
             ],
             [
              0.2222222222222222,
              "#7201a8"
             ],
             [
              0.3333333333333333,
              "#9c179e"
             ],
             [
              0.4444444444444444,
              "#bd3786"
             ],
             [
              0.5555555555555556,
              "#d8576b"
             ],
             [
              0.6666666666666666,
              "#ed7953"
             ],
             [
              0.7777777777777778,
              "#fb9f3a"
             ],
             [
              0.8888888888888888,
              "#fdca26"
             ],
             [
              1,
              "#f0f921"
             ]
            ],
            "type": "histogram2d"
           }
          ],
          "histogram2dcontour": [
           {
            "colorbar": {
             "outlinewidth": 0,
             "ticks": ""
            },
            "colorscale": [
             [
              0,
              "#0d0887"
             ],
             [
              0.1111111111111111,
              "#46039f"
             ],
             [
              0.2222222222222222,
              "#7201a8"
             ],
             [
              0.3333333333333333,
              "#9c179e"
             ],
             [
              0.4444444444444444,
              "#bd3786"
             ],
             [
              0.5555555555555556,
              "#d8576b"
             ],
             [
              0.6666666666666666,
              "#ed7953"
             ],
             [
              0.7777777777777778,
              "#fb9f3a"
             ],
             [
              0.8888888888888888,
              "#fdca26"
             ],
             [
              1,
              "#f0f921"
             ]
            ],
            "type": "histogram2dcontour"
           }
          ],
          "mesh3d": [
           {
            "colorbar": {
             "outlinewidth": 0,
             "ticks": ""
            },
            "type": "mesh3d"
           }
          ],
          "parcoords": [
           {
            "line": {
             "colorbar": {
              "outlinewidth": 0,
              "ticks": ""
             }
            },
            "type": "parcoords"
           }
          ],
          "pie": [
           {
            "automargin": true,
            "type": "pie"
           }
          ],
          "scatter": [
           {
            "fillpattern": {
             "fillmode": "overlay",
             "size": 10,
             "solidity": 0.2
            },
            "type": "scatter"
           }
          ],
          "scatter3d": [
           {
            "line": {
             "colorbar": {
              "outlinewidth": 0,
              "ticks": ""
             }
            },
            "marker": {
             "colorbar": {
              "outlinewidth": 0,
              "ticks": ""
             }
            },
            "type": "scatter3d"
           }
          ],
          "scattercarpet": [
           {
            "marker": {
             "colorbar": {
              "outlinewidth": 0,
              "ticks": ""
             }
            },
            "type": "scattercarpet"
           }
          ],
          "scattergeo": [
           {
            "marker": {
             "colorbar": {
              "outlinewidth": 0,
              "ticks": ""
             }
            },
            "type": "scattergeo"
           }
          ],
          "scattergl": [
           {
            "marker": {
             "colorbar": {
              "outlinewidth": 0,
              "ticks": ""
             }
            },
            "type": "scattergl"
           }
          ],
          "scattermapbox": [
           {
            "marker": {
             "colorbar": {
              "outlinewidth": 0,
              "ticks": ""
             }
            },
            "type": "scattermapbox"
           }
          ],
          "scatterpolar": [
           {
            "marker": {
             "colorbar": {
              "outlinewidth": 0,
              "ticks": ""
             }
            },
            "type": "scatterpolar"
           }
          ],
          "scatterpolargl": [
           {
            "marker": {
             "colorbar": {
              "outlinewidth": 0,
              "ticks": ""
             }
            },
            "type": "scatterpolargl"
           }
          ],
          "scatterternary": [
           {
            "marker": {
             "colorbar": {
              "outlinewidth": 0,
              "ticks": ""
             }
            },
            "type": "scatterternary"
           }
          ],
          "surface": [
           {
            "colorbar": {
             "outlinewidth": 0,
             "ticks": ""
            },
            "colorscale": [
             [
              0,
              "#0d0887"
             ],
             [
              0.1111111111111111,
              "#46039f"
             ],
             [
              0.2222222222222222,
              "#7201a8"
             ],
             [
              0.3333333333333333,
              "#9c179e"
             ],
             [
              0.4444444444444444,
              "#bd3786"
             ],
             [
              0.5555555555555556,
              "#d8576b"
             ],
             [
              0.6666666666666666,
              "#ed7953"
             ],
             [
              0.7777777777777778,
              "#fb9f3a"
             ],
             [
              0.8888888888888888,
              "#fdca26"
             ],
             [
              1,
              "#f0f921"
             ]
            ],
            "type": "surface"
           }
          ],
          "table": [
           {
            "cells": {
             "fill": {
              "color": "#EBF0F8"
             },
             "line": {
              "color": "white"
             }
            },
            "header": {
             "fill": {
              "color": "#C8D4E3"
             },
             "line": {
              "color": "white"
             }
            },
            "type": "table"
           }
          ]
         },
         "layout": {
          "annotationdefaults": {
           "arrowcolor": "#2a3f5f",
           "arrowhead": 0,
           "arrowwidth": 1
          },
          "autotypenumbers": "strict",
          "coloraxis": {
           "colorbar": {
            "outlinewidth": 0,
            "ticks": ""
           }
          },
          "colorscale": {
           "diverging": [
            [
             0,
             "#8e0152"
            ],
            [
             0.1,
             "#c51b7d"
            ],
            [
             0.2,
             "#de77ae"
            ],
            [
             0.3,
             "#f1b6da"
            ],
            [
             0.4,
             "#fde0ef"
            ],
            [
             0.5,
             "#f7f7f7"
            ],
            [
             0.6,
             "#e6f5d0"
            ],
            [
             0.7,
             "#b8e186"
            ],
            [
             0.8,
             "#7fbc41"
            ],
            [
             0.9,
             "#4d9221"
            ],
            [
             1,
             "#276419"
            ]
           ],
           "sequential": [
            [
             0,
             "#0d0887"
            ],
            [
             0.1111111111111111,
             "#46039f"
            ],
            [
             0.2222222222222222,
             "#7201a8"
            ],
            [
             0.3333333333333333,
             "#9c179e"
            ],
            [
             0.4444444444444444,
             "#bd3786"
            ],
            [
             0.5555555555555556,
             "#d8576b"
            ],
            [
             0.6666666666666666,
             "#ed7953"
            ],
            [
             0.7777777777777778,
             "#fb9f3a"
            ],
            [
             0.8888888888888888,
             "#fdca26"
            ],
            [
             1,
             "#f0f921"
            ]
           ],
           "sequentialminus": [
            [
             0,
             "#0d0887"
            ],
            [
             0.1111111111111111,
             "#46039f"
            ],
            [
             0.2222222222222222,
             "#7201a8"
            ],
            [
             0.3333333333333333,
             "#9c179e"
            ],
            [
             0.4444444444444444,
             "#bd3786"
            ],
            [
             0.5555555555555556,
             "#d8576b"
            ],
            [
             0.6666666666666666,
             "#ed7953"
            ],
            [
             0.7777777777777778,
             "#fb9f3a"
            ],
            [
             0.8888888888888888,
             "#fdca26"
            ],
            [
             1,
             "#f0f921"
            ]
           ]
          },
          "colorway": [
           "#636efa",
           "#EF553B",
           "#00cc96",
           "#ab63fa",
           "#FFA15A",
           "#19d3f3",
           "#FF6692",
           "#B6E880",
           "#FF97FF",
           "#FECB52"
          ],
          "font": {
           "color": "#2a3f5f"
          },
          "geo": {
           "bgcolor": "white",
           "lakecolor": "white",
           "landcolor": "#E5ECF6",
           "showlakes": true,
           "showland": true,
           "subunitcolor": "white"
          },
          "hoverlabel": {
           "align": "left"
          },
          "hovermode": "closest",
          "mapbox": {
           "style": "light"
          },
          "paper_bgcolor": "white",
          "plot_bgcolor": "#E5ECF6",
          "polar": {
           "angularaxis": {
            "gridcolor": "white",
            "linecolor": "white",
            "ticks": ""
           },
           "bgcolor": "#E5ECF6",
           "radialaxis": {
            "gridcolor": "white",
            "linecolor": "white",
            "ticks": ""
           }
          },
          "scene": {
           "xaxis": {
            "backgroundcolor": "#E5ECF6",
            "gridcolor": "white",
            "gridwidth": 2,
            "linecolor": "white",
            "showbackground": true,
            "ticks": "",
            "zerolinecolor": "white"
           },
           "yaxis": {
            "backgroundcolor": "#E5ECF6",
            "gridcolor": "white",
            "gridwidth": 2,
            "linecolor": "white",
            "showbackground": true,
            "ticks": "",
            "zerolinecolor": "white"
           },
           "zaxis": {
            "backgroundcolor": "#E5ECF6",
            "gridcolor": "white",
            "gridwidth": 2,
            "linecolor": "white",
            "showbackground": true,
            "ticks": "",
            "zerolinecolor": "white"
           }
          },
          "shapedefaults": {
           "line": {
            "color": "#2a3f5f"
           }
          },
          "ternary": {
           "aaxis": {
            "gridcolor": "white",
            "linecolor": "white",
            "ticks": ""
           },
           "baxis": {
            "gridcolor": "white",
            "linecolor": "white",
            "ticks": ""
           },
           "bgcolor": "#E5ECF6",
           "caxis": {
            "gridcolor": "white",
            "linecolor": "white",
            "ticks": ""
           }
          },
          "title": {
           "x": 0.05
          },
          "xaxis": {
           "automargin": true,
           "gridcolor": "white",
           "linecolor": "white",
           "ticks": "",
           "title": {
            "standoff": 15
           },
           "zerolinecolor": "white",
           "zerolinewidth": 2
          },
          "yaxis": {
           "automargin": true,
           "gridcolor": "white",
           "linecolor": "white",
           "ticks": "",
           "title": {
            "standoff": 15
           },
           "zerolinecolor": "white",
           "zerolinewidth": 2
          }
         }
        },
        "title": {
         "text": "Distribution by Team"
        },
        "violinmode": "overlay",
        "xaxis": {
         "anchor": "y",
         "categoryarray": [
          "WSN",
          "HOU",
          "ATL",
          "MIL",
          "SEA",
          "LAA",
          "OAK",
          "ARI",
          "CHW",
          "SFG",
          "TOT",
          "COL",
          "BOS",
          "NYY",
          "NYM",
          "MIA",
          "CHC",
          "PIT",
          "TBR",
          "STL",
          "CLE",
          "SDP",
          "DET",
          "BAL",
          "KCR",
          "LAD",
          "CIN",
          "TOR",
          "PHI",
          "MIN",
          "TEX"
         ],
         "categoryorder": "array",
         "domain": [
          0,
          1
         ],
         "title": {
          "text": "Team"
         }
        },
        "yaxis": {
         "anchor": "x",
         "domain": [
          0,
          1
         ],
         "title": {
          "text": "Home Runs"
         }
        }
       }
      }
     },
     "metadata": {},
     "output_type": "display_data"
    }
   ],
   "source": [
    "import plotly.express as px\n",
    "\n",
    "# Initial plot with HR\n",
    "fig = px.violin(mlb_data, x=\"Tm\", y=\"HR\", box=True, points=False, title=\"Distribution by Team\",\n",
    "                labels={\"Tm\": \"Team\", \"HR\": \"Home Runs\"}, color=\"Tm\")\n",
    "\n",
    "\n",
    "# Show the plot\n",
    "fig.show()"
   ]
  },
  {
   "cell_type": "markdown",
   "metadata": {},
   "source": [
    "Bar Chart: Ranks MLB teams by total Home Runs, making it easy to identify the most power-heavy teams."
   ]
  },
  {
   "cell_type": "code",
   "execution_count": 191,
   "metadata": {},
   "outputs": [
    {
     "data": {
      "text/html": [
       "\n",
       "<style>\n",
       "  #altair-viz-ae7810dfc3784c85b324cfbbd198fefb.vega-embed {\n",
       "    width: 100%;\n",
       "    display: flex;\n",
       "  }\n",
       "\n",
       "  #altair-viz-ae7810dfc3784c85b324cfbbd198fefb.vega-embed details,\n",
       "  #altair-viz-ae7810dfc3784c85b324cfbbd198fefb.vega-embed details summary {\n",
       "    position: relative;\n",
       "  }\n",
       "</style>\n",
       "<div id=\"altair-viz-ae7810dfc3784c85b324cfbbd198fefb\"></div>\n",
       "<script type=\"text/javascript\">\n",
       "  var VEGA_DEBUG = (typeof VEGA_DEBUG == \"undefined\") ? {} : VEGA_DEBUG;\n",
       "  (function(spec, embedOpt){\n",
       "    let outputDiv = document.currentScript.previousElementSibling;\n",
       "    if (outputDiv.id !== \"altair-viz-ae7810dfc3784c85b324cfbbd198fefb\") {\n",
       "      outputDiv = document.getElementById(\"altair-viz-ae7810dfc3784c85b324cfbbd198fefb\");\n",
       "    }\n",
       "    const paths = {\n",
       "      \"vega\": \"https://cdn.jsdelivr.net/npm/vega@5?noext\",\n",
       "      \"vega-lib\": \"https://cdn.jsdelivr.net/npm/vega-lib?noext\",\n",
       "      \"vega-lite\": \"https://cdn.jsdelivr.net/npm/vega-lite@5.17.0?noext\",\n",
       "      \"vega-embed\": \"https://cdn.jsdelivr.net/npm/vega-embed@6?noext\",\n",
       "    };\n",
       "\n",
       "    function maybeLoadScript(lib, version) {\n",
       "      var key = `${lib.replace(\"-\", \"\")}_version`;\n",
       "      return (VEGA_DEBUG[key] == version) ?\n",
       "        Promise.resolve(paths[lib]) :\n",
       "        new Promise(function(resolve, reject) {\n",
       "          var s = document.createElement('script');\n",
       "          document.getElementsByTagName(\"head\")[0].appendChild(s);\n",
       "          s.async = true;\n",
       "          s.onload = () => {\n",
       "            VEGA_DEBUG[key] = version;\n",
       "            return resolve(paths[lib]);\n",
       "          };\n",
       "          s.onerror = () => reject(`Error loading script: ${paths[lib]}`);\n",
       "          s.src = paths[lib];\n",
       "        });\n",
       "    }\n",
       "\n",
       "    function showError(err) {\n",
       "      outputDiv.innerHTML = `<div class=\"error\" style=\"color:red;\">${err}</div>`;\n",
       "      throw err;\n",
       "    }\n",
       "\n",
       "    function displayChart(vegaEmbed) {\n",
       "      vegaEmbed(outputDiv, spec, embedOpt)\n",
       "        .catch(err => showError(`Javascript Error: ${err.message}<br>This usually means there's a typo in your chart specification. See the javascript console for the full traceback.`));\n",
       "    }\n",
       "\n",
       "    if(typeof define === \"function\" && define.amd) {\n",
       "      requirejs.config({paths});\n",
       "      require([\"vega-embed\"], displayChart, err => showError(`Error loading script: ${err.message}`));\n",
       "    } else {\n",
       "      maybeLoadScript(\"vega\", \"5\")\n",
       "        .then(() => maybeLoadScript(\"vega-lite\", \"5.17.0\"))\n",
       "        .then(() => maybeLoadScript(\"vega-embed\", \"6\"))\n",
       "        .catch(showError)\n",
       "        .then(() => displayChart(vegaEmbed));\n",
       "    }\n",
       "  })({\"config\": {\"view\": {\"continuousWidth\": 300, \"continuousHeight\": 300}}, \"data\": {\"name\": \"data-380506a79834323112ac1dd9689450e1\"}, \"mark\": {\"type\": \"bar\"}, \"encoding\": {\"color\": {\"field\": \"HR\", \"legend\": null, \"scale\": {\"scheme\": \"blues\"}, \"type\": \"quantitative\"}, \"tooltip\": [{\"field\": \"Tm\", \"type\": \"nominal\"}, {\"field\": \"HR\", \"type\": \"quantitative\"}], \"x\": {\"field\": \"Tm\", \"sort\": \"-y\", \"title\": \"Team\", \"type\": \"nominal\"}, \"y\": {\"field\": \"HR\", \"title\": \"Total Home Runs\", \"type\": \"quantitative\"}}, \"height\": 400, \"params\": [{\"name\": \"param_48\", \"select\": {\"type\": \"interval\", \"encodings\": [\"x\", \"y\"]}, \"bind\": \"scales\"}], \"title\": \"Total Home Runs by Team\", \"width\": 600, \"$schema\": \"https://vega.github.io/schema/vega-lite/v5.17.0.json\", \"datasets\": {\"data-380506a79834323112ac1dd9689450e1\": [{\"Tm\": \"ATL\", \"HR\": 185}, {\"Tm\": \"LAD\", \"HR\": 161}, {\"Tm\": \"LAA\", \"HR\": 151}, {\"Tm\": \"TBR\", \"HR\": 148}, {\"Tm\": \"NYY\", \"HR\": 139}, {\"Tm\": \"TEX\", \"HR\": 137}, {\"Tm\": \"STL\", \"HR\": 135}, {\"Tm\": \"MIN\", \"HR\": 133}, {\"Tm\": \"SDP\", \"HR\": 126}, {\"Tm\": \"NYM\", \"HR\": 123}, {\"Tm\": \"HOU\", \"HR\": 122}, {\"Tm\": \"ARI\", \"HR\": 116}, {\"Tm\": \"SFG\", \"HR\": 115}, {\"Tm\": \"BAL\", \"HR\": 114}, {\"Tm\": \"SEA\", \"HR\": 114}, {\"Tm\": \"TOR\", \"HR\": 111}, {\"Tm\": \"CIN\", \"HR\": 111}, {\"Tm\": \"CHW\", \"HR\": 110}, {\"Tm\": \"BOS\", \"HR\": 110}, {\"Tm\": \"PHI\", \"HR\": 109}, {\"Tm\": \"CHC\", \"HR\": 108}, {\"Tm\": \"MIL\", \"HR\": 103}, {\"Tm\": \"COL\", \"HR\": 96}, {\"Tm\": \"OAK\", \"HR\": 95}, {\"Tm\": \"DET\", \"HR\": 92}, {\"Tm\": \"MIA\", \"HR\": 91}, {\"Tm\": \"PIT\", \"HR\": 89}, {\"Tm\": \"WSN\", \"HR\": 88}, {\"Tm\": \"KCR\", \"HR\": 85}, {\"Tm\": \"CLE\", \"HR\": 71}, {\"Tm\": \"TOT\", \"HR\": 38}]}}, {\"mode\": \"vega-lite\"});\n",
       "</script>"
      ],
      "text/plain": [
       "alt.Chart(...)"
      ]
     },
     "execution_count": 191,
     "metadata": {},
     "output_type": "execute_result"
    }
   ],
   "source": [
    "# Using Altair, create a bar chart of the total home runs by team\n",
    "# Aggregate total home runs by team\n",
    "hr_by_team = mlb_data.groupby('Tm')['HR'].sum().reset_index()\n",
    "\n",
    "# Sort teams by total home runs in descending order\n",
    "hr_by_team = hr_by_team.sort_values(by='HR', ascending=False)\n",
    "\n",
    "# Create a bar chart\n",
    "bar_chart = alt.Chart(hr_by_team).mark_bar().encode(\n",
    "    x=alt.X('Tm:N', sort='-y', title='Team'),\n",
    "    y=alt.Y('HR:Q', title='Total Home Runs'),\n",
    "    color=alt.Color('HR:Q', scale=alt.Scale(scheme='blues'), legend=None),\n",
    "    tooltip=['Tm:N', 'HR:Q']\n",
    ").properties(\n",
    "    title='Total Home Runs by Team',\n",
    "    width=600,\n",
    "    height=400\n",
    ").interactive()\n",
    "\n",
    "bar_chart\n"
   ]
  },
  {
   "cell_type": "markdown",
   "metadata": {},
   "source": [
    "### 3. Summary of Key Design Elements\n",
    "\n",
    "**Scatter Plot Enhancements:**\n",
    "\n",
    "- Color-coded by team for quick identification.\n",
    "- Transparency (alpha=0.7) to reduce overlapping points.\n",
    "- No legend clutter (as teams are visually distinguishable).\n",
    "\n",
    "**Violin Plot Enhancements:**\n",
    "\n",
    "- Inner quartile marks to show the distribution clearly.\n",
    "- Interactive rollover to show values of violin distribution\n",
    "\n",
    "**Bar Chart Enhancements:**\n",
    "\n",
    "- Sorted in descending order for easy interpretation.\n",
    "- Blue gradient (Blues_r) to emphasize higher values.\n",
    "- Grid lines for readability.\n",
    "\n",
    "------"
   ]
  },
  {
   "cell_type": "markdown",
   "metadata": {},
   "source": [
    "### 4. Evaluation Approach\n",
    "\n",
    "**Participants:**\n",
    "\n",
    "- A mix of baseball coaches, fans, and analysts.\n",
    "- If experts are unavailable, friends, family or classmates with an interest in baseball analytics will be recruited.\n",
    "\n",
    "**Evaluation Methods:**\n",
    "\n",
    "1. User Surveys & Questionnaires:\n",
    "    - Rate clarity, effectiveness, and ease of interpretation.\n",
    "    - Example question: \"On a scale of 1-5, how easy was it to interpret the scatter plot?\"\n",
    "\n",
    "2. Task-Based Testing:\n",
    "    - Participants will complete tasks such as:\n",
    "        - \"Identify the team with the most home runs.\"\n",
    "        - \"Determine whether high-HR players generally have high AVG.\"\n",
    "    - For deeper insights, combine open-ended and multiple-choice questions:\n",
    "      *\"Which team shows the highest variability in home run distribution?\"*  \n",
    "        a) Yankees  \n",
    "        b) Dodgers  \n",
    "        c) Braves  \n",
    "        d) Astros  \n",
    "\n",
    "3. Expert Feedback:\n",
    "    - Baseball coaches will review statistical validity and practical use cases.\n",
    "\n",
    "---\n"
   ]
  },
  {
   "cell_type": "markdown",
   "metadata": {},
   "source": [
    "\n",
    "### **5. Findings and Refinements**\n",
    "- **Success Criteria**:\n",
    "  - 80% of users should find the visualizations intuitive.\n",
    "  - 70% of users should correctly identify key insights.\n",
    "  - 50% of users should interact with filters or annotations (if an interactive dashboard is built).\n",
    "\n",
    "---\n",
    "\n",
    "### **Next Steps**\n",
    "1. **Gather User Feedback** through surveys, usability tests, and expert reviews.\n",
    "2. **Summarize Evaluation Results** and discuss insights gained.\n",
    "3. **Refine Visualizations** based on feedback.\n",
    "4. **Prepare Final Report** including screenshots, links (if interactive), and a summary of findings.\n"
   ]
  }
 ],
 "metadata": {
  "kernelspec": {
   "display_name": "base",
   "language": "python",
   "name": "python3"
  },
  "language_info": {
   "codemirror_mode": {
    "name": "ipython",
    "version": 3
   },
   "file_extension": ".py",
   "mimetype": "text/x-python",
   "name": "python",
   "nbconvert_exporter": "python",
   "pygments_lexer": "ipython3",
   "version": "3.8.17"
  }
 },
 "nbformat": 4,
 "nbformat_minor": 2
}
